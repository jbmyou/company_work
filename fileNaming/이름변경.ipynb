{
 "cells": [
  {
   "cell_type": "code",
   "execution_count": null,
   "metadata": {},
   "outputs": [],
   "source": [
    "import os\n",
    "import shutil\n",
    "import time\n",
    "import pandas as pd\n",
    "from tqdm.notebook import tqdm\n",
    "import re\n",
    "import file_function as ff\n",
    "from os.path import join"
   ]
  },
  {
   "cell_type": "code",
   "execution_count": null,
   "metadata": {},
   "outputs": [],
   "source": [
    "path = r'C:\\Users\\SL\\Desktop\\test'\n",
    "ff.moveFilesToRootFolderAndRmDirs(path)"
   ]
  },
  {
   "cell_type": "markdown",
   "metadata": {},
   "source": [
    "### 파일명 작성 지침 변경에 따른 부산 수정"
   ]
  },
  {
   "cell_type": "markdown",
   "metadata": {},
   "source": [
    "##### 파일 전체 옮기기"
   ]
  },
  {
   "cell_type": "code",
   "execution_count": null,
   "metadata": {},
   "outputs": [],
   "source": [
    "path = r'D:\\부산 정리_v1'\n",
    "dst_root = r'D:\\부산 정리_v2'\n",
    "ff.copy_all(path, dst_root)"
   ]
  },
  {
   "cell_type": "markdown",
   "metadata": {},
   "source": [
    "##### '보증인', 집행권원, 강제집행 수정"
   ]
  },
  {
   "cell_type": "code",
   "execution_count": null,
   "metadata": {},
   "outputs": [],
   "source": [
    "path = r'D:\\부산 정리_v2'\n",
    "filelist = os.walk(path)\n",
    "\n",
    "for root, dirs, files in tqdm(filelist) :\n",
    "    for f in files :\n",
    "        new_name = f\n",
    "\n",
    "        if re.search(\"판결문|지급명령|이행권고|화해권고\", new_name) :\n",
    "            new_name = re.sub(\"판결문|지급명령|이행권고|화해권고\", \"집행권원\", new_name)\n",
    "\n",
    "        elif re.search(\"타채|결정문\", new_name) :\n",
    "            new_name = re.sub(\"타채|결정문\", \"강제집행\", new_name)\n",
    "\n",
    "        elif re.search(\"채권양도통지서\", new_name) :\n",
    "            new_name = re.sub(\"채권양도통지서\", \"양도통지서\", new_name)\n",
    "\n",
    "        if re.search(\"[_]+보증인\", new_name) :\n",
    "            split_list = re.sub(\"[_]+보증인\", \"\", new_name).split(\"_\")\n",
    "            split_list[1] = \"보증인\" + \" \"+ split_list[1]\n",
    "\n",
    "            new_name = \"_\".join(split_list)\n",
    "        \n",
    "        if new_name != f : \n",
    "                                        ########\n",
    "            ff.re_name(join(root,f), join(root, new_name))\n",
    "                                        ########\n",
    "    "
   ]
  },
  {
   "cell_type": "markdown",
   "metadata": {},
   "source": [
    "##### 사건번호 다시 넣기"
   ]
  },
  {
   "cell_type": "code",
   "execution_count": null,
   "metadata": {},
   "outputs": [],
   "source": [
    "v2_dict = ff.fileInfoDict(r\"D:\\부산 정리_v2\")"
   ]
  },
  {
   "cell_type": "code",
   "execution_count": null,
   "metadata": {},
   "outputs": [],
   "source": [
    "len(v2_dict) #{채무자키 : {size : fullpath of files in 부산정리_v2}}"
   ]
  },
  {
   "cell_type": "code",
   "execution_count": null,
   "metadata": {},
   "outputs": [],
   "source": [
    "# 사건번호 있는 파일 목록 작성\n",
    "p_key = re.compile(r\"([\\d]{8})[\\D]\") #match\n",
    "p_event = re.compile(r\"[\\D]([\\d]{4}[ㄱ-ㅎ가-힣]{1,3}[0-9]+)\")\n",
    "p_extension = re.compile('(jpeg|jpg|bmp|gif|pdf|png|tif|xps)$', re.I)\n",
    "\n",
    "no_key_error = []\n",
    "no_file_error = []\n",
    "result = [] #4740개 나와야\n",
    "\n",
    "\n",
    "path = r'D:\\1.다운로드\\__부산 공유폴더_원본'\n",
    "filelist = os.walk(path)"
   ]
  },
  {
   "cell_type": "code",
   "execution_count": null,
   "metadata": {},
   "outputs": [],
   "source": [
    "index = 0\n",
    "for root, __dirs__, files in tqdm(filelist) :\n",
    "    \n",
    "    for f in files :\n",
    "        index += 1\n",
    "        if (p_extension.search(f) != None) : #스캔본인 경우\n",
    "            \n",
    "            # [주의] 사건번호에 띄어쓰기 없어야 하므로 파일명에서 띄어쓰기 제거\n",
    "            nospace_f = re.sub(\" \", \"\", f)\n",
    "\n",
    "            if p_event.search(nospace_f) != None : # 사건번호 있으면\n",
    "                if p_key.search(f) != None : # 원본이라 채무자키가 젤 앞에 없는 경우도 많다.\n",
    "                    \n",
    "                    key = str(p_key.search(f).group(1)) # str() 유의\n",
    "                    size = str(os.path.getsize(join(root, f))) # str() 유의\n",
    "                    event = p_event.search(nospace_f).group(1) #nospace_f, group(1) 유의\n",
    "                    \n",
    "                    try :\n",
    "                        src = v2_dict[key][size] #변경할 파일 풀경로\n",
    "                        \n",
    "                        src_dir = os.path.split(src)[0]\n",
    "                        src_filename = os.path.split(src)[1]\n",
    "                        src_stem = os.path.splitext(src_filename)[0]\n",
    "                        src_ext = os.path.splitext(src_filename)[1]\n",
    "                        \n",
    "                        # 사건번호 넣기\n",
    "                        src_split_list = src_stem.split(\"_\")\n",
    "                        src_split_list.insert(3, event) \n",
    "                        \n",
    "                        dst_filename = \"_\".join(src_split_list) + src_ext\n",
    "                        dst = join(src_dir, dst_filename)\n",
    "                        \n",
    "                        result.append(ff.re_name(src, dst))\n",
    "\n",
    "                    except :\n",
    "                        no_file_error.append([key, size, event, join(root, f)])\n",
    "                        continue #아래 코드 실행 안 됨\n",
    "                else :\n",
    "                    no_key_error.append(join(root, f))\n",
    "            else : pass\n",
    "        else : pass\n",
    "\n",
    "print(index)"
   ]
  },
  {
   "cell_type": "code",
   "execution_count": null,
   "metadata": {},
   "outputs": [],
   "source": [
    "print(result)"
   ]
  },
  {
   "cell_type": "markdown",
   "metadata": {},
   "source": [
    "##### 양통 차수, 집행권원 재도"
   ]
  },
  {
   "cell_type": "code",
   "execution_count": null,
   "metadata": {},
   "outputs": [],
   "source": [
    "path = r'D:\\부산 정리_v2'\n",
    "filelist = os.walk(path)\n",
    "result = []\n",
    "\n",
    "p_재도 = re.compile(\"_재도$\")\n",
    "p_차수 = re.compile(\"_([0-9]차)$\")"
   ]
  },
  {
   "cell_type": "code",
   "execution_count": null,
   "metadata": {},
   "outputs": [],
   "source": [
    "for root, __dirs__, files in filelist :\n",
    "\n",
    "    for f in files :\n",
    "\n",
    "        src = join(root, f)\n",
    "        stem = os.path.splitext(f)[0]\n",
    "        ext = os.path.splitext(f)[1]\n",
    "\n",
    "        if p_재도.search(stem) :\n",
    "            \n",
    "            stem = p_재도.sub(\"\", stem)\n",
    "            split_list = stem.split(\"_\")\n",
    "            split_list[2]= split_list[2]+\" \"+\"재도\"\n",
    "\n",
    "            dst_filename = \"_\".join(split_list) + ext\n",
    "            dst = join(root, dst_filename)\n",
    "            result.append(ff.re_name(src, dst))\n",
    "        \n",
    "        elif p_차수.search(stem) :\n",
    "\n",
    "            차수 = p_차수.search(stem).group(1)\n",
    "            stem = p_차수.sub(\"\", stem)\n",
    "            split_list = stem.split(\"_\")\n",
    "            split_list[2] = split_list[2]+ \" \" + 차수\n",
    "\n",
    "            dst_filename = \"_\".join(split_list) + ext\n",
    "            dst = join(root, dst_filename)\n",
    "            result.append(ff.re_name(src, dst))\n",
    "\n",
    "print(len(result), \"개의 이름 변경\")"
   ]
  },
  {
   "cell_type": "markdown",
   "metadata": {},
   "source": [
    "##### 재산조회, 녹취록 (수작업 함)"
   ]
  },
  {
   "cell_type": "markdown",
   "metadata": {},
   "source": [
    "### 체크하기"
   ]
  },
  {
   "cell_type": "markdown",
   "metadata": {},
   "source": [
    "##### >>> 채무자키만"
   ]
  },
  {
   "cell_type": "code",
   "execution_count": null,
   "metadata": {},
   "outputs": [],
   "source": [
    "path = r'D:\\부산 정리'\n",
    "os.chdir(path)\n",
    "file_list = os.walk(path)\n",
    "\n",
    "p_key = re.compile(r'[\\d]{8}[\\D]')\n",
    "p_notkey = re.compile('[0-9]{9,}')\n",
    "error = []\n",
    "\n",
    "for r, d, files in tqdm(file_list) :\n",
    "    for f in files :\n",
    "        if f != \"Thumbs.db\":\n",
    "            if p_key.match(f) == None :\n",
    "                error.append(f)\n",
    "print(error)"
   ]
  },
  {
   "cell_type": "markdown",
   "metadata": {},
   "source": [
    "##### >>>문서종류만"
   ]
  },
  {
   "cell_type": "code",
   "execution_count": null,
   "metadata": {},
   "outputs": [],
   "source": [
    "p_docu = re.compile('원인서류|채권양도통지서|판결문|지급명령|이행권고|화해권고|타채|결정문|등본|초본|개회|신복|파산|외국인증명')\n",
    "\n",
    "path = r'D:\\부산 정리'\n",
    "file_list = os.walk(path)\n",
    "error_short = []\n",
    "error_docu = []\n",
    "\n",
    "for r, d, files in tqdm(file_list) :\n",
    "    for f in files :\n",
    "        if f != \"Thumbs.db\":\n",
    "            splitname = f.split(\"_\")\n",
    "            if len(splitname)<3 :\n",
    "                error_short.append(f)\n",
    "            elif p_docu.search(splitname[2]) == None :\n",
    "                error_docu.append(f)\n",
    "print(\"short :\", *error_short, sep=\"\\n\")\n",
    "print(\"docu :\", *error_docu, sep=\"\\n\")"
   ]
  },
  {
   "cell_type": "markdown",
   "metadata": {},
   "source": [
    "### 돌발상황 처리"
   ]
  },
  {
   "cell_type": "markdown",
   "metadata": {},
   "source": [
    "##### 이름 중간에 들어간 _\n"
   ]
  },
  {
   "cell_type": "code",
   "execution_count": null,
   "metadata": {},
   "outputs": [],
   "source": [
    "### 등,초본이 초본을 포함해버린다. 이거 수정해야\n",
    "path = r'D:\\부산 정리'\n",
    "\n",
    "p_docu = re.compile(\n",
    "    '원인서류|채권양도통지서|판결문|지급명령|이행권고|화해권고|타채|결정문|등본|초본|개회|신복|파산|외국인증명')\n",
    "p_ = re.compile(\"_\")\n",
    "\n",
    "os.chdir(path)\n",
    "file_list = os.walk(path)\n",
    "fixed = []\n",
    "count = 0\n",
    "\n",
    "for r, d, files in tqdm(file_list):\n",
    "    for f in files:\n",
    "        if f != \"Thumbs.db\":\n",
    "            new_name = \"\"\n",
    "            if p_docu.search(f):\n",
    "                st = p_docu.search(f).start() - 1\n",
    "                new_name = f[:9] + p_.sub(\" \", f[9:st]) + f[st:]  # 앞뒤 언더바 말고 중간에 언더바\n",
    "\n",
    "                if f != new_name:\n",
    "                    os.rename(r+\"/\"+f, r+\"/\"+new_name)\n",
    "                    count += 1\n",
    "                    fixed.append([f, new_name])\n",
    "                    \n",
    "\n",
    "print(count, \"개의 파일 이름 변경 완료\")\n",
    "print(*fixed, sep=\"\\n\")"
   ]
  },
  {
   "cell_type": "markdown",
   "metadata": {},
   "source": [
    "##### 잘린 외국인 이름 정정"
   ]
  },
  {
   "cell_type": "code",
   "execution_count": null,
   "metadata": {},
   "outputs": [],
   "source": [
    "# 파일명에 보증인 키워드가 있는지만 보고 그거에 맞춰서 ... \n",
    "\n",
    "# 채무자조회파일 dict로 불러오기\n",
    "dict = ff.debtorInfoDict()\n",
    "\n",
    "path = r'D:\\부산 정리'\n",
    "file_list = os.walk(path)\n",
    "\n",
    "p_eng = re.compile(\"[a-zA-Z]+\")\n",
    "p_etc = re.compile(\"보증인\")\n",
    "\n",
    "count = 0\n",
    "\n",
    "for root, dir, files in tqdm(file_list) : \n",
    "    for f in files : \n",
    "\n",
    "        if f != \"Thumbs.db\":\n",
    "            new_name = \"\"\n",
    "            \n",
    "            spl_name = f.split(\"_\", maxsplit=2)\n",
    "\n",
    "            key = spl_name[0]\n",
    "            debtor_name = spl_name[1]\n",
    "            others = spl_name[2]\n",
    "\n",
    "            if p_eng.search(debtor_name) : # 이름에 영어 있는 경우\n",
    "                if p_etc.search(others) : # 보증인 키워드 있는 경우\n",
    "                    new_name = key +\"_\" + str(dict[key].보증인성명)+\"_\"+ others\n",
    "                else : # 보증인 키워드 없는 경우\n",
    "                    new_name = key +\"_\" + str(dict[key].성명)+\"_\"+others\n",
    "                    \n",
    "                if new_name != f :\n",
    "                    src = join(root, f)\n",
    "                    dst = join(root, new_name)\n",
    "                    ff.re_name(src, dst)\n",
    "                    count += 1\n",
    "print(count, \"개의 파일명 변경 완료\")\n",
    "                  "
   ]
  },
  {
   "cell_type": "code",
   "execution_count": null,
   "metadata": {},
   "outputs": [],
   "source": []
  },
  {
   "cell_type": "code",
   "execution_count": null,
   "metadata": {},
   "outputs": [],
   "source": []
  },
  {
   "cell_type": "code",
   "execution_count": null,
   "metadata": {},
   "outputs": [],
   "source": []
  },
  {
   "cell_type": "code",
   "execution_count": null,
   "metadata": {},
   "outputs": [],
   "source": []
  },
  {
   "cell_type": "code",
   "execution_count": null,
   "metadata": {},
   "outputs": [],
   "source": []
  },
  {
   "cell_type": "code",
   "execution_count": null,
   "metadata": {},
   "outputs": [],
   "source": []
  },
  {
   "cell_type": "code",
   "execution_count": null,
   "metadata": {},
   "outputs": [],
   "source": []
  },
  {
   "cell_type": "code",
   "execution_count": null,
   "metadata": {},
   "outputs": [],
   "source": []
  },
  {
   "cell_type": "code",
   "execution_count": null,
   "metadata": {},
   "outputs": [],
   "source": []
  }
 ],
 "metadata": {
  "kernelspec": {
   "display_name": "Python 3.9.12 ('base')",
   "language": "python",
   "name": "python3"
  },
  "language_info": {
   "name": "python",
   "version": "3.9.12"
  },
  "orig_nbformat": 4,
  "vscode": {
   "interpreter": {
    "hash": "38d617750889899e5f2f65cac6f27a322f361a63d334879a800ee5491961f90c"
   }
  }
 },
 "nbformat": 4,
 "nbformat_minor": 2
}
