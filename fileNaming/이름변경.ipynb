{
 "cells": [
  {
   "cell_type": "code",
   "execution_count": 2,
   "metadata": {},
   "outputs": [],
   "source": [
    "import os\n",
    "import shutil\n",
    "import time\n",
    "import pandas as pd\n",
    "from tqdm.notebook import tqdm      #tqdm(filelist, total = len(file_list), position=0, leave=True)\n",
    "import re\n",
    "from pathlib import Path\n",
    "import traceback\n",
    "from os.path import join\n",
    "import file_function as ff\n",
    "from datetime import datetime"
   ]
  },
  {
   "cell_type": "code",
   "execution_count": null,
   "metadata": {},
   "outputs": [],
   "source": [
    "path = r'C:\\Users\\SL\\Desktop\\test'\n",
    "ff.moveFilesToRootFolderAndRmDirs(path)"
   ]
  },
  {
   "cell_type": "markdown",
   "metadata": {},
   "source": [
    "### 파일명 작성 지침 변경에 따른 부산 수정"
   ]
  },
  {
   "cell_type": "markdown",
   "metadata": {},
   "source": [
    "##### 파일 전체 옮기기"
   ]
  },
  {
   "cell_type": "code",
   "execution_count": null,
   "metadata": {},
   "outputs": [],
   "source": [
    "path = r'D:\\부산 정리_v1'\n",
    "dst_root = r'D:\\부산 정리_v2'\n",
    "ff.copy_all(path, dst_root)"
   ]
  },
  {
   "cell_type": "markdown",
   "metadata": {},
   "source": [
    "##### '보증인', 집행권원, 강제집행 등 문서종류 및 보증인 수정"
   ]
  },
  {
   "cell_type": "code",
   "execution_count": 3,
   "metadata": {},
   "outputs": [
    {
     "data": {
      "application/vnd.jupyter.widget-view+json": {
       "model_id": "ec706cdb428d4933bd29b239dd21c0ce",
       "version_major": 2,
       "version_minor": 0
      },
      "text/plain": [
       "  0%|          | 0/24184 [00:00<?, ?it/s]"
      ]
     },
     "metadata": {},
     "output_type": "display_data"
    }
   ],
   "source": [
    "path = r'\\\\192.168.0.75\\스캔파일\\새 스캔파일(업로드)'\n",
    "# filelist = os.walk(path)\n",
    "file_list = [f.name for f in os.scandir(path) if f.is_file()]\n",
    "\n",
    "for f in tqdm(file_list) :\n",
    "    if f != \"Thumbs.db\" :\n",
    "        new_name = f\n",
    "\n",
    "        if re.search(\"판결문|지급명령|이행권고|화해권고\", new_name) :\n",
    "            new_name = re.sub(\"판결문|지급명령|이행권고|화해권고\", \"집행권원\", new_name)\n",
    "\n",
    "        elif re.search(\"타채|결정문\", new_name) :\n",
    "            new_name = re.sub(\"타채|결정문\", \"강제집행\", new_name)\n",
    "\n",
    "        elif re.search(\"채권양도통지서\", new_name) :\n",
    "            new_name = re.sub(\"채권양도통지서\", \"양도통지서\", new_name)\n",
    "        \n",
    "        elif re.search(\"[_]개회\", new_name) :\n",
    "            new_name = re.sub(\"_개회\", \"_개인회생\", new_name)\n",
    "\n",
    "        elif re.search(\"[_]신복\", new_name) :\n",
    "            new_name = re.sub(\"_신복\", \"_신용회복\", new_name)\n",
    "\n",
    "        if re.search(\"[_]+보증인\", new_name) :\n",
    "            split_list = re.sub(\"[_]+보증인\", \"\", new_name).split(\"_\")\n",
    "            split_list[1] = \"보증인\" + \" \"+ split_list[1]\n",
    "            new_name = \"_\".join(split_list)\n",
    "\n",
    "        \n",
    "\n",
    "\n",
    "        if new_name != f : \n",
    "                                        ########\n",
    "            ff.re_name(join(path,f), join(path, new_name))\n",
    "                                        ########\n",
    "    "
   ]
  },
  {
   "cell_type": "code",
   "execution_count": 19,
   "metadata": {},
   "outputs": [
    {
     "data": {
      "application/vnd.jupyter.widget-view+json": {
       "model_id": "b9454fef0676499da9e58f5388dbb4af",
       "version_major": 2,
       "version_minor": 0
      },
      "text/plain": [
       "  0%|          | 0/118 [00:00<?, ?it/s]"
      ]
     },
     "metadata": {},
     "output_type": "display_data"
    },
    {
     "name": "stdout",
     "output_type": "stream",
     "text": [
      "20427510 지성숙_보증인 양도통지서_(1).pdf      20427510_보증인 지성숙_양도통지서_(1).pdf\n",
      "20427737 봉상준_보증인 양도통지서_(1).pdf      20427737_보증인 봉상준_양도통지서_(1).pdf\n",
      "20427783 박광식_보증인 양도통지서_(1).pdf      20427783_보증인 박광식_양도통지서_(1).pdf\n",
      "20427784 김정희_보증인 등본_(1).pdf      20427784_보증인 김정희_등본_(1).pdf\n",
      "20427784 김정희_보증인 양도통지서_(1).pdf      20427784_보증인 김정희_양도통지서_(1).pdf\n",
      "20427784 김정희_보증인 초본_(1).pdf      20427784_보증인 김정희_초본_(1).pdf\n",
      "20427785 이순자_보증인 양도통지서_(1).pdf      20427785_보증인 이순자_양도통지서_(1).pdf\n",
      "20427786 이은희_보증인 양도통지서_(1).pdf      20427786_보증인 이은희_양도통지서_(1).pdf\n",
      "20427792 정주희_보증인 양도통지서_(1).pdf      20427792_보증인 정주희_양도통지서_(1).pdf\n",
      "20427792 정주희_보증인 초본_(1).pdf      20427792_보증인 정주희_초본_(1).pdf\n",
      "20427816 최현숙_보증인 양도통지서_(1).pdf      20427816_보증인 최현숙_양도통지서_(1).pdf\n",
      "20427857 송기동_보증인 양도통지서_(1).pdf      20427857_보증인 송기동_양도통지서_(1).pdf\n",
      "20427857 송기동_보증인 초본_(1).pdf      20427857_보증인 송기동_초본_(1).pdf\n",
      "20427862 박선화_보증인 양도통지서_(1).pdf      20427862_보증인 박선화_양도통지서_(1).pdf\n",
      "20427862 박선화_보증인 초본_(1).pdf      20427862_보증인 박선화_초본_(1).pdf\n",
      "20427908 홍지연_보증인 양도통지서_(1).pdf      20427908_보증인 홍지연_양도통지서_(1).pdf\n",
      "20427913 박준희_보증인 양도통지서_(1).pdf      20427913_보증인 박준희_양도통지서_(1).pdf\n",
      "20428008 허정훈_보증인 양도통지서_(1).pdf      20428008_보증인 허정훈_양도통지서_(1).pdf\n",
      "20428014 연주흠_보증인 양도통지서_(1).pdf      20428014_보증인 연주흠_양도통지서_(1).pdf\n",
      "20428046 이현주_보증인 양도통지서_(1).pdf      20428046_보증인 이현주_양도통지서_(1).pdf\n",
      "20428477 이영민_보증인 양도통지서_(1).pdf      20428477_보증인 이영민_양도통지서_(1).pdf\n",
      "20455144 nan_보증인 양도통지서_(1).pdf      20455144_보증인 nan_양도통지서_(1).pdf\n",
      "20455145 nan_보증인 양도통지서_(1).pdf      20455145_보증인 nan_양도통지서_(1).pdf\n",
      "20455146 nan_보증인 양도통지서_(1).pdf      20455146_보증인 nan_양도통지서_(1).pdf\n",
      "20455147 nan_보증인 양도통지서_(1).pdf      20455147_보증인 nan_양도통지서_(1).pdf\n",
      "20459000 nan_보증인 양도통지서_(1).pdf      20459000_보증인 nan_양도통지서_(1).pdf\n",
      "20459002 nan_보증인 양도통지서_(1).pdf      20459002_보증인 nan_양도통지서_(1).pdf\n",
      "20459003 nan_보증인 양도통지서_(1).pdf      20459003_보증인 nan_양도통지서_(1).pdf\n",
      "20459004 nan_보증인 양도통지서_(1).pdf      20459004_보증인 nan_양도통지서_(1).pdf\n",
      "20459005 nan_보증인 양도통지서_(1).pdf      20459005_보증인 nan_양도통지서_(1).pdf\n",
      "20459006 nan_보증인 양도통지서_(1).pdf      20459006_보증인 nan_양도통지서_(1).pdf\n",
      "20459007 nan_보증인 양도통지서_(1).pdf      20459007_보증인 nan_양도통지서_(1).pdf\n",
      "20459008 nan_보증인 양도통지서_(1).pdf      20459008_보증인 nan_양도통지서_(1).pdf\n",
      "20459009 정결_보증인 양도통지서_(1).pdf      20459009_보증인 정결_양도통지서_(1).pdf\n",
      "20459011 nan_보증인 양도통지서_(1).pdf      20459011_보증인 nan_양도통지서_(1).pdf\n",
      "20459012 nan_보증인 양도통지서_(1).pdf      20459012_보증인 nan_양도통지서_(1).pdf\n"
     ]
    }
   ],
   "source": []
  },
  {
   "cell_type": "code",
   "execution_count": 12,
   "metadata": {},
   "outputs": [
    {
     "name": "stdout",
     "output_type": "stream",
     "text": [
      "<re.Match object; span=(2, 3), match='기'>\n"
     ]
    }
   ],
   "source": [
    "f = \"20427857 송기동_보증인 초본_(1).pdf\"\n"
   ]
  },
  {
   "cell_type": "code",
   "execution_count": null,
   "metadata": {},
   "outputs": [],
   "source": []
  },
  {
   "cell_type": "code",
   "execution_count": null,
   "metadata": {},
   "outputs": [],
   "source": []
  },
  {
   "cell_type": "code",
   "execution_count": null,
   "metadata": {},
   "outputs": [],
   "source": []
  },
  {
   "cell_type": "code",
   "execution_count": null,
   "metadata": {},
   "outputs": [],
   "source": []
  },
  {
   "cell_type": "markdown",
   "metadata": {},
   "source": [
    "##### 사건번호 다시 넣기"
   ]
  },
  {
   "cell_type": "code",
   "execution_count": null,
   "metadata": {},
   "outputs": [],
   "source": [
    "v2_dict = ff.fileInfoDict(r\"D:\\부산 정리_v2\")"
   ]
  },
  {
   "cell_type": "code",
   "execution_count": null,
   "metadata": {},
   "outputs": [],
   "source": [
    "len(v2_dict) #{채무자키 : {size : fullpath of files in 부산정리_v2}}"
   ]
  },
  {
   "cell_type": "code",
   "execution_count": null,
   "metadata": {},
   "outputs": [],
   "source": [
    "# 사건번호 있는 파일 목록 작성\n",
    "p_key = re.compile(r\"([\\d]{8})[\\D]\") #match\n",
    "p_event = re.compile(r\"[\\D]([\\d]{4}[ㄱ-ㅎ가-힣]{1,3}[0-9]+)\")\n",
    "p_extension = re.compile('(jpeg|jpg|bmp|gif|pdf|png|tif|xps)$', re.I)\n",
    "\n",
    "no_key_error = []\n",
    "no_file_error = []\n",
    "result = [] #4740개 나와야\n",
    "\n",
    "\n",
    "path = r'D:\\1.다운로드\\__부산 공유폴더_원본'\n",
    "filelist = os.walk(path)"
   ]
  },
  {
   "cell_type": "code",
   "execution_count": null,
   "metadata": {},
   "outputs": [],
   "source": [
    "index = 0\n",
    "for root, __dirs__, files in tqdm(filelist) :\n",
    "    \n",
    "    for f in files :\n",
    "        index += 1\n",
    "        if (p_extension.search(f) != None) : #스캔본인 경우\n",
    "            \n",
    "            # [주의] 사건번호에 띄어쓰기 없어야 하므로 파일명에서 띄어쓰기 제거\n",
    "            nospace_f = re.sub(\" \", \"\", f)\n",
    "\n",
    "            if p_event.search(nospace_f) != None : # 사건번호 있으면\n",
    "                if p_key.search(f) != None : # 원본이라 채무자키가 젤 앞에 없는 경우도 많다.\n",
    "                    \n",
    "                    key = str(p_key.search(f).group(1)) # str() 유의\n",
    "                    size = str(os.path.getsize(join(root, f))) # str() 유의\n",
    "                    event = p_event.search(nospace_f).group(1) #nospace_f, group(1) 유의\n",
    "                    \n",
    "                    try :\n",
    "                        src = v2_dict[key][size] #변경할 파일 풀경로\n",
    "                        \n",
    "                        src_dir = os.path.split(src)[0]\n",
    "                        src_filename = os.path.split(src)[1]\n",
    "                        src_stem = os.path.splitext(src_filename)[0]\n",
    "                        src_ext = os.path.splitext(src_filename)[1]\n",
    "                        \n",
    "                        # 사건번호 넣기\n",
    "                        src_split_list = src_stem.split(\"_\")\n",
    "                        src_split_list.insert(3, event) \n",
    "                        \n",
    "                        dst_filename = \"_\".join(src_split_list) + src_ext\n",
    "                        dst = join(src_dir, dst_filename)\n",
    "                        \n",
    "                        result.append(ff.re_name(src, dst))\n",
    "\n",
    "                    except :\n",
    "                        no_file_error.append([key, size, event, join(root, f)])\n",
    "                        continue #아래 코드 실행 안 됨\n",
    "                else :\n",
    "                    no_key_error.append(join(root, f))\n",
    "            else : pass\n",
    "        else : pass\n",
    "\n",
    "print(index)"
   ]
  },
  {
   "cell_type": "code",
   "execution_count": null,
   "metadata": {},
   "outputs": [],
   "source": [
    "print(result)"
   ]
  },
  {
   "cell_type": "markdown",
   "metadata": {},
   "source": [
    "##### 양통 차수, 집행권원 재도"
   ]
  },
  {
   "cell_type": "code",
   "execution_count": null,
   "metadata": {},
   "outputs": [],
   "source": [
    "path = r'D:\\부산 정리_v2'\n",
    "filelist = os.walk(path)\n",
    "result = []\n",
    "\n",
    "p_재도 = re.compile(\"_재도$\")\n",
    "p_차수 = re.compile(\"_([0-9]차)$\")"
   ]
  },
  {
   "cell_type": "code",
   "execution_count": null,
   "metadata": {},
   "outputs": [],
   "source": [
    "for root, __dirs__, files in filelist :\n",
    "\n",
    "    for f in files :\n",
    "\n",
    "        src = join(root, f)\n",
    "        stem = os.path.splitext(f)[0]\n",
    "        ext = os.path.splitext(f)[1]\n",
    "\n",
    "        if p_재도.search(stem) :\n",
    "            \n",
    "            stem = p_재도.sub(\"\", stem)\n",
    "            split_list = stem.split(\"_\")\n",
    "            split_list[2]= split_list[2]+\" \"+\"재도\"\n",
    "\n",
    "            dst_filename = \"_\".join(split_list) + ext\n",
    "            dst = join(root, dst_filename)\n",
    "            result.append(ff.re_name(src, dst))\n",
    "        \n",
    "        elif p_차수.search(stem) :\n",
    "\n",
    "            차수 = p_차수.search(stem).group(1)\n",
    "            stem = p_차수.sub(\"\", stem)\n",
    "            split_list = stem.split(\"_\")\n",
    "            split_list[2] = split_list[2]+ \" \" + 차수\n",
    "\n",
    "            dst_filename = \"_\".join(split_list) + ext\n",
    "            dst = join(root, dst_filename)\n",
    "            result.append(ff.re_name(src, dst))\n",
    "\n",
    "print(len(result), \"개의 이름 변경\")"
   ]
  },
  {
   "cell_type": "markdown",
   "metadata": {},
   "source": [
    "##### 재산조회, 녹취록 (수작업 함)"
   ]
  },
  {
   "cell_type": "markdown",
   "metadata": {},
   "source": [
    "### 체크하기"
   ]
  },
  {
   "cell_type": "markdown",
   "metadata": {},
   "source": [
    "##### >>> 채무자키만"
   ]
  },
  {
   "cell_type": "code",
   "execution_count": null,
   "metadata": {},
   "outputs": [],
   "source": [
    "path = r'D:\\부산 정리'\n",
    "os.chdir(path)\n",
    "file_list = os.walk(path)\n",
    "\n",
    "p_key = re.compile(r'[\\d]{8}[\\D]')\n",
    "p_notkey = re.compile('[0-9]{9,}')\n",
    "error = []\n",
    "\n",
    "for r, d, files in tqdm(file_list) :\n",
    "    for f in files :\n",
    "        if f != \"Thumbs.db\":\n",
    "            if p_key.match(f) == None :\n",
    "                error.append(f)\n",
    "print(error)"
   ]
  },
  {
   "cell_type": "markdown",
   "metadata": {},
   "source": [
    "##### >>>문서종류만"
   ]
  },
  {
   "cell_type": "code",
   "execution_count": null,
   "metadata": {},
   "outputs": [],
   "source": [
    "p_docu = re.compile('원인서류|채권양도통지서|판결문|지급명령|이행권고|화해권고|타채|결정문|등본|초본|개회|신복|파산|외국인증명')\n",
    "\n",
    "path = r'D:\\부산 정리'\n",
    "file_list = os.walk(path)\n",
    "error_short = []\n",
    "error_docu = []\n",
    "\n",
    "for r, d, files in tqdm(file_list) :\n",
    "    for f in files :\n",
    "        if f != \"Thumbs.db\":\n",
    "            splitname = f.split(\"_\")\n",
    "            if len(splitname)<3 :\n",
    "                error_short.append(f)\n",
    "            elif p_docu.search(splitname[2]) == None :\n",
    "                error_docu.append(f)\n",
    "print(\"short :\", *error_short, sep=\"\\n\")\n",
    "print(\"docu :\", *error_docu, sep=\"\\n\")"
   ]
  },
  {
   "cell_type": "markdown",
   "metadata": {},
   "source": [
    "### 돌발상황 처리"
   ]
  },
  {
   "cell_type": "markdown",
   "metadata": {},
   "source": [
    "##### 이름 중간에 들어간 _\n"
   ]
  },
  {
   "cell_type": "code",
   "execution_count": null,
   "metadata": {},
   "outputs": [],
   "source": [
    "### 등,초본이 초본을 포함해버린다. 이거 수정해야\n",
    "path = r'D:\\부산 정리'\n",
    "\n",
    "p_docu = re.compile(\n",
    "    '원인서류|채권양도통지서|판결문|지급명령|이행권고|화해권고|타채|결정문|등본|초본|개회|신복|파산|외국인증명')\n",
    "p_ = re.compile(\"_\")\n",
    "\n",
    "os.chdir(path)\n",
    "file_list = os.walk(path)\n",
    "fixed = []\n",
    "count = 0\n",
    "\n",
    "for r, d, files in tqdm(file_list):\n",
    "    for f in files:\n",
    "        if f != \"Thumbs.db\":\n",
    "            new_name = \"\"\n",
    "            if p_docu.search(f):\n",
    "                st = p_docu.search(f).start() - 1\n",
    "                new_name = f[:9] + p_.sub(\" \", f[9:st]) + f[st:]  # 앞뒤 언더바 말고 중간에 언더바\n",
    "\n",
    "                if f != new_name:\n",
    "                    os.rename(r+\"/\"+f, r+\"/\"+new_name)\n",
    "                    count += 1\n",
    "                    fixed.append([f, new_name])\n",
    "                    \n",
    "\n",
    "print(count, \"개의 파일 이름 변경 완료\")\n",
    "print(*fixed, sep=\"\\n\")"
   ]
  },
  {
   "cell_type": "markdown",
   "metadata": {},
   "source": [
    "##### 잘린 외국인 이름 정정"
   ]
  },
  {
   "cell_type": "code",
   "execution_count": null,
   "metadata": {},
   "outputs": [],
   "source": [
    "# 파일명에 보증인 키워드가 있는지만 보고 그거에 맞춰서 ... \n",
    "\n",
    "# 채무자조회파일 dict로 불러오기\n",
    "dict = ff.debtorInfoDict()\n",
    "\n",
    "path = r'D:\\부산 정리'\n",
    "file_list = os.walk(path)\n",
    "\n",
    "p_eng = re.compile(\"[a-zA-Z]+\")\n",
    "p_etc = re.compile(\"보증인\")\n",
    "\n",
    "count = 0\n",
    "\n",
    "for root, dir, files in tqdm(file_list) : \n",
    "    for f in files : \n",
    "\n",
    "        if f != \"Thumbs.db\":\n",
    "            new_name = \"\"\n",
    "            \n",
    "            spl_name = f.split(\"_\", maxsplit=2)\n",
    "\n",
    "            key = spl_name[0]\n",
    "            debtor_name = spl_name[1]\n",
    "            others = spl_name[2]\n",
    "\n",
    "            if p_eng.search(debtor_name) : # 이름에 영어 있는 경우\n",
    "                if p_etc.search(others) : # 보증인 키워드 있는 경우\n",
    "                    new_name = key +\"_\" + str(dict[key].보증인성명)+\"_\"+ others\n",
    "                else : # 보증인 키워드 없는 경우\n",
    "                    new_name = key +\"_\" + str(dict[key].성명)+\"_\"+others\n",
    "                    \n",
    "                if new_name != f :\n",
    "                    src = join(root, f)\n",
    "                    dst = join(root, new_name)\n",
    "                    ff.re_name(src, dst)\n",
    "                    count += 1\n",
    "print(count, \"개의 파일명 변경 완료\")\n",
    "                  "
   ]
  },
  {
   "cell_type": "markdown",
   "metadata": {},
   "source": [
    "### 수정파일 재작업"
   ]
  },
  {
   "cell_type": "markdown",
   "metadata": {},
   "source": [
    "##### (날짜4~8자리) -> 6자리"
   ]
  },
  {
   "cell_type": "code",
   "execution_count": null,
   "metadata": {},
   "outputs": [],
   "source": [
    "PATH = r'\\\\192.168.0.75\\솔림헬프'\n",
    "PATH_LOG_SUCCESS = r'\\\\192.168.0.75\\스캔파일\\스캔파일 log\\success'\n",
    "PATH_LOG_FAIL = r'\\\\192.168.0.75\\스캔파일\\스캔파일 log\\fail'\n",
    "\n",
    "\n",
    "# PATH = r'C:\\Users\\SL\\Desktop\\test'\n",
    "# PATH_LOG_SUCCESS = r'C:\\Users\\SL\\Desktop\\test\\log\\success'\n",
    "# PATH_LOG_FAIL = r'C:\\Users\\SL\\Desktop\\test\\log\\fail'\n",
    "\n",
    "\n",
    "\n",
    "file_list = os.walk(PATH)\n",
    "log = []\n",
    "error = []\n",
    "p_day211 = re.compile(r'[\\s_]?\\((\\d\\d)(\\d)(\\d)\\)')\n",
    "p_day212 = re.compile(r'[\\s_]?\\((\\d\\d)(\\d)(\\d\\d)\\)')\n",
    "p_day411 = re.compile(r'[\\s_]?\\(20(2\\d)(\\d)(\\d)\\)')\n",
    "p_day412 = re.compile(r'[\\s_]?\\(20(2\\d)(\\d)(\\d\\d)\\)')\n",
    "\n",
    "for root, __dirs__, files in tqdm(file_list) :\n",
    "    try :\n",
    "        for f in files :\n",
    "            n = f\n",
    "            if p_day211.search(f) :\n",
    "                n = p_day211.sub('_\\g<1>0\\g<2>0\\g<3>', n)\n",
    "                #print(\"211\", f, n)\n",
    "            elif p_day212.search(f) :\n",
    "                n = p_day212.sub('_\\g<1>0\\g<2>\\g<3>', n)\n",
    "                #print(\"212\", f, n)\n",
    "            elif p_day411.search(f) :\n",
    "                n = p_day411.sub('_\\g<1>0\\g<2>0\\g<3>', n)\n",
    "                #print(\"411\", f, n)\n",
    "            elif p_day412.search(f) :\n",
    "                n = p_day412.sub('_\\g<1>0\\g<2>\\g<3>', n)\n",
    "                #print(\"412\", f, n)\n",
    "            else :pass\n",
    "\n",
    "            if n != f :\n",
    "                log.append(ff.re_name(join(root,f), join(root,n)))\n",
    "\n",
    "\n",
    "    except Exception as e:\n",
    "        print(\"===================================\")\n",
    "        print(datetime.today().strftime(\"%H:%M:%S\"))\n",
    "        print(f, e.__class__, e, sep=\" : \")\n",
    "        print(traceback.format_exc())\n",
    "        error.append([f, e.__class__, e])\n",
    "        continue # 반복문 계속 돌아\n",
    "\n",
    "ff.write_log_csv(log, PATH_LOG_SUCCESS)\n",
    "ff.write_log_csv(error, PATH_LOG_FAIL)\n",
    "\n"
   ]
  },
  {
   "cell_type": "code",
   "execution_count": null,
   "metadata": {},
   "outputs": [],
   "source": []
  },
  {
   "cell_type": "code",
   "execution_count": null,
   "metadata": {},
   "outputs": [],
   "source": []
  },
  {
   "cell_type": "code",
   "execution_count": null,
   "metadata": {},
   "outputs": [],
   "source": []
  },
  {
   "cell_type": "code",
   "execution_count": null,
   "metadata": {},
   "outputs": [],
   "source": []
  },
  {
   "cell_type": "code",
   "execution_count": null,
   "metadata": {},
   "outputs": [],
   "source": []
  },
  {
   "cell_type": "code",
   "execution_count": null,
   "metadata": {},
   "outputs": [],
   "source": []
  },
  {
   "cell_type": "code",
   "execution_count": null,
   "metadata": {},
   "outputs": [],
   "source": []
  }
 ],
 "metadata": {
  "kernelspec": {
   "display_name": "Python 3.9.12 ('base')",
   "language": "python",
   "name": "python3"
  },
  "language_info": {
   "codemirror_mode": {
    "name": "ipython",
    "version": 3
   },
   "file_extension": ".py",
   "mimetype": "text/x-python",
   "name": "python",
   "nbconvert_exporter": "python",
   "pygments_lexer": "ipython3",
   "version": "3.9.12"
  },
  "orig_nbformat": 4,
  "vscode": {
   "interpreter": {
    "hash": "50ba2c93e3505a279245e213c77d9791c626788d8ca8a61b8db804927ca08a39"
   }
  }
 },
 "nbformat": 4,
 "nbformat_minor": 2
}
