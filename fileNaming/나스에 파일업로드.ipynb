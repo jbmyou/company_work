{
 "cells": [
  {
   "cell_type": "markdown",
   "metadata": {},
   "source": [
    "### import 및 전역변수"
   ]
  },
  {
   "cell_type": "code",
   "execution_count": 2,
   "metadata": {},
   "outputs": [],
   "source": [
    "import os\n",
    "import shutil\n",
    "import time\n",
    "import pandas as pd\n",
    "from tqdm.notebook import tqdm      #tqdm(filelist, total = len(file_list), position=0, leave=True)\n",
    "import re\n",
    "from pathlib import Path\n",
    "import traceback\n",
    "from os.path import join\n",
    "import file_function as ff\n",
    "from datetime import datetime"
   ]
  },
  {
   "cell_type": "code",
   "execution_count": null,
   "metadata": {},
   "outputs": [],
   "source": [
    "#[시작]파일업로드###########################################################\n",
    "# 참조 df 불러오기 ~~~~ \":\" xlsx파일에서 미리 제거해둬야 ~~~~\n",
    "df_c = pd.read_excel(r'C:\\Users\\SL\\Desktop\\채무자조회.xlsx')\n",
    "df_c.tail()\n",
    "\n",
    "# 채무상태와 매각사구분만 뺀 dict\n",
    "dict_sell ={}\n",
    "for ind, col in df_c.iterrows():\n",
    "    dict_sell[str(col.채무자키)] = [col.매각사구분, col.채무상태]"
   ]
  },
  {
   "cell_type": "code",
   "execution_count": null,
   "metadata": {},
   "outputs": [],
   "source": [
    "# 경로 정리 ?????? 필요한가???\n",
    "path = r'\\\\192.168.0.75\\스캔파일\\새 스캔파일(업로드)\\파일명 수정 필요'\n",
    "os.chdir(path)\n",
    "file_list = [f.name for f in os.scandir(path) if f.is_file()]\n",
    "_total = len(file_list)\n",
    "log_path = r'\\\\192.168.0.75\\스캔파일\\스캔파일 log'\n",
    "\n",
    "f_d = r'\\\\192.168.0.75\\솔림헬프'\n",
    "out = r'\\\\192.168.0.75\\삭제예정파일\\관리제외'\n",
    "\n",
    "# 기본 변수\n",
    "p_out = re.compile('개인회생\\(면책\\)|파산\\(면책\\)|환매|매각|종결')\n",
    "p_key = re.compile(r\"([\\d]{8})[\\D]\") #match\n",
    "\n",
    "error = []\n",
    "log = []"
   ]
  },
  {
   "cell_type": "code",
   "execution_count": 2,
   "metadata": {},
   "outputs": [],
   "source": [
    "#[디렉토리 만들기 시작]###########################################################\n",
    "#디렉토리 만들기 - 완료\n",
    "# path = r'\\\\192.168.0.75\\솔림헬프'\n",
    "# os.chdir(path)\n",
    "# docu_list = [\"1.원인서류\", \"2.양도통지서\", \"3.집행권원\", \"4.강제집행\", \"5.등초본\", \"6.개인회생\", \"7.신용회복\", \"8.파산\", \"9.재산조사\", \"기타\"]\n",
    "# sell_list = [\"전북-01\", \"DNP-01\", \"DNP-02\", \"메리츠캐_01\", \"KNS\", \"DNP-03\", \"한울가람\", \"케이에스\", \\\n",
    "#     \"유안타저-01\", \"KB카드-01\", \"베리타스-01\", \"BNK-01\", \"스마트저축-01\", \"우담-01\", \"고려저축-01\", \\\n",
    "#         \"롯데카드-01\", \"헤럴드\", \"KCR\", \"아인스\", \"하나캐-02\", \"베델-01\", \"롯데카드-03\", \"하나캐-01\", \\\n",
    "#             \"더키움\", \"롯데카드-02\", \"JT캐-02\", \"흥국화재-01\", \"롯데카드-04\", \"산은캐-01\", \"대산\", \"JT캐-01\"]\n",
    "\n",
    "# for dir_ in docu_list :\n",
    "#     for sell_ in sell_list :\n",
    "#         os.makedirs(dir_+\"/\"+sell_, exist_ok=True)\n",
    "\n",
    "#[끝]###########################################################"
   ]
  },
  {
   "cell_type": "markdown",
   "metadata": {},
   "source": [
    "### 변종 통일하기"
   ]
  },
  {
   "cell_type": "code",
   "execution_count": null,
   "metadata": {},
   "outputs": [],
   "source": [
    "# 문서구분 수정, 보증인 위치, 차수, 재도 확인, 이상한 기호 제거, 날짜 양식 확인\n",
    "path = r'C:\\Users\\jbmyo\\Desktop\\test'\n",
    "file_list = [f.name for f in os.scandir(path) if f.is_file()]\n",
    "\n"
   ]
  },
  {
   "cell_type": "code",
   "execution_count": null,
   "metadata": {},
   "outputs": [],
   "source": []
  },
  {
   "cell_type": "code",
   "execution_count": null,
   "metadata": {},
   "outputs": [],
   "source": []
  },
  {
   "cell_type": "code",
   "execution_count": null,
   "metadata": {},
   "outputs": [],
   "source": []
  },
  {
   "cell_type": "code",
   "execution_count": null,
   "metadata": {},
   "outputs": [],
   "source": []
  },
  {
   "cell_type": "code",
   "execution_count": null,
   "metadata": {},
   "outputs": [],
   "source": []
  },
  {
   "cell_type": "code",
   "execution_count": null,
   "metadata": {},
   "outputs": [],
   "source": []
  },
  {
   "cell_type": "markdown",
   "metadata": {},
   "source": [
    "### 수작업 분류 및 format 재작성"
   ]
  },
  {
   "cell_type": "code",
   "execution_count": null,
   "metadata": {},
   "outputs": [],
   "source": [
    "path = r'C:\\Users\\jbmyo\\Desktop\\test'\n",
    "hard_path = r'\\\\192.168.0.75\\스캔파일\\새 스캔파일(업로드)\\수작업 필요'\n",
    "checked_path = r'\\\\192.168.0.75\\스캔파일\\새 스캔파일(업로드)\\파일명 검수 완료'\n",
    "\n",
    "file_list = [f.name for f in os.scandir(path) if f.is_file()]\n",
    "log = []\n",
    "error = []\n",
    "cnt = 0\n",
    "\n",
    "docu_kind = r'원인서류|양도통지서[\\s]?[\\d]?[차]?|집행권원[\\s]?[재]?[도]?|집행권원 재도|집행권원재도|강제집행|등본|초본|외국인증명|개인회생|신용회복|파산|재산조사|기타'\n",
    "\n",
    "p_basic = re.compile(r'([\\d]{8})[\\s]([\\D]+)('+docu_kind+r')') #[\\D]는 공백문자를 포함하므로 아래서 strip하는 게 낫다.\n",
    "p_event = re.compile(r\"[\\D]([\\d]{4}[ㄱ-ㅎ가-힣]{1,3}[0-9]+)\")\n"
   ]
  },
  {
   "cell_type": "code",
   "execution_count": null,
   "metadata": {},
   "outputs": [],
   "source": [
    "for f in file_list :\n",
    "    try :\n",
    "        stem = os.path.splitext(f)[0]\n",
    "        ext = os.path.splitext(f)[1]\n",
    "\n",
    "        # 필수 양식 확인\n",
    "        basic = p_basic.match(stem)\n",
    "        if basic == None : # 필수 양식에 맞지 않는다.\n",
    "            shutil.move(join(path, f), join(hard_path, f))\n",
    "            cnt += 1\n",
    "        \n",
    "        else :\n",
    "            \n",
    "            # 필수3요소\n",
    "            key = basic.group(1)\n",
    "            name = basic.group(2).strip() #[/D]가 공백을 포함하므로\n",
    "            docu = basic.group(3)\n",
    "            \n",
    "            # 사건번호, 기타정보\n",
    "            if p_event.search(stem) :\n",
    "                temp_event = p_event.search(stem)\n",
    "                event = temp_event.group()\n",
    "                extra = stem[temp_event.end():].strip().replace(\" \", \"_\")\n",
    "            else :\n",
    "                extra = stem[basic.end():].strip().replace(\" \", \"_\")\n",
    "\n",
    "            # 기타정보(없는 경우 끝에 _ 생겨서 구분 해줘야 함)\n",
    "            if extra :\n",
    "                name_items = [key, name, docu, event, extra]\n",
    "            else :\n",
    "                name_items = [key, name, docu, event]\n",
    "\n",
    "            new_name = \"_\".join(name_items)+ext\n",
    "            new_name = re.sub(\"[_]{2,}\", \"_\", new_name) #마지막에 _ 두개 인 경우 꼭 해줘야 해.\n",
    "            \n",
    "            shutil.move(join(path, f), join(checked_path,new_name))\n",
    "            log.append([f, new_name])\n",
    "            \n",
    "    except Exception as e:\n",
    "        print(\"===================================\")\n",
    "        print(datetime.today().strftime(\"%H:%M:%S\"))\n",
    "        print(f, e.__class__, e, sep=\" : \")\n",
    "        print(traceback.format_exc())\n",
    "        error.append([f, e.__class__, e])\n",
    "        continue # 반복문 계속 돌아\n",
    "\n",
    "ff.write_log(log, error, r'\\\\192.168.0.75\\스캔파일\\스캔파일 log\\파일명 체크')\n",
    "print(cnt, \"개 파일 수작업 필요\")\n"
   ]
  },
  {
   "cell_type": "markdown",
   "metadata": {},
   "source": [
    "### \"솔림헬프\"로 파일 업로드"
   ]
  },
  {
   "cell_type": "code",
   "execution_count": 19,
   "metadata": {},
   "outputs": [],
   "source": [
    "# 경로 정리\n",
    "path = r'\\\\192.168.0.75\\스캔파일\\새 스캔파일(업로드)\\파일명 수정 필요'\n",
    "os.chdir(path)\n",
    "file_list = [f.name for f in os.scandir(path) if f.is_file()]\n",
    "_total = len(file_list)\n",
    "log_path = r'\\\\192.168.0.75\\스캔파일\\스캔파일 log'\n",
    "\n",
    "f_d = r'\\\\192.168.0.75\\솔림헬프'\n",
    "out = r'\\\\192.168.0.75\\삭제예정파일\\관리제외'\n",
    "# 기본 변수\n",
    "p_out = re.compile('개인회생\\(면책\\)|파산\\(면책\\)|환매|매각|종결')\n",
    "p_key = re.compile(r\"([\\d]{8})[\\D]\") #match\n",
    "\n",
    "error = []\n",
    "log = []\n",
    "# 1) depth1 문서종류 매칭\n",
    "docu_match = {\"원인서류\" : \"1.원인서류\", \"양도통지서\":\"2.양도통지서\", \"집행권원\":\"3.집행권원\", \"강제집행\":\"4.강제집행\", \"등본\":\"5.등초본\", \"초본\":\"5.등초본\", \"외국인\":\"5.등초본\", \"개인회생\":\"6.개인회생\", \"신용회복\":\"7.신용회복\", \"파산\":\"8.파산\", \"재산조사\":\"9.재산조사\", \"기타\":\"기타\"}"
   ]
  },
  {
   "cell_type": "code",
   "execution_count": 20,
   "metadata": {},
   "outputs": [
    {
     "data": {
      "application/vnd.jupyter.widget-view+json": {
       "model_id": "7a08792506934129bdf9dff9519aed30",
       "version_major": 2,
       "version_minor": 0
      },
      "text/plain": [
       "  0%|          | 0/118 [00:00<?, ?it/s]"
      ]
     },
     "metadata": {},
     "output_type": "display_data"
    },
    {
     "name": "stdout",
     "output_type": "stream",
     "text": [
      "88 개의 파일 업로드 완료, 0 개의 요확인 파일 발생\n"
     ]
    }
   ],
   "source": [
    "#######################################\n",
    "#로그, 관리제외파일 수정했으니 테스트 한 번 해봐\n",
    "#######################################\n",
    "\n",
    "for f in tqdm(file_list, total=_total) : \n",
    "    \n",
    "    if (f != \"Thumbs.db\") :\n",
    "        \n",
    "        try :\n",
    "            depth1 = \"\" #문서종류\n",
    "            depth2 = dict_sell[depth3][0] #매각사구분\n",
    "            depth3 = f[:8] #다 확인한 뒤니까 그냥 이렇게 해도 돼\n",
    "\n",
    "            # 관리제외라면\n",
    "            if p_out.match(dict_sell[depth3][1]) :\n",
    "                out_dir = join(out, depth2, depth3)\n",
    "                if not os.path.exists(out_dir) :\n",
    "                    os.makedirs(out_dir)\n",
    "                shutil.move(join(path,f), join(out_dir, f))\n",
    "            \n",
    "            # 관리파일이면\n",
    "            else :\n",
    "            \n",
    "                # depth1\n",
    "                for key, value in docu_match.items() : \n",
    "                    if re.search(key, f) :\n",
    "                        depth1 = value\n",
    "                        continue\n",
    "                    else :\n",
    "                        pass\n",
    "                \n",
    "                # 파일이동을 위한 준비(도착지 디렉토리 및 파일명 작성)\n",
    "                dst_dir = os.path.join(f_d, depth1, depth2, depth3)\n",
    "            \n",
    "                if not os.path.exists(dst_dir) :\n",
    "                    os.makedirs(dst_dir) #미리 만들어뒀으니 mkdir해도 됨\n",
    "                \n",
    "                #파일이동\n",
    "                log.append(ff.re_name(join(path, f), join(dst_dir, f)))\n",
    "        \n",
    "        except Exception as e:\n",
    "            print(\"===================================\")\n",
    "            print(datetime.today().strftime(\"%H:%M:%S\"))\n",
    "            print(f, e.__class__, e, sep=\" : \")\n",
    "            print(traceback.format_exc())\n",
    "            error.append([f, e.__class__, e])\n",
    "            continue # 반복문 계속 돌아\n",
    "\n",
    "\n",
    "# 로그 파일 나스에 저장\n",
    "ff.write_log(log, error, log_path)"
   ]
  },
  {
   "cell_type": "markdown",
   "metadata": {},
   "source": [
    "### 파일 비교 및 차집합"
   ]
  },
  {
   "cell_type": "code",
   "execution_count": null,
   "metadata": {},
   "outputs": [],
   "source": [
    "myPath= r'D:\\부산 정리_v2'\n",
    "nasPath=r'\\\\192.168.0.75\\스캔파일\\새 스캔파일(업로드)'"
   ]
  },
  {
   "cell_type": "code",
   "execution_count": null,
   "metadata": {},
   "outputs": [],
   "source": [
    "myFile = [f for f in os.scandir(myPath) if f.is_file()]"
   ]
  },
  {
   "cell_type": "code",
   "execution_count": null,
   "metadata": {},
   "outputs": [],
   "source": [
    "nasFile = [f for f in os.scandir(nasPath) if f.is_file()]"
   ]
  },
  {
   "cell_type": "code",
   "execution_count": null,
   "metadata": {},
   "outputs": [],
   "source": [
    "onlyLocal = list(set(myFile) - set(nasFile))\n",
    "print(len(onlyLocal))"
   ]
  },
  {
   "cell_type": "code",
   "execution_count": null,
   "metadata": {},
   "outputs": [],
   "source": [
    "onlynas = list(set(myFile) - set(nasFile))\n",
    "print(len(onlynas))"
   ]
  },
  {
   "cell_type": "code",
   "execution_count": 48,
   "metadata": {},
   "outputs": [
    {
     "name": "stdout",
     "output_type": "stream",
     "text": [
      "hello\n"
     ]
    }
   ],
   "source": []
  }
 ],
 "metadata": {
  "kernelspec": {
   "display_name": "Python 3.9.12 ('base')",
   "language": "python",
   "name": "python3"
  },
  "language_info": {
   "codemirror_mode": {
    "name": "ipython",
    "version": 3
   },
   "file_extension": ".py",
   "mimetype": "text/x-python",
   "name": "python",
   "nbconvert_exporter": "python",
   "pygments_lexer": "ipython3",
   "version": "3.9.12"
  },
  "orig_nbformat": 4,
  "vscode": {
   "interpreter": {
    "hash": "50ba2c93e3505a279245e213c77d9791c626788d8ca8a61b8db804927ca08a39"
   }
  }
 },
 "nbformat": 4,
 "nbformat_minor": 2
}
