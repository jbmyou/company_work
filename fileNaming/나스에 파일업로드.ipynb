{
 "cells": [
  {
   "cell_type": "code",
   "execution_count": 1,
   "metadata": {},
   "outputs": [],
   "source": [
    "import os\n",
    "import shutil\n",
    "import time\n",
    "import pandas as pd\n",
    "from tqdm.notebook import tqdm      #tqdm(filelist, total = len(filelist, position=0, leave=Ture)\n",
    "import re\n",
    "from pathlib import Path\n",
    "import traceback\n",
    "from os.path import join"
   ]
  },
  {
   "cell_type": "markdown",
   "metadata": {},
   "source": [
    "### 나스에 파일 올리기"
   ]
  },
  {
   "cell_type": "code",
   "execution_count": 2,
   "metadata": {},
   "outputs": [],
   "source": [
    "#[시작]###########################################################\n",
    "#디렉토리 만들기\n",
    "path = r'\\\\192.168.0.75\\솔림헬프'\n",
    "os.chdir(path)\n",
    "docu_list = [\"원인서류\", \"양도통지서\", \"집행권원\", \"강제집행\", \"등초본\", \"개인회생\", \"신용회복\", \"파산\", \"재산조사\", \"기타\"]\n",
    "sell_list = [\"전북-01\", \"DNP-01\", \"DNP-02\", \"메리츠캐_01\", \"KNS\", \"DNP-03\", \"한울가람\", \"케이에스\", \\\n",
    "    \"유안타저-01\", \"KB카드-01\", \"베리타스-01\", \"BNK-01\", \"스마트저축-01\", \"우담-01\", \"고려저축-01\", \\\n",
    "        \"롯데카드-01\", \"헤럴드\", \"KCR\", \"아인스\", \"하나캐-02\", \"베델-01\", \"롯데카드-03\", \"하나캐-01\", \\\n",
    "            \"더키움\", \"롯데카드-02\", \"JT캐-02\", \"흥국화재-01\", \"롯데카드-04\", \"산은캐-01\", \"대산\", \"JT캐-01\"]\n",
    "\n",
    "for dir_ in docu_list :\n",
    "    for sell_ in sell_list :\n",
    "        os.makedirs(dir_+\"/\"+sell_, exist_ok=True)\n",
    "\n",
    "#[끝]###########################################################"
   ]
  },
  {
   "cell_type": "code",
   "execution_count": 3,
   "metadata": {},
   "outputs": [
    {
     "data": {
      "text/html": [
       "<div>\n",
       "<style scoped>\n",
       "    .dataframe tbody tr th:only-of-type {\n",
       "        vertical-align: middle;\n",
       "    }\n",
       "\n",
       "    .dataframe tbody tr th {\n",
       "        vertical-align: top;\n",
       "    }\n",
       "\n",
       "    .dataframe thead th {\n",
       "        text-align: right;\n",
       "    }\n",
       "</style>\n",
       "<table border=\"1\" class=\"dataframe\">\n",
       "  <thead>\n",
       "    <tr style=\"text-align: right;\">\n",
       "      <th></th>\n",
       "      <th>채무자키</th>\n",
       "      <th>매각사구분</th>\n",
       "      <th>성명</th>\n",
       "      <th>주민번호인</th>\n",
       "      <th>성별</th>\n",
       "      <th>매각사</th>\n",
       "      <th>회생사건결과</th>\n",
       "      <th>관리자기타</th>\n",
       "      <th>보증인성명</th>\n",
       "      <th>변경전성명인</th>\n",
       "      <th>변경전주민번호인</th>\n",
       "      <th>보증인수</th>\n",
       "      <th>파산사건결과</th>\n",
       "    </tr>\n",
       "  </thead>\n",
       "  <tbody>\n",
       "    <tr>\n",
       "      <th>67722</th>\n",
       "      <td>20459682</td>\n",
       "      <td>KB카드-01</td>\n",
       "      <td>YOON HYUN WOOK</td>\n",
       "      <td>671224-5600173</td>\n",
       "      <td>남자</td>\n",
       "      <td>KB국민카드</td>\n",
       "      <td>NaN</td>\n",
       "      <td>9013302712</td>\n",
       "      <td>NaN</td>\n",
       "      <td>NaN</td>\n",
       "      <td>NaN</td>\n",
       "      <td>0</td>\n",
       "      <td>NaN</td>\n",
       "    </tr>\n",
       "    <tr>\n",
       "      <th>67723</th>\n",
       "      <td>20459636</td>\n",
       "      <td>KB카드-01</td>\n",
       "      <td>YUTAIJI</td>\n",
       "      <td>830211-5140013</td>\n",
       "      <td>남자</td>\n",
       "      <td>KB국민카드</td>\n",
       "      <td>NaN</td>\n",
       "      <td>9013302093</td>\n",
       "      <td>NaN</td>\n",
       "      <td>NaN</td>\n",
       "      <td>NaN</td>\n",
       "      <td>0</td>\n",
       "      <td>NaN</td>\n",
       "    </tr>\n",
       "    <tr>\n",
       "      <th>67724</th>\n",
       "      <td>20447783</td>\n",
       "      <td>KB카드-01</td>\n",
       "      <td>ZAHER KAREEM ATIA</td>\n",
       "      <td>900803-5100144</td>\n",
       "      <td>남자</td>\n",
       "      <td>KB국민카드</td>\n",
       "      <td>NaN</td>\n",
       "      <td>9013302590</td>\n",
       "      <td>NaN</td>\n",
       "      <td>NaN</td>\n",
       "      <td>NaN</td>\n",
       "      <td>0</td>\n",
       "      <td>NaN</td>\n",
       "    </tr>\n",
       "    <tr>\n",
       "      <th>67725</th>\n",
       "      <td>20459338</td>\n",
       "      <td>KB카드-01</td>\n",
       "      <td>ZHANG FANJING</td>\n",
       "      <td>871111-6340392</td>\n",
       "      <td>여자</td>\n",
       "      <td>KB국민카드</td>\n",
       "      <td>NaN</td>\n",
       "      <td>9013202025</td>\n",
       "      <td>NaN</td>\n",
       "      <td>NaN</td>\n",
       "      <td>NaN</td>\n",
       "      <td>0</td>\n",
       "      <td>NaN</td>\n",
       "    </tr>\n",
       "    <tr>\n",
       "      <th>67726</th>\n",
       "      <td>20459630</td>\n",
       "      <td>KB카드-01</td>\n",
       "      <td>ZONG WEI</td>\n",
       "      <td>580805-6101696</td>\n",
       "      <td>여자</td>\n",
       "      <td>KB국민카드</td>\n",
       "      <td>NaN</td>\n",
       "      <td>9013302001</td>\n",
       "      <td>NaN</td>\n",
       "      <td>NaN</td>\n",
       "      <td>NaN</td>\n",
       "      <td>0</td>\n",
       "      <td>NaN</td>\n",
       "    </tr>\n",
       "  </tbody>\n",
       "</table>\n",
       "</div>"
      ],
      "text/plain": [
       "           채무자키    매각사구분                 성명           주민번호인  성별     매각사  \\\n",
       "67722  20459682  KB카드-01     YOON HYUN WOOK  671224-5600173  남자  KB국민카드   \n",
       "67723  20459636  KB카드-01            YUTAIJI  830211-5140013  남자  KB국민카드   \n",
       "67724  20447783  KB카드-01  ZAHER KAREEM ATIA  900803-5100144  남자  KB국민카드   \n",
       "67725  20459338  KB카드-01      ZHANG FANJING  871111-6340392  여자  KB국민카드   \n",
       "67726  20459630  KB카드-01           ZONG WEI  580805-6101696  여자  KB국민카드   \n",
       "\n",
       "      회생사건결과       관리자기타 보증인성명 변경전성명인 변경전주민번호인  보증인수 파산사건결과  \n",
       "67722    NaN  9013302712   NaN    NaN      NaN     0    NaN  \n",
       "67723    NaN  9013302093   NaN    NaN      NaN     0    NaN  \n",
       "67724    NaN  9013302590   NaN    NaN      NaN     0    NaN  \n",
       "67725    NaN  9013202025   NaN    NaN      NaN     0    NaN  \n",
       "67726    NaN  9013302001   NaN    NaN      NaN     0    NaN  "
      ]
     },
     "execution_count": 3,
     "metadata": {},
     "output_type": "execute_result"
    }
   ],
   "source": [
    "#[시작]파일업로드###########################################################\n",
    "## 참조 df 불러오기 ~~~~ \":\"와 공백 xlsx파일에서 미리 제거해둬야 ~~~~\n",
    "## 참조할 col_name = '성명', '주민번호', '채무자키', '매각사', '보증인성명'\n",
    "df_c = pd.read_excel(r'C:\\Users\\SL\\Desktop\\채무자조회.xlsx')\n",
    "df_c.tail()"
   ]
  },
  {
   "cell_type": "code",
   "execution_count": null,
   "metadata": {},
   "outputs": [],
   "source": [
    "dict_sell ={}\n",
    "for ind, col in df_c.iterrows():\n",
    "    dict_sell[str(col.채무자키)] = col.매각사구분\n",
    "\n",
    "print(len(dict_sell))"
   ]
  },
  {
   "cell_type": "code",
   "execution_count": null,
   "metadata": {},
   "outputs": [],
   "source": [
    "#파일 업로드\n",
    "path = r'D:\\부산 정리\\대산대부'\n",
    "f_d = r'\\\\192.168.0.75\\솔림헬프'\n",
    "os.chdir(path)\n",
    "file_list = os.listdir(path)\n",
    "index = 0\n",
    "error = []\n",
    "# 1) depth2 문서종류 매칭\n",
    "docu_match = {\"원인서류\" : \"원인서류\", \"채권양도통지서\":\"양도통지\", \"판결문\":\"법원서류\", \"지급명령\":\"법원서류\", \"이행권고\":\"법원서류\", \\\n",
    "    \"화해권고\":\"법원서류\", \"타채\":\"법원서류\", \"결정문\":\"법원서류\", \"등본\":\"초본등본\", \"초본\":\"초본등본\", \"개회\":\"신용회복\", \"신복\":\"신용회복\", \"파산\":\"신용회복\"}"
   ]
  },
  {
   "cell_type": "code",
   "execution_count": null,
   "metadata": {},
   "outputs": [],
   "source": [
    "\n",
    "for f in tqdm(file_list) : \n",
    "    depth1 = \"\"\n",
    "    depth2 = \"\"\n",
    "    depth3 = f[:8]\n",
    "    \n",
    "    # 문서종류(depth1)\n",
    "    for key, value in docu_match.items() : \n",
    "        if re.search(key, f) :\n",
    "            depth1 = value\n",
    "            continue\n",
    "        else :\n",
    "            error.append(f)\n",
    "    \n",
    "    # 매각사(depth2) \n",
    "    depth2 = dict_sell[depth3]\n",
    "\n",
    "    \n",
    "    #디렉토리 및 파일명 작성\n",
    "    new_name = f\n",
    "    f_d_full = os.path.join(f_d, depth1,depth2,depth3)\n",
    "    try :\n",
    "        if not os.path.exists(f_d_full) :\n",
    "            os.mkdir(f_d_full)\n",
    "    except :\n",
    "        print(traceback.format_exc())\n",
    "        print(f_d_full)\n",
    "    \n",
    "    #이름 같은 파일은 넘버링\n",
    "    temp = Path(f_d_full + \"/\" +new_name) #넘버링 없는 상태라 문제없음\n",
    "    i = 1\n",
    "    while os.path.exists(f_d_full+\"/\"+new_name): # os.path는 무조건 경로를 매개변수로..작업디렉토리가 아니므로 풀경로, new_name이 매개변수에 포함되어야 함!\n",
    "        new_name = temp.stem + \"_\" +\"(\"+str(i)+\")\"+temp.suffix\n",
    "        i += 1\n",
    "                    \n",
    "    f_d_final = f_d_full + \"/\" + new_name\n",
    "    shutil.copy2(f, f_d_final)\n",
    "    index += 1\n",
    "\n",
    "print(index, \"개의 파일 업로드 완료\")\n",
    "os.chdir('C:/') # 작업디렉토리 옮겨줘야 폴더 삭제 가능"
   ]
  },
  {
   "cell_type": "markdown",
   "metadata": {},
   "source": [
    "### 파일 비교 및 차집합"
   ]
  },
  {
   "cell_type": "code",
   "execution_count": null,
   "metadata": {},
   "outputs": [],
   "source": [
    "myPath= r'D:\\부산 정리_v2'\n",
    "nasPath=r'\\\\192.168.0.75\\스캔파일\\새 스캔파일(업로드)'"
   ]
  },
  {
   "cell_type": "code",
   "execution_count": null,
   "metadata": {},
   "outputs": [],
   "source": [
    "myFile = [f for f in os.scandir(myPath) if f.is_file()]"
   ]
  },
  {
   "cell_type": "code",
   "execution_count": null,
   "metadata": {},
   "outputs": [],
   "source": [
    "nasFile = [f for f in os.scandir(nasPath) if f.is_file()]"
   ]
  },
  {
   "cell_type": "code",
   "execution_count": null,
   "metadata": {},
   "outputs": [],
   "source": [
    "onlyLocal = list(set(myFile) - set(nasFile))\n",
    "print(len(onlyLocal))"
   ]
  },
  {
   "cell_type": "code",
   "execution_count": null,
   "metadata": {},
   "outputs": [],
   "source": [
    "onlynas = list(set(myFile) - set(nasFile))\n",
    "print(len(onlynas))"
   ]
  }
 ],
 "metadata": {
  "kernelspec": {
   "display_name": "Python 3.9.12 ('base')",
   "language": "python",
   "name": "python3"
  },
  "language_info": {
   "codemirror_mode": {
    "name": "ipython",
    "version": 3
   },
   "file_extension": ".py",
   "mimetype": "text/x-python",
   "name": "python",
   "nbconvert_exporter": "python",
   "pygments_lexer": "ipython3",
   "version": "3.9.12"
  },
  "orig_nbformat": 4,
  "vscode": {
   "interpreter": {
    "hash": "38d617750889899e5f2f65cac6f27a322f361a63d334879a800ee5491961f90c"
   }
  }
 },
 "nbformat": 4,
 "nbformat_minor": 2
}
