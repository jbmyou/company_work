{
 "cells": [
  {
   "cell_type": "code",
   "execution_count": 26,
   "metadata": {},
   "outputs": [
    {
     "name": "stderr",
     "output_type": "stream",
     "text": [
      "100%|██████████| 312/312 [03:28<00:00,  1.50it/s]"
     ]
    },
    {
     "name": "stdout",
     "output_type": "stream",
     "text": [
      "0 개 누수\n",
      "전체 : 312개, 파일변환 : 312개, 실패0개\n",
      "0개 이미지 아닌 파일 있음\n",
      "log 파일이 비어있습니다. path : D:\\extraKey\\서울\\! 채권별 스캔본 (한울가람, 9001~)\\! 채권별 스캔본 (한울가람, 9001~)(스캔파일)\\1.한울가람_헬프\\! 매입전자료(한울가람스캔자료)\\원인서류\\법인\n"
     ]
    },
    {
     "name": "stderr",
     "output_type": "stream",
     "text": [
      "\n"
     ]
    }
   ],
   "source": [
    "import os\n",
    "from os.path import join\n",
    "import img2pdf\n",
    "import re\n",
    "from tqdm import tqdm\n",
    "from file_function import write_log_csv_upload\n",
    "\n",
    "############################################\n",
    "path = r\"D:\\extraKey\\서울\\! 채권별 스캔본 (한울가람, 9001~)\\! 채권별 스캔본 (한울가람, 9001~)(스캔파일)\\1.한울가람_헬프\\! 매입전자료(한울가람스캔자료)\\원인서류\\법인\"\n",
    "path_out = r\"D:\\extraKey\\서울\\! 채권별 스캔본 (한울가람, 9001~)\\! 채권별 스캔본 (한울가람, 9001~)(스캔파일)\\1.한울가람_헬프\\! 매입전자료(한울가람스캔자료)\\원인서류\\법인 합본\"\n",
    "p_extension = re.compile('(jpeg|jpg|bmp|gif|png|tif|tiff)$', re.I) \n",
    "############################################\n",
    "path_success_log = r'D:\\0.전산\\1.진행중과업\\파일서버개편\\구스캔폴더 작업log\\success'\n",
    "path_fail_log = path\n",
    "\n",
    "success = []\n",
    "fail = []\n",
    "notImg = []\n",
    "\n",
    "dir_list = [d.name for d in os.scandir(path) if d.is_dir()]\n",
    "total=len(dir_list)\n",
    "\n",
    "for d in tqdm(dir_list, total=total) :\n",
    "    temp = []\n",
    "    file_list = os.listdir(join(path, d))\n",
    "    for f in file_list :\n",
    "        if p_extension.search(f) :\n",
    "            temp.append(join(path, d, f))\n",
    "        else :\n",
    "            notImg.append([path, d, f])\n",
    "            continue\n",
    "    \n",
    "    if len(temp)>0 :\n",
    "        try :\n",
    "            output = join(path_out, d + \" 원인서류 포함 매각사 자료모음.pdf\")\n",
    "            sn = 0\n",
    "            while os.path.exists(output) :\n",
    "                sn += 1\n",
    "                output = join(path_out, d + \" 원인서류 포함 매각사 자료모음\" + str(sn) + \".pdf\")\n",
    "\n",
    "            with open(output,\"wb\") as f:\n",
    "                f.write(img2pdf.convert(temp))\n",
    "\n",
    "            success.append([d, output])\n",
    "        except Exception as e :\n",
    "            fail.append([path, d, output, e.__class__])\n",
    "\n",
    "loss = total - len(success) -len(fail)\n",
    "print(loss, \"개 누수\")\n",
    "print(f\"전체 : {total}개, 파일변환 : {len(success)}개, 실패{len(fail)}개\")\n",
    "print(f\"{len(notImg)}개 이미지 아닌 파일 있음\")\n",
    "\n",
    "write_log_csv_upload(success, path_success_log, \"파일병합 성공\")\n",
    "write_log_csv_upload(fail, path_fail_log, \"파일병합 성공\")"
   ]
  }
 ],
 "metadata": {
  "kernelspec": {
   "display_name": "Python 3.9.12 ('base')",
   "language": "python",
   "name": "python3"
  },
  "language_info": {
   "codemirror_mode": {
    "name": "ipython",
    "version": 3
   },
   "file_extension": ".py",
   "mimetype": "text/x-python",
   "name": "python",
   "nbconvert_exporter": "python",
   "pygments_lexer": "ipython3",
   "version": "3.9.12"
  },
  "orig_nbformat": 4,
  "vscode": {
   "interpreter": {
    "hash": "50ba2c93e3505a279245e213c77d9791c626788d8ca8a61b8db804927ca08a39"
   }
  }
 },
 "nbformat": 4,
 "nbformat_minor": 2
}
