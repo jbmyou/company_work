{
 "cells": [
  {
   "cell_type": "code",
   "execution_count": 1,
   "metadata": {},
   "outputs": [],
   "source": [
    "import os\n",
    "import shutil\n",
    "import pandas as pd\n",
    "from tqdm import tqdm      \n",
    "import re\n",
    "from pathlib import Path\n",
    "import traceback\n",
    "from os.path import join\n",
    "import file_function as ff\n",
    "import time\n",
    "from datetime import datetime"
   ]
  },
  {
   "cell_type": "markdown",
   "metadata": {},
   "source": [
    "### 나우리 나스 파일 옮기기"
   ]
  },
  {
   "cell_type": "markdown",
   "metadata": {},
   "source": [
    "##### depth2,3 제거하고 파일명에 채무자키 없는 거 추가하기"
   ]
  },
  {
   "cell_type": "code",
   "execution_count": 26,
   "metadata": {},
   "outputs": [],
   "source": [
    "# 문서구분 폴더를 기준으로 채무자키 파일명에 넣어서 파일 저장하기\n",
    "path = r'D:\\nas다운로드\\나우리서버\\초본등본'\n",
    "path_dst = r'D:\\nas다운로드\\upload\\등초본'\n",
    "path_s = r'C:\\Users\\SL\\Desktop\\test\\log\\success'\n",
    "path_f = r'C:\\Users\\SL\\Desktop\\test\\log\\fail'\n",
    "path_d = r'C:\\Users\\SL\\Desktop\\test\\log\\dir'\n",
    "\n",
    "file_list = os.walk(path)\n",
    "p_key = re.compile(r\"[\\d]{8}(?!\\d)\") #match\n",
    "\n",
    "\n",
    "result_f = []\n",
    "result_d = []\n",
    "error = []"
   ]
  },
  {
   "cell_type": "code",
   "execution_count": 27,
   "metadata": {},
   "outputs": [
    {
     "name": "stderr",
     "output_type": "stream",
     "text": [
      "716it [00:00, 3622.13it/s]"
     ]
    },
    {
     "name": "stdout",
     "output_type": "stream",
     "text": [
      "===================================\n",
      "14:50:52\n",
      "22061618_초본-최경철.pdf : <class 'PermissionError'> : [WinError 32] 다른 프로세스가 파일을 사용 중이기 때문에 프로세스가 액세스 할 수 없습니다: 'D:\\\\nas다운로드\\\\나우리서버\\\\초본등본'\n",
      "Traceback (most recent call last):\n",
      "  File \"C:\\Users\\SL\\AppData\\Local\\Temp\\ipykernel_11780\\221317758.py\", line 25, in <cell line: 1>\n",
      "    os.removedirs(root)\n",
      "  File \"c:\\Users\\sl\\anaconda3\\lib\\os.py\", line 243, in removedirs\n",
      "    rmdir(name)\n",
      "PermissionError: [WinError 32] 다른 프로세스가 파일을 사용 중이기 때문에 프로세스가 액세스 할 수 없습니다: 'D:\\\\nas다운로드\\\\나우리서버\\\\초본등본'\n",
      "\n",
      "===================================\n",
      "14:50:52\n",
      "22061618_초본-최경철.pdf : <class 'OSError'> : [WinError 145] 디렉터리가 비어 있지 않습니다: 'D:\\\\nas다운로드\\\\나우리서버\\\\초본등본\\\\BNK-01'\n",
      "Traceback (most recent call last):\n",
      "  File \"C:\\Users\\SL\\AppData\\Local\\Temp\\ipykernel_11780\\221317758.py\", line 25, in <cell line: 1>\n",
      "    os.removedirs(root)\n",
      "  File \"c:\\Users\\sl\\anaconda3\\lib\\os.py\", line 243, in removedirs\n",
      "    rmdir(name)\n",
      "OSError: [WinError 145] 디렉터리가 비어 있지 않습니다: 'D:\\\\nas다운로드\\\\나우리서버\\\\초본등본\\\\BNK-01'\n",
      "\n",
      "===================================\n",
      "14:50:52\n",
      "22061618_초본-최경철.pdf : <class 'OSError'> : [WinError 145] 디렉터리가 비어 있지 않습니다: 'D:\\\\nas다운로드\\\\나우리서버\\\\초본등본\\\\DNP-01'\n",
      "Traceback (most recent call last):\n",
      "  File \"C:\\Users\\SL\\AppData\\Local\\Temp\\ipykernel_11780\\221317758.py\", line 25, in <cell line: 1>\n",
      "    os.removedirs(root)\n",
      "  File \"c:\\Users\\sl\\anaconda3\\lib\\os.py\", line 243, in removedirs\n",
      "    rmdir(name)\n",
      "OSError: [WinError 145] 디렉터리가 비어 있지 않습니다: 'D:\\\\nas다운로드\\\\나우리서버\\\\초본등본\\\\DNP-01'\n",
      "\n"
     ]
    },
    {
     "name": "stderr",
     "output_type": "stream",
     "text": [
      "1395it [00:00, 2997.26it/s]"
     ]
    },
    {
     "name": "stdout",
     "output_type": "stream",
     "text": [
      "===================================\n",
      "14:50:52\n",
      "22061618_초본-최경철.pdf : <class 'OSError'> : [WinError 145] 디렉터리가 비어 있지 않습니다: 'D:\\\\nas다운로드\\\\나우리서버\\\\초본등본\\\\DNP-02'\n",
      "Traceback (most recent call last):\n",
      "  File \"C:\\Users\\SL\\AppData\\Local\\Temp\\ipykernel_11780\\221317758.py\", line 25, in <cell line: 1>\n",
      "    os.removedirs(root)\n",
      "  File \"c:\\Users\\sl\\anaconda3\\lib\\os.py\", line 243, in removedirs\n",
      "    rmdir(name)\n",
      "OSError: [WinError 145] 디렉터리가 비어 있지 않습니다: 'D:\\\\nas다운로드\\\\나우리서버\\\\초본등본\\\\DNP-02'\n",
      "\n",
      "===================================\n",
      "14:50:52\n",
      "22061618_초본-최경철.pdf : <class 'OSError'> : [WinError 145] 디렉터리가 비어 있지 않습니다: 'D:\\\\nas다운로드\\\\나우리서버\\\\초본등본\\\\JT캐-01'\n",
      "Traceback (most recent call last):\n",
      "  File \"C:\\Users\\SL\\AppData\\Local\\Temp\\ipykernel_11780\\221317758.py\", line 25, in <cell line: 1>\n",
      "    os.removedirs(root)\n",
      "  File \"c:\\Users\\sl\\anaconda3\\lib\\os.py\", line 243, in removedirs\n",
      "    rmdir(name)\n",
      "OSError: [WinError 145] 디렉터리가 비어 있지 않습니다: 'D:\\\\nas다운로드\\\\나우리서버\\\\초본등본\\\\JT캐-01'\n",
      "\n",
      "===================================\n",
      "14:50:52\n",
      "22061618_초본-최경철.pdf : <class 'OSError'> : [WinError 145] 디렉터리가 비어 있지 않습니다: 'D:\\\\nas다운로드\\\\나우리서버\\\\초본등본\\\\JT캐-02'\n",
      "Traceback (most recent call last):\n",
      "  File \"C:\\Users\\SL\\AppData\\Local\\Temp\\ipykernel_11780\\221317758.py\", line 25, in <cell line: 1>\n",
      "    os.removedirs(root)\n",
      "  File \"c:\\Users\\sl\\anaconda3\\lib\\os.py\", line 243, in removedirs\n",
      "    rmdir(name)\n",
      "OSError: [WinError 145] 디렉터리가 비어 있지 않습니다: 'D:\\\\nas다운로드\\\\나우리서버\\\\초본등본\\\\JT캐-02'\n",
      "\n",
      "===================================\n",
      "14:50:52\n",
      "22061618_초본-최경철.pdf : <class 'OSError'> : [WinError 145] 디렉터리가 비어 있지 않습니다: 'D:\\\\nas다운로드\\\\나우리서버\\\\초본등본\\\\KB카드-01'\n",
      "Traceback (most recent call last):\n",
      "  File \"C:\\Users\\SL\\AppData\\Local\\Temp\\ipykernel_11780\\221317758.py\", line 25, in <cell line: 1>\n",
      "    os.removedirs(root)\n",
      "  File \"c:\\Users\\sl\\anaconda3\\lib\\os.py\", line 243, in removedirs\n",
      "    rmdir(name)\n",
      "OSError: [WinError 145] 디렉터리가 비어 있지 않습니다: 'D:\\\\nas다운로드\\\\나우리서버\\\\초본등본\\\\KB카드-01'\n",
      "\n"
     ]
    },
    {
     "name": "stderr",
     "output_type": "stream",
     "text": [
      "3039it [00:31, 49.31it/s]  "
     ]
    },
    {
     "name": "stdout",
     "output_type": "stream",
     "text": [
      "===================================\n",
      "14:51:23\n",
      "김아미나 원초본.pdf : <class 'OSError'> : [WinError 145] 디렉터리가 비어 있지 않습니다: 'D:\\\\nas다운로드\\\\나우리서버\\\\초본등본\\\\KB카드-01\\\\20437353'\n",
      "Traceback (most recent call last):\n",
      "  File \"C:\\Users\\SL\\AppData\\Local\\Temp\\ipykernel_11780\\221317758.py\", line 25, in <cell line: 1>\n",
      "    os.removedirs(root)\n",
      "  File \"c:\\Users\\sl\\anaconda3\\lib\\os.py\", line 243, in removedirs\n",
      "    rmdir(name)\n",
      "OSError: [WinError 145] 디렉터리가 비어 있지 않습니다: 'D:\\\\nas다운로드\\\\나우리서버\\\\초본등본\\\\KB카드-01\\\\20437353'\n",
      "\n"
     ]
    },
    {
     "name": "stderr",
     "output_type": "stream",
     "text": [
      "4882it [01:10, 26.17it/s]"
     ]
    },
    {
     "name": "stdout",
     "output_type": "stream",
     "text": [
      "===================================\n",
      "14:52:02\n",
      "20451295 우태규 초본 2022.02.10.pdf : <class 'OSError'> : [WinError 145] 디렉터리가 비어 있지 않습니다: 'D:\\\\nas다운로드\\\\나우리서버\\\\초본등본\\\\KCR'\n",
      "Traceback (most recent call last):\n",
      "  File \"C:\\Users\\SL\\AppData\\Local\\Temp\\ipykernel_11780\\221317758.py\", line 25, in <cell line: 1>\n",
      "    os.removedirs(root)\n",
      "  File \"c:\\Users\\sl\\anaconda3\\lib\\os.py\", line 243, in removedirs\n",
      "    rmdir(name)\n",
      "OSError: [WinError 145] 디렉터리가 비어 있지 않습니다: 'D:\\\\nas다운로드\\\\나우리서버\\\\초본등본\\\\KCR'\n",
      "\n"
     ]
    },
    {
     "name": "stderr",
     "output_type": "stream",
     "text": [
      "4928it [01:11, 59.60it/s]"
     ]
    },
    {
     "name": "stdout",
     "output_type": "stream",
     "text": [
      "===================================\n",
      "14:52:03\n",
      "이성주.초본.pdf : <class 'OSError'> : [WinError 145] 디렉터리가 비어 있지 않습니다: 'D:\\\\nas다운로드\\\\나우리서버\\\\초본등본\\\\KNS'\n",
      "Traceback (most recent call last):\n",
      "  File \"C:\\Users\\SL\\AppData\\Local\\Temp\\ipykernel_11780\\221317758.py\", line 25, in <cell line: 1>\n",
      "    os.removedirs(root)\n",
      "  File \"c:\\Users\\sl\\anaconda3\\lib\\os.py\", line 243, in removedirs\n",
      "    rmdir(name)\n",
      "OSError: [WinError 145] 디렉터리가 비어 있지 않습니다: 'D:\\\\nas다운로드\\\\나우리서버\\\\초본등본\\\\KNS'\n",
      "\n",
      "===================================\n",
      "14:52:03\n",
      "최동현-초본.pdf : <class 'OSError'> : [WinError 145] 디렉터리가 비어 있지 않습니다: 'D:\\\\nas다운로드\\\\나우리서버\\\\초본등본\\\\고려저축-01'\n",
      "Traceback (most recent call last):\n",
      "  File \"C:\\Users\\SL\\AppData\\Local\\Temp\\ipykernel_11780\\221317758.py\", line 25, in <cell line: 1>\n",
      "    os.removedirs(root)\n",
      "  File \"c:\\Users\\sl\\anaconda3\\lib\\os.py\", line 243, in removedirs\n",
      "    rmdir(name)\n",
      "OSError: [WinError 145] 디렉터리가 비어 있지 않습니다: 'D:\\\\nas다운로드\\\\나우리서버\\\\초본등본\\\\고려저축-01'\n",
      "\n"
     ]
    },
    {
     "name": "stderr",
     "output_type": "stream",
     "text": [
      "4951it [01:11, 67.31it/s]"
     ]
    },
    {
     "name": "stdout",
     "output_type": "stream",
     "text": [
      "===================================\n",
      "14:52:03\n",
      "남호석 초본.pdf : <class 'OSError'> : [WinError 145] 디렉터리가 비어 있지 않습니다: 'D:\\\\nas다운로드\\\\나우리서버\\\\초본등본\\\\대산'\n",
      "Traceback (most recent call last):\n",
      "  File \"C:\\Users\\SL\\AppData\\Local\\Temp\\ipykernel_11780\\221317758.py\", line 25, in <cell line: 1>\n",
      "    os.removedirs(root)\n",
      "  File \"c:\\Users\\sl\\anaconda3\\lib\\os.py\", line 243, in removedirs\n",
      "    rmdir(name)\n",
      "OSError: [WinError 145] 디렉터리가 비어 있지 않습니다: 'D:\\\\nas다운로드\\\\나우리서버\\\\초본등본\\\\대산'\n",
      "\n"
     ]
    },
    {
     "name": "stderr",
     "output_type": "stream",
     "text": [
      "5005it [01:12, 55.86it/s]"
     ]
    },
    {
     "name": "stdout",
     "output_type": "stream",
     "text": [
      "===================================\n",
      "14:52:04\n",
      "20426907 조상일-초본.pdf : <class 'OSError'> : [WinError 145] 디렉터리가 비어 있지 않습니다: 'D:\\\\nas다운로드\\\\나우리서버\\\\초본등본\\\\더키움'\n",
      "Traceback (most recent call last):\n",
      "  File \"C:\\Users\\SL\\AppData\\Local\\Temp\\ipykernel_11780\\221317758.py\", line 25, in <cell line: 1>\n",
      "    os.removedirs(root)\n",
      "  File \"c:\\Users\\sl\\anaconda3\\lib\\os.py\", line 243, in removedirs\n",
      "    rmdir(name)\n",
      "OSError: [WinError 145] 디렉터리가 비어 있지 않습니다: 'D:\\\\nas다운로드\\\\나우리서버\\\\초본등본\\\\더키움'\n",
      "\n"
     ]
    },
    {
     "name": "stderr",
     "output_type": "stream",
     "text": [
      "5283it [01:18, 32.68it/s]"
     ]
    },
    {
     "name": "stdout",
     "output_type": "stream",
     "text": [
      "===================================\n",
      "14:52:10\n",
      "안요한-초본.pdf : <class 'OSError'> : [WinError 145] 디렉터리가 비어 있지 않습니다: 'D:\\\\nas다운로드\\\\나우리서버\\\\초본등본\\\\동아금고-01'\n",
      "Traceback (most recent call last):\n",
      "  File \"C:\\Users\\SL\\AppData\\Local\\Temp\\ipykernel_11780\\221317758.py\", line 25, in <cell line: 1>\n",
      "    os.removedirs(root)\n",
      "  File \"c:\\Users\\sl\\anaconda3\\lib\\os.py\", line 243, in removedirs\n",
      "    rmdir(name)\n",
      "OSError: [WinError 145] 디렉터리가 비어 있지 않습니다: 'D:\\\\nas다운로드\\\\나우리서버\\\\초본등본\\\\동아금고-01'\n",
      "\n",
      "===================================\n",
      "14:52:10\n",
      "사업자등록증_서울.pdf : <class 'OSError'> : [WinError 145] 디렉터리가 비어 있지 않습니다: 'D:\\\\nas다운로드\\\\나우리서버\\\\초본등본\\\\롯데카드-01'\n",
      "Traceback (most recent call last):\n",
      "  File \"C:\\Users\\SL\\AppData\\Local\\Temp\\ipykernel_11780\\221317758.py\", line 25, in <cell line: 1>\n",
      "    os.removedirs(root)\n",
      "  File \"c:\\Users\\sl\\anaconda3\\lib\\os.py\", line 243, in removedirs\n",
      "    rmdir(name)\n",
      "OSError: [WinError 145] 디렉터리가 비어 있지 않습니다: 'D:\\\\nas다운로드\\\\나우리서버\\\\초본등본\\\\롯데카드-01'\n",
      "\n"
     ]
    },
    {
     "name": "stderr",
     "output_type": "stream",
     "text": [
      "5303it [01:18, 46.84it/s]"
     ]
    },
    {
     "name": "stdout",
     "output_type": "stream",
     "text": [
      "===================================\n",
      "14:52:10\n",
      "이달줄 초본.pdf : <class 'OSError'> : [WinError 145] 디렉터리가 비어 있지 않습니다: 'D:\\\\nas다운로드\\\\나우리서버\\\\초본등본\\\\롯데카드-02'\n",
      "Traceback (most recent call last):\n",
      "  File \"C:\\Users\\SL\\AppData\\Local\\Temp\\ipykernel_11780\\221317758.py\", line 25, in <cell line: 1>\n",
      "    os.removedirs(root)\n",
      "  File \"c:\\Users\\sl\\anaconda3\\lib\\os.py\", line 243, in removedirs\n",
      "    rmdir(name)\n",
      "OSError: [WinError 145] 디렉터리가 비어 있지 않습니다: 'D:\\\\nas다운로드\\\\나우리서버\\\\초본등본\\\\롯데카드-02'\n",
      "\n",
      "===================================\n",
      "14:52:11\n",
      "이정훈.초본.pdf : <class 'OSError'> : [WinError 145] 디렉터리가 비어 있지 않습니다: 'D:\\\\nas다운로드\\\\나우리서버\\\\초본등본\\\\롯데카드-03'\n",
      "Traceback (most recent call last):\n",
      "  File \"C:\\Users\\SL\\AppData\\Local\\Temp\\ipykernel_11780\\221317758.py\", line 25, in <cell line: 1>\n",
      "    os.removedirs(root)\n",
      "  File \"c:\\Users\\sl\\anaconda3\\lib\\os.py\", line 243, in removedirs\n",
      "    rmdir(name)\n",
      "OSError: [WinError 145] 디렉터리가 비어 있지 않습니다: 'D:\\\\nas다운로드\\\\나우리서버\\\\초본등본\\\\롯데카드-03'\n",
      "\n"
     ]
    },
    {
     "name": "stderr",
     "output_type": "stream",
     "text": [
      "5323it [01:19, 54.90it/s]"
     ]
    },
    {
     "name": "stdout",
     "output_type": "stream",
     "text": [
      "===================================\n",
      "14:52:11\n",
      "20472468 권경하 초본 22.06.14.pdf : <class 'OSError'> : [WinError 145] 디렉터리가 비어 있지 않습니다: 'D:\\\\nas다운로드\\\\나우리서버\\\\초본등본\\\\롯데카드-04'\n",
      "Traceback (most recent call last):\n",
      "  File \"C:\\Users\\SL\\AppData\\Local\\Temp\\ipykernel_11780\\221317758.py\", line 25, in <cell line: 1>\n",
      "    os.removedirs(root)\n",
      "  File \"c:\\Users\\sl\\anaconda3\\lib\\os.py\", line 243, in removedirs\n",
      "    rmdir(name)\n",
      "OSError: [WinError 145] 디렉터리가 비어 있지 않습니다: 'D:\\\\nas다운로드\\\\나우리서버\\\\초본등본\\\\롯데카드-04'\n",
      "\n",
      "===================================\n",
      "14:52:11\n",
      "최경엽.초본.pdf : <class 'OSError'> : [WinError 145] 디렉터리가 비어 있지 않습니다: 'D:\\\\nas다운로드\\\\나우리서버\\\\초본등본\\\\메리츠캐_01'\n",
      "Traceback (most recent call last):\n",
      "  File \"C:\\Users\\SL\\AppData\\Local\\Temp\\ipykernel_11780\\221317758.py\", line 25, in <cell line: 1>\n",
      "    os.removedirs(root)\n",
      "  File \"c:\\Users\\sl\\anaconda3\\lib\\os.py\", line 243, in removedirs\n",
      "    rmdir(name)\n",
      "OSError: [WinError 145] 디렉터리가 비어 있지 않습니다: 'D:\\\\nas다운로드\\\\나우리서버\\\\초본등본\\\\메리츠캐_01'\n",
      "\n"
     ]
    },
    {
     "name": "stderr",
     "output_type": "stream",
     "text": [
      "5637it [01:25, 57.83it/s]"
     ]
    },
    {
     "name": "stdout",
     "output_type": "stream",
     "text": [
      "===================================\n",
      "14:52:17\n",
      "20453929 유희상 초본 22.06.15.pdf : <class 'OSError'> : [WinError 145] 디렉터리가 비어 있지 않습니다: 'D:\\\\nas다운로드\\\\나우리서버\\\\초본등본\\\\메리츠캐_01\\\\20453933'\n",
      "Traceback (most recent call last):\n",
      "  File \"C:\\Users\\SL\\AppData\\Local\\Temp\\ipykernel_11780\\221317758.py\", line 25, in <cell line: 1>\n",
      "    os.removedirs(root)\n",
      "  File \"c:\\Users\\sl\\anaconda3\\lib\\os.py\", line 243, in removedirs\n",
      "    rmdir(name)\n",
      "OSError: [WinError 145] 디렉터리가 비어 있지 않습니다: 'D:\\\\nas다운로드\\\\나우리서버\\\\초본등본\\\\메리츠캐_01\\\\20453933'\n",
      "\n",
      "===================================\n",
      "14:52:17\n",
      "박영근초본.pdf : <class 'OSError'> : [WinError 145] 디렉터리가 비어 있지 않습니다: 'D:\\\\nas다운로드\\\\나우리서버\\\\초본등본\\\\베델-01'\n",
      "Traceback (most recent call last):\n",
      "  File \"C:\\Users\\SL\\AppData\\Local\\Temp\\ipykernel_11780\\221317758.py\", line 25, in <cell line: 1>\n",
      "    os.removedirs(root)\n",
      "  File \"c:\\Users\\sl\\anaconda3\\lib\\os.py\", line 243, in removedirs\n",
      "    rmdir(name)\n",
      "OSError: [WinError 145] 디렉터리가 비어 있지 않습니다: 'D:\\\\nas다운로드\\\\나우리서버\\\\초본등본\\\\베델-01'\n",
      "\n",
      "===================================\n",
      "14:52:17\n",
      "이서현.초본.pdf : <class 'OSError'> : [WinError 145] 디렉터리가 비어 있지 않습니다: 'D:\\\\nas다운로드\\\\나우리서버\\\\초본등본\\\\베리타스-01'\n"
     ]
    },
    {
     "name": "stderr",
     "output_type": "stream",
     "text": [
      "5654it [01:25, 67.45it/s]"
     ]
    },
    {
     "name": "stdout",
     "output_type": "stream",
     "text": [
      "Traceback (most recent call last):\n",
      "  File \"C:\\Users\\SL\\AppData\\Local\\Temp\\ipykernel_11780\\221317758.py\", line 25, in <cell line: 1>\n",
      "    os.removedirs(root)\n",
      "  File \"c:\\Users\\sl\\anaconda3\\lib\\os.py\", line 243, in removedirs\n",
      "    rmdir(name)\n",
      "OSError: [WinError 145] 디렉터리가 비어 있지 않습니다: 'D:\\\\nas다운로드\\\\나우리서버\\\\초본등본\\\\베리타스-01'\n",
      "\n"
     ]
    },
    {
     "name": "stderr",
     "output_type": "stream",
     "text": [
      "6414it [01:35, 69.09it/s] "
     ]
    },
    {
     "name": "stdout",
     "output_type": "stream",
     "text": [
      "===================================\n",
      "14:52:27\n",
      "20500357 초본(2022.07.06).pdf : <class 'OSError'> : [WinError 145] 디렉터리가 비어 있지 않습니다: 'D:\\\\nas다운로드\\\\나우리서버\\\\초본등본\\\\산은캐-01'\n",
      "Traceback (most recent call last):\n",
      "  File \"C:\\Users\\SL\\AppData\\Local\\Temp\\ipykernel_11780\\221317758.py\", line 25, in <cell line: 1>\n",
      "    os.removedirs(root)\n",
      "  File \"c:\\Users\\sl\\anaconda3\\lib\\os.py\", line 243, in removedirs\n",
      "    rmdir(name)\n",
      "OSError: [WinError 145] 디렉터리가 비어 있지 않습니다: 'D:\\\\nas다운로드\\\\나우리서버\\\\초본등본\\\\산은캐-01'\n",
      "\n"
     ]
    },
    {
     "name": "stderr",
     "output_type": "stream",
     "text": [
      "6446it [01:35, 82.59it/s]"
     ]
    },
    {
     "name": "stdout",
     "output_type": "stream",
     "text": [
      "===================================\n",
      "14:52:27\n",
      "이지용-초본.pdf : <class 'OSError'> : [WinError 145] 디렉터리가 비어 있지 않습니다: 'D:\\\\nas다운로드\\\\나우리서버\\\\초본등본\\\\스마트저축-01'\n",
      "Traceback (most recent call last):\n",
      "  File \"C:\\Users\\SL\\AppData\\Local\\Temp\\ipykernel_11780\\221317758.py\", line 25, in <cell line: 1>\n",
      "    os.removedirs(root)\n",
      "  File \"c:\\Users\\sl\\anaconda3\\lib\\os.py\", line 243, in removedirs\n",
      "    rmdir(name)\n",
      "OSError: [WinError 145] 디렉터리가 비어 있지 않습니다: 'D:\\\\nas다운로드\\\\나우리서버\\\\초본등본\\\\스마트저축-01'\n",
      "\n"
     ]
    },
    {
     "name": "stderr",
     "output_type": "stream",
     "text": [
      "6544it [01:36, 78.40it/s]"
     ]
    },
    {
     "name": "stdout",
     "output_type": "stream",
     "text": [
      "===================================\n",
      "14:52:28\n",
      "오세용22-8-11초본.pdf : <class 'OSError'> : [WinError 145] 디렉터리가 비어 있지 않습니다: 'D:\\\\nas다운로드\\\\나우리서버\\\\초본등본\\\\아인스'\n",
      "Traceback (most recent call last):\n",
      "  File \"C:\\Users\\SL\\AppData\\Local\\Temp\\ipykernel_11780\\221317758.py\", line 25, in <cell line: 1>\n",
      "    os.removedirs(root)\n",
      "  File \"c:\\Users\\sl\\anaconda3\\lib\\os.py\", line 243, in removedirs\n",
      "    rmdir(name)\n",
      "OSError: [WinError 145] 디렉터리가 비어 있지 않습니다: 'D:\\\\nas다운로드\\\\나우리서버\\\\초본등본\\\\아인스'\n",
      "\n"
     ]
    },
    {
     "name": "stderr",
     "output_type": "stream",
     "text": [
      "6566it [01:37, 61.66it/s]"
     ]
    },
    {
     "name": "stdout",
     "output_type": "stream",
     "text": [
      "===================================\n",
      "14:52:29\n",
      "20452772 임성은 초본 22.02.18.pdf : <class 'OSError'> : [WinError 145] 디렉터리가 비어 있지 않습니다: 'D:\\\\nas다운로드\\\\나우리서버\\\\초본등본\\\\우담-01'\n",
      "Traceback (most recent call last):\n",
      "  File \"C:\\Users\\SL\\AppData\\Local\\Temp\\ipykernel_11780\\221317758.py\", line 25, in <cell line: 1>\n",
      "    os.removedirs(root)\n",
      "  File \"c:\\Users\\sl\\anaconda3\\lib\\os.py\", line 243, in removedirs\n",
      "    rmdir(name)\n",
      "OSError: [WinError 145] 디렉터리가 비어 있지 않습니다: 'D:\\\\nas다운로드\\\\나우리서버\\\\초본등본\\\\우담-01'\n",
      "\n"
     ]
    },
    {
     "name": "stderr",
     "output_type": "stream",
     "text": [
      "6645it [01:38, 68.64it/s]"
     ]
    },
    {
     "name": "stdout",
     "output_type": "stream",
     "text": [
      "===================================\n",
      "14:52:30\n",
      "20466498 조아름 초본 22.07.13.pdf : <class 'OSError'> : [WinError 145] 디렉터리가 비어 있지 않습니다: 'D:\\\\nas다운로드\\\\나우리서버\\\\초본등본\\\\유안타저-01'\n",
      "Traceback (most recent call last):\n",
      "  File \"C:\\Users\\SL\\AppData\\Local\\Temp\\ipykernel_11780\\221317758.py\", line 25, in <cell line: 1>\n",
      "    os.removedirs(root)\n",
      "  File \"c:\\Users\\sl\\anaconda3\\lib\\os.py\", line 243, in removedirs\n",
      "    rmdir(name)\n",
      "OSError: [WinError 145] 디렉터리가 비어 있지 않습니다: 'D:\\\\nas다운로드\\\\나우리서버\\\\초본등본\\\\유안타저-01'\n",
      "\n",
      "===================================\n",
      "14:52:30\n",
      "안동건.초본.pdf : <class 'OSError'> : [WinError 145] 디렉터리가 비어 있지 않습니다: 'D:\\\\nas다운로드\\\\나우리서버\\\\초본등본\\\\전북-01'\n",
      "Traceback (most recent call last):\n",
      "  File \"C:\\Users\\SL\\AppData\\Local\\Temp\\ipykernel_11780\\221317758.py\", line 25, in <cell line: 1>\n",
      "    os.removedirs(root)\n",
      "  File \"c:\\Users\\sl\\anaconda3\\lib\\os.py\", line 243, in removedirs\n",
      "    rmdir(name)\n",
      "OSError: [WinError 145] 디렉터리가 비어 있지 않습니다: 'D:\\\\nas다운로드\\\\나우리서버\\\\초본등본\\\\전북-01'\n",
      "\n"
     ]
    },
    {
     "name": "stderr",
     "output_type": "stream",
     "text": [
      "7867it [01:59, 55.13it/s]"
     ]
    },
    {
     "name": "stdout",
     "output_type": "stream",
     "text": [
      "===================================\n",
      "14:52:51\n",
      "20496828 이재순 초본.pdf : <class 'OSError'> : [WinError 145] 디렉터리가 비어 있지 않습니다: 'D:\\\\nas다운로드\\\\나우리서버\\\\초본등본\\\\케이에스'\n",
      "Traceback (most recent call last):\n",
      "  File \"C:\\Users\\SL\\AppData\\Local\\Temp\\ipykernel_11780\\221317758.py\", line 25, in <cell line: 1>\n",
      "    os.removedirs(root)\n",
      "  File \"c:\\Users\\sl\\anaconda3\\lib\\os.py\", line 243, in removedirs\n",
      "    rmdir(name)\n",
      "OSError: [WinError 145] 디렉터리가 비어 있지 않습니다: 'D:\\\\nas다운로드\\\\나우리서버\\\\초본등본\\\\케이에스'\n",
      "\n"
     ]
    },
    {
     "name": "stderr",
     "output_type": "stream",
     "text": [
      "8107it [02:03, 55.84it/s]"
     ]
    },
    {
     "name": "stdout",
     "output_type": "stream",
     "text": [
      "===================================\n",
      "14:52:55\n",
      "전두찬.pdf : <class 'OSError'> : [WinError 145] 디렉터리가 비어 있지 않습니다: 'D:\\\\nas다운로드\\\\나우리서버\\\\초본등본\\\\하나캐-01'\n",
      "Traceback (most recent call last):\n",
      "  File \"C:\\Users\\SL\\AppData\\Local\\Temp\\ipykernel_11780\\221317758.py\", line 25, in <cell line: 1>\n",
      "    os.removedirs(root)\n",
      "  File \"c:\\Users\\sl\\anaconda3\\lib\\os.py\", line 243, in removedirs\n",
      "    rmdir(name)\n",
      "OSError: [WinError 145] 디렉터리가 비어 있지 않습니다: 'D:\\\\nas다운로드\\\\나우리서버\\\\초본등본\\\\하나캐-01'\n",
      "\n"
     ]
    },
    {
     "name": "stderr",
     "output_type": "stream",
     "text": [
      "8120it [02:03, 45.51it/s]"
     ]
    },
    {
     "name": "stdout",
     "output_type": "stream",
     "text": [
      "===================================\n",
      "14:52:55\n",
      "배상용초본.pdf : <class 'OSError'> : [WinError 145] 디렉터리가 비어 있지 않습니다: 'D:\\\\nas다운로드\\\\나우리서버\\\\초본등본\\\\하나캐-02'\n",
      "Traceback (most recent call last):\n",
      "  File \"C:\\Users\\SL\\AppData\\Local\\Temp\\ipykernel_11780\\221317758.py\", line 25, in <cell line: 1>\n",
      "    os.removedirs(root)\n",
      "  File \"c:\\Users\\sl\\anaconda3\\lib\\os.py\", line 243, in removedirs\n",
      "    rmdir(name)\n",
      "OSError: [WinError 145] 디렉터리가 비어 있지 않습니다: 'D:\\\\nas다운로드\\\\나우리서버\\\\초본등본\\\\하나캐-02'\n",
      "\n"
     ]
    },
    {
     "name": "stderr",
     "output_type": "stream",
     "text": [
      "8136it [02:04, 42.71it/s]"
     ]
    },
    {
     "name": "stdout",
     "output_type": "stream",
     "text": [
      "===================================\n",
      "14:52:56\n",
      "20453161 장현우 초본 22.03.08.pdf : <class 'OSError'> : [WinError 145] 디렉터리가 비어 있지 않습니다: 'D:\\\\nas다운로드\\\\나우리서버\\\\초본등본\\\\한울가람'\n",
      "Traceback (most recent call last):\n",
      "  File \"C:\\Users\\SL\\AppData\\Local\\Temp\\ipykernel_11780\\221317758.py\", line 25, in <cell line: 1>\n",
      "    os.removedirs(root)\n",
      "  File \"c:\\Users\\sl\\anaconda3\\lib\\os.py\", line 243, in removedirs\n",
      "    rmdir(name)\n",
      "OSError: [WinError 145] 디렉터리가 비어 있지 않습니다: 'D:\\\\nas다운로드\\\\나우리서버\\\\초본등본\\\\한울가람'\n",
      "\n"
     ]
    },
    {
     "name": "stderr",
     "output_type": "stream",
     "text": [
      "8508it [02:12, 47.37it/s]"
     ]
    },
    {
     "name": "stdout",
     "output_type": "stream",
     "text": [
      "===================================\n",
      "14:53:04\n",
      "주재목(초본.등본).pdf : <class 'OSError'> : [WinError 145] 디렉터리가 비어 있지 않습니다: 'D:\\\\nas다운로드\\\\나우리서버\\\\초본등본\\\\한울가람\\\\20413876'\n",
      "Traceback (most recent call last):\n",
      "  File \"C:\\Users\\SL\\AppData\\Local\\Temp\\ipykernel_11780\\221317758.py\", line 25, in <cell line: 1>\n",
      "    os.removedirs(root)\n",
      "  File \"c:\\Users\\sl\\anaconda3\\lib\\os.py\", line 243, in removedirs\n",
      "    rmdir(name)\n",
      "OSError: [WinError 145] 디렉터리가 비어 있지 않습니다: 'D:\\\\nas다운로드\\\\나우리서버\\\\초본등본\\\\한울가람\\\\20413876'\n",
      "\n"
     ]
    },
    {
     "name": "stderr",
     "output_type": "stream",
     "text": [
      "9382it [02:29, 51.79it/s]"
     ]
    },
    {
     "name": "stdout",
     "output_type": "stream",
     "text": [
      "===================================\n",
      "14:53:21\n",
      "20422640 강현희-초본.pdf : <class 'OSError'> : [WinError 145] 디렉터리가 비어 있지 않습니다: 'D:\\\\nas다운로드\\\\나우리서버\\\\초본등본\\\\흥국화재-01'\n",
      "Traceback (most recent call last):\n",
      "  File \"C:\\Users\\SL\\AppData\\Local\\Temp\\ipykernel_11780\\221317758.py\", line 25, in <cell line: 1>\n",
      "    os.removedirs(root)\n",
      "  File \"c:\\Users\\sl\\anaconda3\\lib\\os.py\", line 243, in removedirs\n",
      "    rmdir(name)\n",
      "OSError: [WinError 145] 디렉터리가 비어 있지 않습니다: 'D:\\\\nas다운로드\\\\나우리서버\\\\초본등본\\\\흥국화재-01'\n",
      "\n"
     ]
    },
    {
     "name": "stderr",
     "output_type": "stream",
     "text": [
      "9600it [02:34, 62.14it/s]\n",
      "100%|██████████| 9566/9566 [00:00<00:00, 51264.29it/s]"
     ]
    },
    {
     "name": "stdout",
     "output_type": "stream",
     "text": [
      "모든 디렉토리 삭제 완료\n"
     ]
    },
    {
     "name": "stderr",
     "output_type": "stream",
     "text": [
      "\n"
     ]
    }
   ],
   "source": [
    "for root, dirs, files in tqdm(file_list) :\n",
    "    # root : 삭제할 채무자키 폴더\n",
    "    os.chdir(root)\n",
    "    for f in files :\n",
    "        try : \n",
    "            n = f\n",
    "            if not p_key.match(n) : # 파일명에 채무자키 없는 경우\n",
    "                key = root.split(os.path.sep)[-1]\n",
    "                # == key = os.path.split(root)[1]\n",
    "                # print(\"key : \", key)\n",
    "                n = key + \" \" + n\n",
    "                # print(\"n : \", n)\n",
    "            else : pass\n",
    "\n",
    "            result_f.append(ff.re_name(join(root, f), join(path_dst, n)))\n",
    "        except Exception as e:\n",
    "            print(\"===================================\")\n",
    "            print(datetime.today().strftime(\"%H:%M:%S\"))\n",
    "            print(f, e.__class__, e, sep=\" : \")\n",
    "            print(traceback.format_exc())\n",
    "            error.append([f, e.__class__, e])\n",
    "        continue # 반복문 계속 돌아\n",
    "    os.chdir(path)\n",
    "    try : \n",
    "        os.removedirs(root)\n",
    "        result_d.append([root]) #log는 리스트를 인자로 받는다.\n",
    "    except Exception as e:\n",
    "        print(\"===================================\")\n",
    "        print(datetime.today().strftime(\"%H:%M:%S\"))\n",
    "        print(f, e.__class__, e, sep=\" : \")\n",
    "        print(traceback.format_exc())\n",
    "        error.append([f, e.__class__, e])\n",
    "        continue # 반복문 계속 돌아\n",
    "\n",
    "ff.write_log_csv(result_f, path_s)\n",
    "ff.write_log_csv(result_d, path_d)\n",
    "ff.write_log_csv(error, path_f)\n",
    "\n",
    "# 남아있는 디렉토리 확인\n",
    "remain = []\n",
    "for d in tqdm(result_d, total=len(result_d)) :\n",
    "    if os.path.isdir(d) :\n",
    "        remain.append(d)\n",
    "if len(remain) >0 : print(len(remain))\n",
    "else : print(\"모든 디렉토리 삭제 완료\")"
   ]
  },
  {
   "cell_type": "markdown",
   "metadata": {},
   "source": [
    "##### 파일명에 문서구분 없는 거 별도 폴더로 옮기기"
   ]
  },
  {
   "cell_type": "code",
   "execution_count": 32,
   "metadata": {},
   "outputs": [
    {
     "name": "stderr",
     "output_type": "stream",
     "text": [
      "100%|██████████| 15331/15331 [00:00<00:00, 22644.15it/s]"
     ]
    },
    {
     "name": "stdout",
     "output_type": "stream",
     "text": [
      "15331개 중 2735개 nodou로 이동\n"
     ]
    },
    {
     "name": "stderr",
     "output_type": "stream",
     "text": [
      "\n"
     ]
    }
   ],
   "source": [
    "path = r'D:\\nas다운로드\\upload\\등초본'\n",
    "nodocuPath = r'D:\\nas다운로드\\upload\\nodocu'\n",
    "p = re.compile('초본|등본')\n",
    "def file_list(path) :\n",
    "    p_extension = re.compile('(jpeg|jpg|bmp|gif|pdf|png|tif)$', re.I)\n",
    "    return [f.name for f in os.scandir(path) if f.is_file() and (re.search(p_extension, f.name))]\n",
    "    \n",
    "file_list = file_list(path)\n",
    "total = len(file_list)\n",
    "\n",
    "cnt = 0\n",
    "for f in tqdm(file_list, total=total) :\n",
    "    if p.search(f) == None :\n",
    "        os.rename(join(path, f), join(nodocuPath, f))\n",
    "        cnt += 1\n",
    "print(f'{total}개 중 {cnt}개 nodou로 이동')\n"
   ]
  },
  {
   "cell_type": "code",
   "execution_count": 22,
   "metadata": {},
   "outputs": [
    {
     "name": "stdout",
     "output_type": "stream",
     "text": [
      "20408432 20408432\n"
     ]
    }
   ],
   "source": [
    "root = r'D:\\nas다운로드\\나우리서버\\초본등본\\BNK-01\\20408432'\n",
    "key1 = root.split(os.path.sep)[-1]\n",
    "key2 = os.path.split(root)[1]\n",
    "print(key1, key2)"
   ]
  },
  {
   "cell_type": "code",
   "execution_count": 30,
   "metadata": {},
   "outputs": [
    {
     "data": {
      "text/plain": [
       "'20435916 양정일(59) 등초본.pdf'"
      ]
     },
     "execution_count": 30,
     "metadata": {},
     "output_type": "execute_result"
    }
   ],
   "source": [
    "f = '20435916 양정일(59) 원초본 및 등본.pdf'\n",
    "p5except = re.compile(r\"등본.{3}원?초본|원?초본.{3}등본|등초본\")\n",
    "p5except.sub(\"등초본\", f)"
   ]
  },
  {
   "cell_type": "code",
   "execution_count": null,
   "metadata": {},
   "outputs": [],
   "source": []
  },
  {
   "cell_type": "code",
   "execution_count": null,
   "metadata": {},
   "outputs": [],
   "source": []
  },
  {
   "cell_type": "markdown",
   "metadata": {},
   "source": [
    "### 잘못 만든 상위 폴더 지우기"
   ]
  },
  {
   "cell_type": "markdown",
   "metadata": {},
   "source": [
    "##### 부산 > nas"
   ]
  },
  {
   "cell_type": "code",
   "execution_count": 60,
   "metadata": {},
   "outputs": [
    {
     "name": "stdout",
     "output_type": "stream",
     "text": [
      "2671\n"
     ]
    }
   ],
   "source": [
    "df = pd.read_excel(r\"C:\\Users\\SL\\Desktop\\통합 문서1.xlsx\", names=['src_dir', 'src_f', 'dst_f', 'dst_dir'], header=None)\n",
    "total = len(df.index)\n",
    "print(total)\n",
    "path_s = r'C:\\Users\\SL\\Desktop\\test\\log\\success'\n",
    "path_f = r'C:\\Users\\SL\\Desktop\\test\\log\\fail'\n",
    "path_d = r'C:\\Users\\SL\\Desktop\\test\\log\\dir'\n",
    "\n",
    "result_f = []\n",
    "result_d = []\n",
    "error = []\n",
    "\n",
    "#temp_cwd = os.getcwd()\n",
    "for key, row in tqdm(df.iterrows(), total=total):\n",
    "    dst_dir = row.dst_dir\n",
    "    dst_f = row.dst_f\n",
    "    miss_dir = (join(dst_dir, dst_f)) #파일명들어간 폴더\n",
    "    \n",
    "    # print(\"miss_dir : \",miss_dir)\n",
    "    # print(\"dst_dir : \", dst_dir)\n",
    "\n",
    "    for f in os.listdir(miss_dir) :\n",
    "        os.chdir(miss_dir)\n",
    "        # print(\"f : \",f)\n",
    "        if os.path.isfile(f) :\n",
    "            try : \n",
    "                result_f.append(ff.re_name(f, join(dst_dir, f)))\n",
    "                \n",
    "            except Exception as e:\n",
    "                print(\"===================================\")\n",
    "                print(datetime.today().strftime(\"%H:%M:%S\"))\n",
    "                print(f, e.__class__, e, sep=\" : \")\n",
    "                print(traceback.format_exc())\n",
    "                error.append([f, e.__class__, e])\n",
    "                continue # 반복문 계속 돌아\n",
    "    os.chdir(dst_dir)\n",
    "    try : \n",
    "        os.rmdir(miss_dir)\n",
    "        result_d.append(miss_dir)\n",
    "    except Exception as e:\n",
    "        print(\"===================================\")\n",
    "        print(datetime.today().strftime(\"%H:%M:%S\"))\n",
    "        print(f, e.__class__, e, sep=\" : \")\n",
    "        print(traceback.format_exc())\n",
    "        error.append([f, e.__class__, e])\n",
    "        continue # 반복문 계속 돌아\n",
    "\n",
    "ff.write_log_csv(result_f, path_s)\n",
    "ff.write_log_csv(result_d, path_d)\n",
    "ff.write_log_csv(error, path_f)\n",
    "\n",
    "# 남아있는 디렉토리 확인\n",
    "remain = []\n",
    "for d in tqdm(result_d, total=len(result_d)) :\n",
    "    if os.path.isdir(d) :\n",
    "        remain.append(d)\n",
    "if len(remain) >0 : print(remain)\n",
    "else : print(\"모든 디렉토리 삭제 완료\")\n"
   ]
  },
  {
   "cell_type": "markdown",
   "metadata": {},
   "source": [
    "##### 구나스 등초본"
   ]
  },
  {
   "cell_type": "code",
   "execution_count": 19,
   "metadata": {},
   "outputs": [
    {
     "name": "stderr",
     "output_type": "stream",
     "text": [
      "100%|██████████| 2806/2806 [00:02<00:00, 1129.32it/s]\n"
     ]
    },
    {
     "name": "stdout",
     "output_type": "stream",
     "text": [
      "log 파일이 비어있습니다. path : C:\\Users\\SL\\Desktop\\test\\log\\fail\n"
     ]
    },
    {
     "name": "stderr",
     "output_type": "stream",
     "text": [
      "100%|██████████| 2806/2806 [00:00<00:00, 23505.62it/s]"
     ]
    },
    {
     "name": "stdout",
     "output_type": "stream",
     "text": [
      "모든 디렉토리 삭제 완료\n"
     ]
    },
    {
     "name": "stderr",
     "output_type": "stream",
     "text": [
      "\n"
     ]
    }
   ],
   "source": [
    "path_s = r'C:\\Users\\SL\\Desktop\\test\\log\\success'\n",
    "path_f = r'C:\\Users\\SL\\Desktop\\test\\log\\fail'\n",
    "path_d = r'C:\\Users\\SL\\Desktop\\test\\log\\dir'\n",
    "path = r'D:\\nas다운로드\\upload\\등초본' #폴더만 있음\n",
    "\n",
    "result_f = []\n",
    "result_d = []\n",
    "error = []\n",
    "\n",
    "file_list = os.listdir(path)\n",
    "total = len(file_list)\n",
    "#temp_cwd = os.getcwd()\n",
    "for dir in tqdm(file_list, total=total):\n",
    "    \n",
    "    miss_dir = join(path, dir) #파일명들어간 폴더\n",
    "    \n",
    "    # print(\"miss_dir : \",miss_dir)\n",
    "    # print(\"dst_dir : \", dst_dir, type(dst_dir))\n",
    "    # print(\"dst_f : \", dst_f)\n",
    "\n",
    "    os.chdir(miss_dir)\n",
    "    for f in os.listdir(miss_dir) :\n",
    "        # print(\"f : \",f)\n",
    "        if os.path.isfile(f) :\n",
    "            try : \n",
    "                result_f.append(ff.re_name(f, join(path, dir)))\n",
    "                \n",
    "            except Exception as e:\n",
    "                print(\"===================================\")\n",
    "                print(datetime.today().strftime(\"%H:%M:%S\"))\n",
    "                print(f, e.__class__, e, sep=\" : \")\n",
    "                print(traceback.format_exc())\n",
    "                error.append([f, e.__class__, e])\n",
    "                continue # 반복문 계속 돌아\n",
    "    os.chdir(path)\n",
    "    try : \n",
    "        os.rmdir(miss_dir)\n",
    "        result_d.append(miss_dir)\n",
    "    except Exception as e:\n",
    "        print(\"===================================\")\n",
    "        print(datetime.today().strftime(\"%H:%M:%S\"))\n",
    "        print(f, e.__class__, e, sep=\" : \")\n",
    "        print(traceback.format_exc())\n",
    "        error.append([f, e.__class__, e])\n",
    "        continue # 반복문 계속 돌아\n",
    "\n",
    "ff.write_log_csv(result_f, path_s)\n",
    "ff.write_log_csv(result_d, path_d)\n",
    "ff.write_log_csv(error, path_f)\n",
    "\n",
    "# 남아있는 디렉토리 확인\n",
    "remain = []\n",
    "for d in tqdm(result_d, total=len(result_d)) :\n",
    "    if os.path.isdir(d) :\n",
    "        remain.append(d)\n",
    "if len(remain) >0 : print(remain)\n",
    "else : print(\"모든 디렉토리 삭제 완료\")\n"
   ]
  },
  {
   "cell_type": "code",
   "execution_count": 40,
   "metadata": {},
   "outputs": [
    {
     "data": {
      "text/plain": [
       "'c:\\\\'"
      ]
     },
     "execution_count": 40,
     "metadata": {},
     "output_type": "execute_result"
    }
   ],
   "source": [
    "os.getcwd()"
   ]
  },
  {
   "cell_type": "code",
   "execution_count": 34,
   "metadata": {},
   "outputs": [],
   "source": [
    "os.chdir(\"c://\")"
   ]
  },
  {
   "cell_type": "code",
   "execution_count": null,
   "metadata": {},
   "outputs": [],
   "source": []
  },
  {
   "cell_type": "code",
   "execution_count": null,
   "metadata": {},
   "outputs": [],
   "source": []
  },
  {
   "cell_type": "code",
   "execution_count": null,
   "metadata": {},
   "outputs": [],
   "source": []
  },
  {
   "cell_type": "code",
   "execution_count": null,
   "metadata": {},
   "outputs": [],
   "source": []
  },
  {
   "cell_type": "code",
   "execution_count": null,
   "metadata": {},
   "outputs": [],
   "source": []
  },
  {
   "cell_type": "code",
   "execution_count": null,
   "metadata": {},
   "outputs": [],
   "source": []
  }
 ],
 "metadata": {
  "kernelspec": {
   "display_name": "Python 3.9.12 ('base')",
   "language": "python",
   "name": "python3"
  },
  "language_info": {
   "codemirror_mode": {
    "name": "ipython",
    "version": 3
   },
   "file_extension": ".py",
   "mimetype": "text/x-python",
   "name": "python",
   "nbconvert_exporter": "python",
   "pygments_lexer": "ipython3",
   "version": "3.9.12"
  },
  "orig_nbformat": 4,
  "vscode": {
   "interpreter": {
    "hash": "50ba2c93e3505a279245e213c77d9791c626788d8ca8a61b8db804927ca08a39"
   }
  }
 },
 "nbformat": 4,
 "nbformat_minor": 2
}
