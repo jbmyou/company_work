{
 "cells": [
  {
   "cell_type": "code",
   "execution_count": 1,
   "metadata": {},
   "outputs": [],
   "source": [
    "import os\n",
    "import shutil\n",
    "import pandas as pd\n",
    "from tqdm import tqdm      \n",
    "import re\n",
    "from pathlib import Path\n",
    "import traceback\n",
    "from os.path import join\n",
    "import file_function as ff\n",
    "import time\n",
    "from datetime import datetime"
   ]
  },
  {
   "cell_type": "markdown",
   "metadata": {},
   "source": [
    "### 나우리 나스 파일 옮기기"
   ]
  },
  {
   "cell_type": "markdown",
   "metadata": {},
   "source": [
    "##### depth2,3 제거하고 파일명에 채무자키 없는 거 추가하기"
   ]
  },
  {
   "cell_type": "code",
   "execution_count": 7,
   "metadata": {},
   "outputs": [],
   "source": [
    "# 문서구분 폴더를 기준으로 채무자키 파일명에 넣어서 파일 저장하기\n",
    "path = r'D:\\nas다운로드\\나우리서버\\법원서류'\n",
    "path_dst = r'D:\\nas다운로드\\upload\\법원서류'\n",
    "path_s = r'C:\\Users\\SL\\Desktop\\test\\log\\success'\n",
    "path_f = r'C:\\Users\\SL\\Desktop\\test\\log\\fail'\n",
    "path_d = r'C:\\Users\\SL\\Desktop\\test\\log\\dir'\n",
    "\n",
    "file_list = os.walk(path)\n",
    "p_key = re.compile(r\"[\\d]{8}(?!\\d)\") #match\n",
    "\n",
    "\n",
    "result_f = []\n",
    "result_d = []\n",
    "error = []\n",
    "os.chdir(r'D:\\\\')"
   ]
  },
  {
   "cell_type": "code",
   "execution_count": 8,
   "metadata": {},
   "outputs": [
    {
     "name": "stderr",
     "output_type": "stream",
     "text": [
      "6646it [02:15, 49.00it/s]"
     ]
    },
    {
     "name": "stdout",
     "output_type": "stream",
     "text": [
      "log 파일이 비어있습니다. path : C:\\Users\\SL\\Desktop\\test\\log\\fail\n",
      "총 파일 : 9499, 옮긴 파일 수 : 9499, 에러 파일 수 : 0\n"
     ]
    },
    {
     "name": "stderr",
     "output_type": "stream",
     "text": [
      "\n"
     ]
    }
   ],
   "source": [
    "for root, dirs, files in tqdm(file_list) :\n",
    "    # root : 삭제할 채무자키 폴더\n",
    "    #os.chdir(root)\n",
    "    for f in files :\n",
    "        try : \n",
    "            n = f\n",
    "            if not p_key.match(n) : # 파일명에 채무자키 없는 경우\n",
    "                key = root.split(os.path.sep)[-1]\n",
    "                # == key = os.path.split(root)[1]\n",
    "                # print(\"key : \", key)\n",
    "                n = key + \" \" + n\n",
    "                # print(\"n : \", n)\n",
    "            else : pass\n",
    "\n",
    "            result_f.append(ff.re_name(join(root, f), join(path_dst, n)))\n",
    "        except Exception as e:\n",
    "            print(\"===================================\")\n",
    "            print(datetime.today().strftime(\"%H:%M:%S\"))\n",
    "            print(f, e.__class__, e, sep=\" : \")\n",
    "            print(traceback.format_exc())\n",
    "            error.append([f, e.__class__, e])\n",
    "        continue # 반복문 계속 돌아\n",
    "    #os.chdir(r'D:\\nas다운로드\\나우리서버')\n",
    "\n",
    "# for root, dirs, files in tqdm(os.walk(path)) :\n",
    "#     for dir in dirs :\n",
    "#         try : \n",
    "#             os.removedirs(dir)\n",
    "#             result_d.append([dir]) #log는 리스트를 인자로 받는다.\n",
    "#         except Exception as e:\n",
    "#             print(\"===================================\")\n",
    "#             print(datetime.today().strftime(\"%H:%M:%S\"))\n",
    "#             print(root, e.__class__, e, sep=\" : \")\n",
    "#             print(traceback.format_exc())\n",
    "#             error.append([dir, e.__class__, e])\n",
    "#             continue # 반복문 계속 돌아\n",
    "\n",
    "\n",
    "ff.write_log_csv(result_f, path_s)\n",
    "ff.write_log_csv(error, path_f)\n",
    "#ff.write_log_csv(result_d, path_d)\n",
    "print(f\"총 파일 : {len(result_f) + len(error)}, 옮긴 파일 수 : {len(result_f)}, 에러 파일 수 : {len(error)}\")\n",
    "\n",
    "# 남아있는 디렉토리 확인\n",
    "# remain = []\n",
    "# for d in tqdm(result_d, total=len(result_d)) :\n",
    "#     if os.path.isdir(d) :\n",
    "#         remain.append(d)\n",
    "# if len(remain) >0 : print(len(remain))\n",
    "# else : print(\"모든 디렉토리 삭제 완료\")"
   ]
  },
  {
   "cell_type": "markdown",
   "metadata": {},
   "source": [
    "##### 파일명에 문서구분 없는 거 별도 폴더로 옮기기"
   ]
  },
  {
   "cell_type": "code",
   "execution_count": 6,
   "metadata": {},
   "outputs": [
    {
     "name": "stderr",
     "output_type": "stream",
     "text": [
      "100%|██████████| 894/894 [00:00<00:00, 3365.77it/s]"
     ]
    },
    {
     "name": "stdout",
     "output_type": "stream",
     "text": [
      "894개 중 29개 nodou로 이동\n"
     ]
    },
    {
     "name": "stderr",
     "output_type": "stream",
     "text": [
      "\n"
     ]
    }
   ],
   "source": [
    "path = r'D:\\nas다운로드\\upload\\양도통지서\\nodocu'\n",
    "nodocuPath = r'D:\\nas다운로드\\upload\\양도통지서\\nodocu' ####################만들어\n",
    "##########################################\n",
    "standard = \"양도통지서\"\n",
    "####### pdf 아닌 경우, 수작업해야할 게 많은지 체크해서 그렇다면 내보내 ###########\n",
    "p2=re.compile(r\"양도\\s?통지서?|채권\\s?양도\\s?통지서|(?<![^가-힣][가-힣])양통\")  #_세양통신 해결pass\n",
    "##########################################\n",
    "\n",
    "p_extension = re.compile('(jpeg|jpg|bmp|gif|pdf|png|tif)$', re.I)\n",
    "file_list = [f.name for f in os.scandir(path) if f.is_file() and (re.search(p_extension, f.name))]\n",
    "total = len(file_list)\n",
    "\n",
    "cnt = 0\n",
    "for f in tqdm(file_list, total=total) :\n",
    "    if p2.search(f) :\n",
    "        n = p2.sub(standard, f) #관련단어 있는 것은 정식명칭으로 바꾼뒤 그대로 두고\n",
    "        if f != n :\n",
    "            os.rename(join(path, f), join(path, n))\n",
    "    else : # 키워드 아예 없는 경우는 nodocu폴더로\n",
    "        os.rename(join(path, f), join(nodocuPath, f))\n",
    "        cnt += 1\n",
    "print(f'{total}개 중 {cnt}개 nodou로 이동')\n",
    "\n",
    "#########################\n",
    "# 정식명으로 바꾼거는 nas에 올리면 돼\n",
    "# nodocu에 있는 거는 다른 문서는 옮겨주고 쓸데없는 말 지우고 채무자키 이름 빼고 지워서 끝에 문서이름 넣어주는 걸로"
   ]
  },
  {
   "cell_type": "code",
   "execution_count": null,
   "metadata": {},
   "outputs": [],
   "source": [
    "##### 끝에 문서구분 붙이고 중간에 있는 일련번호 지우자"
   ]
  },
  {
   "cell_type": "markdown",
   "metadata": {},
   "source": [
    "##### 구나스 등초본"
   ]
  },
  {
   "cell_type": "code",
   "execution_count": 19,
   "metadata": {},
   "outputs": [
    {
     "name": "stderr",
     "output_type": "stream",
     "text": [
      "100%|██████████| 2806/2806 [00:02<00:00, 1129.32it/s]\n"
     ]
    },
    {
     "name": "stdout",
     "output_type": "stream",
     "text": [
      "log 파일이 비어있습니다. path : C:\\Users\\SL\\Desktop\\test\\log\\fail\n"
     ]
    },
    {
     "name": "stderr",
     "output_type": "stream",
     "text": [
      "100%|██████████| 2806/2806 [00:00<00:00, 23505.62it/s]"
     ]
    },
    {
     "name": "stdout",
     "output_type": "stream",
     "text": [
      "모든 디렉토리 삭제 완료\n"
     ]
    },
    {
     "name": "stderr",
     "output_type": "stream",
     "text": [
      "\n"
     ]
    }
   ],
   "source": [
    "path_s = r'C:\\Users\\SL\\Desktop\\test\\log\\success'\n",
    "path_f = r'C:\\Users\\SL\\Desktop\\test\\log\\fail'\n",
    "path_d = r'C:\\Users\\SL\\Desktop\\test\\log\\dir'\n",
    "path = r'D:\\nas다운로드\\upload\\등초본' #폴더만 있음\n",
    "\n",
    "result_f = []\n",
    "result_d = []\n",
    "error = []\n",
    "\n",
    "file_list = os.listdir(path)\n",
    "total = len(file_list)\n",
    "#temp_cwd = os.getcwd()\n",
    "for dir in tqdm(file_list, total=total):\n",
    "    \n",
    "    miss_dir = join(path, dir) #파일명들어간 폴더\n",
    "    \n",
    "    # print(\"miss_dir : \",miss_dir)\n",
    "    # print(\"dst_dir : \", dst_dir, type(dst_dir))\n",
    "    # print(\"dst_f : \", dst_f)\n",
    "\n",
    "    os.chdir(miss_dir)\n",
    "    for f in os.listdir(miss_dir) :\n",
    "        # print(\"f : \",f)\n",
    "        if os.path.isfile(f) :\n",
    "            try : \n",
    "                result_f.append(ff.re_name(f, join(path, dir)))\n",
    "                \n",
    "            except Exception as e:\n",
    "                print(\"===================================\")\n",
    "                print(datetime.today().strftime(\"%H:%M:%S\"))\n",
    "                print(f, e.__class__, e, sep=\" : \")\n",
    "                print(traceback.format_exc())\n",
    "                error.append([f, e.__class__, e])\n",
    "                continue # 반복문 계속 돌아\n",
    "    os.chdir(path)\n",
    "    try : \n",
    "        os.rmdir(miss_dir)\n",
    "        result_d.append(miss_dir)\n",
    "    except Exception as e:\n",
    "        print(\"===================================\")\n",
    "        print(datetime.today().strftime(\"%H:%M:%S\"))\n",
    "        print(f, e.__class__, e, sep=\" : \")\n",
    "        print(traceback.format_exc())\n",
    "        error.append([f, e.__class__, e])\n",
    "        continue # 반복문 계속 돌아\n",
    "\n",
    "ff.write_log_csv(result_f, path_s)\n",
    "ff.write_log_csv(result_d, path_d)\n",
    "ff.write_log_csv(error, path_f)\n",
    "\n",
    "# 남아있는 디렉토리 확인\n",
    "remain = []\n",
    "for d in tqdm(result_d, total=len(result_d)) :\n",
    "    if os.path.isdir(d) :\n",
    "        remain.append(d)\n",
    "if len(remain) >0 : print(remain)\n",
    "else : print(\"모든 디렉토리 삭제 완료\")\n"
   ]
  },
  {
   "cell_type": "markdown",
   "metadata": {},
   "source": [
    "##### 법원서류"
   ]
  },
  {
   "cell_type": "code",
   "execution_count": 9,
   "metadata": {},
   "outputs": [],
   "source": [
    "path = r'C:\\Users\\SL\\Desktop\\test'\n",
    "dst_path = r'D:\\nas다운로드\\upload\\문서구분완료'\n",
    "docu = \" 집행권원 \"\n",
    "\n",
    "p_extension = re.compile('(jpeg|jpg|bmp|gif|pdf|png|tif)$', re.I)\n",
    "file_list = [f.name for f in os.scandir(path) if f.is_file() and (re.search(p_extension, f.name))]\n",
    "total = len(file_list)\n",
    "cnt = 0\n",
    "\n",
    "p_event1=re.compile(r\"(?<=\\D)([12][09]\\d\\d)([ㄱ-ㅎ가-힣]{1,3})\\s([0-9]+)|(?<=\\D)([12][09]\\d\\d)\\s([ㄱ-ㅎ가-힣]{1,3})([0-9]+)\")\n",
    "p_event2=re.compile(r\"(?<=\\D)(\\d{2})\\s?([ㄱ-ㅎ가-힣]{1,3})\\s?([0-9]+)\")\n",
    "p_event = re.compile(r\"(?<=\\D)\\d{4}[ㄱ-ㅎ가-힣]{1,3}\\d+\")\n",
    "\n",
    "p_rm = re.compile(r\"TAA\\(회\\)|SCSB|[a-zA-Z\\-\\d_]{2,}_[a-zA-Z\\-\\d_]{4,}|\\(?\\s?[a-zA-Z][\\d]{9,}\\s?\\)?|\\(?\\s?[a-zA-Z\\d]{2,}-[a-zA-Z\\d]{2,}-[a-zA-Z\\d]{2,}\\s?\\)?|\\(?\\s?[a-zA-Z0-9]{4,}-[a-zA-Z0-9]{4,}\\s?\\)?|\\(?\\s?\\d{10,}\\s?\\)?|(?<![가-힣\\d])[13-9]\\d{5,}(?!가-힣\\d])|(?<![가-힣\\d])\\d{3,4}(?![가-힣\\d])|(?<![가-힣\\d])\\d{6}[\\-_]\\d{6}(?!가-힣\\d])|(-)?\\d{1,3}(,\\d{3})+(\\.\\d+)?\")\n",
    "#                                 언더바로 연결된 영어,숫자 키(C1_3284792)                         2개의 하이픈으로 연결된 영어 및 숫자          하이픈 또는 언더바로 연결된 4자리 이상의 영숫자(주민번호 포함)  10자리키          날짜 아닐 6자리 이상 단독 숫자      3~4자리의 단독 숫자                 앞과 교집합있지만, 확실한 주민번호       금액\n",
    "p_sign = re.compile(\"[^a-zA-Zㄱ-ㅎ가-힣0-9\\s_()]|\\(\\s?\\)|_ | _|  \")\n",
    "\n",
    "list = []"
   ]
  },
  {
   "cell_type": "code",
   "execution_count": 10,
   "metadata": {},
   "outputs": [
    {
     "name": "stderr",
     "output_type": "stream",
     "text": [
      "100%|██████████| 185/185 [00:00<00:00, 477.91it/s]"
     ]
    },
    {
     "name": "stdout",
     "output_type": "stream",
     "text": [
      "168개 이동 완료\n"
     ]
    },
    {
     "name": "stderr",
     "output_type": "stream",
     "text": [
      "\n"
     ]
    }
   ],
   "source": [
    "for f in tqdm(file_list, total=total):\n",
    "    n = os.path.splitext(f)[0]\n",
    "    ext = os.path.splitext(f)[1]\n",
    "\n",
    "    if p_event1.search(n):\n",
    "        n=p_event1.sub(r'\\1\\2\\3', n)\n",
    "    elif p_event2.search(n):\n",
    "        n=p_event2.sub(r'20\\1\\2\\3', n)\n",
    "    else : pass \n",
    "\n",
    "    if p_event.search(n) :\n",
    "        e = p_event.search(n)\n",
    "        e_s = e.start()\n",
    "        e_e = e.end()\n",
    "\n",
    "        n = n[:e_s] + docu + e.group()\n",
    "\n",
    "        n = n[:8] + p_rm.sub(\" \", n[8:]) \n",
    "        # 기호정리, 연속공백 : set임 순서 주의\n",
    "        n = p_sign.sub(\" \", n)\n",
    "        n = re.sub(\"[\\s]{2,}\", \" \", n)\n",
    "\n",
    "        new_f = n + ext\n",
    "\n",
    "        list.append(ff.re_name(join(path, f), join(dst_path, new_f)))\n",
    "\n",
    "        cnt += 1\n",
    "\n",
    "ff.write_log_csv(list, path)\n",
    "print(f'{cnt}개 이동 완료')"
   ]
  },
  {
   "cell_type": "code",
   "execution_count": null,
   "metadata": {},
   "outputs": [],
   "source": [
    "for f in tqdm(file_list, total=total):\n",
    "    n = os.path.splitext(f)[0]\n",
    "    ext = os.path.splitext(f)[1]\n",
    "\n",
    "    "
   ]
  },
  {
   "cell_type": "code",
   "execution_count": null,
   "metadata": {},
   "outputs": [],
   "source": []
  },
  {
   "cell_type": "code",
   "execution_count": null,
   "metadata": {},
   "outputs": [],
   "source": []
  },
  {
   "cell_type": "code",
   "execution_count": null,
   "metadata": {},
   "outputs": [],
   "source": []
  },
  {
   "cell_type": "code",
   "execution_count": null,
   "metadata": {},
   "outputs": [],
   "source": []
  },
  {
   "cell_type": "code",
   "execution_count": null,
   "metadata": {},
   "outputs": [],
   "source": []
  },
  {
   "cell_type": "code",
   "execution_count": null,
   "metadata": {},
   "outputs": [],
   "source": []
  },
  {
   "cell_type": "code",
   "execution_count": null,
   "metadata": {},
   "outputs": [],
   "source": []
  },
  {
   "cell_type": "markdown",
   "metadata": {},
   "source": [
    "### 잘못 만든 상위 폴더 지우기"
   ]
  },
  {
   "cell_type": "markdown",
   "metadata": {},
   "source": [
    "##### 부산 > nas"
   ]
  },
  {
   "cell_type": "code",
   "execution_count": 60,
   "metadata": {},
   "outputs": [
    {
     "name": "stdout",
     "output_type": "stream",
     "text": [
      "2671\n"
     ]
    }
   ],
   "source": [
    "df = pd.read_excel(r\"C:\\Users\\SL\\Desktop\\통합 문서1.xlsx\", names=['src_dir', 'src_f', 'dst_f', 'dst_dir'], header=None)\n",
    "total = len(df.index)\n",
    "print(total)\n",
    "path_s = r'C:\\Users\\SL\\Desktop\\test\\log\\success'\n",
    "path_f = r'C:\\Users\\SL\\Desktop\\test\\log\\fail'\n",
    "path_d = r'C:\\Users\\SL\\Desktop\\test\\log\\dir'\n",
    "\n",
    "result_f = []\n",
    "result_d = []\n",
    "error = []\n",
    "\n",
    "#temp_cwd = os.getcwd()\n",
    "for key, row in tqdm(df.iterrows(), total=total):\n",
    "    dst_dir = row.dst_dir\n",
    "    dst_f = row.dst_f\n",
    "    miss_dir = (join(dst_dir, dst_f)) #파일명들어간 폴더\n",
    "    \n",
    "    # print(\"miss_dir : \",miss_dir)\n",
    "    # print(\"dst_dir : \", dst_dir)\n",
    "\n",
    "    for f in os.listdir(miss_dir) :\n",
    "        os.chdir(miss_dir)\n",
    "        # print(\"f : \",f)\n",
    "        if os.path.isfile(f) :\n",
    "            try : \n",
    "                result_f.append(ff.re_name(f, join(dst_dir, f)))\n",
    "                \n",
    "            except Exception as e:\n",
    "                print(\"===================================\")\n",
    "                print(datetime.today().strftime(\"%H:%M:%S\"))\n",
    "                print(f, e.__class__, e, sep=\" : \")\n",
    "                print(traceback.format_exc())\n",
    "                error.append([f, e.__class__, e])\n",
    "                continue # 반복문 계속 돌아\n",
    "    os.chdir(dst_dir)\n",
    "    try : \n",
    "        os.rmdir(miss_dir)\n",
    "        result_d.append(miss_dir)\n",
    "    except Exception as e:\n",
    "        print(\"===================================\")\n",
    "        print(datetime.today().strftime(\"%H:%M:%S\"))\n",
    "        print(f, e.__class__, e, sep=\" : \")\n",
    "        print(traceback.format_exc())\n",
    "        error.append([f, e.__class__, e])\n",
    "        continue # 반복문 계속 돌아\n",
    "\n",
    "ff.write_log_csv(result_f, path_s)\n",
    "ff.write_log_csv(result_d, path_d)\n",
    "ff.write_log_csv(error, path_f)\n",
    "\n",
    "# 남아있는 디렉토리 확인\n",
    "remain = []\n",
    "for d in tqdm(result_d, total=len(result_d)) :\n",
    "    if os.path.isdir(d) :\n",
    "        remain.append(d)\n",
    "if len(remain) >0 : print(remain)\n",
    "else : print(\"모든 디렉토리 삭제 완료\")\n"
   ]
  }
 ],
 "metadata": {
  "kernelspec": {
   "display_name": "Python 3.9.12 ('base')",
   "language": "python",
   "name": "python3"
  },
  "language_info": {
   "codemirror_mode": {
    "name": "ipython",
    "version": 3
   },
   "file_extension": ".py",
   "mimetype": "text/x-python",
   "name": "python",
   "nbconvert_exporter": "python",
   "pygments_lexer": "ipython3",
   "version": "3.9.12"
  },
  "orig_nbformat": 4,
  "vscode": {
   "interpreter": {
    "hash": "50ba2c93e3505a279245e213c77d9791c626788d8ca8a61b8db804927ca08a39"
   }
  }
 },
 "nbformat": 4,
 "nbformat_minor": 2
}
