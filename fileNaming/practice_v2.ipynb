{
 "cells": [
  {
   "cell_type": "code",
   "execution_count": 2,
   "metadata": {},
   "outputs": [],
   "source": [
    "import os\n",
    "import re\n",
    "import upload_v2 as v2"
   ]
  },
  {
   "cell_type": "code",
   "execution_count": 3,
   "metadata": {},
   "outputs": [],
   "source": [
    "dict_refer = v2.dict_refer\n",
    "comp = v2.comp"
   ]
  },
  {
   "cell_type": "code",
   "execution_count": 3,
   "metadata": {},
   "outputs": [
    {
     "name": "stdout",
     "output_type": "stream",
     "text": [
      "afterkeyF n =  S36BW-822041113360 (1) 등초본\n",
      "isEvent 0\n",
      "isDocu :  True docuNameExtra :  ['집행권원 재도', '#S36BW-822041113360 (1) 등초본']\n",
      "date : , temp = #S36BW-822041113360 (1) 등초본\n",
      "name = , extra=BW 등초본\n",
      "20422648 S36BW-822041113360_(1) 등초본.pdf >>> 20422648_박영태_집행권원 재도_BW 등초본.pdf -----------\n"
     ]
    }
   ],
   "source": [
    "files = [\"20422648 S36BW-822041113360_(1) 등초본.pdf\"]\n",
    "\n",
    "for f in files:\n",
    "    name_items = {\"key\" :\"\", \"name\" :\"\", \"docu\" :\"\", \"event\" :\"\", \"extra\" :\"\", \"date\" :\"\"}\n",
    "    name_extra = None\n",
    "    n = os.path.splitext(f)[0]\n",
    "    ext = os.path.splitext(f)[1]\n",
    "\n",
    "    name_items[\"key\"], n = v2.keyFnc(n)\n",
    "    print(\"afterkeyF n = \", n)\n",
    "    isEvent, docuEventNameextra = v2.eventFnc(n) ### docu, event\n",
    "    print(\"isEvent\", isEvent)\n",
    "    if isEvent == 2 :\n",
    "        print(\"경정사건인데 nodocu\")\n",
    "        continue\n",
    "    elif isEvent == 1 : # 정상\n",
    "        name_items[\"docu\"] = docuEventNameextra[0] #사건번호>>docu 할당 #############\n",
    "        name_items[\"event\"] = docuEventNameextra[1]\n",
    "        name_extra = docuEventNameextra[2]\n",
    "    else : # 사건번호 없음\n",
    "        isDocu, docuNameExtra = v2.setDocu(n)\n",
    "        print(\"isDocu : \", isDocu, \"docuNameExtra : \", docuNameExtra)\n",
    "        if isDocu :\n",
    "            name_items[\"docu\"] = docuNameExtra[0]#비사건번호>>docu 할당 #############\n",
    "            name_extra = docuNameExtra[1]\n",
    "        else : # nodocu\n",
    "            print(\"setDocu 결과 nodocu\")\n",
    "            continue\n",
    "    date, temp = v2.dateFnc(name_extra) ### date, name, extra\n",
    "    print(f\"date : {date}, temp = {temp}\")\n",
    "    name, extra = v2.rmNeedlessSharp(temp)   \n",
    "    print(f\"name = {name}, extra={extra}\")\n",
    "    if len(name) < 2 : \n",
    "        try :\n",
    "            name = dict_refer[name_items[\"key\"]][2]\n",
    "        except :\n",
    "            print(\"dict_refer 키에러 for name\")\n",
    "        name = v2.rmNeedlessSharp(name+\"#\")[0] #list를 반환하기 때문에 \n",
    "        name = v2.rm_s(name)\n",
    "\n",
    "    name_items[\"name\"] = name #### name, extra, date 할당 ######################\n",
    "    name_items[\"extra\"] = extra\n",
    "    name_items[\"date\"] = date\n",
    "    new_f = \"_\".join(filter(lambda x :bool(x), name_items.values())) + ext\n",
    "    print(f, \">>>\", new_f, \"-----------\")"
   ]
  },
  {
   "cell_type": "code",
   "execution_count": 20,
   "metadata": {},
   "outputs": [
    {
     "data": {
      "text/plain": [
       "'   aa  aa등초본 pdf'"
      ]
     },
     "execution_count": 20,
     "metadata": {},
     "output_type": "execute_result"
    }
   ],
   "source": [
    "p_rmSerialN = re.compile(r\"(?<![a-zA-Z])[a-zA-Z](?![a-zA-Z])|\\d+[a-zA-Z]+|[a-zA-Z]+\\d+|TAA\\(회\\)|\\\n",
    "        |SCSB|ADMIN.*Conflict|\\d(?!건|통|차|채|억|천|백|급|번|길)\") #3개의 숫자를 지운다. 해당글자가 나온다면 그 앞 숫자는 살린다. \n",
    "p_sign = re.compile(r\"[^#㈜()\\sa-zA-Zㄱ-ㅎ가-힣\\d]|\\([^w#]*\\)\") #반쪽 괄호만 있는 거는 어케 지우지?\n",
    "\n",
    "nameextra = \"204226a48 S36BW-822041113360_aa(1)a aa등초본.pdf\"\n",
    "nameextra = p_rmSerialN.sub(\"\", nameextra)\n",
    "nameextra = p_sign.sub(\" \", nameextra)\n",
    "nameextra"
   ]
  },
  {
   "cell_type": "code",
   "execution_count": 4,
   "metadata": {},
   "outputs": [
    {
     "data": {
      "text/plain": [
       "('03', 'ghdrlfehd 일 초본')"
      ]
     },
     "execution_count": 4,
     "metadata": {},
     "output_type": "execute_result"
    }
   ],
   "source": [
    "subStem = \"ghdrlfehd 3월일 초본\"\n",
    "# p_y = re.compile(r'(\\d\\d|\\d\\d\\d\\d)년')\n",
    "# p_m = re.compile(r'(\\d{1,2})월')\n",
    "# p_d = re.compile(r'(\\d{1,2})일')\n",
    "# if p_y.search(subStem) or p_m.search(subStem) or p_d.search(subStem) :\n",
    "#     print(\"good\")\n",
    "#     d = \"\"\n",
    "#     py = p_y.search(subStem)\n",
    "#     pm = p_m.search(subStem)\n",
    "#     pd = p_d.search(subStem)\n",
    "#     if py : \n",
    "#         d = py[1]\n",
    "#         subStem = p_y.sub(\"\", subStem)\n",
    "#     if pm :\n",
    "#         if len(pm[1]) == 1 : d = d + \"0\" + pm[1]\n",
    "#         else : d = d + pm[1]\n",
    "#         subStem = p_m.sub(\"\", subStem)\n",
    "#     if pd :\n",
    "#         if len(pd[1]) == 1 : d = d + \"0\" + pd[1]\n",
    "#         else : d = d + pd[1]\n",
    "#         subStem = p_d.sub(\"\", subStem)\n",
    "#         print(\"yes\", d, subStem)\n",
    "v2.dateFnc(subStem)"
   ]
  },
  {
   "cell_type": "code",
   "execution_count": 53,
   "metadata": {},
   "outputs": [
    {
     "data": {
      "text/plain": [
       "<re.Match object; span=(12, 19), match=' 주민등록정보'>"
      ]
     },
     "execution_count": 53,
     "metadata": {},
     "output_type": "execute_result"
    }
   ],
   "source": [
    "p=re.compile(r'\\(?\\s?법인\\s?등기부\\s?(등본)?\\s?\\)?|\\(?\\s?(법인)?\\s?등[기|본]\\s?\\)?|\\(?\\s?주민\\s?등록\\s?(등본|정보)\\s?\\)?')\n",
    "p.search(\"20433506 김상진 주민등록정보_(1).pdf\")\n"
   ]
  }
 ],
 "metadata": {
  "kernelspec": {
   "display_name": "Python 3.9.12 ('base')",
   "language": "python",
   "name": "python3"
  },
  "language_info": {
   "codemirror_mode": {
    "name": "ipython",
    "version": 3
   },
   "file_extension": ".py",
   "mimetype": "text/x-python",
   "name": "python",
   "nbconvert_exporter": "python",
   "pygments_lexer": "ipython3",
   "version": "3.9.12"
  },
  "orig_nbformat": 4,
  "vscode": {
   "interpreter": {
    "hash": "50ba2c93e3505a279245e213c77d9791c626788d8ca8a61b8db804927ca08a39"
   }
  }
 },
 "nbformat": 4,
 "nbformat_minor": 2
}
