{
 "cells": [
  {
   "cell_type": "code",
   "execution_count": 2,
   "metadata": {},
   "outputs": [],
   "source": [
    "import os\n",
    "import re\n",
    "import upload_v2 as v2"
   ]
  },
  {
   "cell_type": "code",
   "execution_count": 3,
   "metadata": {},
   "outputs": [],
   "source": [
    "dict_refer = v2.dict_refer\n",
    "comp = v2.comp"
   ]
  },
  {
   "cell_type": "code",
   "execution_count": 3,
   "metadata": {},
   "outputs": [
    {
     "name": "stdout",
     "output_type": "stream",
     "text": [
      "-----------------------------------------\n",
      "afterkeyF n =  보증인 김수희 양도통지서\n",
      "isEvent 0\n",
      "isDocu :  True docuNameExtra :  ['양도통지서', '보증인 김수희#']\n",
      "date : , temp = 보증인 김수희#\n",
      "name = 보증인 김수희, extra=\n",
      "20495237 보증인 김수희 양도통지서.pdf >>> 20495237_보증인 김수희_양도통지서.pdf\n"
     ]
    }
   ],
   "source": [
    "files = [\"20495237 보증인 김수희 양도통지서.pdf\"]\n",
    "\n",
    "for f in files:\n",
    "    print(\"-----------------------------------------\")\n",
    "    name_items = {\"key\" :\"\", \"name\" :\"\", \"docu\" :\"\", \"event\" :\"\", \"extra\" :\"\", \"date\" :\"\"}\n",
    "    name_extra = None\n",
    "    n = os.path.splitext(f)[0]\n",
    "    ext = os.path.splitext(f)[1]\n",
    "\n",
    "    name_items[\"key\"], n = v2.keyFnc(n)\n",
    "    print(\"afterkeyF n = \", n)\n",
    "    isEvent, docuEventNameextra = v2.eventFnc(n) ### docu, event\n",
    "    print(\"isEvent\", isEvent)\n",
    "    if isEvent == 2 :\n",
    "        print(\"경정사건인데 nodocu\")\n",
    "        continue\n",
    "    elif isEvent == 1 : # 정상\n",
    "        name_items[\"docu\"] = docuEventNameextra[0] #사건번호>>docu 할당 #############\n",
    "        name_items[\"event\"] = docuEventNameextra[1]\n",
    "        name_extra = docuEventNameextra[2]\n",
    "    else : # 사건번호 없음\n",
    "        isDocu, docuNameExtra = v2.setDocu(n)\n",
    "        print(\"isDocu : \", isDocu, \"docuNameExtra : \", docuNameExtra)\n",
    "        if isDocu :\n",
    "            name_items[\"docu\"] = docuNameExtra[0]#비사건번호>>docu 할당 #############\n",
    "            name_extra = docuNameExtra[1]\n",
    "        else : # nodocu\n",
    "            print(\"setDocu 결과 nodocu\")\n",
    "            continue\n",
    "    date, temp = v2.dateFnc(name_extra) ### date, name, extra\n",
    "    print(f\"date : {date}, temp = {temp}\")\n",
    "    name, extra = v2.rmNeedlessSharp(temp)   \n",
    "    print(f\"name = {name}, extra={extra}\")\n",
    "    if len(name) < 2 : \n",
    "        try :\n",
    "            name = dict_refer[name_items[\"key\"]][2]\n",
    "        except :\n",
    "            print(\"이름을 찾는데 키가 없어.\")\n",
    "        \n",
    "        for ptrn in re.findall(\"[가-힣a-zA-Z]+\", name) : # 새로 가져온 name에만 적용\n",
    "            extra = re.sub(ptrn+\"의?\", \"\", extra) #다행히 ')의'는 '~~(주)의'밖에 안 보이네. 혹시 하다가 예외 많으면 \\b의\\b를 따로 해주는 것으로\n",
    "        \n",
    "        name, extra = v2.rmNeedlessSharp(name+\"#\"+extra) #list를 반환하기 때문에 \n",
    "    \n",
    "    name = v2.rm_s(name)\n",
    "    extra = v2.rm_s(extra)\n",
    "\n",
    "    name_items[\"name\"] = name #### name, extra, date 할당 ######################\n",
    "    name_items[\"extra\"] = extra\n",
    "    name_items[\"date\"] = date\n",
    "    new_f = \"_\".join(filter(lambda x :bool(x), name_items.values())) + ext\n",
    "    print(f, \">>>\", new_f)\n",
    "    "
   ]
  },
  {
   "cell_type": "code",
   "execution_count": 4,
   "metadata": {},
   "outputs": [
    {
     "name": "stdout",
     "output_type": "stream",
     "text": [
      "wrongdocu  \n"
     ]
    }
   ],
   "source": [
    "# depth test\n",
    "files = [\"20407898 박한수 양도통지서.pdf\"]\n",
    "for f in files:\n",
    "    new_f = f \n",
    "    depth1, depth2, depth3 = v2.setDepth(new_f)########### depth ###########\n",
    "\n",
    "    print(depth1, depth2, depth3)"
   ]
  },
  {
   "cell_type": "code",
   "execution_count": 7,
   "metadata": {},
   "outputs": [
    {
     "name": "stdout",
     "output_type": "stream",
     "text": [
      "('하나로 내용증명', <re.Match object; span=(0, 8), match='하나로 내용증명'>)\n",
      "('중앙 농협진술서', <re.Match object; span=(0, 8), match='중앙 농협진술서'>)\n",
      "('농협은행 3채무자 진술최고서', None)\n",
      "===============\n",
      "('하나로 내용증명', None)\n",
      "('중앙 농협진술서', None)\n",
      "('농협은행 3채무자 진술최고서', <re.Match object; span=(0, 15), match='농협은행 3채무자 진술최고서'>)\n"
     ]
    }
   ],
   "source": [
    "p = re.compile(r\"기타|집행문\\s?부여의\\s?소|배송[가-힣]+|(채권|양도|양수|매매).*계약|화해(?!권고)|대위변제|분할|분납|상환|감면|(상속)?\\s?한정\\s?승인|상속\\s?포기|지방세|세목별|과세|.*내용증명|.*답변서|.*진술서|.*보정(서|명령)\") # 제거가 아니므로 첫 글자만 잘 찾으면 된다.\n",
    "p1 = re.compile(r\"재산\\s?명시|[가-힣\\b]*(부?동산)?\\s?(가?압류|경매)(?!물건)|[가-힣\\b]*동산|[가-힣\\b]*추심|[가-힣\\b]*유체|[가-힣\\b]*배당[가-힣]|.*진술\\s?최고서?\")#진술최고서는 강제집행, 와 그냥 진술서(noupload)는 다르지만 파일명만으로는 확인할 수 없다.\n",
    "fs = [\"하나로 내용증명\", \"중앙 농협진술서\", \"농협은행 3채무자 진술최고서\"]\n",
    "print(*[(f,p.search(f)) for f in fs], sep='\\n')\n",
    "print(\"===============\")\n",
    "print(*[(f,p1.search(f)) for f in fs], sep='\\n')\n"
   ]
  },
  {
   "cell_type": "code",
   "execution_count": 58,
   "metadata": {},
   "outputs": [
    {
     "name": "stdout",
     "output_type": "stream",
     "text": [
      "<re.Match object; span=(0, 3), match='(주)'>\n",
      "<re.Match object; span=(3, 7), match='동성제약'>\n",
      "<re.Match object; span=(8, 11), match='박현숙'>\n",
      "<re.Match object; span=(11, 14), match='(자)'>\n",
      "[0, 3, 3, 7, 8, 11, 11, 14]\n",
      "(주)동성제약 박현숙(자)\n",
      "extra  12345\n"
     ]
    }
   ],
   "source": [
    "import re\n",
    "stem = \"(주)동성제약 박현숙(자) 12345\"\n",
    "allName = \"(주)동성제약 박현숙(자) \"\n",
    "\n",
    "spanList = []\n",
    "for ptrn in re.findall(\"[가-힣a-zA-Z㈜]+|\\([가-힣]\\)\", allName) : #(주)를 안 썼을 수도 있으니 따로 빼준다.\n",
    "    ptrn = re.sub(\"\\(\", \"\\\\(\", ptrn) #search에서 ()인식을 위해\n",
    "    ptrn = re.sub(\"\\)\", \"\\\\)\", ptrn)\n",
    "    p = re.search(ptrn, stem)\n",
    "    print(p)\n",
    "    if p :\n",
    "        spanList.append(p.start())\n",
    "        spanList.append(p.end())\n",
    "        spanList.sort()\n",
    "print(spanList)\n",
    "name = stem[spanList[0]:spanList[-1]]\n",
    "extra = stem[ : spanList[0]] + stem[spanList[-1] : ] # 괄호때문에 그냥 이렇게 함.\n",
    "\n",
    "\n",
    "print(name)\n",
    "print(\"extra\", extra)\n"
   ]
  },
  {
   "cell_type": "code",
   "execution_count": 42,
   "metadata": {},
   "outputs": [],
   "source": [
    "allName = \"(주)동성제약 박현숙(자) \"\n",
    "allName.find()"
   ]
  },
  {
   "cell_type": "code",
   "execution_count": null,
   "metadata": {},
   "outputs": [],
   "source": []
  },
  {
   "cell_type": "code",
   "execution_count": null,
   "metadata": {},
   "outputs": [],
   "source": []
  },
  {
   "cell_type": "code",
   "execution_count": null,
   "metadata": {},
   "outputs": [],
   "source": []
  }
 ],
 "metadata": {
  "kernelspec": {
   "display_name": "Python 3.9.12 ('base')",
   "language": "python",
   "name": "python3"
  },
  "language_info": {
   "codemirror_mode": {
    "name": "ipython",
    "version": 3
   },
   "file_extension": ".py",
   "mimetype": "text/x-python",
   "name": "python",
   "nbconvert_exporter": "python",
   "pygments_lexer": "ipython3",
   "version": "3.9.12"
  },
  "orig_nbformat": 4,
  "vscode": {
   "interpreter": {
    "hash": "bde8bb0732dc4e1332dd7de11e8fd6f025a3253132c4935c7925a70cc079a91c"
   }
  }
 },
 "nbformat": 4,
 "nbformat_minor": 2
}
