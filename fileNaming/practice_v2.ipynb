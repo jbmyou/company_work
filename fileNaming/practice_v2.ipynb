{
 "cells": [
  {
   "cell_type": "code",
   "execution_count": 1,
   "metadata": {},
   "outputs": [],
   "source": [
    "import os\n",
    "import re\n",
    "import upload_v2 as v2"
   ]
  },
  {
   "cell_type": "code",
   "execution_count": 2,
   "metadata": {},
   "outputs": [],
   "source": [
    "dict_refer = v2.dict_refer\n",
    "comp = v2.comp"
   ]
  },
  {
   "cell_type": "code",
   "execution_count": 3,
   "metadata": {},
   "outputs": [
    {
     "name": "stdout",
     "output_type": "stream",
     "text": [
      "-----------------------------------------\n",
      "afterkeyF n =  박영덕-가족관계, 제적등본외서류\n",
      "isEvent 0\n",
      "isDocu :  True docuNameExtra :  ['등', '박영덕-가족관계, 제적#등본외서류']\n",
      "date : , temp = 박영덕-가족관계, 제적#등본외서류\n",
      "name = 박영덕 가족관계 제적, extra=등본외서류\n",
      "20408242 박영덕-가족관계, 제적등본외서류.pdf >>> 20408242_박영덕 가족관계 제적_등_등본외서류.pdf\n"
     ]
    }
   ],
   "source": [
    "files = [\"20408242 박영덕-가족관계, 제적등본외서류.pdf\"]\n",
    "\n",
    "for f in files:\n",
    "    print(\"-----------------------------------------\")\n",
    "    name_items = {\"key\" :\"\", \"name\" :\"\", \"docu\" :\"\", \"event\" :\"\", \"extra\" :\"\", \"date\" :\"\"}\n",
    "    name_extra = None\n",
    "    n = os.path.splitext(f)[0]\n",
    "    ext = os.path.splitext(f)[1]\n",
    "\n",
    "    name_items[\"key\"], n = v2.keyFnc(n)\n",
    "    print(\"afterkeyF n = \", n)\n",
    "    isEvent, docuEventNameextra = v2.eventFnc(n) ### docu, event\n",
    "    print(\"isEvent\", isEvent)\n",
    "    if isEvent == 2 :\n",
    "        print(\"경정사건인데 nodocu\")\n",
    "        continue\n",
    "    elif isEvent == 1 : # 정상\n",
    "        name_items[\"docu\"] = docuEventNameextra[0] #사건번호>>docu 할당 #############\n",
    "        name_items[\"event\"] = docuEventNameextra[1]\n",
    "        name_extra = docuEventNameextra[2]\n",
    "    else : # 사건번호 없음\n",
    "        isDocu, docuNameExtra = v2.setDocu(n)\n",
    "        print(\"isDocu : \", isDocu, \"docuNameExtra : \", docuNameExtra)\n",
    "        if isDocu :\n",
    "            name_items[\"docu\"] = docuNameExtra[0]#비사건번호>>docu 할당 #############\n",
    "            name_extra = docuNameExtra[1]\n",
    "        else : # nodocu\n",
    "            print(\"setDocu 결과 nodocu\")\n",
    "            continue\n",
    "    date, temp = v2.dateFnc(name_extra) ### date, name, extra\n",
    "    print(f\"date : {date}, temp = {temp}\")\n",
    "    name, extra = v2.rmNeedlessSharp(temp)   \n",
    "    print(f\"name = {name}, extra={extra}\")\n",
    "    if len(name) < 2 : \n",
    "        try :\n",
    "            name = dict_refer[name_items[\"key\"]][2]\n",
    "        except :\n",
    "            print(\"이름을 찾는데 키가 없어.\")\n",
    "        \n",
    "        for ptrn in re.findall(\"[가-힣a-zA-Z]+\", name) : # 새로 가져온 name에만 적용\n",
    "            extra = re.sub(ptrn+\"의?\", \"\", extra) #다행히 ')의'는 '~~(주)의'밖에 안 보이네. 혹시 하다가 예외 많으면 \\b의\\b를 따로 해주는 것으로\n",
    "        \n",
    "        name, extra = v2.rmNeedlessSharp(name+\"#\"+extra) #list를 반환하기 때문에 \n",
    "    \n",
    "    name = v2.rm_s(name)\n",
    "    extra = v2.rm_s(extra)\n",
    "\n",
    "    name_items[\"name\"] = name #### name, extra, date 할당 ######################\n",
    "    name_items[\"extra\"] = extra\n",
    "    name_items[\"date\"] = date\n",
    "    new_f = \"_\".join(filter(lambda x :bool(x), name_items.values())) + ext\n",
    "    print(f, \">>>\", new_f)\n",
    "    "
   ]
  },
  {
   "cell_type": "code",
   "execution_count": 16,
   "metadata": {},
   "outputs": [],
   "source": [
    "p = re.compile(r\"신분증|(기초)?수급자?|차상위|(법인|사용)?\\s?인감|기본\\s?증명서|(가족|혼인)\\s?관계|이혼|입양|친양자|졸업|병적\"),\n",
    "f = \"20408242_박영덕 가족관계 제적_등본_외서류.pdf\"\n",
    "p.search(f)"
   ]
  },
  {
   "cell_type": "code",
   "execution_count": 4,
   "metadata": {},
   "outputs": [
    {
     "data": {
      "text/plain": [
       "('03', 'ghdrlfehd 일 초본')"
      ]
     },
     "execution_count": 4,
     "metadata": {},
     "output_type": "execute_result"
    }
   ],
   "source": [
    "subStem = \"ghdrlfehd 3월일 초본\"\n",
    "# p_y = re.compile(r'(\\d\\d|\\d\\d\\d\\d)년')\n",
    "# p_m = re.compile(r'(\\d{1,2})월')\n",
    "# p_d = re.compile(r'(\\d{1,2})일')\n",
    "# if p_y.search(subStem) or p_m.search(subStem) or p_d.search(subStem) :\n",
    "#     print(\"good\")\n",
    "#     d = \"\"\n",
    "#     py = p_y.search(subStem)\n",
    "#     pm = p_m.search(subStem)\n",
    "#     pd = p_d.search(subStem)\n",
    "#     if py : \n",
    "#         d = py[1]\n",
    "#         subStem = p_y.sub(\"\", subStem)\n",
    "#     if pm :\n",
    "#         if len(pm[1]) == 1 : d = d + \"0\" + pm[1]\n",
    "#         else : d = d + pm[1]\n",
    "#         subStem = p_m.sub(\"\", subStem)\n",
    "#     if pd :\n",
    "#         if len(pd[1]) == 1 : d = d + \"0\" + pd[1]\n",
    "#         else : d = d + pd[1]\n",
    "#         subStem = p_d.sub(\"\", subStem)\n",
    "#         print(\"yes\", d, subStem)\n",
    "v2.dateFnc(subStem)"
   ]
  },
  {
   "cell_type": "code",
   "execution_count": 3,
   "metadata": {},
   "outputs": [
    {
     "name": "stdout",
     "output_type": "stream",
     "text": [
      "20411631 \n",
      "세목별과세증명.pdf\n"
     ]
    }
   ],
   "source": [
    "import re\n",
    "f = \"20411631 세목별과세증명.pdf\"\n",
    "p = re.compile(r\"기타|집행문\\s?부여의\\s?소|배송[가-힣]+|(채권|양도|양수|매매).*계약|화해(?!권고)|분할|상환|감면|(상속)?\\s?한정\\s?승인|상속\\s?포기|지방세|세목별|과세\") # 제거가 아니므로 첫 글자만 잘 찾으면 된다.p.search(\"20433506 김상진 주민등록정보_(1).pdf\")\n",
    "m = p.search(f)\n",
    "print(f[:m.start()])\n",
    "print(f[m.start():])\n"
   ]
  },
  {
   "cell_type": "code",
   "execution_count": 14,
   "metadata": {},
   "outputs": [
    {
     "name": "stdout",
     "output_type": "stream",
     "text": [
      "\n"
     ]
    }
   ],
   "source": [
    "a = \"\"\n",
    "print(a[:-1])"
   ]
  }
 ],
 "metadata": {
  "kernelspec": {
   "display_name": "Python 3.9.12 ('base')",
   "language": "python",
   "name": "python3"
  },
  "language_info": {
   "codemirror_mode": {
    "name": "ipython",
    "version": 3
   },
   "file_extension": ".py",
   "mimetype": "text/x-python",
   "name": "python",
   "nbconvert_exporter": "python",
   "pygments_lexer": "ipython3",
   "version": "3.9.12"
  },
  "orig_nbformat": 4,
  "vscode": {
   "interpreter": {
    "hash": "50ba2c93e3505a279245e213c77d9791c626788d8ca8a61b8db804927ca08a39"
   }
  }
 },
 "nbformat": 4,
 "nbformat_minor": 2
}
