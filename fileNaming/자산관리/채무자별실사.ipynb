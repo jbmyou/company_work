{
 "cells": [
  {
   "cell_type": "markdown",
   "metadata": {},
   "source": [
    "### import"
   ]
  },
  {
   "cell_type": "code",
   "execution_count": 1,
   "metadata": {},
   "outputs": [],
   "source": [
    "from os.path import join\n",
    "import pandas as pd\n",
    "import os, re\n",
    "import functions"
   ]
  },
  {
   "cell_type": "markdown",
   "metadata": {},
   "source": [
    "### 파일읽기"
   ]
  },
  {
   "cell_type": "code",
   "execution_count": 2,
   "metadata": {},
   "outputs": [],
   "source": [
    "# 필요 데이터 읽기\n",
    "##################################\n",
    "company = \"솔림\"      # 솔림 or 대성\n",
    "basedate = \"250228\" \n",
    "##################################\n",
    "path_raw_data = functions.키워드로파일명찾기(join(r\"D:\\3.자산\\전산 dataset\", company, basedate, \"pkl\"), \"전체_원데이터\")\n",
    "path_grt = functions.키워드로파일명찾기(join(r\"D:\\3.자산\\전산 dataset\", company, basedate, \"pkl\"), \"보증인새창.*새보증인상태\")\n",
    "raw_data = pd.read_pickle(path_raw_data)\n",
    "grt = pd.read_pickle(path_grt)\n",
    "\n",
    "# 계좌, 보증인 종결건 제외하기\n",
    "raw_data = raw_data.query('채권상태!=\"종료\"')\n",
    "grt = grt.query('새보증인상태!=\"종료\"')"
   ]
  },
  {
   "cell_type": "code",
   "execution_count": 3,
   "metadata": {},
   "outputs": [
    {
     "name": "stdout",
     "output_type": "stream",
     "text": [
      "42\n",
      "38\n"
     ]
    }
   ],
   "source": [
    "# 검수할 새채무자키 읽기\n",
    "checklist = pd.read_excel(join(r\"C:\\Users\\DATA\\Desktop\\checklist.xlsx\"))\n",
    "print(len(checklist))\n",
    "# 중복제거\n",
    "checklist = checklist.drop_duplicates(subset=[\"새채무자키\"])\n",
    "print(len(checklist))"
   ]
  },
  {
   "cell_type": "markdown",
   "metadata": {},
   "source": [
    "### 파일작성"
   ]
  },
  {
   "cell_type": "code",
   "execution_count": 4,
   "metadata": {},
   "outputs": [
    {
     "name": "stdout",
     "output_type": "stream",
     "text": [
      "병합후 : 42\n"
     ]
    }
   ],
   "source": [
    "# 체크리스트와 계좌병합하기\n",
    "merged = checklist.merge(raw_data[[\"새채무자키\",\"채무자키\",\"계좌키\",\"성명\",\"원채권사\",\"매각사구분\",\"반영OPB\",\"시효완성월\",\"시효완성일\",\"시효사유\" ]], how='left')\n",
    "# 컬럼명 변경\n",
    "merged = merged.rename(columns={\"성명\":\"채무자명\"})\n",
    "# merged[\"차주명\"] = merged[\"채무자명\"]\n",
    "# 보증인키 칼럼 추가\n",
    "merged[\"보증인키\"] = \"\"\n",
    "merged.insert(3,'보증인키', merged.pop('보증인키'))\n",
    "print('병합후 :',len(merged))"
   ]
  },
  {
   "cell_type": "code",
   "execution_count": 5,
   "metadata": {},
   "outputs": [],
   "source": [
    "# merged와 칼럼이 같은 새로운 보증인df 만들기\n",
    "grt_for_merged = grt[[\"계좌키\",\"보증인키\",\"보증인성명인\"]]\n",
    "grt_for_merged = grt_for_merged.rename(columns={'보증인성명인':'채무자명'})\n",
    "    # 새채무자키 입히기\n",
    "grt_for_merged = grt_for_merged.merge(merged, on=[\"계좌키\"], how='right', suffixes=['','_차주'])\n",
    "    # 차주행 지우고, 채무자명_차주 열 지우기\n",
    "grt_for_merged = grt_for_merged.dropna(subset=[\"보증인키\"])\n",
    "    # merged와 칼럼순서 맞추기\n",
    "grt_for_merged = grt_for_merged[merged.columns.to_list()]"
   ]
  },
  {
   "cell_type": "code",
   "execution_count": 6,
   "metadata": {},
   "outputs": [],
   "source": [
    "# 차주 + 보증인 리스트\n",
    "merged2 = pd.concat([merged, grt_for_merged], ignore_index=True).sort_values(by=[\"새채무자키\",\"보증인키\", \"채무자명\",\"계좌키\"]).reset_index(drop=True)"
   ]
  },
  {
   "cell_type": "code",
   "execution_count": 7,
   "metadata": {},
   "outputs": [],
   "source": [
    "# 추가 열\n",
    "merged2.insert(0,'실사일', '')\n",
    "for i in range(17) :\n",
    "    merged2[f'cols{i+1}'] = ''"
   ]
  },
  {
   "cell_type": "code",
   "execution_count": 8,
   "metadata": {},
   "outputs": [],
   "source": [
    "# 엑셀저장 ###################################\n",
    "fn_write = \"검수리스트_무차입_250228_실효폐지등\"\n",
    "#############################################\n",
    "functions.save_df_to_excel_two_underline(merged2, join(r\"C:\\Users\\DATA\\Desktop\",fn_write+\".xlsx\"), key_columns_no=2, sub_key_columns_no=6) "
   ]
  }
 ],
 "metadata": {
  "kernelspec": {
   "display_name": "py_39",
   "language": "python",
   "name": "python3"
  },
  "language_info": {
   "codemirror_mode": {
    "name": "ipython",
    "version": 3
   },
   "file_extension": ".py",
   "mimetype": "text/x-python",
   "name": "python",
   "nbconvert_exporter": "python",
   "pygments_lexer": "ipython3",
   "version": "3.9.18"
  }
 },
 "nbformat": 4,
 "nbformat_minor": 2
}
