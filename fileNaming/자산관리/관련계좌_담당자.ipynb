{
 "cells": [
  {
   "cell_type": "code",
   "execution_count": 35,
   "id": "a8fb086a",
   "metadata": {},
   "outputs": [],
   "source": [
    "import pandas as pd\n",
    "import numpy as np\n",
    "from os.path import join\n",
    "import functions\n",
    "from collections import defaultdict, deque"
   ]
  },
  {
   "cell_type": "code",
   "execution_count": 4,
   "id": "cc827ef9",
   "metadata": {},
   "outputs": [],
   "source": [
    "##############################\n",
    "company = \"솔림\"\n",
    "cutoff = \"250831\"\n",
    "##############################\n",
    "path_read_parquet = join(r\"D:\\3.자산\\전산 dataset\\솔림\",cutoff,\"parquet\")"
   ]
  },
  {
   "cell_type": "code",
   "execution_count": 76,
   "id": "de5ca673",
   "metadata": {},
   "outputs": [],
   "source": [
    "# 전체원데이터와 새보증인상태 파일 읽기\n",
    "    # 읽을 칼럼\n",
    "cols_to_read_account = [\"채무자키\",\"계좌키\",\"성명\",\"주민등록번호\",\"원채권사\",\"매각사구분\",\"채권상태\",\"상태구분2\",\"담당자\",\"배정가능여부_통합\"]\n",
    "cols_to_read_grt = [\"채무자키\",\"계좌키\",\"보증인성명인\",\"주민번호인\",\"원채권사\",\"매각사구분\",\"새보증인상태\",\"담당자\",]\n",
    "\n",
    "cols_to_change = {\"배정가능여부_통합\":\"배정가능여부\", \"보증인성명인\":\"성명\",\"주민번호인\":\"주민등록번호\",\"상태구분2\":\"채무자상태\",\"새보증인상태\":\"채무자상태\"}\n",
    "\n",
    "account = pd.read_parquet(functions.키워드로파일명찾기(폴더=path_read_parquet, 포함키워드=\"전체_원데이터\", 전체경로=True, 여러파일허용=False), columns=cols_to_read_account)\n",
    "grt = pd.read_parquet(functions.키워드로파일명찾기(폴더=path_read_parquet, 포함키워드=\"새보증인상태\", 전체경로=True, 여러파일허용=False), columns=cols_to_read_grt)\n",
    "\n",
    "# 칼럼정리\n",
    "account = account.rename(columns=cols_to_change)\n",
    "grt = grt.rename(columns=cols_to_change)\n",
    "\n",
    "account[\"채무구분\"] = \"차주\"\n",
    "account[\"배정가능여부\"] = account[\"배정가능여부\"].replace([\"nan\", np.nan], \"불가\")\n",
    "grt[\"채무구분\"] = \"보증인\"\n",
    "\n",
    "\n",
    "# 통합하기\n",
    "df = pd.concat([account, grt])\n",
    "\n",
    "# \"\"는 na로\n",
    "df = df.replace(\"\",np.nan)\n",
    "\n",
    "# 주민번호 없는 건 삭제하기\n",
    "df = df.dropna(subset=[\"주민등록번호\"])\n",
    "\n",
    "# 비어있는 채권상태 값 넣기\n",
    "    # 빈 문자열을 NaN으로 바꾸기 (있으면)\n",
    "df[\"채권상태\"] = df[\"채권상태\"].replace(\"\", np.nan)\n",
    "\n",
    "    # 같은 계좌키 그룹에서 첫 번째 채권상태를 가져와서 채우기\n",
    "df[\"채권상태\"] = df[\"채권상태\"].fillna(\n",
    "    df.groupby(\"계좌키\")[\"채권상태\"].transform(\"first\")\n",
    ")\n",
    "\n",
    "df[\"배정가능여부\"] = df[\"배정가능여부\"].fillna(\n",
    "    df.groupby(\"계좌키\")[\"배정가능여부\"].transform(\"first\")\n",
    ")"
   ]
  },
  {
   "cell_type": "code",
   "execution_count": 77,
   "id": "72ce141a",
   "metadata": {},
   "outputs": [],
   "source": [
    "# 고유채무자키수 작성하기\n",
    "주민등록번호별_고유채무자키수 = df.groupby('주민등록번호')[\"채무자키\"].nunique().reset_index().rename(columns={\"채무자키\":\"고유채무자키수\"})\n",
    "df = df.merge(주민등록번호별_고유채무자키수, how='left', on='주민등록번호')"
   ]
  },
  {
   "cell_type": "code",
   "execution_count": 78,
   "id": "4255a5e7",
   "metadata": {},
   "outputs": [],
   "source": [
    "def make_groups(df):\n",
    "    # 그래프 만들기\n",
    "    graph = defaultdict(set)\n",
    "    for _, row in df.iterrows():\n",
    "        jumin = row[\"주민등록번호\"]\n",
    "        debtor = row[\"채무자키\"]\n",
    "        graph[jumin].add(debtor)\n",
    "        graph[debtor].add(jumin)\n",
    "\n",
    "    group_map = {}  # 노드별 그룹키\n",
    "    group_id = 1\n",
    "\n",
    "    # 모든 주민등록번호 탐색\n",
    "    for jumin in df[\"주민등록번호\"].unique():\n",
    "        if jumin in group_map:  # 이미 그룹 배정됨\n",
    "            continue\n",
    "\n",
    "        # BFS 탐색\n",
    "        queue = deque([jumin])\n",
    "        while queue:\n",
    "            node = queue.popleft()\n",
    "            if node in group_map:\n",
    "                continue\n",
    "            group_map[node] = group_id\n",
    "            for neighbor in graph[node]:\n",
    "                if neighbor not in group_map:\n",
    "                    queue.append(neighbor)\n",
    "\n",
    "        group_id += 1\n",
    "\n",
    "    # df에 그룹키 추가\n",
    "    df[\"그룹키\"] = df[\"주민등록번호\"].map(group_map)\n",
    "    return df\n",
    "\n",
    "# 사용 예시\n",
    "result = make_groups(df)"
   ]
  },
  {
   "cell_type": "code",
   "execution_count": 79,
   "id": "0a079fee",
   "metadata": {},
   "outputs": [],
   "source": [
    "# 그룹키 format변경\n",
    "df[\"그룹키\"] = df[\"그룹키\"].apply(lambda x: f\"g{int(x):06d}\")"
   ]
  },
  {
   "cell_type": "code",
   "execution_count": null,
   "id": "46983aa0",
   "metadata": {},
   "outputs": [],
   "source": [
    "# 필요칼럼만, 중복제거\n",
    "cols = [\"그룹키\",\"채무자키\",\"채권상태\",\"담당자\",\"배정가능여부\",\"원채권사\",\"매각사구분\"]\n",
    "df_rst = df[cols].copy()\n",
    "df_rst = df_rst.sort_values(by=cols)\n",
    "df_rst = df_rst.drop_duplicates(subset=[\"그룹키\",\"채무자키\"], keep='first').reset_index(drop=True)\n",
    "\n"
   ]
  },
  {
   "cell_type": "code",
   "execution_count": 84,
   "id": "be72e032",
   "metadata": {},
   "outputs": [],
   "source": [
    "# 배정가능건들 중 다중담당자\n",
    "배정가능건 = df_rst[df_rst[\"배정가능여부\"]==\"가능\"]\n",
    "다중담당자 = 배정가능건.groupby('그룹키').filter(lambda x : x.담당자.nunique()>1)\n",
    "\n",
    "functions.save_df_to_excel_underline(다중담당자, \"그룹_다중담당자.xlsx\")"
   ]
  },
  {
   "cell_type": "code",
   "execution_count": 81,
   "id": "dcd77475",
   "metadata": {},
   "outputs": [],
   "source": [
    "# 출력 : 오래걸리니까 key_columns_no 작성하지마\n",
    "functions.save_df_to_excel_underline(df_rst, \"담당자배정_그룹키.xlsx\", key_columns_no=0)"
   ]
  }
 ],
 "metadata": {
  "kernelspec": {
   "display_name": "py_312",
   "language": "python",
   "name": "python3"
  },
  "language_info": {
   "codemirror_mode": {
    "name": "ipython",
    "version": 3
   },
   "file_extension": ".py",
   "mimetype": "text/x-python",
   "name": "python",
   "nbconvert_exporter": "python",
   "pygments_lexer": "ipython3",
   "version": "3.12.11"
  }
 },
 "nbformat": 4,
 "nbformat_minor": 5
}
