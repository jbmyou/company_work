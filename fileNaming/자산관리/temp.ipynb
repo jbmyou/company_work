{
 "cells": [
  {
   "cell_type": "code",
   "execution_count": 4,
   "id": "04e2328c",
   "metadata": {},
   "outputs": [],
   "source": [
    "import pandas as pd\n",
    "import numpy as np\n",
    "from os.path import join\n",
    "import functions\n",
    "import pickle\n",
    "import re"
   ]
  },
  {
   "cell_type": "code",
   "execution_count": null,
   "id": "14735a5d",
   "metadata": {},
   "outputs": [],
   "source": []
  },
  {
   "cell_type": "markdown",
   "id": "24384485",
   "metadata": {},
   "source": [
    "### 메모"
   ]
  },
  {
   "cell_type": "code",
   "execution_count": 3,
   "id": "79da7352",
   "metadata": {},
   "outputs": [],
   "source": [
    "메모=pd.read_excel(r\"C:\\Users\\DATA\\Desktop\\P1,P8법인실사\\메모조회새창_20250704_1113.xlsx\", dtype={\"채무자키\":str})"
   ]
  },
  {
   "cell_type": "code",
   "execution_count": 17,
   "id": "955d0d82",
   "metadata": {},
   "outputs": [],
   "source": [
    "보증인 = pd.read_excel(r\"C:\\Users\\DATA\\Desktop\\P1,P8법인실사\\정상보증인목록.xlsx\", dtype={\"채무자키\":str})"
   ]
  },
  {
   "cell_type": "code",
   "execution_count": 18,
   "id": "29b451dd",
   "metadata": {},
   "outputs": [],
   "source": [
    "보증인_정리 = (\n",
    "    보증인\n",
    "    .drop_duplicates(subset=['채무자키', '보증인성명인'])  # 중복 제거\n",
    "    .groupby('채무자키')['보증인성명인']\n",
    "    .apply(list)\n",
    "    .reset_index()\n",
    ")"
   ]
  },
  {
   "cell_type": "code",
   "execution_count": 19,
   "id": "ed035b98",
   "metadata": {},
   "outputs": [],
   "source": [
    "# 보증인 이름 최대 몇 명까지 있는지 계산\n",
    "max_len = 보증인_정리['보증인성명인'].apply(len).max()\n",
    "\n",
    "# 리스트를 여러 열로 분리\n",
    "보증인_정리_split = 보증인_정리.copy()\n",
    "for i in range(max_len):\n",
    "    보증인_정리_split[f'보증인성명{i+1}'] = 보증인_정리_split['보증인성명인'].apply(lambda x: x[i] if i < len(x) else None)\n",
    "\n",
    "# 원래 리스트 칼럼 제거\n",
    "보증인_정리_split.drop(columns='보증인성명인', inplace=True)\n"
   ]
  },
  {
   "cell_type": "code",
   "execution_count": 21,
   "id": "3cb8f08a",
   "metadata": {},
   "outputs": [],
   "source": [
    "보증인_정리_split.to_excel(r\"C:\\Users\\DATA\\Desktop\\P1,P8법인실사\\정상보증인_병렬.xlsx\", index=False)"
   ]
  },
  {
   "cell_type": "code",
   "execution_count": 8,
   "id": "0a7a427e",
   "metadata": {},
   "outputs": [
    {
     "data": {
      "text/html": [
       "<div>\n",
       "<style scoped>\n",
       "    .dataframe tbody tr th:only-of-type {\n",
       "        vertical-align: middle;\n",
       "    }\n",
       "\n",
       "    .dataframe tbody tr th {\n",
       "        vertical-align: top;\n",
       "    }\n",
       "\n",
       "    .dataframe thead th {\n",
       "        text-align: right;\n",
       "    }\n",
       "</style>\n",
       "<table border=\"1\" class=\"dataframe\">\n",
       "  <thead>\n",
       "    <tr style=\"text-align: right;\">\n",
       "      <th></th>\n",
       "      <th>채무자키</th>\n",
       "      <th>매각사구분</th>\n",
       "      <th>등록일자</th>\n",
       "      <th>등록유저</th>\n",
       "      <th>메모내용</th>\n",
       "      <th>메모구분</th>\n",
       "      <th>채무자명</th>\n",
       "      <th>전송결과</th>\n",
       "      <th>구분일</th>\n",
       "      <th>보증인성명1</th>\n",
       "      <th>보증인성명2</th>\n",
       "      <th>보증인성명3</th>\n",
       "      <th>보증인성명4</th>\n",
       "      <th>보증인성명5</th>\n",
       "      <th>보증인성명6</th>\n",
       "      <th>보증인성명7</th>\n",
       "      <th>보증인성명8</th>\n",
       "    </tr>\n",
       "  </thead>\n",
       "  <tbody>\n",
       "    <tr>\n",
       "      <th>0</th>\n",
       "      <td>20412794</td>\n",
       "      <td>한울가람</td>\n",
       "      <td>★ 2025-06-13 ★</td>\n",
       "      <td>전병만</td>\n",
       "      <td>구분\\t성명\\t상태\\t법조치     \\t비고\\n────────────────────...</td>\n",
       "      <td>요약</td>\n",
       "      <td>㈜미각</td>\n",
       "      <td>NaN</td>\n",
       "      <td>2025-06-13</td>\n",
       "      <td>김정희</td>\n",
       "      <td>None</td>\n",
       "      <td>None</td>\n",
       "      <td>None</td>\n",
       "      <td>None</td>\n",
       "      <td>None</td>\n",
       "      <td>None</td>\n",
       "      <td>None</td>\n",
       "    </tr>\n",
       "    <tr>\n",
       "      <th>1</th>\n",
       "      <td>20412760</td>\n",
       "      <td>한울가람</td>\n",
       "      <td>★ 2025-06-13 ★</td>\n",
       "      <td>전병만</td>\n",
       "      <td>구분\\t성명\\t상태\\t법조치     \\t비고\\n────────────────────...</td>\n",
       "      <td>요약</td>\n",
       "      <td>㈜거산</td>\n",
       "      <td>NaN</td>\n",
       "      <td>2025-06-13</td>\n",
       "      <td>정수연</td>\n",
       "      <td>None</td>\n",
       "      <td>None</td>\n",
       "      <td>None</td>\n",
       "      <td>None</td>\n",
       "      <td>None</td>\n",
       "      <td>None</td>\n",
       "      <td>None</td>\n",
       "    </tr>\n",
       "    <tr>\n",
       "      <th>2</th>\n",
       "      <td>20412751</td>\n",
       "      <td>한울가람</td>\n",
       "      <td>★ 2025-06-13 ★</td>\n",
       "      <td>전병만</td>\n",
       "      <td>구분\\t성명\\t상태\\t법조치     \\t비고\\n────────────────────...</td>\n",
       "      <td>요약</td>\n",
       "      <td>㈜건승</td>\n",
       "      <td>NaN</td>\n",
       "      <td>2025-06-13</td>\n",
       "      <td>신옥희</td>\n",
       "      <td>None</td>\n",
       "      <td>None</td>\n",
       "      <td>None</td>\n",
       "      <td>None</td>\n",
       "      <td>None</td>\n",
       "      <td>None</td>\n",
       "      <td>None</td>\n",
       "    </tr>\n",
       "    <tr>\n",
       "      <th>3</th>\n",
       "      <td>20411446</td>\n",
       "      <td>DNP-01</td>\n",
       "      <td>★ 2025-06-13 ★</td>\n",
       "      <td>전병만</td>\n",
       "      <td>구분\\t성명\\t상태\\t법조치     \\t비고\\n────────────────────...</td>\n",
       "      <td>요약</td>\n",
       "      <td>㈜한양트레이딩</td>\n",
       "      <td>NaN</td>\n",
       "      <td>2025-06-13</td>\n",
       "      <td>박경옥</td>\n",
       "      <td>None</td>\n",
       "      <td>None</td>\n",
       "      <td>None</td>\n",
       "      <td>None</td>\n",
       "      <td>None</td>\n",
       "      <td>None</td>\n",
       "      <td>None</td>\n",
       "    </tr>\n",
       "    <tr>\n",
       "      <th>4</th>\n",
       "      <td>20429668</td>\n",
       "      <td>케이에스</td>\n",
       "      <td>★ 2024-08-01 ★</td>\n",
       "      <td>전병만</td>\n",
       "      <td>매각사 KS인데 한울가람으로 잘못등록된 거 정정\\n\\n양수도라인     \\t하나은행...</td>\n",
       "      <td>DC</td>\n",
       "      <td>㈜아이텍스필</td>\n",
       "      <td>NaN</td>\n",
       "      <td>2024-08-01</td>\n",
       "      <td>정주병</td>\n",
       "      <td>None</td>\n",
       "      <td>None</td>\n",
       "      <td>None</td>\n",
       "      <td>None</td>\n",
       "      <td>None</td>\n",
       "      <td>None</td>\n",
       "      <td>None</td>\n",
       "    </tr>\n",
       "  </tbody>\n",
       "</table>\n",
       "</div>"
      ],
      "text/plain": [
       "       채무자키   매각사구분            등록일자 등록유저  \\\n",
       "0  20412794    한울가람  ★ 2025-06-13 ★  전병만   \n",
       "1  20412760    한울가람  ★ 2025-06-13 ★  전병만   \n",
       "2  20412751    한울가람  ★ 2025-06-13 ★  전병만   \n",
       "3  20411446  DNP-01  ★ 2025-06-13 ★  전병만   \n",
       "4  20429668    케이에스  ★ 2024-08-01 ★  전병만   \n",
       "\n",
       "                                                메모내용 메모구분     채무자명 전송결과  \\\n",
       "0  구분\\t성명\\t상태\\t법조치     \\t비고\\n────────────────────...   요약      ㈜미각  NaN   \n",
       "1  구분\\t성명\\t상태\\t법조치     \\t비고\\n────────────────────...   요약      ㈜거산  NaN   \n",
       "2  구분\\t성명\\t상태\\t법조치     \\t비고\\n────────────────────...   요약      ㈜건승  NaN   \n",
       "3  구분\\t성명\\t상태\\t법조치     \\t비고\\n────────────────────...   요약  ㈜한양트레이딩  NaN   \n",
       "4  매각사 KS인데 한울가람으로 잘못등록된 거 정정\\n\\n양수도라인     \\t하나은행...   DC   ㈜아이텍스필  NaN   \n",
       "\n",
       "          구분일 보증인성명1 보증인성명2 보증인성명3 보증인성명4 보증인성명5 보증인성명6 보증인성명7 보증인성명8  \n",
       "0  2025-06-13    김정희   None   None   None   None   None   None   None  \n",
       "1  2025-06-13    정수연   None   None   None   None   None   None   None  \n",
       "2  2025-06-13    신옥희   None   None   None   None   None   None   None  \n",
       "3  2025-06-13    박경옥   None   None   None   None   None   None   None  \n",
       "4  2024-08-01    정주병   None   None   None   None   None   None   None  "
      ]
     },
     "execution_count": 8,
     "metadata": {},
     "output_type": "execute_result"
    }
   ],
   "source": [
    "메모 = 메모.merge(보증인_정리_split, on='채무자키', how='left')\n",
    "메모.head()"
   ]
  },
  {
   "cell_type": "code",
   "execution_count": 12,
   "id": "3c162a31",
   "metadata": {},
   "outputs": [],
   "source": [
    "불가문구 = r\"(완납|면책|면탈|사망|이민|상실|패소|종결|제외)\"\n",
    "\n",
    "메모['불가문구여부'] = 메모.메모내용.str.extract(f'{불가문구}')"
   ]
  },
  {
   "cell_type": "code",
   "execution_count": 14,
   "id": "d6d9776c",
   "metadata": {},
   "outputs": [],
   "source": [
    "def 보증인포함여부(row):\n",
    "    for col in ['보증인성명1', '보증인성명2', '보증인성명3', '보증인성명4', '보증인성명5', '보증인성명6', '보증인성명7','보증인성명8']:\n",
    "        이름 = row[col]\n",
    "        if pd.notnull(이름) and 이름 in row['메모내용']:\n",
    "            return True\n",
    "    return False\n",
    "\n",
    "메모['보증인언급여부'] = 메모.apply(보증인포함여부, axis=1)\n"
   ]
  },
  {
   "cell_type": "code",
   "execution_count": 16,
   "id": "70fd5fa4",
   "metadata": {},
   "outputs": [],
   "source": [
    "메모[메모.불가문구여부.notna() & 메모.보증인언급여부].to_excel(r\"C:\\Users\\DATA\\Desktop\\P1,P8법인실사\\불가문구메모.xlsx\", index=False)"
   ]
  },
  {
   "cell_type": "markdown",
   "id": "a3fc95d8",
   "metadata": {},
   "source": [
    "### 입금자구분"
   ]
  },
  {
   "cell_type": "code",
   "execution_count": 6,
   "id": "bb279bfc",
   "metadata": {},
   "outputs": [],
   "source": [
    "path = r\"C:\\Users\\DATA\\Desktop\"\n",
    "fn = \"입금자구분\"\n",
    "\n",
    "# df = pd.read_excel(join(path, fn + \".xlsx\"), dtype={\"채무자키\":str, \"입금키\":str})\n",
    "# df.to_pickle(join(path, fn +\".pkl\"))\n",
    "df_ori = pd.read_pickle(join(path, fn + \".pkl\"))"
   ]
  },
  {
   "cell_type": "code",
   "execution_count": 10,
   "id": "dd6590fa",
   "metadata": {},
   "outputs": [
    {
     "name": "stderr",
     "output_type": "stream",
     "text": [
      "c:\\Users\\DATA\\AppData\\Local\\anaconda3\\envs\\py_39\\lib\\site-packages\\openpyxl\\styles\\stylesheet.py:226: UserWarning: Workbook contains no default style, apply openpyxl's default\n",
      "  warn(\"Workbook contains no default style, apply openpyxl's default\")\n"
     ]
    }
   ],
   "source": [
    "# 성명로그\n",
    "성명로그 = pd.read_excel(join(path, \"성명로그_20250625_1310.xlsx\"), dtype={\"채무자키\":str})"
   ]
  },
  {
   "cell_type": "code",
   "execution_count": 24,
   "id": "faafa163",
   "metadata": {},
   "outputs": [
    {
     "data": {
      "text/html": [
       "<div>\n",
       "<style scoped>\n",
       "    .dataframe tbody tr th:only-of-type {\n",
       "        vertical-align: middle;\n",
       "    }\n",
       "\n",
       "    .dataframe tbody tr th {\n",
       "        vertical-align: top;\n",
       "    }\n",
       "\n",
       "    .dataframe thead th {\n",
       "        text-align: right;\n",
       "    }\n",
       "</style>\n",
       "<table border=\"1\" class=\"dataframe\">\n",
       "  <thead>\n",
       "    <tr style=\"text-align: right;\">\n",
       "      <th></th>\n",
       "      <th>채무자키</th>\n",
       "      <th>이름_1</th>\n",
       "      <th>이름_2</th>\n",
       "      <th>이름_3</th>\n",
       "    </tr>\n",
       "  </thead>\n",
       "  <tbody>\n",
       "    <tr>\n",
       "      <th>0</th>\n",
       "      <td>20407819</td>\n",
       "      <td>유성일</td>\n",
       "      <td>유성일(로젠이사)</td>\n",
       "      <td>NaN</td>\n",
       "    </tr>\n",
       "    <tr>\n",
       "      <th>1</th>\n",
       "      <td>20407820</td>\n",
       "      <td>배시영</td>\n",
       "      <td>배시영(금화통운)</td>\n",
       "      <td>NaN</td>\n",
       "    </tr>\n",
       "    <tr>\n",
       "      <th>2</th>\n",
       "      <td>20407975</td>\n",
       "      <td>김하린</td>\n",
       "      <td>김하린(김세은)</td>\n",
       "      <td>NaN</td>\n",
       "    </tr>\n",
       "    <tr>\n",
       "      <th>3</th>\n",
       "      <td>20408001</td>\n",
       "      <td>강나현</td>\n",
       "      <td>강보희</td>\n",
       "      <td>NaN</td>\n",
       "    </tr>\n",
       "    <tr>\n",
       "      <th>4</th>\n",
       "      <td>20408047</td>\n",
       "      <td>김나현</td>\n",
       "      <td>김나현(개명전:김보슬)</td>\n",
       "      <td>NaN</td>\n",
       "    </tr>\n",
       "    <tr>\n",
       "      <th>...</th>\n",
       "      <td>...</td>\n",
       "      <td>...</td>\n",
       "      <td>...</td>\n",
       "      <td>...</td>\n",
       "    </tr>\n",
       "    <tr>\n",
       "      <th>857</th>\n",
       "      <td>20527133</td>\n",
       "      <td>김지안</td>\n",
       "      <td>김혜경</td>\n",
       "      <td>NaN</td>\n",
       "    </tr>\n",
       "    <tr>\n",
       "      <th>858</th>\n",
       "      <td>20527470</td>\n",
       "      <td>신건호</td>\n",
       "      <td>신건호(변경전 : 신현길)</td>\n",
       "      <td>신현길</td>\n",
       "    </tr>\n",
       "    <tr>\n",
       "      <th>859</th>\n",
       "      <td>20527675</td>\n",
       "      <td>이상민</td>\n",
       "      <td>이재규</td>\n",
       "      <td>NaN</td>\n",
       "    </tr>\n",
       "    <tr>\n",
       "      <th>860</th>\n",
       "      <td>20527831</td>\n",
       "      <td>이윤지</td>\n",
       "      <td>이윤지(변경전 : 이향순)</td>\n",
       "      <td>이향순</td>\n",
       "    </tr>\n",
       "    <tr>\n",
       "      <th>861</th>\n",
       "      <td>20527982</td>\n",
       "      <td>정승완</td>\n",
       "      <td>정시우</td>\n",
       "      <td>NaN</td>\n",
       "    </tr>\n",
       "  </tbody>\n",
       "</table>\n",
       "<p>862 rows × 4 columns</p>\n",
       "</div>"
      ],
      "text/plain": [
       "         채무자키 이름_1            이름_2 이름_3\n",
       "0    20407819  유성일       유성일(로젠이사)  NaN\n",
       "1    20407820  배시영       배시영(금화통운)  NaN\n",
       "2    20407975  김하린        김하린(김세은)  NaN\n",
       "3    20408001  강나현             강보희  NaN\n",
       "4    20408047  김나현    김나현(개명전:김보슬)  NaN\n",
       "..        ...  ...             ...  ...\n",
       "857  20527133  김지안             김혜경  NaN\n",
       "858  20527470  신건호  신건호(변경전 : 신현길)  신현길\n",
       "859  20527675  이상민             이재규  NaN\n",
       "860  20527831  이윤지  이윤지(변경전 : 이향순)  이향순\n",
       "861  20527982  정승완             정시우  NaN\n",
       "\n",
       "[862 rows x 4 columns]"
      ]
     },
     "execution_count": 24,
     "metadata": {},
     "output_type": "execute_result"
    }
   ],
   "source": [
    "# 변경전/변경후 모두 합친 후, 채무자키별 고유값 집합 생성\n",
    "성명로그_combined = 성명로그.melt(id_vars=\"채무자키\", value_vars=[\"변경전\", \"변경후\"], value_name=\"이름\")\n",
    "성명로그_combined[\"이름\"] = 성명로그_combined[\"이름\"].replace(\"test\", pd.NA)\n",
    "\n",
    "# 그룹별로 고유값 목록 만들기\n",
    "grouped = 성명로그_combined.groupby(\"채무자키\")[\"이름\"].apply(lambda x: sorted(set(x.dropna()))).reset_index()\n",
    "\n",
    "# 고유값을 컬럼으로 펼치기\n",
    "성명이력 = grouped[\"이름\"].apply(pd.Series)\n",
    "성명이력.columns = [f\"이름_{i+1}\" for i in 성명이력.columns]\n",
    "성명이력.insert(0, \"채무자키\", grouped[\"채무자키\"])\n",
    "\n",
    "성명이력"
   ]
  },
  {
   "cell_type": "code",
   "execution_count": 32,
   "id": "bb5838c4",
   "metadata": {},
   "outputs": [
    {
     "name": "stdout",
     "output_type": "stream",
     "text": [
      "Index(['채무자키', '입금키', '입금자', '입금자구분', '입금구분', '입금메모', '입금비고', '채무자명', '개인법인',\n",
      "       '보증인성명'],\n",
      "      dtype='object')\n",
      "Index(['채무자키', '이름_1', '이름_2', '이름_3'], dtype='object')\n"
     ]
    }
   ],
   "source": [
    "df = df_ori.copy()\n",
    "df = df.drop_duplicates(subset=\"입금키\", keep='first')\n",
    "df = df[~(df.입금자구분==\"주채무\")]\n",
    "\n",
    "print(df.columns)\n",
    "print(성명이력.columns)"
   ]
  },
  {
   "cell_type": "code",
   "execution_count": 33,
   "id": "391edc77",
   "metadata": {},
   "outputs": [
    {
     "name": "stdout",
     "output_type": "stream",
     "text": [
      "747972\n",
      "747972\n"
     ]
    }
   ],
   "source": [
    "# df에 변경이름들 추가하기\n",
    "print(len(df))\n",
    "df = df.merge(성명이력, how='left')\n",
    "print(len(df))"
   ]
  },
  {
   "cell_type": "code",
   "execution_count": 34,
   "id": "face253b",
   "metadata": {},
   "outputs": [],
   "source": [
    "# 입금자 == 채무자\n",
    "cols_to_check = [\"채무자명\", \"이름_1\", \"이름_2\", \"이름_3\"]\n",
    "\n",
    "def is_match(row):\n",
    "    depositor = str(row[\"입금자\"])\n",
    "    for col in cols_to_check:\n",
    "        name = str(row.get(col, \"\"))\n",
    "        if pd.isna(name):\n",
    "            continue\n",
    "        if depositor in name or name in depositor:\n",
    "            return True\n",
    "    return False\n",
    "\n",
    "df[\"입금자가차주\"] = df.apply(is_match, axis=1)"
   ]
  },
  {
   "cell_type": "code",
   "execution_count": 35,
   "id": "ccac15ca",
   "metadata": {},
   "outputs": [],
   "source": [
    "# 입금자 == 보증인\n",
    "def match_guarantor(row):\n",
    "    depositor = str(row[\"입금자\"])\n",
    "    guarantors = str(row.get(\"보증인성명\", \"\"))\n",
    "    \n",
    "    if pd.isna(depositor) or pd.isna(guarantors):\n",
    "        return False\n",
    "\n",
    "    for name in guarantors.split(\",\"):\n",
    "        name = name.strip()\n",
    "        if depositor in name or name in depositor:\n",
    "            return True\n",
    "    return False\n",
    "\n",
    "df[\"입금자가보증인\"] = df.apply(match_guarantor, axis=1)"
   ]
  },
  {
   "cell_type": "code",
   "execution_count": 45,
   "id": "667c46c0",
   "metadata": {},
   "outputs": [],
   "source": [
    "# 법인채권인인데 입금자가 채무자\n",
    "conds = [\n",
    "    (df.개인법인==\"법인\") & df.입금자가차주, \n",
    "    (df.입금자구분==\"채무자\") & df.입금자가보증인,\n",
    "    (df.입금자구분==\"보증인\") & df.입금자가차주,\n",
    "    (~df.입금자가차주) & (~df.입금자가보증인)\n",
    "]\n",
    "values = [\n",
    "    \"법인이름으로입금된경우\",\n",
    "    \"보증인\",\n",
    "    \"채무자\",\n",
    "    \"둘다아님\"\n",
    "]\n",
    "df[\"확인필요건\"] = np.select(conds, values, default=pd.NA)"
   ]
  },
  {
   "cell_type": "code",
   "execution_count": 50,
   "id": "6fe33a94",
   "metadata": {},
   "outputs": [],
   "source": [
    "확인필요건 = df[df.확인필요건.notna()].sort_values(by=[\"채무자키\",\"입금자\"])"
   ]
  },
  {
   "cell_type": "code",
   "execution_count": 54,
   "id": "881bb418",
   "metadata": {},
   "outputs": [],
   "source": [
    "functions.save_df_to_excel_underline(확인필요건, join(path, \"입금자구분확인필요건.xlsx\"), key_columns_no=\"채무자키\")"
   ]
  }
 ],
 "metadata": {
  "kernelspec": {
   "display_name": "py_312",
   "language": "python",
   "name": "python3"
  },
  "language_info": {
   "codemirror_mode": {
    "name": "ipython",
    "version": 3
   },
   "file_extension": ".py",
   "mimetype": "text/x-python",
   "name": "python",
   "nbconvert_exporter": "python",
   "pygments_lexer": "ipython3",
   "version": "3.12.11"
  }
 },
 "nbformat": 4,
 "nbformat_minor": 5
}
