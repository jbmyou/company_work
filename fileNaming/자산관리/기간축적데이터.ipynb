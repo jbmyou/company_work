{
 "cells": [
  {
   "cell_type": "markdown",
   "id": "d2f6bbcf",
   "metadata": {},
   "source": [
    "### import"
   ]
  },
  {
   "cell_type": "code",
   "execution_count": 1,
   "id": "4dda4af2",
   "metadata": {},
   "outputs": [],
   "source": [
    "import pandas as pd\n",
    "import numpy as np\n",
    "from os.path import join\n",
    "from datetime import datetime\n",
    "import functions\n",
    "import warnings\n",
    "warnings.simplefilter(\"ignore\")"
   ]
  },
  {
   "cell_type": "code",
   "execution_count": 2,
   "id": "33f11c4e",
   "metadata": {},
   "outputs": [],
   "source": [
    "# ################################\n",
    "company = \"솔림\"\n",
    "최종조회일 = \"250831\"\n",
    "데이터종류 = \"메모\"\n",
    "deposit_dtype = functions.memo_dtype\n",
    "# 파일 하나만 추가할 경우 파일명만(확장자x), 여러개일 경우 \"\"\n",
    "fn_excel = \"메모조회새창_20250831\"\n",
    "# ################################\n",
    "최초조회일 = \"1993\" if company == \"솔림\" else \"\"\n",
    "path_excel = join(r\"D:\\3.자산\\전산 dataset\",company,\"기간축적데이터\", 데이터종류)\n",
    "path_parquet = join(r\"D:\\3.자산\\전산 dataset\",company, \"기간축적데이터\", 데이터종류, \"parquet\")\n",
    "fn_write = company + 데이터종류+\"전체_\" + 최초조회일 + \"~\" + 최종조회일 +\".parquet\""
   ]
  },
  {
   "cell_type": "code",
   "execution_count": null,
   "id": "69dbe370",
   "metadata": {},
   "outputs": [],
   "source": [
    "# parquet 파일 읽기\n",
    "try : \n",
    "    df_ori = pd.read_parquet(functions.키워드로파일명찾기(path_parquet, 포함키워드=company+데이터종류+\"전체\", 여러파일허용=True, 전체경로=True)[-1])\n",
    "except : # 파일이 없는 경우\n",
    "    df_ori = pd.DataFrame(None)\n",
    "\n",
    "# 엑셀 파일 읽기\n",
    "if fn_excel ==\"\":\n",
    "    fnlist = functions.키워드로파일명찾기(path_excel, 포함키워드=데이터종류+\"조회새창\", 여러파일허용=True)\n",
    "    df = pd.DataFrame(None)\n",
    "    for fn in fnlist :\n",
    "        print(f'{fn} 읽기 시작')\n",
    "        df = pd.concat([df, pd.read_excel(fn, dtype=deposit_dtype)])\n",
    "else : \n",
    "    fnlist = functions.키워드로파일명찾기(path_excel, fn_excel+\".xlsx\")\n",
    "    df = pd.read_excel(fnlist, dtype=deposit_dtype)\n",
    "\n",
    "# 합치기\n",
    "df_concat = pd.concat([df_ori, df])\n",
    "\n",
    "# parquet 저장 : 통합본 읽을 때 정렬 및 인덱스 전처리 안 함에 유의\n",
    "functions.to_parquet(df_concat, join(path_parquet, fn_write))"
   ]
  }
 ],
 "metadata": {
  "kernelspec": {
   "display_name": "py_312",
   "language": "python",
   "name": "python3"
  },
  "language_info": {
   "codemirror_mode": {
    "name": "ipython",
    "version": 3
   },
   "file_extension": ".py",
   "mimetype": "text/x-python",
   "name": "python",
   "nbconvert_exporter": "python",
   "pygments_lexer": "ipython3",
   "version": "3.12.11"
  }
 },
 "nbformat": 4,
 "nbformat_minor": 5
}
