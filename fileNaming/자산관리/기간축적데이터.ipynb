{
 "cells": [
  {
   "cell_type": "markdown",
   "id": "d2f6bbcf",
   "metadata": {},
   "source": [
    "### import"
   ]
  },
  {
   "cell_type": "code",
   "execution_count": 7,
   "id": "4dda4af2",
   "metadata": {},
   "outputs": [],
   "source": [
    "import pandas as pd\n",
    "import numpy as np\n",
    "from os.path import join\n",
    "import functions\n",
    "import warnings\n",
    "import re\n",
    "warnings.simplefilter(\"ignore\")"
   ]
  },
  {
   "cell_type": "markdown",
   "id": "61441578",
   "metadata": {},
   "source": [
    "### 일반"
   ]
  },
  {
   "cell_type": "code",
   "execution_count": 16,
   "id": "33f11c4e",
   "metadata": {},
   "outputs": [],
   "source": [
    "# ################################\n",
    "company = \"대성\"\n",
    "최종조회일 = \"250930\"\n",
    "데이터종류 = \"메모\"\n",
    "# 파일 하나만 추가할 경우 파일명만(확장자x), 여러개일 경우 \"\"\n",
    "fn_excel = \"메모조회새창_971213~250930\"\n",
    "# ################################\n",
    "if 데이터종류 == \"입금\" : \n",
    "    최초조회일 = \"160119\" if company == \"솔림\" else \"150824\"\n",
    "    deposit_dtype = functions.deposit_dtype\n",
    "    기간칼럼명 = \"입금일\"\n",
    "elif 데이터종류 == \"메모\" : \n",
    "    최초조회일 = \"930426\" if company == \"솔림\" else \"971213\"\n",
    "    deposit_dtype = functions.memo_dtype\n",
    "    기간칼럼명 = \"등록일자\"\n",
    "# ################################\n",
    "path_excel = join(r\"D:\\3.자산\\전산 dataset\",company,\"기간축적데이터\", 데이터종류)\n",
    "path_parquet = join(r\"D:\\3.자산\\전산 dataset\",company, \"기간축적데이터\", 데이터종류, \"parquet\")\n",
    "fn_write = company + 데이터종류+\"전체_\" + 최초조회일 + \"~\" + 최종조회일 +\".parquet\""
   ]
  },
  {
   "cell_type": "code",
   "execution_count": 22,
   "id": "69dbe370",
   "metadata": {},
   "outputs": [
    {
     "name": "stdout",
     "output_type": "stream",
     "text": [
      "포함키워드:대성메모전체, 제외키워드 조건을 만족하는 파일이 없습니다.\n",
      "df(엑셀파일) 기간 : 1997-12-13 00:00:00~2025-09-30 16:38:30\n",
      "df_concat(병합파일) 기간확인 1997-12-13 00:00:00 2025-09-30 16:38:30\n"
     ]
    }
   ],
   "source": [
    "# parquet 파일 읽기\n",
    "path_parquet_이전기간전체파일 = functions.키워드로파일명찾기(path_parquet, 포함키워드=company+데이터종류+\"전체\", 여러파일허용=True, 전체경로=True)\n",
    "if isinstance(path_parquet_이전기간전체파일, list) : # 파일 여러개\n",
    "    df_ori = pd.read_parquet(path_parquet_이전기간전체파일[-1])\n",
    "elif isinstance(path_parquet_이전기간전체파일, str) : # 파일 한 개\n",
    "    df_ori = pd.read_parquet(path_parquet_이전기간전체파일)\n",
    "else : # 파일 없음\n",
    "    df_ori = pd.DataFrame(None)\n",
    "if not df_ori.empty :\n",
    "    print(f'df_ori(이전기간 parquet파일) 기간 : {df_ori[f\"{기간칼럼명}\"].min()}~{df_ori[f\"{기간칼럼명}\"].max()}')\n",
    "\n",
    "# 엑셀 파일 읽기\n",
    "if fn_excel ==\"\":\n",
    "    fnlist = functions.키워드로파일명찾기(path_excel, 포함키워드=데이터종류+\"조회새창\", 여러파일허용=True)\n",
    "    df = pd.DataFrame(None)\n",
    "    for fn in fnlist :\n",
    "        print(f'{fn} 읽기 시작')\n",
    "        df = pd.concat([df, pd.read_excel(fn, dtype=deposit_dtype)])\n",
    "else : \n",
    "    fnlist = functions.키워드로파일명찾기(path_excel, fn_excel+\".xlsx\")\n",
    "    df = pd.read_excel(fnlist, dtype=deposit_dtype)\n",
    "\n",
    "\n",
    "# 공지메모의 등록일자 바로잡기 : 엑셀만 하면 됨\n",
    "if 데이터종류 == \"메모\" : \n",
    "    mask = df[\"등록일자\"].str.contains(\"★\", na=False)\n",
    "    df.loc[mask, \"등록일자\"] = (\n",
    "        df.loc[mask, \"등록일자\"]\n",
    "        .str.extract(r\"(\\d{4}-\\d{2}-\\d{2})\")[0]\n",
    "    )\n",
    "\n",
    "print(f'df(엑셀파일) 기간 : {df[f\"{기간칼럼명}\"].min()}~{df[f\"{기간칼럼명}\"].max()}')\n",
    "\n",
    "# 합치기\n",
    "df_concat = pd.concat([df_ori, df])\n",
    "\n",
    "print(\"df_concat(병합파일) 기간확인\", df_concat[f\"{기간칼럼명}\"].min(), df_concat[f\"{기간칼럼명}\"].max())"
   ]
  },
  {
   "cell_type": "code",
   "execution_count": 24,
   "id": "a2036100",
   "metadata": {},
   "outputs": [],
   "source": [
    "# parquet 저장 : 통합본 읽을 때 정렬 및 인덱스 전처리 안 함에 유의\n",
    "functions.to_parquet(df_concat, join(path_parquet, fn_write))"
   ]
  },
  {
   "cell_type": "markdown",
   "id": "a90a4af8",
   "metadata": {},
   "source": [
    "### 나의사건"
   ]
  },
  {
   "cell_type": "markdown",
   "id": "63d3908c",
   "metadata": {},
   "source": [
    "#### 나의 사건 전체 목록 만들기/읽기"
   ]
  },
  {
   "cell_type": "code",
   "execution_count": 17,
   "id": "bf22c3bd",
   "metadata": {},
   "outputs": [],
   "source": [
    "# ################################\n",
    "company = \"솔림\"\n",
    "지점 = \"광주\"\n",
    "최종조회일 = \"250831\" # 월말 자산정리일 기준으로 작성, 아닌 경우 df_law 읽을 때 따로 날짜 지정해야\n",
    "데이터종류 = \"나의사건\"\n",
    "나의사건_dtype = str\n",
    "# 파일 하나만 추가할 경우 파일명만(확장자x), 여러개일 경우 \"\"\n",
    "fn_excel = None  # \"\" : 여러파일, \"파일명\" : 단일파일, None : 기존 parquet만 읽기\n",
    "최초조회일 = \"170802\" if company == \"솔림\" else \"\"\n",
    "# ################################\n",
    "path_excel = join(r\"D:\\3.자산\\전산 dataset\",company,\"기간축적데이터\", 데이터종류)\n",
    "path_parquet = join(r\"D:\\3.자산\\전산 dataset\",company, \"기간축적데이터\", 데이터종류, \"parquet\")\n",
    "fn_write = company + 데이터종류+\"전체_\" + 최초조회일 + \"~\" + 최종조회일 +\".parquet\"\n",
    "\n",
    "\n",
    "# parquet 파일 읽기\n",
    "path_parquet_files = functions.키워드로파일명찾기(path_parquet, 포함키워드=company+데이터종류+\"전체\", 여러파일허용=True, 전체경로=True)\n",
    "if isinstance(path_parquet_files, str) :\n",
    "    path_parquet_fn = path_parquet_files\n",
    "else :\n",
    "    path_parquet_fn = path_parquet_files[-1]\n",
    "\n",
    "try : \n",
    "    df_ori = pd.read_parquet(path_parquet_fn)\n",
    "except : # 파일이 없는 경우\n",
    "    df_ori = pd.DataFrame(None)\n",
    "\n",
    "# 엑셀 파일 읽기\n",
    "if fn_excel ==\"\":\n",
    "    df = pd.DataFrame(None)\n",
    "    for 사건진행구분 in [\"확정사건\", \"완료사건\",\"진행사건\"] : \n",
    "        \n",
    "        fnlist = functions.키워드로파일명찾기(path_excel, 포함키워드=지점+\" \"+사건진행구분, 여러파일허용=True)\n",
    "        \n",
    "        if isinstance(fnlist, str) : # 파일이 한 건\n",
    "            print(f'{fnlist} 읽기 시작')\n",
    "            df_temp = pd.read_excel(fnlist, dtype=나의사건_dtype)\n",
    "            df_temp[\"사건진행구분\"] = 사건진행구분\n",
    "            df = pd.concat([df, df_temp])\n",
    "        else :\n",
    "            for fn in fnlist :\n",
    "                print(f'{fn} 읽기 시작')\n",
    "                df_temp = pd.read_excel(fn, dtype=나의사건_dtype)\n",
    "                df_temp[\"사건진행구분\"] = 사건진행구분\n",
    "                df = pd.concat([df, df_temp])\n",
    "elif fn_excel == None :\n",
    "    df = df_ori.copy()\n",
    "else : \n",
    "    fnlist = functions.키워드로파일명찾기(path_excel, fn_excel+\".xlsx\")\n",
    "    사건진행구분 = re.search(\"(진행|확정|완료)사건\", \"광주 확정사건 220701~250831\")[0]\n",
    "    df = pd.read_excel(fnlist, dtype=나의사건_dtype)\n",
    "    df[\"사건진행구분\"] = 사건진행구분\n",
    "\n",
    "if fn_excel!=None :\n",
    "    df[\"지점\"] = 지점"
   ]
  },
  {
   "cell_type": "markdown",
   "id": "b1f43fe3",
   "metadata": {},
   "source": [
    "#### 채무자키 매칭"
   ]
  },
  {
   "cell_type": "code",
   "execution_count": 28,
   "id": "9c0fc232",
   "metadata": {},
   "outputs": [],
   "source": [
    "# 채무자키 넣기\n",
    "    # 법조치 읽기\n",
    "fn_law = functions.키워드로파일명찾기(join(r'D:\\3.자산\\전산 dataset\\솔림',최종조회일,\"parquet\"),\"법조치조회새창\", 여러파일허용=False)\n",
    "df_law = pd.read_parquet(fn_law)\n",
    "    # 개인회생 전체파일 읽기\n",
    "fn_rehabilitation = functions.키워드로파일명찾기(join(r'D:\\3.자산\\전산 dataset\\솔림',최종조회일,\"parquet\"),r\"\\[상태DC\\]개인회생\", 여러파일허용=False)\n",
    "df_rehabilitation = pd.read_parquet(fn_rehabilitation)"
   ]
  },
  {
   "cell_type": "code",
   "execution_count": 34,
   "id": "1bf4d63e",
   "metadata": {},
   "outputs": [
    {
     "data": {
      "text/plain": [
       "Index(['주민번호'], dtype='object')"
      ]
     },
     "execution_count": 34,
     "metadata": {},
     "output_type": "execute_result"
    }
   ],
   "source": [
    "df_law.columns[df_law.columns.str.contains('주민')]"
   ]
  },
  {
   "cell_type": "code",
   "execution_count": null,
   "id": "7fcd36a6",
   "metadata": {},
   "outputs": [
    {
     "name": "stdout",
     "output_type": "stream",
     "text": [
      "법원사건번호에 빈값 있는 행: 172322\n",
      "빈값 삭제 후 130451\n",
      "★ 차주중복등록사건 252건 엑셀출력\n",
      "\n"
     ]
    }
   ],
   "source": [
    "# 1. df_law 후보 만들기\n",
    "change_cols_name_dict = {\"관할법원\":\"법원\", \"관련사건법원\":\"법원\", \"관련법조치관할법원\": \"법원\", \"관련사건번호\":\"사건번호\", \"관련법조치사건번호\":\"사건번호\", \"주민번호\":\"차주주민번호\", \"주민번호인\":\"차주주민번호\"}\n",
    "\n",
    "cand1 = df_law[[\"관할법원\", \"사건번호\", \"채무자키\",\"주민번호\"]].rename(columns=change_cols_name_dict)\n",
    "cand2 = df_law[[\"관련사건법원\", \"관련사건번호\", \"채무자키\",\"주민번호\"]].rename(columns=change_cols_name_dict)\n",
    "cand3 = df_law[[\"관련법조치관할법원\", \"관련법조치사건번호\", \"채무자키\",\"주민번호\"]].rename(columns=change_cols_name_dict)\n",
    "\n",
    "cand4 = df_rehabilitation[[\"관할법원\",\"사건번호\",\"채무자키\",\"주민번호인\"]].rename(columns=change_cols_name_dict)\n",
    "\n",
    "# 2. 전부 합치기\n",
    "df_law_candidates = pd.concat([cand1, cand2, cand3, cand4], ignore_index=True)\n",
    "\n",
    "\n",
    "# 후처리 \n",
    "    # 정렬\n",
    "df_law_candidates = df_law_candidates.sort_values(['법원','사건번호','채무자키'])\n",
    "    \n",
    "    # 법원-사건번호-채무자키 중복건 삭제\n",
    "df_law_candidates = df_law_candidates.drop_duplicates(subset=['법원','사건번호','채무자키'], keep='first')\n",
    "\n",
    "    # 관할법원, 사건번호 없는 건은 삭제\n",
    "df_law_candidates = df_law_candidates.replace(\"\", np.nan)\n",
    "print('법원사건번호에 빈값 있는 행:',len(df_law_candidates))\n",
    "df_law_candidates = df_law_candidates.dropna(subset=[\"법원\", \"사건번호\"], how='any')\n",
    "print('빈값 삭제 후',len(df_law_candidates))\n",
    "\n",
    "# [dc] 동일 사건에, 차주 주민번호 다른 건 확인\n",
    "dup_cases = (\n",
    "    df_law_candidates\n",
    "    .groupby([\"법원\", \"사건번호\"])[\"차주주민번호\"]\n",
    "    .nunique()\n",
    "    .reset_index()\n",
    "    .query(\"차주주민번호 > 1\")   # 고유 주민번호 개수가 2개 이상인 경우만\n",
    ")\n",
    "\n",
    "    # 중복등록이 맞음\n",
    "if company == \"솔림\" : \n",
    "    data = [\n",
    "        [\"광주지방법원\",\"2003가단16998\"],\n",
    "        \n",
    "    ]\n",
    "    중복확인된사건 = pd.DataFrame(data, columns=[\"법원\",\"사건번호\"])\n",
    "\n",
    "\n",
    "\n",
    "# 해당 케이스의 원본 데이터 뽑기\n",
    "problem_rows = df_law_candidates.merge(dup_cases[[\"법원\",\"사건번호\"]], on=[\"법원\",\"사건번호\"], how=\"inner\")\n",
    "functions.save_excel_with_explain(problem_rows, \"차주중복등록사건.xlsx\", key_columns_no=2)"
   ]
  },
  {
   "cell_type": "code",
   "execution_count": 60,
   "id": "a0572033",
   "metadata": {},
   "outputs": [
    {
     "data": {
      "text/html": [
       "<div>\n",
       "<style scoped>\n",
       "    .dataframe tbody tr th:only-of-type {\n",
       "        vertical-align: middle;\n",
       "    }\n",
       "\n",
       "    .dataframe tbody tr th {\n",
       "        vertical-align: top;\n",
       "    }\n",
       "\n",
       "    .dataframe thead th {\n",
       "        text-align: right;\n",
       "    }\n",
       "</style>\n",
       "<table border=\"1\" class=\"dataframe\">\n",
       "  <thead>\n",
       "    <tr style=\"text-align: right;\">\n",
       "      <th></th>\n",
       "      <th>법원</th>\n",
       "      <th>사건번호</th>\n",
       "    </tr>\n",
       "  </thead>\n",
       "  <tbody>\n",
       "    <tr>\n",
       "      <th>0</th>\n",
       "      <td>광주지방법원</td>\n",
       "      <td>2003가단16998</td>\n",
       "    </tr>\n",
       "  </tbody>\n",
       "</table>\n",
       "</div>"
      ],
      "text/plain": [
       "       법원         사건번호\n",
       "0  광주지방법원  2003가단16998"
      ]
     },
     "execution_count": 60,
     "metadata": {},
     "output_type": "execute_result"
    }
   ],
   "source": [
    "pd.DataFrame([[\"광주지방법원\",\"2003가단16998\"]], columns=[\"법원\",\"사건번호\"])"
   ]
  },
  {
   "cell_type": "code",
   "execution_count": null,
   "id": "bbef3b25",
   "metadata": {},
   "outputs": [
    {
     "data": {
      "text/html": [
       "<div>\n",
       "<style scoped>\n",
       "    .dataframe tbody tr th:only-of-type {\n",
       "        vertical-align: middle;\n",
       "    }\n",
       "\n",
       "    .dataframe tbody tr th {\n",
       "        vertical-align: top;\n",
       "    }\n",
       "\n",
       "    .dataframe thead th {\n",
       "        text-align: right;\n",
       "    }\n",
       "</style>\n",
       "<table border=\"1\" class=\"dataframe\">\n",
       "  <thead>\n",
       "    <tr style=\"text-align: right;\">\n",
       "      <th></th>\n",
       "      <th>법원</th>\n",
       "      <th>사건번호</th>\n",
       "      <th>채무자키</th>\n",
       "      <th>차주주민번호</th>\n",
       "    </tr>\n",
       "  </thead>\n",
       "  <tbody>\n",
       "    <tr>\n",
       "      <th>0</th>\n",
       "      <td>수원지방법원</td>\n",
       "      <td>2025타채134613</td>\n",
       "      <td>20428861</td>\n",
       "      <td>401108-1052413</td>\n",
       "    </tr>\n",
       "    <tr>\n",
       "      <th>1</th>\n",
       "      <td>수원지방법원</td>\n",
       "      <td>2025타채134613</td>\n",
       "      <td>20500063</td>\n",
       "      <td>821210-1122013</td>\n",
       "    </tr>\n",
       "    <tr>\n",
       "      <th>2</th>\n",
       "      <td>광주지방법원</td>\n",
       "      <td>2024하면5081</td>\n",
       "      <td>20428934</td>\n",
       "      <td>640311-1495617</td>\n",
       "    </tr>\n",
       "    <tr>\n",
       "      <th>3</th>\n",
       "      <td>광주지방법원</td>\n",
       "      <td>2024하면5081</td>\n",
       "      <td>20429840</td>\n",
       "      <td>571115-2495634</td>\n",
       "    </tr>\n",
       "    <tr>\n",
       "      <th>4</th>\n",
       "      <td>전주지방법원</td>\n",
       "      <td>2024하면296</td>\n",
       "      <td>20413618</td>\n",
       "      <td>640522-2661011</td>\n",
       "    </tr>\n",
       "    <tr>\n",
       "      <th>...</th>\n",
       "      <td>...</td>\n",
       "      <td>...</td>\n",
       "      <td>...</td>\n",
       "      <td>...</td>\n",
       "    </tr>\n",
       "    <tr>\n",
       "      <th>426</th>\n",
       "      <td>울산지방법원</td>\n",
       "      <td>2019개회11603</td>\n",
       "      <td>20514978</td>\n",
       "      <td>730209-2785414</td>\n",
       "    </tr>\n",
       "    <tr>\n",
       "      <th>427</th>\n",
       "      <td>울산지방법원</td>\n",
       "      <td>2019개회11597</td>\n",
       "      <td>20515427</td>\n",
       "      <td>710428-1453110</td>\n",
       "    </tr>\n",
       "    <tr>\n",
       "      <th>428</th>\n",
       "      <td>울산지방법원</td>\n",
       "      <td>2019개회11597</td>\n",
       "      <td>20514978</td>\n",
       "      <td>730209-2785414</td>\n",
       "    </tr>\n",
       "    <tr>\n",
       "      <th>429</th>\n",
       "      <td>수원회생법원</td>\n",
       "      <td>2019개회16391</td>\n",
       "      <td>20408300</td>\n",
       "      <td>681020-2668033</td>\n",
       "    </tr>\n",
       "    <tr>\n",
       "      <th>430</th>\n",
       "      <td>수원회생법원</td>\n",
       "      <td>2019개회16391</td>\n",
       "      <td>20416866</td>\n",
       "      <td>630702-2106328</td>\n",
       "    </tr>\n",
       "  </tbody>\n",
       "</table>\n",
       "<p>431 rows × 4 columns</p>\n",
       "</div>"
      ],
      "text/plain": [
       "         법원          사건번호      채무자키          차주주민번호\n",
       "0    수원지방법원  2025타채134613  20428861  401108-1052413\n",
       "1    수원지방법원  2025타채134613  20500063  821210-1122013\n",
       "2    광주지방법원    2024하면5081  20428934  640311-1495617\n",
       "3    광주지방법원    2024하면5081  20429840  571115-2495634\n",
       "4    전주지방법원     2024하면296  20413618  640522-2661011\n",
       "..      ...           ...       ...             ...\n",
       "426  울산지방법원   2019개회11603  20514978  730209-2785414\n",
       "427  울산지방법원   2019개회11597  20515427  710428-1453110\n",
       "428  울산지방법원   2019개회11597  20514978  730209-2785414\n",
       "429  수원회생법원   2019개회16391  20408300  681020-2668033\n",
       "430  수원회생법원   2019개회16391  20416866  630702-2106328\n",
       "\n",
       "[431 rows x 4 columns]"
      ]
     },
     "execution_count": 55,
     "metadata": {},
     "output_type": "execute_result"
    }
   ],
   "source": [
    "# # 3. 중복제거: 법원+사건번호 기준, 채무자키는 첫 번째만\n",
    "# df_law_candidates = df_law_candidates.drop_duplicates(subset=[\"법원\",\"사건번호\"])\n",
    "\n",
    "# # 4. df와 merge\n",
    "# df = df.merge(df_law_candidates, on=[\"법원\",\"사건번호\"], how=\"left\")\n",
    "\n",
    "# # 5. 못 찾은 건 빈 문자열\n",
    "# df[\"채무자키\"] = df[\"채무자키\"].fillna(\"\")\n"
   ]
  },
  {
   "cell_type": "code",
   "execution_count": null,
   "id": "4d0b3021",
   "metadata": {},
   "outputs": [
    {
     "ename": "IndexError",
     "evalue": "index 0 is out of bounds for axis 0 with size 0",
     "output_type": "error",
     "traceback": [
      "\u001b[31m---------------------------------------------------------------------------\u001b[39m",
      "\u001b[31mIndexError\u001b[39m                                Traceback (most recent call last)",
      "\u001b[36mCell\u001b[39m\u001b[36m \u001b[39m\u001b[32mIn[61]\u001b[39m\u001b[32m, line 1\u001b[39m\n\u001b[32m----> \u001b[39m\u001b[32m1\u001b[39m \u001b[43mdf_law\u001b[49m\u001b[43m[\u001b[49m\u001b[43mdf_law\u001b[49m\u001b[43m.\u001b[49m\u001b[43m사건번호\u001b[49m\u001b[43m==\u001b[49m\u001b[33;43m\"\u001b[39;49m\u001b[33;43m2025타채586\u001b[39;49m\u001b[33;43m\"\u001b[39;49m\u001b[43m]\u001b[49m\u001b[43m[\u001b[49m\u001b[33;43m\"\u001b[39;49m\u001b[33;43m채무자키\u001b[39;49m\u001b[33;43m\"\u001b[39;49m\u001b[43m]\u001b[49m\u001b[43m.\u001b[49m\u001b[43mvalues\u001b[49m\u001b[43m[\u001b[49m\u001b[32;43m0\u001b[39;49m\u001b[43m]\u001b[49m\n",
      "\u001b[31mIndexError\u001b[39m: index 0 is out of bounds for axis 0 with size 0"
     ]
    }
   ],
   "source": [
    "# # 엑셀에 저장\n",
    "# with pd.ExcelWriter(path_excel, engine='openpyxl', mode = 'a', if_sheet_exists = 'replace') as writer:\n",
    "#     df.to_excel(writer, sheet_name = \"집행문\", index=False)"
   ]
  },
  {
   "cell_type": "code",
   "execution_count": 50,
   "id": "23bc11e4",
   "metadata": {},
   "outputs": [
    {
     "name": "stdout",
     "output_type": "stream",
     "text": [
      "☆ 중복사건 없음\n",
      "\n"
     ]
    }
   ],
   "source": [
    "# 합치기\n",
    "df_concat = pd.concat([df_ori, df])\n",
    "\n",
    "# 불요칼럼 삭제, 정렬->중복검사\n",
    "    # 불요칼럼\n",
    "불요칼럼 = [\"번호\"]\n",
    "df_concat = df_concat.drop(columns=불요칼럼)\n",
    "\n",
    "df_concat[\"법원\"] = df_concat.법원.str.replace(\"지법\", \"지방법원\")\n",
    "\n",
    "    # 정렬 : 최근 사건이 먼저, 확정사건이 먼저 (확정사건을 추가한 경우 진행사건이 삭제될 수 있도록)\n",
    "df_concat[\"접수일자\"] = pd.to_datetime(df_concat[\"접수일자\"], errors='coerce')\n",
    "df_concat[\"확정일자\"] = pd.to_datetime(df_concat[\"확정일자\"], errors='coerce')\n",
    "df_concat = df_concat.sort_values(by=[\"확정일자\", \"접수일자\", \"법원\",\"사건번호\"], ascending=[False, False, True,True])\n",
    "\n",
    "    # 중복확인 및 삭제\n",
    "functions.display_with_explain(df_concat[df_concat.duplicated(subset=[\"법원\", \"사건번호\"], keep=False)], \"중복사건\")\n",
    "df_concat = df_concat.drop_duplicates(subset=[\"법원\", \"사건번호\"])\n",
    "\n",
    "    # 새로운 인덱싱\n",
    "df_concat.reset_index(inplace=True, drop=True)\n",
    "\n",
    "    # 칼럼순서\n",
    "cols = ['지점', '법원', '사건번호', '재판부', '사건지위', '원고', '피고', '사건진행구분','확정일자', '접수일자',\n",
    "       '기일시간', '기일장소']\n",
    "df_concat = df_concat[cols]\n",
    "\n",
    "# parquet 저장 : 통합본 읽을 때 정렬 및 인덱스 전처리 안 함에 유의\n",
    "functions.to_parquet(df_concat, join(path_parquet, fn_write))"
   ]
  }
 ],
 "metadata": {
  "kernelspec": {
   "display_name": "py_312",
   "language": "python",
   "name": "python3"
  },
  "language_info": {
   "codemirror_mode": {
    "name": "ipython",
    "version": 3
   },
   "file_extension": ".py",
   "mimetype": "text/x-python",
   "name": "python",
   "nbconvert_exporter": "python",
   "pygments_lexer": "ipython3",
   "version": "3.12.11"
  }
 },
 "nbformat": 4,
 "nbformat_minor": 5
}
