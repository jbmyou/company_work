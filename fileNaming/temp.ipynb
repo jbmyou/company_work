{
 "cells": [
  {
   "cell_type": "code",
   "execution_count": 1,
   "metadata": {},
   "outputs": [],
   "source": [
    "import os\n",
    "import shutil\n",
    "import time\n",
    "import pandas as pd\n",
    "from tqdm.notebook import tqdm      #tqdm(filelist, total = len(file_list), position=0, leave=True)\n",
    "import re\n",
    "from pathlib import Path\n",
    "import traceback\n",
    "from os.path import join\n",
    "import file_function as ff\n",
    "from datetime import datetime"
   ]
  },
  {
   "cell_type": "code",
   "execution_count": 3,
   "metadata": {},
   "outputs": [],
   "source": [
    "df_c = pd.read_excel(r'C:\\Users\\SL\\Desktop\\채무자조회.xlsx')\n",
    "\n",
    "dict_sell ={}\n",
    "for ind, col in df_c.iterrows():\n",
    "    dict_sell[str(col.채무자키)] = [col.매각사구분, col.채무상태]"
   ]
  },
  {
   "cell_type": "code",
   "execution_count": 7,
   "metadata": {},
   "outputs": [
    {
     "data": {
      "application/vnd.jupyter.widget-view+json": {
       "model_id": "5f29c9ea38a74384ba679cb44b46e505",
       "version_major": 2,
       "version_minor": 0
      },
      "text/plain": [
       "  0%|          | 0/2208 [00:00<?, ?it/s]"
      ]
     },
     "metadata": {},
     "output_type": "display_data"
    }
   ],
   "source": [
    "### 관리제외 폴더에 파일로 넣은 거 채무자키를 폴더로 다시 넣기\n",
    "path = r'\\\\192.168.0.75\\삭제예정파일\\관리제외'\n",
    "file_list = [f.name for f in os.scandir(path) if f.is_dir()]\n",
    "log = []\n",
    "error = []\n",
    "\n",
    "for f in tqdm(file_list, total=len(file_list)) :\n",
    "    try :\n",
    "        \n",
    "        key = f[:8]\n",
    "        depth2 = dict_sell[key][0]\n",
    "\n",
    "        dst_dir = join(path,depth2) \n",
    "        if not os.path.exists(dst_dir) :\n",
    "            os.makedirs(dst_dir)\n",
    "\n",
    "        os.rename(join(path, f), join(dst_dir,key))\n",
    "\n",
    "        \n",
    "\n",
    "    except Exception as e:\n",
    "        print(\"===================================\")\n",
    "        print(datetime.today().strftime(\"%H:%M:%S\"))\n",
    "        print(f, e.__class__, e, sep=\" : \")\n",
    "        print(traceback.format_exc())\n",
    "        \n",
    "        continue # 반복문 계속 돌아\n"
   ]
  },
  {
   "cell_type": "code",
   "execution_count": 9,
   "metadata": {},
   "outputs": [
    {
     "data": {
      "application/vnd.jupyter.widget-view+json": {
       "model_id": "4be57c91b1894556ba81d84f8d454560",
       "version_major": 2,
       "version_minor": 0
      },
      "text/plain": [
       "0it [00:00, ?it/s]"
      ]
     },
     "metadata": {},
     "output_type": "display_data"
    }
   ],
   "source": [
    "### 집행권원 , 양도통지서 공백 제거\n",
    "PATH_SERVER = r'\\\\192.168.0.75\\솔림헬프\\3.집행권원'\n",
    "path_log = r'\\\\192.168.0.75\\스캔파일\\스캔파일 log\\success'\n",
    "file_list = os.walk(PATH_SERVER)\n",
    "#p1 = re.compile('양도통지서 (?!\\d차)')\n",
    "p2 = re.compile('집행권원 _')\n",
    "result = []\n",
    "for root, __dirs__, files in tqdm(file_list) :\n",
    "    for f in files :\n",
    "        n = f\n",
    "        if p2.search(n) :\n",
    "           n = p2.sub(\"집행권원_\", n, count=1)\n",
    "           result.append(ff.re_name(join(root,f), join(root,n)))\n",
    "\n",
    "ff.write_log_csv(result, path_log)\n",
    "        \n",
    "        \n",
    "\n"
   ]
  },
  {
   "cell_type": "code",
   "execution_count": 8,
   "metadata": {},
   "outputs": [
    {
     "data": {
      "text/plain": [
       "'20414549_김진효 집행권원 각하_집행권원_2021가소582103.pdf'"
      ]
     },
     "execution_count": 8,
     "metadata": {},
     "output_type": "execute_result"
    }
   ],
   "source": [
    "f = '20414549_김진효 집행권원 각하_집행권원 _2021가소582103.pdf'\n",
    "p2 = re.compile('집행권원 _')\n",
    "p2.sub('집행권원_', f)"
   ]
  },
  {
   "cell_type": "code",
   "execution_count": 36,
   "metadata": {},
   "outputs": [],
   "source": [
    "from random import randint\n",
    "import csv"
   ]
  },
  {
   "cell_type": "code",
   "execution_count": 37,
   "metadata": {},
   "outputs": [],
   "source": [
    "path = r'C:\\Users\\jbmyo\\Desktop\\edfael.csv'\n",
    "for i in range(3) :\n",
    "    i, j, k = str(randint(1,10)), str(randint(1,10)), str(randint(1,10))\n",
    "    with open (path, \"a\", newline=\"\") as p :\n",
    "        wr = csv.writer(p)\n",
    "        wr.writerow([i,j,k])\n"
   ]
  },
  {
   "cell_type": "code",
   "execution_count": 12,
   "metadata": {},
   "outputs": [
    {
     "data": {
      "text/plain": [
       "{4: 6, 1: 7, 5: 8, 3: 9, 2: 10}"
      ]
     },
     "execution_count": 12,
     "metadata": {},
     "output_type": "execute_result"
    }
   ],
   "source": [
    "dict_1 = {\n",
    "    'col1': [4, 1, 5, 3, 2],\n",
    "    'col2': [6, 7, 8, 9, 10],\n",
    "    'col3': [11, 12, 13, 14, 15],\n",
    "    'col4': [16, 17, 18, 19, 20]\n",
    "}\n",
    "\n",
    "df_1 = pd.DataFrame(dict_1)\n",
    "\n",
    "# for x in df_1.iterrows() :\n",
    "#     print(type(x))\n",
    "#     print(type(x[0]))\n",
    "#     print(type(x[1]))\n",
    "#     print(type(x[1].col1))\n",
    "\n",
    "\n",
    "\n",
    "\n",
    "df_c = dict(map(lambda x : (x[1].col1,x[1].col2), df_1.iterrows()))\n",
    "df_c"
   ]
  },
  {
   "cell_type": "code",
   "execution_count": 21,
   "metadata": {},
   "outputs": [
    {
     "data": {
      "text/plain": [
       "['12345678_보증인 박춘자_집행권원 재도_ 2022타채156_종결_건이냐.txt',\n",
       " '12345678_홍길동_양도통지서1차_ 2022타채156_220308.txt']"
      ]
     },
     "execution_count": 21,
     "metadata": {},
     "output_type": "execute_result"
    }
   ],
   "source": [
    "def file_list(path = r\"C:\\Users\\jbmyo\\Desktop\\test\") :\n",
    "    return [f.name for f in os.scandir(path) if f.is_file() & (f.name != 'Thumbs.db')]\n",
    "\n",
    "file_list = file_list()\n",
    "file_list"
   ]
  },
  {
   "cell_type": "code",
   "execution_count": 5,
   "metadata": {},
   "outputs": [
    {
     "data": {
      "text/plain": [
       "{'13245678': ['한울', '정상'],\n",
       " '12345628': ['디엔피', '파산(면책)'],\n",
       " '12345678': ['신한', '파산'],\n",
       " '87654321': ['kb', '정상']}"
      ]
     },
     "execution_count": 5,
     "metadata": {},
     "output_type": "execute_result"
    }
   ],
   "source": [
    "def dict_refer():\n",
    "    df_c = pd.read_excel(r'C:\\Users\\jbmyo\\Desktop\\채무자조회.xlsx')\n",
    "    return dict(map(lambda x : (str(x[1].채무자키),[x[1].매각사구분, x[1].채무상태]), df_c.iterrows()))\n",
    "dict_refer = dict_refer()\n",
    "dict_refer"
   ]
  },
  {
   "cell_type": "code",
   "execution_count": 4,
   "metadata": {},
   "outputs": [
    {
     "data": {
      "text/plain": [
       "{'13245678': ['한울', '정상'],\n",
       " '12345628': ['디엔피', '파산(면책)'],\n",
       " '12345678': ['신한', '파산'],\n",
       " '87654321': ['kb', '정상']}"
      ]
     },
     "execution_count": 4,
     "metadata": {},
     "output_type": "execute_result"
    }
   ],
   "source": [
    "df_c = pd.read_excel(r'C:\\Users\\jbmyo\\Desktop\\채무자조회.xlsx')\n",
    "# 채무상태와 매각사구분만 뺀 dict\n",
    "dict_sell ={}\n",
    "for ind, col in df_c.iterrows():\n",
    "    dict_sell[str(col.채무자키)] = [col.매각사구분, col.채무상태]\n",
    "\n",
    "dict_sell"
   ]
  },
  {
   "cell_type": "code",
   "execution_count": 3,
   "metadata": {},
   "outputs": [
    {
     "ename": "TypeError",
     "evalue": "'NoneType' object is not subscriptable",
     "output_type": "error",
     "traceback": [
      "\u001b[1;31m---------------------------------------------------------------------------\u001b[0m",
      "\u001b[1;31mTypeError\u001b[0m                                 Traceback (most recent call last)",
      "\u001b[1;32md:\\workspace\\company_work\\fileNaming\\temp.ipynb 셀 10\u001b[0m in \u001b[0;36m<cell line: 2>\u001b[1;34m()\u001b[0m\n\u001b[0;32m      <a href='vscode-notebook-cell:/d%3A/workspace/company_work/fileNaming/temp.ipynb#X12sZmlsZQ%3D%3D?line=0'>1</a>\u001b[0m abc \u001b[39m=\u001b[39m {\u001b[39m\"\u001b[39m\u001b[39m1\u001b[39m\u001b[39m\"\u001b[39m:[\u001b[39m\"\u001b[39m\u001b[39mdlf\u001b[39m\u001b[39m\"\u001b[39m, \u001b[39m\"\u001b[39m\u001b[39mdf\u001b[39m\u001b[39m\"\u001b[39m]}\n\u001b[1;32m----> <a href='vscode-notebook-cell:/d%3A/workspace/company_work/fileNaming/temp.ipynb#X12sZmlsZQ%3D%3D?line=1'>2</a>\u001b[0m abc\u001b[39m.\u001b[39;49mget(\u001b[39m\"\u001b[39;49m\u001b[39m2\u001b[39;49m\u001b[39m\"\u001b[39;49m)[\u001b[39m0\u001b[39;49m]\n",
      "\u001b[1;31mTypeError\u001b[0m: 'NoneType' object is not subscriptable"
     ]
    }
   ],
   "source": [
    "abc = {\"1\":[\"dlf\", \"df\"]}\n",
    "abc.get(\"2\")[0]"
   ]
  },
  {
   "cell_type": "code",
   "execution_count": 13,
   "metadata": {},
   "outputs": [],
   "source": [
    "def write_log(log:list, path : str) -> None:\n",
    "    \"\"\"\n",
    "    경로폴더 미리 만들어야. 2차원이 최적이고 그 이상은 셀안에 리스트로\n",
    "    파일이 많아지더라도 add모드는 파일 열람시 에러 나므로 w모드가 맞겠다..\n",
    "    \"\"\"\n",
    "\n",
    "    if len(log) > 0 :\n",
    "    \n",
    "        import csv\n",
    "        \n",
    "        name = str(datetime.today().strftime(\"%Y%m%d %H%M%S\"))  +\".csv\" \n",
    "        index = 0\n",
    "\n",
    "                    \n",
    "        with open (join(path, name), \"w\", newline=\"\") as p :\n",
    "            for row in log :\n",
    "                row.insert(0, index)\n",
    "                row.insert(1, time)\n",
    "                wr = csv.writer(p)\n",
    "                wr.writerow(row)\n",
    "                index += 1\n",
    "    else :\n",
    "        print(f'log 파일이 비어있습니다.')"
   ]
  },
  {
   "cell_type": "code",
   "execution_count": 17,
   "metadata": {},
   "outputs": [],
   "source": [
    "log = [[[1,2],[3,4]],[[1,2],[3,4]],[[1,2],[3,4]]]\n",
    "write_log(log, r'C:\\Users\\SL\\Desktop\\test')"
   ]
  },
  {
   "cell_type": "code",
   "execution_count": 2,
   "metadata": {},
   "outputs": [],
   "source": [
    "f = ['20441266문일원 원초본.txt', '20441266문일원초본.txt', '20441266문일원 초본.txt', '20441266문일원원초본.txt', '20441266문일원 초본등본.txt']\n",
    "docu_kind = r'원인서류|양도통지서[\\s]?[\\d]?[차]?|집행권원[\\s]?[재]?[도]?|강제집행|등초본|등본|초본|외국인증명|개인회생|신용회복|파산|재산조사|기타'\n",
    "p_basic = re.compile(r'(\\d{8})\\s?(\\D+.+)('+docu_kind+r')')\n",
    "p6=re.compile(\"(?<![가-힣])원초본|(?<=원)원초본\")\n",
    "docu_list=[\"\", \"원인서류\", \"양도통지서\", \"집행권원\", \"강제집행\", \"등본\",\n",
    "\"초본\", \"외국인증명\", \"개인회생\", \"신용회복\", \"파산\", \"재산조사\", \"기타\"]\n",
    "docu_kind = r'원인서류|양도통지서[\\s]?[\\d]?[차]?|집행권원[\\s]?[재]?[도]?|강제집행|등초본|등본|초본|외국인증명|개인회생|신용회복|파산|재산조사|기타'\n",
    "p_docu = re.compile(docu_kind)\n",
    "p_basic = re.compile(r'(\\d{8})[_\\s]?(\\D+.+)[_\\s]?('+docu_kind+r')')\n"
   ]
  },
  {
   "cell_type": "code",
   "execution_count": 5,
   "metadata": {},
   "outputs": [
    {
     "name": "stdout",
     "output_type": "stream",
     "text": [
      "['20441266문일원 원초본.txt', '문일원 원', '초본']\n",
      "['20441266문일원초본.txt', '문일원', '초본']\n",
      "['20441266문일원 초본.txt', '문일원 ', '초본']\n",
      "['20441266문일원원초본.txt', '문일원원', '초본']\n",
      "['20441266문일원 초본등본.txt', '문일원 초본', '등본']\n"
     ]
    }
   ],
   "source": [
    "for a in f :\n",
    "    print([a, p_basic.search(a).group(2), p_basic.search(a).group(3)], sep=\":\")"
   ]
  },
  {
   "cell_type": "code",
   "execution_count": 49,
   "metadata": {},
   "outputs": [
    {
     "name": "stdout",
     "output_type": "stream",
     "text": [
      "20411936 여운재 개인회생 2022개회10059 개시결정.pdf 20411936 여운재 개인회생 2022개회10059 개시결정.pdf\n",
      "20414549 김진효 집행권원 각하판결문 2021가소582103.pdf 20414549 김진효 집행권원 각하판결문 2021가소582103.pdf\n",
      "20418889 삼성라이팅(주) 보증인 박홍준 집행권원 2022가단502087.pdf 20418889 삼성라이팅(주) 보증인 박홍준 집행권원 2022가단502087.pdf\n",
      "20427375 권명자 개인회생 2022개회114110 개시결정.pdf 20427375 권명자 개인회생 2022개회114110 개시결정.pdf\n",
      "20428430 송유성 원초본.pdf 20428430 송유성 초본.pdf\n",
      "20438913민관식초본등본.pdf 20438913민관식초본등본.pdf\n",
      "20448342 신일수 개인회생 개시결정.pdf 20448342 신일수 개인회생 개시결정.pdf\n"
     ]
    }
   ],
   "source": [
    "f = [\"20411936 여운재 개인회생 2022개회10059 개시결정.pdf\",\n",
    "\"20414549 김진효 집행권원 각하판결문 2021가소582103.pdf\",\n",
    "\"20418889 삼성라이팅(주) 보증인 박홍준 집행권원 2022가단502087.pdf\",\n",
    "\"20427375 권명자 개인회생 2022개회114110 개시결정.pdf\",\n",
    "\"20428430 송유성 원초본.pdf\",\n",
    "\"20438913민관식초본등본.pdf\",\n",
    "\"20448342 신일수 개인회생 개시결정.pdf\"]\n",
    "p1=re.compile(\"원인 서류|입회 신청서|입회신청서\")\n",
    "p2=re.compile(\"양도 통지서|채권\\s?양도\\s?통지서|\\s?양통\\s|\\s양통\\s?\")  # ? 는 {0,1}, 세양통신 해결\n",
    "p3=re.compile(\"집행 권원|승계\\s?집행문|판결문|지급\\s?명령|이행\\s?권고|화해\\s?권고\")\n",
    "p4=re.compile(\"결정문|결정|[가-힣]+\\s?타채|강제 집행\") # '결정'이 반복될 수 있으모르 count=1\n",
    "# p5 등본\n",
    "p_5except = re.compile(\"등본초본|초본등본|등초본\")\n",
    "p6=re.compile(\"(?<![가-힣])원초본|(?<=원)원초본\") # 이렇게까지 해야되냐? ㅠㅠ\n",
    "# p7 외국인증명\n",
    "# 연도 다음에 나오는 개회가 아닌 경우, 전방탐색을 통해 '개인회생'의 '회생'이 걸리는 거 방지. count도 하자\n",
    "p8=re.compile(r\"(?<!\\d{2})개회|(?<!\\d{2}\\s)개회|개인 회생|(?<!개인)회생\") \n",
    "p9=re.compile(\"(?<![가-힣0-9])신복(?![가-힣])|신용\\s*회복\") #이름에있는 신복,숫자뒤 신복은 제외. 이름다음에 띄어쓰기 없이 나온 신복은.. \n",
    "# p10 파산\n",
    "p11=re.compile(\"재산 조사\")\n",
    "\n",
    "# 사건번호 수정하기 위한 컴파일\n",
    "p_event1=re.compile(r\"(?<=\\D)(\\d{4})\\s?([ㄱ-ㅎ가-힣]{1,3})\\s?([0-9]+)\")\n",
    "p_event2=re.compile(r\"(?<=\\D)(\\d{2})\\s?([ㄱ-ㅎ가-힣]{1,3})\\s?([0-9]+)\")\n",
    "\n",
    "# 날짜는 굳이 수정할 필요없겠다. 오히려 6자리로 하면 사건번호와 겹칠 확률만 올라가겠네.\n",
    "# 혹시 2022. 02. 22 이런식으로 공백 들어가 있는 것만 있는지 체크\n",
    "# 결과적으로 날짜 / 주민번호의 공백만 제거하는 것\n",
    "p_day=re.compile(r\"(\\d{2,4})\\s(\\d{2})\\s(\\d{2})\")\n",
    "\n",
    "# 항목별 저장을 위한 컴파일----------------------\n",
    "docu_kind = r'원인서류|양도통지서[\\s]?[\\d]?[차]?|집행권원[\\s]?[재]?[도]?|강제집행|등본|(?<!원)초본|외국인증명|개인회생|신용회복|파산|재산조사|기타'\n",
    "#p_docu = re.compile(docu_kind)\n",
    "p_basic = re.compile(r'(\\d{8})[_\\s]?(\\D+.+)[_\\s]?('+docu_kind+r')')\n",
    "p_event = re.compile(r\"\\d{4}[ㄱ-ㅎ가-힣]{1,3}\\d+\")\n",
    "  # 후방탐색을 통해 '개인회생'의 '회생'이 걸리는 거 방지\n",
    "for x in f :\n",
    "    n = x\n",
    "    basic = p_basic.match(n)\n",
    "    if basic == None : # 필수 양식에 맞지 않는다.\n",
    "\n",
    "        \n",
    "        # 문서구분 수정하기 -------------------------------\n",
    "        # 원인서류\n",
    "        if p1.search(n):\n",
    "            n=p1.sub(docu_list[1], n, count=1)\n",
    "        # 양도통지서\n",
    "        elif p2.search(n):\n",
    "            n=p2.sub(docu_list[2], n, count=1)  # 이름에 양통들어가는 경우가 있을 수 있어서 공백씀..\n",
    "        # 집행권원\n",
    "        elif p3.search(n):\n",
    "            n=p3.sub(docu_list[3], n, count=1)\n",
    "        elif p4.search(n):\n",
    "            n=p4.sub(docu_list[4], n, count=1)\n",
    "        elif p6.search(n):\n",
    "            n=p6.sub(docu_list[6], n, count=1)\n",
    "        elif p8.search(n):\n",
    "            n=p8.sub(docu_list[8], n, count=1) # 개회 반복될 수 있음\n",
    "        elif p9.search(n):\n",
    "            n=p9.sub(docu_list[9], n, count=1)\n",
    "        elif p11.search(n):\n",
    "            n=p11.sub(docu_list[11], n, count=1)\n",
    "    print(x, n)"
   ]
  },
  {
   "cell_type": "code",
   "execution_count": 48,
   "metadata": {},
   "outputs": [],
   "source": [
    "a = \"20428430 송유성 원초본.pdf\"\n",
    "docu_kind = r'원인서류|양도통지서[\\s]?[\\d]?[차]?|집행권원[\\s]?[재]?[도]?|강제집행|등본|(?<!원)초본|외국인증명|개인회생|신용회복|파산|재산조사|기타'\n",
    "#p_docu = re.compile(docu_kind)\n",
    "p_basic = re.compile(r'(\\d{8})[_\\s]?(\\D+.+)[_\\s]?('+docu_kind+r')')\n",
    "p_basic.match(a)"
   ]
  },
  {
   "cell_type": "code",
   "execution_count": null,
   "metadata": {},
   "outputs": [],
   "source": []
  }
 ],
 "metadata": {
  "kernelspec": {
   "display_name": "Python 3.9.12 ('base')",
   "language": "python",
   "name": "python3"
  },
  "language_info": {
   "codemirror_mode": {
    "name": "ipython",
    "version": 3
   },
   "file_extension": ".py",
   "mimetype": "text/x-python",
   "name": "python",
   "nbconvert_exporter": "python",
   "pygments_lexer": "ipython3",
   "version": "3.9.12"
  },
  "orig_nbformat": 4,
  "vscode": {
   "interpreter": {
    "hash": "38d617750889899e5f2f65cac6f27a322f361a63d334879a800ee5491961f90c"
   }
  }
 },
 "nbformat": 4,
 "nbformat_minor": 2
}
