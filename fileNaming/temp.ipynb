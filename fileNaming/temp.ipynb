{
 "cells": [
  {
   "cell_type": "code",
   "execution_count": 2,
   "metadata": {},
   "outputs": [],
   "source": [
    "import os\n",
    "import shutil\n",
    "import time\n",
    "import pandas as pd\n",
    "from tqdm.notebook import tqdm      #tqdm(filelist, total = len(file_list), position=0, leave=True)\n",
    "import re\n",
    "from pathlib import Path\n",
    "import traceback\n",
    "from os.path import join\n",
    "import file_function as ff\n",
    "from datetime import datetime"
   ]
  },
  {
   "cell_type": "code",
   "execution_count": 3,
   "metadata": {},
   "outputs": [],
   "source": [
    "df_c = pd.read_excel(r'C:\\Users\\SL\\Desktop\\채무자조회.xlsx')\n",
    "\n",
    "dict_sell ={}\n",
    "for ind, col in df_c.iterrows():\n",
    "    dict_sell[str(col.채무자키)] = [col.매각사구분, col.채무상태]"
   ]
  },
  {
   "cell_type": "code",
   "execution_count": 7,
   "metadata": {},
   "outputs": [
    {
     "data": {
      "application/vnd.jupyter.widget-view+json": {
       "model_id": "5f29c9ea38a74384ba679cb44b46e505",
       "version_major": 2,
       "version_minor": 0
      },
      "text/plain": [
       "  0%|          | 0/2208 [00:00<?, ?it/s]"
      ]
     },
     "metadata": {},
     "output_type": "display_data"
    }
   ],
   "source": [
    "### 관리제외 폴더에 파일로 넣은 거 채무자키를 폴더로 다시 넣기\n",
    "path = r'\\\\192.168.0.75\\삭제예정파일\\관리제외'\n",
    "file_list = [f.name for f in os.scandir(path) if f.is_dir()]\n",
    "log = []\n",
    "error = []\n",
    "\n",
    "for f in tqdm(file_list, total=len(file_list)) :\n",
    "    try :\n",
    "        \n",
    "        key = f[:8]\n",
    "        depth2 = dict_sell[key][0]\n",
    "\n",
    "        dst_dir = join(path,depth2) \n",
    "        if not os.path.exists(dst_dir) :\n",
    "            os.makedirs(dst_dir)\n",
    "\n",
    "        os.rename(join(path, f), join(dst_dir,key))\n",
    "\n",
    "        \n",
    "\n",
    "    except Exception as e:\n",
    "        print(\"===================================\")\n",
    "        print(datetime.today().strftime(\"%H:%M:%S\"))\n",
    "        print(f, e.__class__, e, sep=\" : \")\n",
    "        print(traceback.format_exc())\n",
    "        \n",
    "        continue # 반복문 계속 돌아\n"
   ]
  },
  {
   "cell_type": "code",
   "execution_count": 36,
   "metadata": {},
   "outputs": [],
   "source": [
    "from random import randint\n",
    "import csv"
   ]
  },
  {
   "cell_type": "code",
   "execution_count": 37,
   "metadata": {},
   "outputs": [],
   "source": [
    "path = r'C:\\Users\\jbmyo\\Desktop\\edfael.csv'\n",
    "for i in range(3) :\n",
    "    i, j, k = str(randint(1,10)), str(randint(1,10)), str(randint(1,10))\n",
    "    with open (path, \"a\", newline=\"\") as p :\n",
    "        wr = csv.writer(p)\n",
    "        wr.writerow([i,j,k])\n"
   ]
  },
  {
   "cell_type": "code",
   "execution_count": 12,
   "metadata": {},
   "outputs": [
    {
     "data": {
      "text/plain": [
       "{4: 6, 1: 7, 5: 8, 3: 9, 2: 10}"
      ]
     },
     "execution_count": 12,
     "metadata": {},
     "output_type": "execute_result"
    }
   ],
   "source": [
    "dict_1 = {\n",
    "    'col1': [4, 1, 5, 3, 2],\n",
    "    'col2': [6, 7, 8, 9, 10],\n",
    "    'col3': [11, 12, 13, 14, 15],\n",
    "    'col4': [16, 17, 18, 19, 20]\n",
    "}\n",
    "\n",
    "df_1 = pd.DataFrame(dict_1)\n",
    "\n",
    "# for x in df_1.iterrows() :\n",
    "#     print(type(x))\n",
    "#     print(type(x[0]))\n",
    "#     print(type(x[1]))\n",
    "#     print(type(x[1].col1))\n",
    "\n",
    "\n",
    "\n",
    "\n",
    "df_c = dict(map(lambda x : (x[1].col1,x[1].col2), df_1.iterrows()))\n",
    "df_c"
   ]
  },
  {
   "cell_type": "code",
   "execution_count": 21,
   "metadata": {},
   "outputs": [
    {
     "data": {
      "text/plain": [
       "['12345678_보증인 박춘자_집행권원 재도_ 2022타채156_종결_건이냐.txt',\n",
       " '12345678_홍길동_양도통지서1차_ 2022타채156_220308.txt']"
      ]
     },
     "execution_count": 21,
     "metadata": {},
     "output_type": "execute_result"
    }
   ],
   "source": [
    "def file_list(path = r\"C:\\Users\\jbmyo\\Desktop\\test\") :\n",
    "    return [f.name for f in os.scandir(path) if f.is_file() & (f.name != 'Thumbs.db')]\n",
    "\n",
    "file_list = file_list()\n",
    "file_list"
   ]
  },
  {
   "cell_type": "code",
   "execution_count": 5,
   "metadata": {},
   "outputs": [
    {
     "data": {
      "text/plain": [
       "{'13245678': ['한울', '정상'],\n",
       " '12345628': ['디엔피', '파산(면책)'],\n",
       " '12345678': ['신한', '파산'],\n",
       " '87654321': ['kb', '정상']}"
      ]
     },
     "execution_count": 5,
     "metadata": {},
     "output_type": "execute_result"
    }
   ],
   "source": [
    "def dict_refer():\n",
    "    df_c = pd.read_excel(r'C:\\Users\\jbmyo\\Desktop\\채무자조회.xlsx')\n",
    "    return dict(map(lambda x : (str(x[1].채무자키),[x[1].매각사구분, x[1].채무상태]), df_c.iterrows()))\n",
    "dict_refer = dict_refer()\n",
    "dict_refer"
   ]
  },
  {
   "cell_type": "code",
   "execution_count": 4,
   "metadata": {},
   "outputs": [
    {
     "data": {
      "text/plain": [
       "{'13245678': ['한울', '정상'],\n",
       " '12345628': ['디엔피', '파산(면책)'],\n",
       " '12345678': ['신한', '파산'],\n",
       " '87654321': ['kb', '정상']}"
      ]
     },
     "execution_count": 4,
     "metadata": {},
     "output_type": "execute_result"
    }
   ],
   "source": [
    "df_c = pd.read_excel(r'C:\\Users\\jbmyo\\Desktop\\채무자조회.xlsx')\n",
    "# 채무상태와 매각사구분만 뺀 dict\n",
    "dict_sell ={}\n",
    "for ind, col in df_c.iterrows():\n",
    "    dict_sell[str(col.채무자키)] = [col.매각사구분, col.채무상태]\n",
    "\n",
    "dict_sell"
   ]
  },
  {
   "cell_type": "code",
   "execution_count": 3,
   "metadata": {},
   "outputs": [
    {
     "ename": "TypeError",
     "evalue": "'NoneType' object is not subscriptable",
     "output_type": "error",
     "traceback": [
      "\u001b[1;31m---------------------------------------------------------------------------\u001b[0m",
      "\u001b[1;31mTypeError\u001b[0m                                 Traceback (most recent call last)",
      "\u001b[1;32md:\\workspace\\company_work\\fileNaming\\temp.ipynb 셀 10\u001b[0m in \u001b[0;36m<cell line: 2>\u001b[1;34m()\u001b[0m\n\u001b[0;32m      <a href='vscode-notebook-cell:/d%3A/workspace/company_work/fileNaming/temp.ipynb#X12sZmlsZQ%3D%3D?line=0'>1</a>\u001b[0m abc \u001b[39m=\u001b[39m {\u001b[39m\"\u001b[39m\u001b[39m1\u001b[39m\u001b[39m\"\u001b[39m:[\u001b[39m\"\u001b[39m\u001b[39mdlf\u001b[39m\u001b[39m\"\u001b[39m, \u001b[39m\"\u001b[39m\u001b[39mdf\u001b[39m\u001b[39m\"\u001b[39m]}\n\u001b[1;32m----> <a href='vscode-notebook-cell:/d%3A/workspace/company_work/fileNaming/temp.ipynb#X12sZmlsZQ%3D%3D?line=1'>2</a>\u001b[0m abc\u001b[39m.\u001b[39;49mget(\u001b[39m\"\u001b[39;49m\u001b[39m2\u001b[39;49m\u001b[39m\"\u001b[39;49m)[\u001b[39m0\u001b[39;49m]\n",
      "\u001b[1;31mTypeError\u001b[0m: 'NoneType' object is not subscriptable"
     ]
    }
   ],
   "source": [
    "abc = {\"1\":[\"dlf\", \"df\"]}\n",
    "abc.get(\"2\")[0]"
   ]
  }
 ],
 "metadata": {
  "kernelspec": {
   "display_name": "Python 3.9.12 ('base')",
   "language": "python",
   "name": "python3"
  },
  "language_info": {
   "codemirror_mode": {
    "name": "ipython",
    "version": 3
   },
   "file_extension": ".py",
   "mimetype": "text/x-python",
   "name": "python",
   "nbconvert_exporter": "python",
   "pygments_lexer": "ipython3",
   "version": "3.9.12"
  },
  "orig_nbformat": 4,
  "vscode": {
   "interpreter": {
    "hash": "bde8bb0732dc4e1332dd7de11e8fd6f025a3253132c4935c7925a70cc079a91c"
   }
  }
 },
 "nbformat": 4,
 "nbformat_minor": 2
}
