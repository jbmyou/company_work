{
 "cells": [
  {
   "cell_type": "code",
   "execution_count": 1,
   "metadata": {},
   "outputs": [],
   "source": [
    "import os\n",
    "import shutil\n",
    "import time\n",
    "import pandas as pd\n",
    "from tqdm.notebook import tqdm      #tqdm(filelist, total = len(file_list), position=0, leave=True)\n",
    "import re\n",
    "from pathlib import Path\n",
    "import traceback\n",
    "from os.path import join\n",
    "import file_function as ff\n",
    "from datetime import datetime"
   ]
  },
  {
   "cell_type": "code",
   "execution_count": 32,
   "metadata": {},
   "outputs": [
    {
     "data": {
      "application/vnd.jupyter.widget-view+json": {
       "model_id": "5b0357e637c14a2baa599852957d1045",
       "version_major": 2,
       "version_minor": 0
      },
      "text/plain": [
       "0it [00:00, ?it/s]"
      ]
     },
     "metadata": {},
     "output_type": "display_data"
    },
    {
     "name": "stdout",
     "output_type": "stream",
     "text": [
      "log 파일이 비어있습니다.\n"
     ]
    }
   ],
   "source": [
    "PATH = r'\\\\192.168.0.75\\솔림헬프'\n",
    "PATH_LOG_SUCCESS = r'\\\\192.168.0.75\\스캔파일\\스캔파일 log\\success'\n",
    "PATH_LOG_FAIL = r'\\\\192.168.0.75\\스캔파일\\스캔파일 log\\fail'\n",
    "\n",
    "\n",
    "# PATH = r'C:\\Users\\SL\\Desktop\\test'\n",
    "# PATH_LOG_SUCCESS = r'C:\\Users\\SL\\Desktop\\test\\log\\success'\n",
    "# PATH_LOG_FAIL = r'C:\\Users\\SL\\Desktop\\test\\log\\fail'\n",
    "\n",
    "\n",
    "\n",
    "file_list = os.walk(PATH)\n",
    "log = []\n",
    "error = []\n",
    "p_day211 = re.compile(r'[\\s_]?\\((\\d\\d)(\\d)(\\d)\\)')\n",
    "p_day212 = re.compile(r'[\\s_]?\\((\\d\\d)(\\d)(\\d\\d)\\)')\n",
    "p_day411 = re.compile(r'[\\s_]?\\(20(2\\d)(\\d)(\\d)\\)')\n",
    "p_day412 = re.compile(r'[\\s_]?\\(20(2\\d)(\\d)(\\d\\d)\\)')\n",
    "\n",
    "for root, __dirs__, files in tqdm(file_list) :\n",
    "    try :\n",
    "        for f in files :\n",
    "            n = f\n",
    "            if p_day211.search(f) :\n",
    "                n = p_day211.sub('_\\g<1>0\\g<2>0\\g<3>', n)\n",
    "                #print(\"211\", f, n)\n",
    "            elif p_day212.search(f) :\n",
    "                n = p_day212.sub('_\\g<1>0\\g<2>\\g<3>', n)\n",
    "                #print(\"212\", f, n)\n",
    "            elif p_day411.search(f) :\n",
    "                n = p_day411.sub('_\\g<1>0\\g<2>0\\g<3>', n)\n",
    "                #print(\"411\", f, n)\n",
    "            elif p_day412.search(f) :\n",
    "                n = p_day412.sub('_\\g<1>0\\g<2>\\g<3>', n)\n",
    "                #print(\"412\", f, n)\n",
    "            else :pass\n",
    "\n",
    "            if n != f :\n",
    "                log.append(ff.re_name(join(root,f), join(root,n)))\n",
    "\n",
    "\n",
    "    except Exception as e:\n",
    "        print(\"===================================\")\n",
    "        print(datetime.today().strftime(\"%H:%M:%S\"))\n",
    "        print(f, e.__class__, e, sep=\" : \")\n",
    "        print(traceback.format_exc())\n",
    "        error.append([f, e.__class__, e])\n",
    "        continue # 반복문 계속 돌아\n",
    "\n",
    "ff.write_log_csv(log, PATH_LOG_SUCCESS)\n",
    "ff.write_log_csv(error, PATH_LOG_FAIL)\n",
    "\n"
   ]
  },
  {
   "cell_type": "code",
   "execution_count": 27,
   "metadata": {},
   "outputs": [
    {
     "ename": "TypeError",
     "evalue": "object of type 'generator' has no len()",
     "output_type": "error",
     "traceback": [
      "\u001b[1;31m---------------------------------------------------------------------------\u001b[0m",
      "\u001b[1;31mTypeError\u001b[0m                                 Traceback (most recent call last)",
      "\u001b[1;32mc:\\Users\\SL\\Desktop\\workspace\\python\\fileNaming\\practice.ipynb 셀 3\u001b[0m in \u001b[0;36m<cell line: 3>\u001b[1;34m()\u001b[0m\n\u001b[0;32m      <a href='vscode-notebook-cell:/c%3A/Users/SL/Desktop/workspace/python/fileNaming/practice.ipynb#X24sZmlsZQ%3D%3D?line=0'>1</a>\u001b[0m path \u001b[39m=\u001b[39m \u001b[39mr\u001b[39m\u001b[39m'\u001b[39m\u001b[39mC:\u001b[39m\u001b[39m\\\u001b[39m\u001b[39mUsers\u001b[39m\u001b[39m\\\u001b[39m\u001b[39mSL\u001b[39m\u001b[39m\\\u001b[39m\u001b[39mDesktop\u001b[39m\u001b[39m\\\u001b[39m\u001b[39mtest - 복사본\u001b[39m\u001b[39m'\u001b[39m\n\u001b[0;32m      <a href='vscode-notebook-cell:/c%3A/Users/SL/Desktop/workspace/python/fileNaming/practice.ipynb#X24sZmlsZQ%3D%3D?line=1'>2</a>\u001b[0m file_list \u001b[39m=\u001b[39m os\u001b[39m.\u001b[39mwalk(path)\n\u001b[1;32m----> <a href='vscode-notebook-cell:/c%3A/Users/SL/Desktop/workspace/python/fileNaming/practice.ipynb#X24sZmlsZQ%3D%3D?line=2'>3</a>\u001b[0m \u001b[39mlen\u001b[39;49m(file_list)\n",
      "\u001b[1;31mTypeError\u001b[0m: object of type 'generator' has no len()"
     ]
    }
   ],
   "source": [
    "path = r'C:\\Users\\SL\\Desktop\\test - 복사본'\n",
    "file_list = os.walk(path)\n",
    "len(file_list)"
   ]
  }
 ],
 "metadata": {
  "kernelspec": {
   "display_name": "Python 3.9.12 ('base')",
   "language": "python",
   "name": "python3"
  },
  "language_info": {
   "codemirror_mode": {
    "name": "ipython",
    "version": 3
   },
   "file_extension": ".py",
   "mimetype": "text/x-python",
   "name": "python",
   "nbconvert_exporter": "python",
   "pygments_lexer": "ipython3",
   "version": "3.9.12"
  },
  "orig_nbformat": 4,
  "vscode": {
   "interpreter": {
    "hash": "50ba2c93e3505a279245e213c77d9791c626788d8ca8a61b8db804927ca08a39"
   }
  }
 },
 "nbformat": 4,
 "nbformat_minor": 2
}
