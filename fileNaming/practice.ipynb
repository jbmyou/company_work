{
 "cells": [
  {
   "cell_type": "code",
   "execution_count": 3,
   "metadata": {},
   "outputs": [],
   "source": [
    "import os\n",
    "import shutil\n",
    "import time\n",
    "import pandas as pd\n",
    "from tqdm.notebook import tqdm      #tqdm(filelist, total = len(file_list), position=0, leave=True)\n",
    "import re\n",
    "from pathlib import Path\n",
    "import traceback\n",
    "from os.path import join\n",
    "import file_function as ff\n",
    "from datetime import datetime"
   ]
  },
  {
   "cell_type": "code",
   "execution_count": 61,
   "metadata": {},
   "outputs": [
    {
     "name": "stdout",
     "output_type": "stream",
     "text": [
      "event수정 후 :  20445674_김영옥_집행권원_서울중앙2016가소6730152등본\n",
      "basic :  20445674_김영옥_집행권원_서울중앙2016가소6730152등본_\n",
      "사건번호 : 2016가소6730152, 37 ? 22\n",
      ">=\n"
     ]
    }
   ],
   "source": [
    "docu_kind = r'원인서류|양도통지서[\\s]?\\d차|양도통지서|집행권원[\\s]?[재]?[도]?|강제집행|(?<!등기부)등본|(?<!원)초본|외국인증명|개인회생|신용회복|파산|재산조사|기타'\n",
    "p_event1=re.compile(r\"(?<=\\D)(\\d{4})\\s?([ㄱ-ㅎ가-힣]{1,3})\\s?([0-9]+)\")\n",
    "p_event2=re.compile(r\"(?<=\\D)(\\d{2})\\s?([ㄱ-ㅎ가-힣]{1,3})\\s?([0-9]+)\")\n",
    "p_basic = re.compile(r'(\\d{8})[_\\s]?(\\D+.+)[_\\s]?(' + docu_kind + r')') #event의 스타트 번호 >= basic의 엔드번호\n",
    "p_event = re.compile(r\"\\d{4}[ㄱ-ㅎ가-힣]{1,3}\\d+\")\n",
    "\n",
    "n = '20445674_김영옥_집행권원_서울중앙2016가소6730152등본'\n",
    "if p_event1.search(n):\n",
    "    n=p_event1.sub(r'\\1\\2\\3', n)\n",
    "    # 1) + 사건번호 연도가 yy라면\n",
    "elif p_event2.search(n):\n",
    "    n=p_event2.sub(r'20\\1\\2\\3', n)\n",
    "\n",
    "print(\"event수정 후 : \", n)\n",
    "basic = p_basic.match(n)\n",
    "print(\"basic : \", basic.group()+\"_\")\n",
    "print(f\"사건번호 : {p_event.search(n).group()}, {basic.end()} ? {p_event.search(n).start()}\")\n",
    "if (p_event.search(n)!= None) and (basic.end() >= p_event.search(n).start()) : # &는 안됨. 선후관계가 없음.\n",
    "    print(\">=\")\n",
    "else : print(\"<\")"
   ]
  },
  {
   "cell_type": "code",
   "execution_count": 73,
   "metadata": {},
   "outputs": [
    {
     "data": {
      "text/plain": [
       "'등본'"
      ]
     },
     "execution_count": 73,
     "metadata": {},
     "output_type": "execute_result"
    }
   ],
   "source": [
    "docu_kind = r'원인서류|양도통지서[\\s]?\\d차|양도통지서|집행권원[\\s]?[재]?[도]?|강제집행|(?<!등기부)등본|(?<!원)초본|외국인증명|개인회생|신용회복|파산|재산조사|기타'\n",
    "p_basic = re.compile(r'(\\d{8})[_\\s]?(\\D+.+)[_\\s]?(' + docu_kind + r').+(?!'+docu_kind + r')') #event의 스타트 번호 >= basic의 엔드번호\n",
    "p_basic.search(\"12345678 홍길동 양도통지서 원인서류 집행권원 등본 기타\").group(3)"
   ]
  }
 ],
 "metadata": {
  "kernelspec": {
   "display_name": "Python 3.9.12 ('base')",
   "language": "python",
   "name": "python3"
  },
  "language_info": {
   "codemirror_mode": {
    "name": "ipython",
    "version": 3
   },
   "file_extension": ".py",
   "mimetype": "text/x-python",
   "name": "python",
   "nbconvert_exporter": "python",
   "pygments_lexer": "ipython3",
   "version": "3.9.12"
  },
  "orig_nbformat": 4,
  "vscode": {
   "interpreter": {
    "hash": "50ba2c93e3505a279245e213c77d9791c626788d8ca8a61b8db804927ca08a39"
   }
  }
 },
 "nbformat": 4,
 "nbformat_minor": 2
}
