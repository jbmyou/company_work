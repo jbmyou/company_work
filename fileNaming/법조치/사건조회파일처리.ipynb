{
 "cells": [
  {
   "cell_type": "markdown",
   "id": "7359e53f",
   "metadata": {},
   "source": [
    "### import 및 함수"
   ]
  },
  {
   "cell_type": "code",
   "execution_count": 7,
   "id": "8c8fae97",
   "metadata": {},
   "outputs": [],
   "source": [
    "import os, re, functions\n",
    "import pandas as pd\n",
    "from os.path import join\n",
    "from datetime import datetime"
   ]
  },
  {
   "cell_type": "code",
   "execution_count": 15,
   "id": "38fb1727",
   "metadata": {},
   "outputs": [],
   "source": [
    "# 파일읽기\n",
    "path_read_dir = r\"\\\\192.168.0.75\\자산관리팀\\프로젝트\\2023 전산데이터 클렌징 및 업무개편 프로젝트\\법조치\\2509 회계파산\"\n",
    "path_read_fn = \"250910 일단만료 사건조회_20250911_1238.xlsx\"\n",
    "\n",
    "df_ori = pd.read_excel(join(path_read_dir, path_read_fn), dtype=str).fillna(\"\")"
   ]
  },
  {
   "cell_type": "code",
   "execution_count": 51,
   "id": "52fff608",
   "metadata": {},
   "outputs": [],
   "source": [
    "# 조회성공건\n",
    "df = df_ori[df_ori.최신화결과==\"\"].copy()"
   ]
  },
  {
   "cell_type": "code",
   "execution_count": 49,
   "id": "c55203f5",
   "metadata": {},
   "outputs": [],
   "source": [
    "def extract_parties(text):\n",
    "    원고, 피고 = [], []\n",
    "    피승계인, 승계인, 승계송달발급일 = [], [], []\n",
    "\n",
    "    corp_prefix = {\"주식회사\", \"유한회사\", \"합자회사\", \"법인\"}\n",
    "    pattern = re.compile(r'(원고|채권자|채무자|피고)\\d*\\s+([^\\s]+)')\n",
    "    ignore_keywords = (\"제3채무자\", \"대리인\", \"지배인\")\n",
    "\n",
    "    for line in text.split(\"\\n\"):\n",
    "\n",
    "        # 피고 승계인 패턴 먼저 확인\n",
    "        m = re.search(r'(피고|채무자)\\d*\\s+([^\\s]+)의\\s+승계인\\s+([^\\s]+)에게', line)\n",
    "        if m:\n",
    "            # m.group(2) = 피승계인, m.group(3) = 승계인\n",
    "            피승계인.append(m.group(2))\n",
    "            승계인.append(m.group(3))\n",
    "            continue\n",
    "        \n",
    "        # 원고/채권자 승계인 라인에서 발급일만 추출\n",
    "        m = re.search(r'(원고|채권자).*?승계인.*?(\\d{4})[.](\\d{2})[.](\\d{2}).*?발급\\s*$', line)\n",
    "        if m:\n",
    "            # 발급일을 YYYY-MM-DD 형식으로 저장\n",
    "            발급일 = f\"{m.group(2)}-{m.group(3)}-{m.group(4)}\"\n",
    "            승계송달발급일.append(발급일)\n",
    "            continue\n",
    "        \n",
    "        # 원고, 피고 추출 시작\n",
    "            # 탐색불요 라인\n",
    "        if any(key in line for key in ignore_keywords):\n",
    "            continue\n",
    "        if \"에게\" not in line:\n",
    "            continue\n",
    "        \n",
    "        for role, name in pattern.findall(line):\n",
    "            parts = line.split()\n",
    "            if name in corp_prefix:  # 법인 접두어 제거\n",
    "                idx = parts.index(name)\n",
    "                if idx + 1 < len(parts):\n",
    "                    name = parts[idx + 1]\n",
    "\n",
    "            # 괄호 및 뒷부분 제거\n",
    "            name = re.sub(r\"\\(.*?\\).*\", \"\", name)\n",
    "\n",
    "            # 조사 제거\n",
    "            name = re.sub(r\"(에게|에|의)$\", \"\", name)\n",
    "\n",
    "            name = name.strip()\n",
    "            if not name:\n",
    "                continue\n",
    "\n",
    "            # 분류\n",
    "            if role == \"원고\" or role == \"채권자\":\n",
    "                원고.append(name)\n",
    "            elif role == \"피고\" or role == \"채무자\":\n",
    "                피고.append(name)\n",
    "            # elif role == \"채권자\":\n",
    "            #     채권자.append(name)\n",
    "            # elif role == \"채무자\":\n",
    "            #     채무자.append(name)\n",
    "\n",
    "    uniq = lambda x: list(dict.fromkeys(x))\n",
    "    \n",
    "    if 승계송달발급일:  # 리스트가 비어있지 않은 경우\n",
    "        최종승계송달발급일 = max(datetime.strptime(d, \"%Y-%m-%d\") for d in 승계송달발급일)\n",
    "        최종승계송달발급일 = 최종승계송달발급일.strftime(\"%Y-%m-%d\")\n",
    "    else:\n",
    "        최종승계송달발급일 = ''\n",
    "    \n",
    "    return {\n",
    "    \"원고\": \",\".join(uniq(원고)),\n",
    "    \"피고\": \",\".join(uniq(피고)),\n",
    "    # \"채권자\": \",\".join(uniq(채권자)),\n",
    "    # \"채무자\": \",\".join(uniq(채무자)),\n",
    "    \"피승계인\": \",\".join(uniq(피승계인)),\n",
    "    \"승계인\": \",\".join(uniq(승계인)),\n",
    "    '최종승계송달발급일': 최종승계송달발급일\n",
    "}\n"
   ]
  },
  {
   "cell_type": "code",
   "execution_count": 52,
   "id": "88afb119",
   "metadata": {},
   "outputs": [],
   "source": [
    "# 원고, 피고 열 없애기\n",
    "df = df.drop(columns={\"원고\", \"피고\"})\n",
    "\n",
    "df_parties = df[\"진행내용\"].apply(extract_parties).apply(pd.Series)\n",
    "df = pd.concat([df, df_parties], axis=1)"
   ]
  },
  {
   "cell_type": "code",
   "execution_count": null,
   "id": "75329623",
   "metadata": {},
   "outputs": [
    {
     "data": {
      "text/plain": [
       "70      \n",
       "71      \n",
       "72      \n",
       "73      \n",
       "74      \n",
       "      ..\n",
       "331     \n",
       "332     \n",
       "333     \n",
       "334     \n",
       "335     \n",
       "Name: 채무자명, Length: 266, dtype: object"
      ]
     },
     "execution_count": 55,
     "metadata": {},
     "output_type": "execute_result"
    }
   ],
   "source": [
    "# 대상자구분 작성하기"
   ]
  },
  {
   "cell_type": "code",
   "execution_count": null,
   "id": "f761f405",
   "metadata": {},
   "outputs": [],
   "source": [
    "# 헬프승계여부 : "
   ]
  },
  {
   "cell_type": "code",
   "execution_count": null,
   "id": "56c14263",
   "metadata": {},
   "outputs": [],
   "source": [
    "# 이것들은 나우리 전산 수정하기보다는 새로 만들 업무페이지에 업로드 하는 걸로 할까? 어차피 진행내용이 법조치 조회에서는 안 나오고 사건조회를 해야만 하니까.. \n",
    "# 그렇다면 진행내용 통해서 피고들 중 누구만 확정됐는지, 누구는 취하했는지 다 파악해야 함"
   ]
  }
 ],
 "metadata": {
  "kernelspec": {
   "display_name": "py_312",
   "language": "python",
   "name": "python3"
  },
  "language_info": {
   "codemirror_mode": {
    "name": "ipython",
    "version": 3
   },
   "file_extension": ".py",
   "mimetype": "text/x-python",
   "name": "python",
   "nbconvert_exporter": "python",
   "pygments_lexer": "ipython3",
   "version": "3.12.11"
  }
 },
 "nbformat": 4,
 "nbformat_minor": 5
}
