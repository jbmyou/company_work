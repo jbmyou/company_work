{
 "cells": [
  {
   "cell_type": "code",
   "execution_count": 2,
   "id": "e6703dc3",
   "metadata": {},
   "outputs": [],
   "source": [
    "import pandas as pd\n",
    "import os\n",
    "from os.path import join\n",
    "import functions"
   ]
  },
  {
   "cell_type": "code",
   "execution_count": 17,
   "id": "d1876985",
   "metadata": {},
   "outputs": [],
   "source": [
    "path = r\"D:\\4.관리\\전자소송\\새 폴더\"\n",
    "filelist = functions.키워드로파일명찾기(path, 포함키워드=\"집행문신청\", 제외키워드=\"\", 전체경로=True, 여러파일허용=True)"
   ]
  },
  {
   "cell_type": "code",
   "execution_count": 18,
   "id": "fb922f90",
   "metadata": {},
   "outputs": [],
   "source": [
    "df_concat = pd.DataFrame(None)\n",
    "for p in filelist : \n",
    "    try : \n",
    "        df = pd.read_excel(p, dtype=str, sheet_name=\"집행문\")[[\"법원\",\"사건번호\",\"피고\",\"집행문\",\"채무자키\"]]\n",
    "        df_concat = pd.concat([df_concat, df], axis=0)\n",
    "    except : \n",
    "        print(p)"
   ]
  },
  {
   "cell_type": "code",
   "execution_count": 20,
   "id": "959deca6",
   "metadata": {},
   "outputs": [],
   "source": [
    "df_concat[\"법원사건번호\"] = df_concat.법원 + df_concat.사건번호\n",
    "df_concat.to_excel(join(path,\"통합.xlsx\"), index=False)"
   ]
  }
 ],
 "metadata": {
  "kernelspec": {
   "display_name": "py_312",
   "language": "python",
   "name": "python3"
  },
  "language_info": {
   "codemirror_mode": {
    "name": "ipython",
    "version": 3
   },
   "file_extension": ".py",
   "mimetype": "text/x-python",
   "name": "python",
   "nbconvert_exporter": "python",
   "pygments_lexer": "ipython3",
   "version": "3.12.11"
  }
 },
 "nbformat": 4,
 "nbformat_minor": 5
}
