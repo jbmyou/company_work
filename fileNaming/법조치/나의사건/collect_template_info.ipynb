{
 "cells": [
  {
   "cell_type": "code",
   "execution_count": 4,
   "id": "75ea5f29",
   "metadata": {},
   "outputs": [],
   "source": [
    "from utils import sele_utils\n",
    "import functions"
   ]
  },
  {
   "cell_type": "code",
   "execution_count": 5,
   "id": "c9e19561",
   "metadata": {},
   "outputs": [],
   "source": [
    "####################\n",
    "지점 = \"광주\"\n",
    "사건진행구분 = \"확정\"\n",
    "sample_case = (\"광주지방법원\",\"2024가소619839\")\n",
    "####################"
   ]
  },
  {
   "cell_type": "code",
   "execution_count": 6,
   "id": "295dfcbf",
   "metadata": {},
   "outputs": [],
   "source": [
    "# 객체생성\n",
    "scourt = sele_utils.SCourtDriver()\n",
    "\n",
    "# 사이트 접속\n",
    "scourt.connect()\n",
    "\n",
    "# 로그인\n",
    "login_info_keys = [\"전자소송_\"+지점+\"_\"+x for x in (\"id\", \"인증서\", \"pw\")]\n",
    "login_info_values = functions.get_info_from_decrypted_excel_dict(login_info_keys)\n",
    "\n",
    "scourt.login_with_cert(login_info_values[0], login_info_values[1], login_info_values[2])\n",
    "\n",
    "# 로그인 정보 메모리 삭제\n",
    "login_info_values = [None] * len(login_info_values)\n",
    "del login_info_values"
   ]
  },
  {
   "cell_type": "code",
   "execution_count": null,
   "id": "b3d56b9e",
   "metadata": {},
   "outputs": [
    {
     "data": {
      "text/plain": [
       "<utils.sele_utils.SCourtDriver at 0x1e501253e90>"
      ]
     },
     "execution_count": 4,
     "metadata": {},
     "output_type": "execute_result"
    }
   ],
   "source": []
  },
  {
   "cell_type": "code",
   "execution_count": null,
   "id": "a4542aa4",
   "metadata": {},
   "outputs": [],
   "source": []
  },
  {
   "cell_type": "code",
   "execution_count": null,
   "id": "ae97694f",
   "metadata": {},
   "outputs": [],
   "source": []
  },
  {
   "cell_type": "code",
   "execution_count": null,
   "id": "fde2fa32",
   "metadata": {},
   "outputs": [],
   "source": []
  }
 ],
 "metadata": {
  "kernelspec": {
   "display_name": "py_312",
   "language": "python",
   "name": "python3"
  },
  "language_info": {
   "codemirror_mode": {
    "name": "ipython",
    "version": 3
   },
   "file_extension": ".py",
   "mimetype": "text/x-python",
   "name": "python",
   "nbconvert_exporter": "python",
   "pygments_lexer": "ipython3",
   "version": "3.12.11"
  }
 },
 "nbformat": 4,
 "nbformat_minor": 5
}
