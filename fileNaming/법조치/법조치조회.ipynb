{
 "cells": [
  {
   "cell_type": "markdown",
   "id": "55b7cf7e",
   "metadata": {},
   "source": [
    "### import"
   ]
  },
  {
   "cell_type": "code",
   "execution_count": 4,
   "id": "07ac102b",
   "metadata": {},
   "outputs": [],
   "source": [
    "import pyautogui as au\n",
    "import time\n",
    "import pandas as pd\n",
    "import re\n",
    "from os.path import join\n",
    "import os\n",
    "import numpy as np\n",
    "from tqdm import tqdm\n",
    "from selenium.webdriver.chrome.service import Service\n",
    "from selenium import webdriver\n",
    "from webdriver_manager.chrome import ChromeDriverManager\n",
    "from selenium.webdriver.common.keys import Keys\n",
    "from selenium.webdriver.support.ui import WebDriverWait\n",
    "from selenium.webdriver.support import expected_conditions as EC\n",
    "from selenium.webdriver.common.by import By\n",
    "from selenium.webdriver.support.select import Select\n",
    "from selenium.webdriver.common.alert import Alert\n",
    "# from selenium.webdriver.chrome.options import Options\n",
    "#from selenium.common.exceptions import NoAlertPresentException, NoSuchWindowException # NoSuchElementException, UnexpectedAlertPresentException, WebDriverException,\n",
    "import random\n",
    "from file_function import read_filelist\n",
    "from datetime import date\n",
    "# from datetime import timedelta\n",
    "import traceback\n",
    "# 정렬순서 : 확정일자(내림), 법원(올림), 사건번호(내림)\n",
    "import time\n",
    "import requests\n",
    "import base64\n",
    "import pytesseract\n",
    "from PIL import Image\n",
    "from io import BytesIO\n",
    "\n",
    "dtype = {'채무자키':str, '계좌키':str, '가상계좌번호':str, '법조치키':str}"
   ]
  },
  {
   "cell_type": "code",
   "execution_count": 2,
   "id": "ebfb6842",
   "metadata": {},
   "outputs": [],
   "source": [
    "def lwt() : time.sleep(2.5)\n",
    "def mwt() : time.sleep(1)\n",
    "def swt() : time.sleep(random.uniform(0.2,0.5))\n",
    "\n",
    "def set_chrome_driver():\n",
    "    chrome_options = webdriver.ChromeOptions()\n",
    "    driver = webdriver.Chrome(service=Service(ChromeDriverManager().install()), options=chrome_options)\n",
    "    return driver\n",
    "\n",
    "def con_scourt() :\n",
    "    driver = set_chrome_driver()\n",
    "    # driver.get(\"https://ecfs.scourt.go.kr/psp/index.on?m=PSPA2GM01\") # 제증명발급신청. 메인화면 하면 로그인 오류 생김\n",
    "    driver.get(\"https://ecfs.scourt.go.kr/psp/index.on\")\n",
    "    \n",
    "    driver.maximize_window() # 최대화 필수(상단 메뉴 보였다 안 보였다...)\n",
    "    wait = WebDriverWait(driver, 30) \n",
    "    return driver, wait"
   ]
  },
  {
   "cell_type": "code",
   "execution_count": null,
   "id": "d50f75cf",
   "metadata": {},
   "outputs": [],
   "source": [
    "driver, wait = con_scourt()"
   ]
  },
  {
   "cell_type": "markdown",
   "id": "c7743806",
   "metadata": {},
   "source": [
    "### 엑셀 사건조회"
   ]
  },
  {
   "cell_type": "code",
   "execution_count": null,
   "id": "e5ea5c89",
   "metadata": {},
   "outputs": [],
   "source": []
  },
  {
   "cell_type": "markdown",
   "id": "2b6a7862",
   "metadata": {},
   "source": [
    "### 단건 사건조회"
   ]
  },
  {
   "cell_type": "code",
   "execution_count": 48,
   "id": "0966eadc",
   "metadata": {},
   "outputs": [],
   "source": [
    "#######################\n",
    "법원 = \"서울중앙지방법원\"\n",
    "사건번호 = \"2012가단249137\"\n",
    "당사자명 = \"이오채\"\n",
    "#######################\n",
    "\n",
    "# 사건구분입력모드 클릭\n",
    "checkbox = driver.find_element(By.ID, \"mf_pmf_content1_cbx_sagunNoGb_input_0\")\n",
    "if not checkbox.is_selected():\n",
    "    checkbox.click()\n",
    "\n",
    "# 법원\n",
    "    # Select 객체 생성\n",
    "select = Select(driver.find_element(By.ID, \"mf_pmf_content1_sbx_cort5\"))\n",
    "    # 텍스트를 가진 옵션 선택\n",
    "select.select_by_visible_text(법원)\n",
    "swt()\n",
    "\n",
    "# 사건번호, 당사자\n",
    "사건번호_id = \"mf_pmf_content1_ibx_csNoFull5\"\n",
    "당사자_input_id = \"mf_pmf_content1_ibx_dangNm5\"\n",
    "for id, value in ((사건번호_id, 사건번호), (당사자_input_id, 당사자명)) : \n",
    "        # input 요소 찾기\n",
    "    input_box = driver.find_element(By.ID, id)\n",
    "        # 입력값 설정\n",
    "    input_box.clear()  # 기존 값이 있다면 지우기\n",
    "    input_box.send_keys(value)\n",
    "    swt()\n",
    "    \n",
    "# 조회버튼 클릭\n",
    "view_button = driver.find_element(By.ID, \"mf_pmf_content1_btn_t5Search\")\n",
    "view_button.click()"
   ]
  },
  {
   "cell_type": "code",
   "execution_count": null,
   "id": "4dd8f58e",
   "metadata": {},
   "outputs": [],
   "source": [
    "import cv2\n",
    "import numpy as np\n",
    "from PIL import Image"
   ]
  },
  {
   "cell_type": "code",
   "execution_count": null,
   "id": "edfa16b7",
   "metadata": {},
   "outputs": [
    {
     "name": "stdout",
     "output_type": "stream",
     "text": [
      "OCR 원문: 008518\n",
      "추출된 숫자: 008518\n"
     ]
    }
   ],
   "source": [
    "# 1. 이미지 요소 찾기\n",
    "img_elem = driver.find_element(By.ID, \"mf_pmf_content1_captchaImg1\")\n",
    "\n",
    "# 2. 직접 캡처 (링크는 보안상 랜덤이미지가 나옴)\n",
    "img_elem.screenshot(\"captcha_screenshot.png\")\n",
    "\n",
    "# 1. 이미지 열기\n",
    "image = Image.open(\"captcha_screenshot.png\")\n",
    "\n",
    "# 2. 이미지 보기 (주피터 노트북이나 IDE에서 직접 보여줌)\n",
    "# image.show()\n",
    "\n",
    "# # 3-1. 이미지 전처리 (흑백 변환)\n",
    "gray_image = image.convert(\"L\")\n",
    "\n",
    "# 4. 간단한 이진화 (선택사항, 정확도 향상에 도움)\n",
    "threshold = 80  # 70 ~ 80 정도에서 잘 돼는 숫자가 있는 것 같다. 그런데 그게 그림마다 다르네. & 나우리에서 본 이미지는 배경이 투명하네. w2image mr10 pb5 class는 이렇다. w2image가 특정프로그램은 아닌지 확인\n",
    "# 나우리꺼 캡처한 이미지는 아주 잘 읽는다. 전처리를 잘 하는 것이 중요한듯.\n",
    "bw_image = gray_image.point(lambda x: 0 if x < threshold else 255, '1')\n",
    "bw_image.show()\n",
    "\n",
    "# 5. OCR 수행 (숫자 인식에 집중)\n",
    "custom_config = r'--psm 7 -c tessedit_char_whitelist=0123456789' # \n",
    "raw_text = pytesseract.image_to_string(bw_image, config=custom_config)\n",
    "\n",
    "# 6. 숫자만 추출\n",
    "captcha_digits = re.sub(r'\\D', '', raw_text)\n",
    "\n",
    "print(\"OCR 원문:\", raw_text.strip())\n",
    "print(\"추출된 숫자:\", captcha_digits)"
   ]
  },
  {
   "cell_type": "code",
   "execution_count": 70,
   "id": "88280dc1",
   "metadata": {},
   "outputs": [
    {
     "data": {
      "image/jpeg": "[encoded data removed]",
      "image/png": "[encoded data removed]",
      "text/plain": [
       "<PIL.PngImagePlugin.PngImageFile image mode=RGB size=220x50>"
      ]
     },
     "execution_count": 70,
     "metadata": {},
     "output_type": "execute_result"
    }
   ],
   "source": [
    "image"
   ]
  },
  {
   "cell_type": "code",
   "execution_count": 72,
   "id": "981d1149",
   "metadata": {},
   "outputs": [
    {
     "data": {
      "image/jpeg": "[encoded data removed]",
      "image/png": "[encoded data removed]",
      "text/plain": [
       "<PIL.Image.Image image mode=1 size=220x50>"
      ]
     },
     "execution_count": 72,
     "metadata": {},
     "output_type": "execute_result"
    }
   ],
   "source": [
    "bw_image"
   ]
  },
  {
   "cell_type": "code",
   "execution_count": 105,
   "id": "16d20fd8",
   "metadata": {},
   "outputs": [
    {
     "name": "stdout",
     "output_type": "stream",
     "text": [
      "OCR 원문: \n",
      "추출된 숫자: \n"
     ]
    }
   ],
   "source": [
    "# 1. 이미지 요소 찾기\n",
    "img_elem = driver.find_element(By.ID, \"mf_pmf_content1_captchaImg1\")\n",
    "\n",
    "# 2. 직접 캡처 (링크는 보안상 랜덤이미지가 나옴)\n",
    "img_elem.screenshot(\"captcha_screenshot.png\")\n",
    "\n",
    "# 1. 이미지 열기\n",
    "image = Image.open(\"captcha_screenshot.png\")\n",
    "\n",
    "# 2. 이미지 보기 (주피터 노트북이나 IDE에서 직접 보여줌)\n",
    "# image.show()\n",
    "\n",
    "# 3. PIL Image → OpenCV용 numpy 배열로 변환\n",
    "img_np = np.array(image)\n",
    "# BGR → Grayscale\n",
    "gray_image = cv2.cvtColor(img_np, cv2.COLOR_RGB2GRAY)\n",
    "\n",
    "# PIL 이미지를 OpenCV 형식으로 변환\n",
    "pil_image = gray_image\n",
    "open_cv_image = np.array(pil_image)\n",
    "\n",
    "# OpenCV 이진화 (Adaptive Threshold)\n",
    "thresh = cv2.adaptiveThreshold(open_cv_image, 255, cv2.ADAPTIVE_THRESH_GAUSSIAN_C, \n",
    "                               cv2.THRESH_BINARY_INV, 11, 2)\n",
    "\n",
    "# OpenCV 이미지 다시 PIL로 변환\n",
    "bw_image = Image.fromarray(thresh)\n",
    "# bw_image.show()\n",
    "\n",
    "scale_factor = 1\n",
    "width, height = bw_image.size\n",
    "resized_img = bw_image.resize(\n",
    "    (bw_image.width * scale_factor, bw_image.height * scale_factor),\n",
    "    resample=Image.Resampling.LANCZOS\n",
    ")\n",
    "\n",
    "\n",
    "# 5. OCR 수행 (숫자 인식에 집중)\n",
    "custom_config = r'--psm 7 -c tessedit_char_whitelist=0123456789'\n",
    "raw_text = pytesseract.image_to_string(bw_image, config=custom_config)\n",
    "\n",
    "# 6. 숫자만 추출\n",
    "captcha_digits = re.sub(r'\\D', '', raw_text)\n",
    "\n",
    "print(\"OCR 원문:\", raw_text.strip())\n",
    "print(\"추출된 숫자:\", captcha_digits)"
   ]
  },
  {
   "cell_type": "code",
   "execution_count": 62,
   "id": "a398c131",
   "metadata": {},
   "outputs": [],
   "source": [
    "from selenium import webdriver\n",
    "from selenium.webdriver.common.by import By\n",
    "from PIL import Image, ImageOps\n",
    "from io import BytesIO\n",
    "import numpy as np\n",
    "import pytesseract\n",
    "import re\n",
    "import time"
   ]
  },
  {
   "cell_type": "code",
   "execution_count": 63,
   "id": "bf9ee93c",
   "metadata": {},
   "outputs": [
    {
     "name": "stdout",
     "output_type": "stream",
     "text": [
      "최종 추출된 숫자: 22\n"
     ]
    }
   ],
   "source": [
    "img_elem.screenshot(\"captcha_screenshot.png\")\n",
    "\n",
    "# 4. 이미지 열기\n",
    "image = Image.open(\"captcha_screenshot.png\")\n",
    "\n",
    "# 5. 전처리 (흑백 + 대비 조정 + threshold 이진화)\n",
    "gray = image.convert(\"L\")\n",
    "contrast = ImageOps.autocontrast(gray)\n",
    "bw_image = contrast.point(lambda x: 0 if x < 100 else 255, '1')  # 임계값은 필요시 조정\n",
    "\n",
    "# 6. numpy 배열로 변환\n",
    "img_arr = np.array(bw_image)\n",
    "column_sums = np.sum(img_arr < 255, axis=0)  # 흰색이 아닌 열 픽셀 수\n",
    "\n",
    "# 7. 숫자 영역 자동 감지\n",
    "non_zero_cols = np.where(column_sums > 0)[0]\n",
    "if len(non_zero_cols) == 0:\n",
    "    raise ValueError(\"숫자가 있는 영역을 찾을 수 없습니다.\")\n",
    "start_x, end_x = non_zero_cols[0], non_zero_cols[-1]\n",
    "\n",
    "# 8. 숫자 영역만 crop\n",
    "digit_region = bw_image.crop((start_x, 0, end_x, bw_image.height))\n",
    "\n",
    "# 9. 6등분 후 문자별 OCR 수행\n",
    "digit_width = (end_x - start_x) // 6\n",
    "digits = \"\"\n",
    "\n",
    "for i in range(6):\n",
    "    x0 = start_x + i * digit_width\n",
    "    x1 = x0 + digit_width\n",
    "    digit_img = bw_image.crop((x0, 0, x1, bw_image.height))\n",
    "    \n",
    "    # 문자 확대 (인식률 향상)\n",
    "    digit_img = digit_img.resize(\n",
    "        (digit_img.width * 3, digit_img.height * 3),\n",
    "        resample=Image.Resampling.LANCZOS\n",
    "    )\n",
    "\n",
    "    # OCR (단일 숫자)\n",
    "    text = pytesseract.image_to_string(\n",
    "        digit_img, \n",
    "        config='--psm 10 -c tessedit_char_whitelist=0123456789'\n",
    "    )\n",
    "    digits += re.sub(r'\\D', '', text)\n",
    "\n",
    "# 10. 결과 출력\n",
    "print(\"최종 추출된 숫자:\", digits)"
   ]
  }
 ],
 "metadata": {
  "kernelspec": {
   "display_name": "py_312",
   "language": "python",
   "name": "python3"
  },
  "language_info": {
   "codemirror_mode": {
    "name": "ipython",
    "version": 3
   },
   "file_extension": ".py",
   "mimetype": "text/x-python",
   "name": "python",
   "nbconvert_exporter": "python",
   "pygments_lexer": "ipython3",
   "version": "3.12.11"
  }
 },
 "nbformat": 4,
 "nbformat_minor": 5
}
