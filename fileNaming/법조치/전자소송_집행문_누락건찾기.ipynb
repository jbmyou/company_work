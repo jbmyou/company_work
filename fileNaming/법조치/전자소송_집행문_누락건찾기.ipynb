{
 "cells": [
  {
   "cell_type": "code",
   "execution_count": 1,
   "id": "e6703dc3",
   "metadata": {},
   "outputs": [],
   "source": [
    "import pandas as pd\n",
    "import os\n",
    "from os.path import join\n",
    "import functions"
   ]
  },
  {
   "cell_type": "code",
   "execution_count": 9,
   "id": "d1876985",
   "metadata": {},
   "outputs": [],
   "source": [
    "# 전자소송에서 분기별(근접하게)로 조회하되\n",
    "# 파일은 해당 날짜를 포함하는 모든 파일을 모으면 됨.\n",
    "# ex) 07.07~0928까지 하려면 '집행문신청_250706' 다음 파일 ~ '집행문신청_250928' 다음파일까지\n",
    "########################\n",
    "조회기간 = \"250707~250928\" \n",
    "########################\n",
    "path = r\"D:\\4.관리\\전자소송\\새 폴더\"\n",
    "filelist = functions.키워드로파일명찾기(path, 포함키워드=\"집행문신청\", 제외키워드=\"\", 전체경로=True, 여러파일허용=True)"
   ]
  },
  {
   "cell_type": "code",
   "execution_count": 10,
   "id": "fb922f90",
   "metadata": {},
   "outputs": [],
   "source": [
    "df_concat = pd.DataFrame(None)\n",
    "for p in filelist : \n",
    "    try : \n",
    "        df = pd.read_excel(p, dtype=str, sheet_name=\"집행문\")[[\"법원\",\"사건번호\",\"피고\",\"집행문\",\"확정일자\",\"채무자키\"]]\n",
    "        df_concat = pd.concat([df_concat, df], axis=0)\n",
    "    except : \n",
    "        print(p)"
   ]
  },
  {
   "cell_type": "code",
   "execution_count": null,
   "id": "959deca6",
   "metadata": {},
   "outputs": [],
   "source": [
    "df_concat.법원 = df_concat.법원.str.replace(\"지방법원\",\"지법\")\n",
    "df_concat[\"법원사건번호\"] = df_concat.법원 + df_concat.사건번호\n",
    "df_concat.to_excel(join(path,\"통합_\"+조회기간+\".xlsx\"), index=False)\n",
    "\n",
    "# 집행문신청 파일명\n",
    "print(\"집행문신청_\"+조회기간+\".xlsx\")"
   ]
  }
 ],
 "metadata": {
  "kernelspec": {
   "display_name": "py_312",
   "language": "python",
   "name": "python3"
  },
  "language_info": {
   "codemirror_mode": {
    "name": "ipython",
    "version": 3
   },
   "file_extension": ".py",
   "mimetype": "text/x-python",
   "name": "python",
   "nbconvert_exporter": "python",
   "pygments_lexer": "ipython3",
   "version": "3.12.11"
  }
 },
 "nbformat": 4,
 "nbformat_minor": 5
}
