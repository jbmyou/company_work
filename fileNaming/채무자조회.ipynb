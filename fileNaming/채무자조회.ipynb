{
 "cells": [
  {
   "cell_type": "code",
   "execution_count": 2,
   "metadata": {},
   "outputs": [],
   "source": [
    "import pandas as pd\n",
    "import pickle\n",
    "import os\n",
    "from os.path import join\n",
    "import re\n",
    "import tqdm\n",
    "from file_function import re_name_upload, write_log_csv_upload\n",
    "from tqdm import tqdm"
   ]
  },
  {
   "cell_type": "markdown",
   "metadata": {},
   "source": [
    "##### 채무자조회.pkl 만들기"
   ]
  },
  {
   "cell_type": "code",
   "execution_count": 3,
   "metadata": {},
   "outputs": [
    {
     "data": {
      "text/plain": [
       "67727"
      ]
     },
     "execution_count": 3,
     "metadata": {},
     "output_type": "execute_result"
    }
   ],
   "source": [
    "# 현재 버전 221021  # 원금포함 파일 221109\n",
    "path = r\"C:\\Users\\SL\\Desktop\\workspace\\python\\fileNaming\\파일\"\n",
    "excel_file = \"채무자조회.xlsx\"\n",
    "df = pd.read_excel(join(path, excel_file))\n",
    "len(df)"
   ]
  },
  {
   "cell_type": "code",
   "execution_count": 4,
   "metadata": {},
   "outputs": [],
   "source": [
    "pkl_file = \"채무자조회.pkl\"\n",
    "df.to_pickle(join(path, pkl_file))"
   ]
  },
  {
   "cell_type": "markdown",
   "metadata": {},
   "source": [
    "##### 신규 종결건 처리하기"
   ]
  },
  {
   "cell_type": "code",
   "execution_count": 54,
   "metadata": {},
   "outputs": [],
   "source": [
    "df_old = pd.read_pickle(r\"C:\\Users\\SL\\Desktop\\workspace\\python\\fileNaming\\파일\\채무자조회 구버전\\채무자조회_220906.pkl\").fillna(\"\")\n",
    "df_new = pd.read_pickle(r\"C:\\Users\\SL\\Desktop\\workspace\\python\\fileNaming\\파일\\채무자조회.pkl\").fillna(\"\")"
   ]
  },
  {
   "cell_type": "code",
   "execution_count": 110,
   "metadata": {},
   "outputs": [],
   "source": [
    "df1 = df_old.loc[:, [\"채무자키\", \"채무상태\"]]\n",
    "df2 = df_new.loc[:, [\"채무자키\", \"채무상태\", \"매각사구분\"]]"
   ]
  },
  {
   "cell_type": "code",
   "execution_count": 111,
   "metadata": {},
   "outputs": [],
   "source": [
    "df3 = pd.merge(df1,df2, on=\"채무자키\", how=\"outer\")\n",
    "df3.columns = [\"채무자키\", \"old\", \"new\", \"매각사구분\"]"
   ]
  },
  {
   "cell_type": "code",
   "execution_count": 130,
   "metadata": {},
   "outputs": [],
   "source": [
    "df4 = df3[~(df3[\"old\"].str.match(r\"개인회생\\(면책\\)|파산\\(면책\\)|환매|매각|종결\")) & (df3[\"new\"].str.match(r\"개인회생\\(면책\\)|파산\\(면책\\)|환매|매각|종결\"))]"
   ]
  },
  {
   "cell_type": "code",
   "execution_count": 132,
   "metadata": {},
   "outputs": [],
   "source": [
    "# 보고용\n",
    "# df5 = df3[df3[\"new\"].str.match(r\"개인회생\\(면책\\)|파산\\(면책\\)|환매|매각|종결\")][\"채무자키\"]\n",
    "# df5.index = range(len(df5))\n",
    "# df5.to_excel(\"c://Users/SL/Desktop/관리제외221021.xlsx\")"
   ]
  },
  {
   "cell_type": "code",
   "execution_count": 131,
   "metadata": {},
   "outputs": [],
   "source": [
    "# 신규 종결건 보고용\n",
    "# df4.columns = [\"채무자키\", \"채무상태220906\", \"채무상태221021\", \"매각사구분\"]\n",
    "# df4.reset_index(inplace=True, drop=True)\n",
    "# df4.to_excel(\"c://Users/SL/Desktop/신규종결건.xlsx\")"
   ]
  },
  {
   "cell_type": "code",
   "execution_count": 116,
   "metadata": {},
   "outputs": [
    {
     "data": {
      "text/plain": [
       "359"
      ]
     },
     "execution_count": 116,
     "metadata": {},
     "output_type": "execute_result"
    }
   ],
   "source": [
    "result = [(str(x), y) for x, y in zip(df4.채무자키, df4.매각사구분)]\n",
    "len(result)"
   ]
  },
  {
   "cell_type": "code",
   "execution_count": 118,
   "metadata": {},
   "outputs": [
    {
     "data": {
      "text/plain": [
       "['1.원인서류',\n",
       " '2.양도통지서',\n",
       " '3.집행권원',\n",
       " '4.강제집행',\n",
       " '5.등초본',\n",
       " '5.등초본',\n",
       " '5.등초본',\n",
       " '5.등초본',\n",
       " '5.등초본',\n",
       " '5.등초본',\n",
       " '6.개인회생',\n",
       " '7.신용회복',\n",
       " '8.파산',\n",
       " '9.재산조사',\n",
       " '10.부채증명서',\n",
       " '11.신용조회',\n",
       " '12.개인정보',\n",
       " '기타']"
      ]
     },
     "execution_count": 118,
     "metadata": {},
     "output_type": "execute_result"
    }
   ],
   "source": [
    "docu_folder_dict = {\"원인서류\": \"1.원인서류\", \"양도통지서\": \"2.양도통지서\", \"집행권원\": \"3.집행권원\", \"강제집행\": \"4.강제집행\", \n",
    "        \"등본\": \"5.등초본\", \"법인등기\" : \"5.등초본\", \"초본\": \"5.등초본\", \"등초본\":\"5.등초본\", \"외국인증명\": \"5.등초본\", \"주민등록정보\":\"5.등초본\", \n",
    "        \"개인회생\": \"6.개인회생\", \"신용회복\": \"7.신용회복\", \"파산\": \"8.파산\", \"재산조사\": \"9.재산조사\", \"부채증명서\" : \"10.부채증명서\", \n",
    "        \"신용조회\" : \"11.신용조회\", \"개인정보\":\"12.개인정보\", \"기타\": \"기타\"}\n",
    "depth1 = list(docu_folder_dict.values())\n",
    "depth1"
   ]
  },
  {
   "cell_type": "markdown",
   "metadata": {},
   "source": [
    "###### 신규 종결건 파일서버에서 삭제하기"
   ]
  },
  {
   "cell_type": "code",
   "execution_count": 125,
   "metadata": {},
   "outputs": [
    {
     "name": "stderr",
     "output_type": "stream",
     "text": [
      "100%|██████████| 18/18 [25:01<00:00, 83.43s/it]  \n"
     ]
    },
    {
     "name": "stdout",
     "output_type": "stream",
     "text": [
      "1590 개의 파일 이동\n",
      "0 개의 파일 이동 실패\n",
      "919 개의 폴더 삭제\n",
      "log 파일이 비어있습니다. path : \\\\192.168.0.75\\스캔파일\\스캔파일log\\_project\\파일\\채무자조회 구버전\n"
     ]
    }
   ],
   "source": [
    "path = r\"\\\\192.168.0.75\\솔림헬프\"\n",
    "out_dir_base = r\"\\\\192.168.0.75\\삭제예정파일\\관리제외\"\n",
    "path_log = r'\\\\192.168.0.75\\스캔파일\\스캔파일log\\_project\\파일\\채무자조회 구버전'\n",
    "success = []\n",
    "fail = []\n",
    "dir_cnt = 0\n",
    "\n",
    "for d1 in tqdm(depth1) : \n",
    "    for d3, d2 in result :\n",
    "        src_d = join(path, d1, d2, d3)\n",
    "        if os.path.exists(src_d) :\n",
    "\n",
    "            dst_d = join(out_dir_base, d2, d3)\n",
    "            if not os.path.exists(dst_d) :\n",
    "                os.makedirs(dst_d)\n",
    "\n",
    "            for f in os.listdir(src_d) :  # 파일 옮기기\n",
    "                try :\n",
    "                    success.append(re_name_upload(join(src_d, f), join(dst_d, f)))\n",
    "                except Exception as e :    \n",
    "                        fail.append([src_d, f, dst_d, f, e.__class__])\n",
    "                        continue\n",
    "            \n",
    "            try : \n",
    "                os.rmdir(src_d) # 빈폴더 삭제하기\n",
    "                dir_cnt += 1\n",
    "            except Exception as e : \n",
    "                print(e)\n",
    "            \n",
    "print(len(success),\"개의 파일 이동\")\n",
    "print(len(fail),\"개의 파일 이동 실패\")\n",
    "print(dir_cnt,\"개의 폴더 삭제\")\n",
    "write_log_csv_upload(success, path_log, \"success\")\n",
    "write_log_csv_upload(fail, path_log, \"fail\")"
   ]
  },
  {
   "cell_type": "code",
   "execution_count": 121,
   "metadata": {},
   "outputs": [
    {
     "data": {
      "text/plain": [
       "0"
      ]
     },
     "execution_count": 121,
     "metadata": {},
     "output_type": "execute_result"
    }
   ],
   "source": [
    "dir_cnt"
   ]
  },
  {
   "cell_type": "code",
   "execution_count": 109,
   "metadata": {},
   "outputs": [
    {
     "name": "stdout",
     "output_type": "stream",
     "text": [
      "453 개의 파일 이동\n",
      "0 개의 파일 이동 실패\n",
      "0 개의 폴더 삭제\n",
      "log 파일이 비어있습니다. path : \\\\192.168.0.75\\스캔파일\\스캔파일log\\_project\\파일\\채무자조회 구버전\n"
     ]
    }
   ],
   "source": [
    "path = r\"\\\\192.168.0.75\\솔림헬프\"\n",
    "out_dir_base = r\"\\\\192.168.0.75\\관리제외\"\n",
    "path_log = r'\\\\192.168.0.75\\스캔파일\\스캔파일log\\_project\\파일\\채무자조회 구버전'\n",
    "success = []\n",
    "fail = []\n",
    "dir_cnt = 0\n",
    "for root, __dirs__, files in tqdm(os.walk(path)) :\n",
    "    if re.search(\"#recycle\", root) == None : # 휴지통 nono\n",
    "        for key in result :\n",
    "            try : \n",
    "                if re.search(key, root) :\n",
    "                    depth2 = root.split(os.path.sep)[-2]\n",
    "                    depth3 = root.split(os.path.sep)[-3]\n",
    "                    out_dir = join(out_dir_base, depth2, depth3)\n",
    "                    \n",
    "                    # if not os.path.exists(out_dir) :\n",
    "                    #     os.makedirs(out_dir)\n",
    "                    try :\n",
    "                        for f in os.listdir(root) :\n",
    "                            success.append([join(root, f), join(out_dir, f)])\n",
    "                            # success.append(re_name_upload(join(root, f), join(out_dir, f)))\n",
    "                    except Exception as e :    \n",
    "                        fail.append([root, f, out_dir, f, e.__class__])\n",
    "                        continue\n",
    "            \n",
    "                    # os.rmdir(out_dir)\n",
    "                    # dir_cnt += 1\n",
    "                    break\n",
    "            except Exception as e : \n",
    "                print(e.with_traceback())\n",
    "                continue\n",
    "                \n",
    "print(len(success),\"개의 파일 이동\")\n",
    "print(len(fail),\"개의 파일 이동 실패\")\n",
    "print(dir_cnt,\"개의 폴더 삭제\")\n",
    "write_log_csv_upload(success, path_log, \"success\")\n",
    "write_log_csv_upload(fail, path_log, \"fail\")\n",
    "\n",
    "                \n"
   ]
  }
 ],
 "metadata": {
  "kernelspec": {
   "display_name": "Python 3.9.12 ('base')",
   "language": "python",
   "name": "python3"
  },
  "language_info": {
   "codemirror_mode": {
    "name": "ipython",
    "version": 3
   },
   "file_extension": ".py",
   "mimetype": "text/x-python",
   "name": "python",
   "nbconvert_exporter": "python",
   "pygments_lexer": "ipython3",
   "version": "3.9.13"
  },
  "orig_nbformat": 4,
  "vscode": {
   "interpreter": {
    "hash": "50ba2c93e3505a279245e213c77d9791c626788d8ca8a61b8db804927ca08a39"
   }
  }
 },
 "nbformat": 4,
 "nbformat_minor": 2
}
