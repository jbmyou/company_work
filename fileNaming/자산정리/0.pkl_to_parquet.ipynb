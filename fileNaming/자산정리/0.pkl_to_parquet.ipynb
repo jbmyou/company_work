{
 "cells": [
  {
   "cell_type": "markdown",
   "id": "fee6b9f4",
   "metadata": {},
   "source": [
    "#### import"
   ]
  },
  {
   "cell_type": "code",
   "execution_count": 1,
   "id": "085e0d8a",
   "metadata": {},
   "outputs": [],
   "source": [
    "import pickle\n",
    "import pandas as pd\n",
    "import numpy as np\n",
    "import os\n",
    "from os.path import join\n",
    "from tqdm import tqdm\n",
    "import functions\n",
    "import sys\n",
    "import numpy.core.numeric as numeric ##\n",
    "\n",
    "try : sys.modules['numpy._core.numeric']\n",
    "except : \n",
    "    sys.modules['numpy._core.numeric'] = numeric\n",
    "    \n",
    "# parquet는 특정 칼럼만 읽을 수 있어 feather보다 대용량의 파일 처리시 유용함\n",
    "# df = pd.read_parquet(\"data.parquet\", columns=[\"col1\", \"col2\", \"col3\"])\n",
    "\n",
    "# engine = :\n",
    "# Pandas는 자동으로 사용 가능한 엔진을 선택하므로 반드시 작성할 필요는 없음\n",
    "# 기본적으로는 설치된 pyarrow가 있으면 pyarrow, 없으면 fastparquet를 사용합니다.\n",
    "# 다만 명시적 선택 → 다른 환경에서 동일 엔진 사용 보장\n",
    "# 버전/호환성 문제 예방 → pyarrow와 fastparquet은 내부 구현과 dtype 처리 방식 차이가 있음\n",
    "# 속도/압축 옵션 제어 → 일부 옵션은 특정 엔진에서만 지원됨"
   ]
  },
  {
   "cell_type": "markdown",
   "id": "2fe99115",
   "metadata": {},
   "source": [
    "#### 폴더 전체"
   ]
  },
  {
   "cell_type": "code",
   "execution_count": 2,
   "id": "32a1ab02",
   "metadata": {},
   "outputs": [],
   "source": [
    "###################################################\n",
    "pkl_path = r\"D:\\3.자산\\전산 dataset\\대성\\기간축적데이터\\입금\\pkl\"\n",
    "###################################################\n",
    "parquet_path = join(os.path.dirname(pkl_path),\"parquet\")\n",
    "\n",
    "if not os.path.exists(parquet_path) : \n",
    "    os.mkdir(parquet_path)\n",
    "\n",
    "filelist = functions.키워드로파일명찾기(pkl_path, 포함키워드=\".pkl\", 전체경로=True, 여러파일허용=True)\n",
    "\n",
    "if isinstance(filelist, list) : \n",
    "    for fn in tqdm(filelist, total=len(filelist)) : \n",
    "        \n",
    "        stem = os.path.splitext(os.path.basename(fn))[0]\n",
    "        with open(fn, \"rb\") as f:\n",
    "            df = pickle.load(f)\n",
    "            \n",
    "            functions.to_parquet(df, join(parquet_path, stem))\n",
    "else : \n",
    "    stem = os.path.splitext(os.path.basename(filelist))[0]\n",
    "    with open(filelist, \"rb\") as f:\n",
    "        df = pickle.load(f)\n",
    "        \n",
    "        functions.to_parquet(df, join(parquet_path, stem))"
   ]
  },
  {
   "cell_type": "markdown",
   "id": "0b862670",
   "metadata": {},
   "source": [
    "#### 단일 파일"
   ]
  },
  {
   "cell_type": "code",
   "execution_count": 2,
   "id": "f482b479",
   "metadata": {},
   "outputs": [
    {
     "name": "stdout",
     "output_type": "stream",
     "text": [
      "중복된 컬럼명: []\n"
     ]
    }
   ],
   "source": [
    "# 단일 파일\n",
    "# 3.9나 3.12를 선택해서 하자\n",
    "###################################################\n",
    "parquet폴더생성 = False\n",
    "pkl_path = r\"D:\\3.자산\\매입자료\\매입가 정리\"\n",
    "pkl_fn = \"매입가\" # 확장자 생략\n",
    "###################################################\n",
    "\n",
    "with open(join(pkl_path, pkl_fn + \".pkl\"), \"rb\") as f : \n",
    "    df = pickle.load(f)\n",
    "    \n",
    "dup_cols = df.columns[df.columns.duplicated()].unique()\n",
    "print(\"중복된 컬럼명:\", dup_cols.tolist())\n",
    "\n",
    "df = df.loc[:, ~df.columns.duplicated()]\n",
    "    \n",
    "    \n",
    "if parquet폴더생성 : \n",
    "    parquet_path = join(os.path.dirname(pkl_path), \"pd\")\n",
    "    if not os.path.exists(parquet_path) : \n",
    "        os.mkdir(parquet_path)\n",
    "else : \n",
    "    parquet_path = pkl_path\n",
    "    \n",
    "functions.to_parquet(df, join(parquet_path, pkl_fn))"
   ]
  }
 ],
 "metadata": {
  "kernelspec": {
   "display_name": "py_312",
   "language": "python",
   "name": "python3"
  },
  "language_info": {
   "codemirror_mode": {
    "name": "ipython",
    "version": 3
   },
   "file_extension": ".py",
   "mimetype": "text/x-python",
   "name": "python",
   "nbconvert_exporter": "python",
   "pygments_lexer": "ipython3",
   "version": "3.12.11"
  }
 },
 "nbformat": 4,
 "nbformat_minor": 5
}
