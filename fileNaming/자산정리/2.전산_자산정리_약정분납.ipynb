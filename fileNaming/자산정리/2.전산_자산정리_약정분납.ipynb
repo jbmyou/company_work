{
 "cells": [
  {
   "cell_type": "markdown",
   "id": "1f2ceb46",
   "metadata": {},
   "source": [
    "### import 및 파일 읽기"
   ]
  },
  {
   "cell_type": "code",
   "execution_count": 2,
   "id": "a8568a55",
   "metadata": {},
   "outputs": [],
   "source": [
    "import pandas as pd\n",
    "import numpy as np\n",
    "import pickle\n",
    "import re\n",
    "import os\n",
    "from os.path import join\n",
    "from tqdm import tqdm\n",
    "from datetime import datetime\n",
    "from openpyxl.utils.dataframe import dataframe_to_rows\n",
    "from openpyxl.styles import Font, PatternFill, Alignment, Border, Side\n",
    "from openpyxl import Workbook\n",
    "import warnings\n",
    "warnings.simplefilter(\"ignore\")\n",
    "import functions\n",
    "\n",
    "# 출력 옵션\n",
    "pd.options.display.float_format = '{:,.0f}'.format\n",
    "\n",
    "account_dtype = {'채무자키':str, '계좌키':str, '타채무자키':str}\n",
    "grt_dtype = {'채무자키':str, '계좌키':str, '타채무자키':str, '보증인키':str}\n",
    "deposit_dtype = {'채무자키':str, '입금키':str, '계좌키':str, '계좌번호':str, '입금고정키':str, '타채무자키':str}\n",
    "reduction_dtype = {'채무자키':str, '계좌키':str, '감면키':str}\n",
    "installment_dtype = {'채무자키':str, '계좌키':str, '분납키':str}"
   ]
  },
  {
   "cell_type": "markdown",
   "id": "8a5f26cb",
   "metadata": {},
   "source": [
    "#### 파일읽기 : 첫 기준데이터 만들기"
   ]
  },
  {
   "cell_type": "code",
   "execution_count": 5,
   "id": "05bb363a",
   "metadata": {},
   "outputs": [],
   "source": [
    "# 파일읽기\n",
    "##################################\n",
    "company = \"솔림\"      # 솔림 or 대성\n",
    "basedate = \"250423\" \n",
    "previous_basedate = \"250331\" # 전달 기준데이터 필요\n",
    "##################################\n",
    "\n",
    "기준일 = '20' + basedate[:2] +'-'+basedate[2:4]+'-'+basedate[4:6]\n",
    "기준일_dt = pd.to_datetime(기준일)\n",
    "wd = join(r\"D:\\3.자산\\전산 dataset\", company)\n",
    "\n",
    "# 기본 경로\n",
    "base_dir = join(wd, basedate, \"pkl\")\n",
    "        \n",
    "# 파일검색어\n",
    "파일검색어 = [\"계좌조회새창_\", \"보증인새창_\", \"감면조회새창\", \"약정분납새창\"]#, \"입금조회새창\"]\n",
    "# 파일명리스트\n",
    "files = []\n",
    "for i in range(len(파일검색어)) : \n",
    "    if re.search(\"보증인새창\", 파일검색어[i]) : # 새보증인상태 파일 말고 원 파일 읽자\n",
    "        files.append(functions.키워드로파일명찾기(base_dir, 파일검색어[i],'새보증인상태',전체경로=True))\n",
    "    elif re.search(\"약정분납새창\", 파일검색어[i]) : # 새보증인상태 파일 말고 원 파일 읽자\n",
    "        files.append(functions.키워드로파일명찾기(base_dir, 파일검색어[i],'기준데이터',전체경로=True))\n",
    "    else : \n",
    "        files.append(functions.키워드로파일명찾기(base_dir, 파일검색어[i],전체경로=True))\n",
    "\n",
    "account = pd.read_pickle(files[0])\n",
    "grt = pd.read_pickle(files[1])\n",
    "reduction_ori = pd.read_pickle(files[2])\n",
    "installment_ori = pd.read_pickle(files[3])\n",
    "# deposit = pd.read_pickle(files[4])\n",
    "\n",
    "# 보증인새창에 이름키_ 추가 (이름키 - 엄격(pk), 제거시 사용 / 구분키-덜엄격, 남기는 작업시 사용)\n",
    "grt['이름키_'] = grt['채무자키'] + grt['보증인성명인']"
   ]
  },
  {
   "cell_type": "code",
   "execution_count": null,
   "id": "5574e343",
   "metadata": {},
   "outputs": [
    {
     "name": "stdout",
     "output_type": "stream",
     "text": [
      "2017-07-01 00:00:00\n"
     ]
    }
   ],
   "source": [
    "##### 미종결계좌 전기간 입금 읽기\n",
    "계좌종결담당자정규식 = r\"(?<!청산)종결|매각(?!예정)|(?<!피)환매(?!예정)|DS|완납|완제|종료|매각\\(예정\\)|(?<!피)환매\\(예정\\)|상각\" \n",
    "계좌미종결건 = account.query('종결일==\"\" and ~담당자.str.contains(@계좌종결담당자정규식)')[[\"채무자키\",\"계좌키\",\"종결일\",\"매입일\"]]\n",
    "\n",
    "계좌미종결건 = 계좌미종결건.drop_duplicates(subset='채무자키')\n",
    "계좌미종결건 = 계좌미종결건.reset_index(drop=True)\n",
    "계좌미종결건[\"순번\"] = 계좌미종결건.index\n",
    "계좌미종결건[\"만단위구분\"] = 계좌미종결건[\"순번\"]  // 10000\n",
    "\n",
    "계좌미종결건[[\"채무자키\",\"만단위구분\"]].to_excel(\"입금조회용계좌키.xlsx\", index=False)\n",
    "계좌미종결건['매입일'] = pd.to_datetime(계좌미종결건[\"매입일\"]) \n",
    "print(계좌미종결건.매입일.min())"
   ]
  },
  {
   "cell_type": "code",
   "execution_count": null,
   "id": "0c5bfe14",
   "metadata": {},
   "outputs": [],
   "source": [
    "# 입금조회새창들 병합\n",
    "포함키워드 = company+\"_\\d\\.입금조회새창\"\n",
    "fnlist = functions.키워드로파일명찾기(base_dir, 포함키워드, 여러파일허용=True)\n",
    "if isinstance(fnlist, str) : # 파일 하나인 경우\n",
    "    입금 = pd.read_excel(fnlist, dtype=deposit_dtype)\n",
    "else : # 파일 여러개(리스트)인 경우\n",
    "    입금 = pd.DataFrame(None)\n",
    "    for fn in fnlist :\n",
    "        입금 = pd.concat([입금, pd.read_excel(fn, dtype=deposit_dtype)])\n",
    "deposit_ori = 입금"
   ]
  },
  {
   "cell_type": "markdown",
   "id": "fe481134",
   "metadata": {},
   "source": [
    "#### 파일읽기 : 이전 기준데이터 있는 경우"
   ]
  },
  {
   "cell_type": "code",
   "execution_count": 12,
   "id": "d4dfd9f2",
   "metadata": {},
   "outputs": [],
   "source": [
    "# 파일읽기\n",
    "##################################\n",
    "company = \"솔림\"      # 솔림 or 대성\n",
    "basedate = \"250423\" \n",
    "previous_basedate = \"250331\" # 전달 기준데이터 필요\n",
    "##################################\n",
    "\n",
    "기준일 = '20' + basedate[:2] +'-'+basedate[2:4]+'-'+basedate[4:6]\n",
    "wd = join(r\"D:\\3.자산\\전산 dataset\", company)\n",
    "\n",
    "# 기본 경로\n",
    "base_dir = join(wd, basedate, \"pkl\")\n",
    "\n",
    "# 파일검색어\n",
    "파일검색어 = [\"계좌조회새창_\", \"보증인새창_\", \"감면조회새창\", \"약정분납새창\", \"입금조회새창\"]\n",
    "\n",
    "# 파일명리스트\n",
    "files = []\n",
    "for i in range(len(파일검색어)) : \n",
    "    if re.search(\"보증인새창\", 파일검색어[i]) : # 새보증인상태 파일 말고 원 파일 읽자\n",
    "        files.append(functions.키워드로파일명찾기(base_dir, 파일검색어[i],'새보증인상태',전체경로=True))\n",
    "    elif re.search(\"약정분납새창\", 파일검색어[i]) : # 새보증인상태 파일 말고 원 파일 읽자\n",
    "        files.append(functions.키워드로파일명찾기(base_dir, 파일검색어[i],'기준데이터',전체경로=True))\n",
    "    else : \n",
    "        files.append(functions.키워드로파일명찾기(base_dir, 파일검색어[i],전체경로=True))\n",
    "\n",
    "account = pd.read_pickle(files[0])\n",
    "grt = pd.read_pickle(files[1])\n",
    "reduction_ori = pd.read_pickle(files[2])\n",
    "installment_ori = pd.read_pickle(files[3])\n",
    "deposit_ori = pd.read_pickle(files[4])\n",
    "\n",
    "# 보증인새창에 이름키_ 추가 (이름키 - 엄격(pk), 제거시 사용 / 구분키-덜엄격, 남기는 작업시 사용)\n",
    "grt['이름키_'] = grt['채무자키'] + grt['보증인성명인']\n",
    "\n",
    "# 전달 기준데이터 (최종입금일 확인위해) : \n",
    "pre_reduction = pd.read_pickle(functions.키워드로파일명찾기(join(wd, previous_basedate,\"pkl\"), \"약정분납새창.*기준데이터\"))"
   ]
  },
  {
   "cell_type": "markdown",
   "id": "b8115b5c",
   "metadata": {},
   "source": [
    "#### 입금파일 전처리"
   ]
  },
  {
   "cell_type": "code",
   "execution_count": 13,
   "id": "4684c9be",
   "metadata": {},
   "outputs": [
    {
     "name": "stdout",
     "output_type": "stream",
     "text": [
      "전체 약정입금건(구분키중복제거) :  168\n"
     ]
    }
   ],
   "source": [
    "# 입금파일 전처리\n",
    "deposit = deposit_ori[[\"채무자키\", \"계좌키\",\"입금키\", \"입금합계\",\"입금일\", \"입금구분\",\"입금자구분\",\"입금자\", \"입금기간\"]].copy()\n",
    "\n",
    "# 불필요 행 삭제 \n",
    "# cond1 = deposit.입금일 <= 기준일\n",
    "cond2 = deposit.입금구분.str.contains(\"약정분납|임의변제\") # 기타 포함되어야 함\n",
    "deposit['입금기간'] = deposit['입금기간'].astype(str)\n",
    "cond3 = ~(deposit.입금기간.str.contains(\"매입전|매각후|환매|원상회복전|회수제외|오류입금|환불\"))\n",
    "\n",
    "deposit = deposit[cond2 & cond3]\n",
    "\n",
    "# 구분키_(채무자키+입금자구분)별로 최근입금일_만 남기기 : 다계좌키인 경우, 특정계좌에만 입금등록할 수도 있으므로 계좌를 기준으로 하면 안 됨\n",
    "        # 입금은 이름이 지멋대로인 경우가 많아서 그냥 구분키를 pk로 쓰자. 보증인들이 동시에 진행하는 경우도 현재는 없다. 250410\n",
    "        # 구분키를 기준으로 중복행 삭제했기 때문에 다른 곳에서라도 이름키를 사용할 필요도 없다.\n",
    "deposit[\"구분키_\"] = deposit[\"채무자키\"] + deposit[\"입금자구분\"]\n",
    "deposit.sort_values(by='입금일', ascending=False, inplace=True)\n",
    "deposit = deposit.drop_duplicates(subset=['구분키_']) # 지우는 거지만 입금은 구분키로 한다.\n",
    "\n",
    "print('전체 약정입금건(구분키중복제거) : ',len(deposit))"
   ]
  },
  {
   "cell_type": "markdown",
   "id": "3640719f",
   "metadata": {},
   "source": [
    "### 전처리,DC 및 재시작점"
   ]
  },
  {
   "cell_type": "code",
   "execution_count": 14,
   "id": "2aa892fc",
   "metadata": {},
   "outputs": [],
   "source": [
    "# 종결리스트\n",
    "계좌종결담당자정규식 = r\"(?<!청산)종결|매각(?!예정)|(?<!피)환매(?!예정)|DS|완납|완제|종료|매각\\(예정\\)|(?<!피)환매\\(예정\\)|상각\" \n",
    "면책정규식 =  r\"면책|면탈|추심제외|포기|폐업|청산|종결|패소\"   # 파산하고 사망 일단 제외해봄   파산(?!(\\(기각\\)|\\s누락|\\(누락\\)))|사망(?!\\(상속\\))\n",
    "\n",
    "    # 계좌 종결건(채무자키)\n",
    "계좌종결건 = account.query('종결일!=\"\" or 담당자.str.contains(@계좌종결담당자정규식)')[[\"채무자키\",\"계좌키\",\"종결일\"]]\n",
    "\n",
    "    # 차주면책건\n",
    "차주면책건 = account.query('채무상태.str.contains(@면책정규식)')[\"채무자키\"]\n",
    "\n",
    "    # 보증인면책건 : 감면과 약정분납은 보증계좌가 아니라도 등록 가능하므로 등록오류가 있을 수 있어 계좌키 아닌 채무자키를 사용하기로 한다.\n",
    "보증종결건 = grt.query('종결일!=\"\" or 보증인상태.str.contains(@면책정규식)')[[\"채무자키\",\"계좌키\",\"보증인키\",\"보증인성명인\",\"이름키_\", \"보증인상태\",\"종결일\"]]\n",
    "보증종결건.loc[보증종결건.종결일==\"\", \"종결일\"] = \"종결일없는보증종결\"\n",
    "\n",
    "\n",
    "# 출력cols 정의\n",
    "감면출력cols = [\"채무자키\",\"이름키_\",\"감면자구분\",\"변제자관계\",\"변제자명인\",\"채무자명\",\"변제방법\",\"결재상태\",\"승인일\",\"입금합계\"] # 감면자는 cols에 없음\n",
    "분납출력cols = [\"채무자키\",\"이름키_\",\"분납자관계\",\"분납자성명인\",\"채무자명\",\"총분납회차\",\"총분납금\",\"총분납입금\",\"총분납잔금\",\"선납금\",\"분납메모\", \"분납비고\"] # 분납기타, 기타금액 열 없음"
   ]
  },
  {
   "cell_type": "markdown",
   "id": "0bc994b8",
   "metadata": {},
   "source": [
    "#### 감면"
   ]
  },
  {
   "cell_type": "code",
   "execution_count": 15,
   "id": "9f59596a",
   "metadata": {},
   "outputs": [
    {
     "name": "stdout",
     "output_type": "stream",
     "text": [
      "감면건수 : 272\n"
     ]
    }
   ],
   "source": [
    "# 특수건(변제자명)------------------------------------------------------\n",
    "if company == \"솔림\" : \n",
    "    reduction_ori.loc[reduction_ori.감면키==\"20010107\", \"변제자명인\"] = \"박상민\"\n",
    "#---------------------------------------------------------------------\n",
    "\n",
    "# 키_ 생성 및 원본 복사\n",
    "reduction_ori[\"이름키_\"] = reduction_ori[\"채무자키\"] + reduction_ori[\"변제자명인\"] # 원래 변제자명인이 아니라 감면자명으로 해야 하는데, 엑셀에는 감면자명이 없음.....\n",
    "reduction_ori[\"구분키_\"] = reduction_ori[\"채무자키\"] + reduction_ori[\"감면자구분\"]\n",
    "reduction = reduction_ori.copy()\n",
    "\n",
    "# 감면리스트 작성\n",
    "    # 승인완료, 요청건만 남기기\n",
    "reduction = reduction.query('결재상태==\"승인완료\" or 결재상태==\"승인요청\"')\n",
    "    # 계좌 종결건 제외\n",
    "reduction = reduction.query('~계좌키.isin(@계좌종결건.계좌키.values)')\n",
    "    # 보증종결제외\n",
    "보증종결cond = reduction['이름키_'].isin(보증종결건['이름키_'].values) # 감면자구분 보증인을 채무자로 잘못 등록한 건 50건 정도 있음. 차주와 보증인 이름이 같을 수는 없으니 감면자구분은 조건에 넣지 않음\n",
    "reduction = reduction.loc[~보증종결cond] # 차주 면책되었으나 보증인 대위하는 경우 있어, 차주면책은 제외하지 않고 dc에서 살핌\n",
    "print('감면건수 :',len(reduction))"
   ]
  },
  {
   "cell_type": "code",
   "execution_count": 46,
   "id": "d3e893f4",
   "metadata": {},
   "outputs": [
    {
     "name": "stdout",
     "output_type": "stream",
     "text": [
      "차주감면 : 변제자명이 차주명과 다름\n"
     ]
    },
    {
     "data": {
      "text/html": [
       "<div>\n",
       "<style scoped>\n",
       "    .dataframe tbody tr th:only-of-type {\n",
       "        vertical-align: middle;\n",
       "    }\n",
       "\n",
       "    .dataframe tbody tr th {\n",
       "        vertical-align: top;\n",
       "    }\n",
       "\n",
       "    .dataframe thead th {\n",
       "        text-align: right;\n",
       "    }\n",
       "</style>\n",
       "<table border=\"1\" class=\"dataframe\">\n",
       "  <thead>\n",
       "    <tr style=\"text-align: right;\">\n",
       "      <th></th>\n",
       "      <th>채무자키</th>\n",
       "      <th>이름키_</th>\n",
       "      <th>감면자구분</th>\n",
       "      <th>변제자관계</th>\n",
       "      <th>변제자명인</th>\n",
       "      <th>채무자명</th>\n",
       "      <th>변제방법</th>\n",
       "      <th>결재상태</th>\n",
       "      <th>승인일</th>\n",
       "      <th>입금합계</th>\n",
       "    </tr>\n",
       "  </thead>\n",
       "  <tbody>\n",
       "  </tbody>\n",
       "</table>\n",
       "</div>"
      ],
      "text/plain": [
       "Empty DataFrame\n",
       "Columns: [채무자키, 이름키_, 감면자구분, 변제자관계, 변제자명인, 채무자명, 변제방법, 결재상태, 승인일, 입금합계]\n",
       "Index: []"
      ]
     },
     "metadata": {},
     "output_type": "display_data"
    },
    {
     "name": "stdout",
     "output_type": "stream",
     "text": [
      "보증감면 : 변제자명이 보증인중에 없음\n"
     ]
    },
    {
     "data": {
      "text/html": [
       "<div>\n",
       "<style scoped>\n",
       "    .dataframe tbody tr th:only-of-type {\n",
       "        vertical-align: middle;\n",
       "    }\n",
       "\n",
       "    .dataframe tbody tr th {\n",
       "        vertical-align: top;\n",
       "    }\n",
       "\n",
       "    .dataframe thead th {\n",
       "        text-align: right;\n",
       "    }\n",
       "</style>\n",
       "<table border=\"1\" class=\"dataframe\">\n",
       "  <thead>\n",
       "    <tr style=\"text-align: right;\">\n",
       "      <th></th>\n",
       "      <th>채무자키</th>\n",
       "      <th>이름키_</th>\n",
       "      <th>감면자구분</th>\n",
       "      <th>변제자관계</th>\n",
       "      <th>변제자명인</th>\n",
       "      <th>채무자명</th>\n",
       "      <th>변제방법</th>\n",
       "      <th>결재상태</th>\n",
       "      <th>승인일</th>\n",
       "      <th>입금합계</th>\n",
       "    </tr>\n",
       "  </thead>\n",
       "  <tbody>\n",
       "  </tbody>\n",
       "</table>\n",
       "</div>"
      ],
      "text/plain": [
       "Empty DataFrame\n",
       "Columns: [채무자키, 이름키_, 감면자구분, 변제자관계, 변제자명인, 채무자명, 변제방법, 결재상태, 승인일, 입금합계]\n",
       "Index: []"
      ]
     },
     "metadata": {},
     "output_type": "display_data"
    },
    {
     "name": "stdout",
     "output_type": "stream",
     "text": [
      "차주면책인데, 차주가 변제중인건\n"
     ]
    },
    {
     "data": {
      "text/html": [
       "<div>\n",
       "<style scoped>\n",
       "    .dataframe tbody tr th:only-of-type {\n",
       "        vertical-align: middle;\n",
       "    }\n",
       "\n",
       "    .dataframe tbody tr th {\n",
       "        vertical-align: top;\n",
       "    }\n",
       "\n",
       "    .dataframe thead th {\n",
       "        text-align: right;\n",
       "    }\n",
       "</style>\n",
       "<table border=\"1\" class=\"dataframe\">\n",
       "  <thead>\n",
       "    <tr style=\"text-align: right;\">\n",
       "      <th></th>\n",
       "      <th>채무자키</th>\n",
       "      <th>이름키_</th>\n",
       "      <th>감면자구분</th>\n",
       "      <th>변제자관계</th>\n",
       "      <th>변제자명인</th>\n",
       "      <th>채무자명</th>\n",
       "      <th>변제방법</th>\n",
       "      <th>결재상태</th>\n",
       "      <th>승인일</th>\n",
       "      <th>입금합계</th>\n",
       "    </tr>\n",
       "  </thead>\n",
       "  <tbody>\n",
       "  </tbody>\n",
       "</table>\n",
       "</div>"
      ],
      "text/plain": [
       "Empty DataFrame\n",
       "Columns: [채무자키, 이름키_, 감면자구분, 변제자관계, 변제자명인, 채무자명, 변제방법, 결재상태, 승인일, 입금합계]\n",
       "Index: []"
      ]
     },
     "metadata": {},
     "output_type": "display_data"
    },
    {
     "name": "stdout",
     "output_type": "stream",
     "text": [
      "입금합계, 변제방법 없음\n"
     ]
    },
    {
     "data": {
      "text/html": [
       "<div>\n",
       "<style scoped>\n",
       "    .dataframe tbody tr th:only-of-type {\n",
       "        vertical-align: middle;\n",
       "    }\n",
       "\n",
       "    .dataframe tbody tr th {\n",
       "        vertical-align: top;\n",
       "    }\n",
       "\n",
       "    .dataframe thead th {\n",
       "        text-align: right;\n",
       "    }\n",
       "</style>\n",
       "<table border=\"1\" class=\"dataframe\">\n",
       "  <thead>\n",
       "    <tr style=\"text-align: right;\">\n",
       "      <th></th>\n",
       "      <th>채무자키</th>\n",
       "      <th>이름키_</th>\n",
       "      <th>감면자구분</th>\n",
       "      <th>변제자관계</th>\n",
       "      <th>변제자명인</th>\n",
       "      <th>채무자명</th>\n",
       "      <th>변제방법</th>\n",
       "      <th>결재상태</th>\n",
       "      <th>승인일</th>\n",
       "      <th>입금합계</th>\n",
       "    </tr>\n",
       "  </thead>\n",
       "  <tbody>\n",
       "  </tbody>\n",
       "</table>\n",
       "</div>"
      ],
      "text/plain": [
       "Empty DataFrame\n",
       "Columns: [채무자키, 이름키_, 감면자구분, 변제자관계, 변제자명인, 채무자명, 변제방법, 결재상태, 승인일, 입금합계]\n",
       "Index: []"
      ]
     },
     "metadata": {},
     "output_type": "display_data"
    }
   ],
   "source": [
    "#[DC]\n",
    "print('차주감면 : 변제자명이 차주명과 다름')\n",
    "display(reduction.query('감면자구분==\"채무자\" and 채무자명!=변제자명인')[감면출력cols])\n",
    "\n",
    "print('보증감면 : 변제자명이 보증인중에 없음')\n",
    "display(reduction[(reduction[\"감면자구분\"] == \"보증인\") &(~reduction[\"이름키_\"].isin(grt[\"이름키_\"]))][감면출력cols])\n",
    "\n",
    "# 감면자가 차주인 걸 확실히 하려면 변제자관계가 보증인이 아닌 것까지 봐야.\n",
    "print('차주면책인데, 차주가 변제중인건')\n",
    "차주면책cond = (reduction['감면자구분']==\"채무자\")&(reduction['변제자관계']!=\"보증인\") & (reduction['채무자키'].isin(차주면책건))\n",
    "display(reduction.loc[차주면책cond][감면출력cols])\n",
    "\n",
    "# 변제예정액, 변제방법이 없는 건\n",
    "print('입금합계, 변제방법 없음')\n",
    "display(reduction[(reduction['입금합계']==0) | (reduction[\"변제방법\"]==\"\")][감면출력cols])"
   ]
  },
  {
   "cell_type": "markdown",
   "id": "f73be33c",
   "metadata": {},
   "source": [
    "#### 약정분납"
   ]
  },
  {
   "cell_type": "code",
   "execution_count": 47,
   "id": "0fd45804",
   "metadata": {},
   "outputs": [],
   "source": [
    "# 키생성 및 원본 복사\n",
    "installment_ori[\"이름키_\"] = installment_ori[\"채무자키\"] + installment_ori[\"분납자성명인\"] # 원래 변제자명인이 아니라 감면자명으로 해야 하는데, 엑셀에는 감면자명이 없음.....\n",
    "installment_ori[\"구분키_\"] = installment_ori[\"채무자키\"] + installment_ori[\"분납자관계\"]\n",
    "\n",
    "# 약정분납 진행건, 원본복사\n",
    "installment = installment_ori.query('분납상태==\"진행\"').copy()\n",
    "\n",
    "# 약정분납 계좌분리\n",
    "installment['계좌비고_'] = \"\"\n",
    "installment['계좌키길이'] = installment.계좌키.apply(len)\n",
    "단일계좌 = installment.query('계좌키길이 == 9')\n",
    "다계좌 = installment.query('계좌키길이 > 9')\n",
    "\n",
    "new_rows = []\n",
    "for index, row in 다계좌.iterrows():\n",
    "    account_keys = row['계좌키'].split(',')\n",
    "    first_account_key = account_keys.pop(0)\n",
    "    다계좌.loc[index, '계좌키'] = first_account_key # 여러 계좌키를 첫번째 계좌키로 값 수정\n",
    "\n",
    "    for account_key in account_keys:\n",
    "        new_row = row.copy() # 일단 모든 칼럼 복사\n",
    "        new_row['계좌키'] = account_key\n",
    "                            # OPB도 계좌통합이므로 분리계좌는 0 으로 해줘야\n",
    "        new_row[['총분납금','총분납입금','분납잔금','총분납잔금', '최초원금','최초법비용','최초미수이자','최초연체이자','최초합계','회수원금','회수법비용',\\\n",
    "            '회수미수이자',\t'회수연체이자','회수기타','회수합계','현재원금','현재법비용','현재미수이자','현재연체이자','현재합계']] = 0\n",
    "        new_row[\"계좌비고_\"] = \"통합약정 \" + first_account_key\n",
    "        new_rows.append(new_row)\n",
    "        \n",
    "\n",
    "temp = pd.DataFrame(new_rows)\n",
    "\n",
    "installment_sep = pd.concat([단일계좌, 다계좌, temp], ignore_index=True)"
   ]
  },
  {
   "cell_type": "code",
   "execution_count": 48,
   "id": "7ddaa2c0",
   "metadata": {},
   "outputs": [
    {
     "name": "stdout",
     "output_type": "stream",
     "text": [
      "분납상태 중단으로 바꿀 것이 없음\n"
     ]
    }
   ],
   "source": [
    "# DC 1 : 분납상태 바꿀 것 출력\n",
    "종결진행건 = installment_sep.merge(계좌종결건[[\"채무자키\", \"종결일\"]], on=[\"채무자키\"], how='left')\n",
    "종결진행건 = 종결진행건.merge(보증종결건[[\"이름키_\", \"종결일\"]], on=[\"이름키_\"], how='left', suffixes=['','_보증'])\n",
    "종결진행건[[\"종결일\", \"종결일_보증\"]] = 종결진행건[[\"종결일\", \"종결일_보증\"]].fillna(\"\")\n",
    "\n",
    "분납중단요청건 = 종결진행건[(종결진행건[\"종결일\"]!=\"\") | (종결진행건[\"종결일_보증\"]!=\"\")]\n",
    "if len(분납중단요청건)>0 :\n",
    "    print(f'{len(분납중단요청건)}건의 분납상태 중단으로 바꿀 건 vscode폴더에 엑셀출력, 계좌종결일과 사유를 우선반영할 것')\n",
    "    print('분납조회새창에서 분납상태 일괄 변경 후, 분납파일만 다시 읽고 코드 재실행')\n",
    "    분납중단요청건[[\"분납키\",\"채무자키\",\"종결일\",\"종결일_보증\",\"분납자관계\",\"분납자성명인\"]].to_excel('분납중단요청건.xlsx', index=False)\n",
    "else : \n",
    "    print('분납상태 중단으로 바꿀 것이 없음')"
   ]
  },
  {
   "cell_type": "code",
   "execution_count": 49,
   "id": "f3c6e3b3",
   "metadata": {},
   "outputs": [
    {
     "name": "stdout",
     "output_type": "stream",
     "text": [
      "승인완료중 분납없는 건\n"
     ]
    },
    {
     "data": {
      "text/html": [
       "<div>\n",
       "<style scoped>\n",
       "    .dataframe tbody tr th:only-of-type {\n",
       "        vertical-align: middle;\n",
       "    }\n",
       "\n",
       "    .dataframe tbody tr th {\n",
       "        vertical-align: top;\n",
       "    }\n",
       "\n",
       "    .dataframe thead th {\n",
       "        text-align: right;\n",
       "    }\n",
       "</style>\n",
       "<table border=\"1\" class=\"dataframe\">\n",
       "  <thead>\n",
       "    <tr style=\"text-align: right;\">\n",
       "      <th></th>\n",
       "      <th>채무자키</th>\n",
       "      <th>이름키_</th>\n",
       "      <th>감면자구분</th>\n",
       "      <th>변제자관계</th>\n",
       "      <th>변제자명인</th>\n",
       "      <th>채무자명</th>\n",
       "      <th>변제방법</th>\n",
       "      <th>결재상태</th>\n",
       "      <th>승인일</th>\n",
       "      <th>입금합계</th>\n",
       "    </tr>\n",
       "  </thead>\n",
       "  <tbody>\n",
       "  </tbody>\n",
       "</table>\n",
       "</div>"
      ],
      "text/plain": [
       "Empty DataFrame\n",
       "Columns: [채무자키, 이름키_, 감면자구분, 변제자관계, 변제자명인, 채무자명, 변제방법, 결재상태, 승인일, 입금합계]\n",
       "Index: []"
      ]
     },
     "metadata": {},
     "output_type": "display_data"
    },
    {
     "name": "stdout",
     "output_type": "stream",
     "text": [
      "감면입금액과 분납입금액 다른 건\n"
     ]
    },
    {
     "data": {
      "text/html": [
       "<div>\n",
       "<style scoped>\n",
       "    .dataframe tbody tr th:only-of-type {\n",
       "        vertical-align: middle;\n",
       "    }\n",
       "\n",
       "    .dataframe tbody tr th {\n",
       "        vertical-align: top;\n",
       "    }\n",
       "\n",
       "    .dataframe thead th {\n",
       "        text-align: right;\n",
       "    }\n",
       "</style>\n",
       "<table border=\"1\" class=\"dataframe\">\n",
       "  <thead>\n",
       "    <tr style=\"text-align: right;\">\n",
       "      <th></th>\n",
       "      <th>채무자키</th>\n",
       "      <th>이름키_</th>\n",
       "      <th>감면자구분</th>\n",
       "      <th>변제자관계</th>\n",
       "      <th>변제자명인</th>\n",
       "      <th>채무자명</th>\n",
       "      <th>변제방법</th>\n",
       "      <th>결재상태</th>\n",
       "      <th>승인일</th>\n",
       "      <th>입금합계</th>\n",
       "      <th>총분납금</th>\n",
       "    </tr>\n",
       "  </thead>\n",
       "  <tbody>\n",
       "  </tbody>\n",
       "</table>\n",
       "</div>"
      ],
      "text/plain": [
       "Empty DataFrame\n",
       "Columns: [채무자키, 이름키_, 감면자구분, 변제자관계, 변제자명인, 채무자명, 변제방법, 결재상태, 승인일, 입금합계, 총분납금]\n",
       "Index: []"
      ]
     },
     "metadata": {},
     "output_type": "display_data"
    },
    {
     "name": "stdout",
     "output_type": "stream",
     "text": [
      "약정분납에 선납금 등록건 (분납메모에 매입전입금액과 같으면 ok)\n"
     ]
    },
    {
     "data": {
      "text/html": [
       "<div>\n",
       "<style scoped>\n",
       "    .dataframe tbody tr th:only-of-type {\n",
       "        vertical-align: middle;\n",
       "    }\n",
       "\n",
       "    .dataframe tbody tr th {\n",
       "        vertical-align: top;\n",
       "    }\n",
       "\n",
       "    .dataframe thead th {\n",
       "        text-align: right;\n",
       "    }\n",
       "</style>\n",
       "<table border=\"1\" class=\"dataframe\">\n",
       "  <thead>\n",
       "    <tr style=\"text-align: right;\">\n",
       "      <th></th>\n",
       "      <th>채무자키</th>\n",
       "      <th>이름키_</th>\n",
       "      <th>분납자관계</th>\n",
       "      <th>분납자성명인</th>\n",
       "      <th>채무자명</th>\n",
       "      <th>총분납회차</th>\n",
       "      <th>총분납금</th>\n",
       "      <th>총분납입금</th>\n",
       "      <th>총분납잔금</th>\n",
       "      <th>선납금</th>\n",
       "      <th>분납메모</th>\n",
       "      <th>분납비고</th>\n",
       "    </tr>\n",
       "  </thead>\n",
       "  <tbody>\n",
       "    <tr>\n",
       "      <th>681</th>\n",
       "      <td>20428841</td>\n",
       "      <td>20428841김홍대</td>\n",
       "      <td>채무자</td>\n",
       "      <td>김홍대</td>\n",
       "      <td>김홍대</td>\n",
       "      <td>88</td>\n",
       "      <td>8800000</td>\n",
       "      <td>4900000</td>\n",
       "      <td>3900000</td>\n",
       "      <td>620</td>\n",
       "      <td>총1500, 매입전620</td>\n",
       "      <td></td>\n",
       "    </tr>\n",
       "    <tr>\n",
       "      <th>690</th>\n",
       "      <td>20429231</td>\n",
       "      <td>20429231강성일</td>\n",
       "      <td>채무자</td>\n",
       "      <td>강성일</td>\n",
       "      <td>강성일</td>\n",
       "      <td>88</td>\n",
       "      <td>8800000</td>\n",
       "      <td>4900000</td>\n",
       "      <td>3900000</td>\n",
       "      <td>320</td>\n",
       "      <td>총1200, 매입전320</td>\n",
       "      <td></td>\n",
       "    </tr>\n",
       "    <tr>\n",
       "      <th>1288</th>\n",
       "      <td>20552753</td>\n",
       "      <td>20552753김기용</td>\n",
       "      <td>보증인</td>\n",
       "      <td>김기용</td>\n",
       "      <td>박정순</td>\n",
       "      <td>38</td>\n",
       "      <td>7600000</td>\n",
       "      <td>2400000</td>\n",
       "      <td>5200000</td>\n",
       "      <td>7400000</td>\n",
       "      <td>총1500, 740매입전입금</td>\n",
       "      <td></td>\n",
       "    </tr>\n",
       "  </tbody>\n",
       "</table>\n",
       "</div>"
      ],
      "text/plain": [
       "          채무자키         이름키_ 분납자관계 분납자성명인 채무자명  총분납회차     총분납금    총분납입금  \\\n",
       "681   20428841  20428841김홍대   채무자    김홍대  김홍대     88  8800000  4900000   \n",
       "690   20429231  20429231강성일   채무자    강성일  강성일     88  8800000  4900000   \n",
       "1288  20552753  20552753김기용   보증인    김기용  박정순     38  7600000  2400000   \n",
       "\n",
       "        총분납잔금      선납금             분납메모 분납비고  \n",
       "681   3900000      620    총1500, 매입전620       \n",
       "690   3900000      320    총1200, 매입전320       \n",
       "1288  5200000  7400000  총1500, 740매입전입금       "
      ]
     },
     "metadata": {},
     "output_type": "display_data"
    },
    {
     "name": "stdout",
     "output_type": "stream",
     "text": [
      "차주분납 : 분납자명인이 차주명과 다름\n"
     ]
    },
    {
     "data": {
      "text/html": [
       "<div>\n",
       "<style scoped>\n",
       "    .dataframe tbody tr th:only-of-type {\n",
       "        vertical-align: middle;\n",
       "    }\n",
       "\n",
       "    .dataframe tbody tr th {\n",
       "        vertical-align: top;\n",
       "    }\n",
       "\n",
       "    .dataframe thead th {\n",
       "        text-align: right;\n",
       "    }\n",
       "</style>\n",
       "<table border=\"1\" class=\"dataframe\">\n",
       "  <thead>\n",
       "    <tr style=\"text-align: right;\">\n",
       "      <th></th>\n",
       "      <th>채무자키</th>\n",
       "      <th>이름키_</th>\n",
       "      <th>분납자관계</th>\n",
       "      <th>분납자성명인</th>\n",
       "      <th>채무자명</th>\n",
       "      <th>총분납회차</th>\n",
       "      <th>총분납금</th>\n",
       "      <th>총분납입금</th>\n",
       "      <th>총분납잔금</th>\n",
       "      <th>선납금</th>\n",
       "      <th>분납메모</th>\n",
       "      <th>분납비고</th>\n",
       "    </tr>\n",
       "  </thead>\n",
       "  <tbody>\n",
       "  </tbody>\n",
       "</table>\n",
       "</div>"
      ],
      "text/plain": [
       "Empty DataFrame\n",
       "Columns: [채무자키, 이름키_, 분납자관계, 분납자성명인, 채무자명, 총분납회차, 총분납금, 총분납입금, 총분납잔금, 선납금, 분납메모, 분납비고]\n",
       "Index: []"
      ]
     },
     "metadata": {},
     "output_type": "display_data"
    },
    {
     "name": "stdout",
     "output_type": "stream",
     "text": [
      "보증분납 : 보증인중에 해당 이름이 없음\n"
     ]
    },
    {
     "data": {
      "text/html": [
       "<div>\n",
       "<style scoped>\n",
       "    .dataframe tbody tr th:only-of-type {\n",
       "        vertical-align: middle;\n",
       "    }\n",
       "\n",
       "    .dataframe tbody tr th {\n",
       "        vertical-align: top;\n",
       "    }\n",
       "\n",
       "    .dataframe thead th {\n",
       "        text-align: right;\n",
       "    }\n",
       "</style>\n",
       "<table border=\"1\" class=\"dataframe\">\n",
       "  <thead>\n",
       "    <tr style=\"text-align: right;\">\n",
       "      <th></th>\n",
       "      <th>채무자키</th>\n",
       "      <th>이름키_</th>\n",
       "      <th>분납자관계</th>\n",
       "      <th>분납자성명인</th>\n",
       "      <th>채무자명</th>\n",
       "      <th>총분납회차</th>\n",
       "      <th>총분납금</th>\n",
       "      <th>총분납입금</th>\n",
       "      <th>총분납잔금</th>\n",
       "      <th>선납금</th>\n",
       "      <th>분납메모</th>\n",
       "      <th>분납비고</th>\n",
       "    </tr>\n",
       "  </thead>\n",
       "  <tbody>\n",
       "  </tbody>\n",
       "</table>\n",
       "</div>"
      ],
      "text/plain": [
       "Empty DataFrame\n",
       "Columns: [채무자키, 이름키_, 분납자관계, 분납자성명인, 채무자명, 총분납회차, 총분납금, 총분납입금, 총분납잔금, 선납금, 분납메모, 분납비고]\n",
       "Index: []"
      ]
     },
     "metadata": {},
     "output_type": "display_data"
    }
   ],
   "source": [
    "# DC 2 : 기타\n",
    "\n",
    "# 승인완료건중 분납없는 건\n",
    "print('승인완료중 분납없는 건')\n",
    "display(reduction[~reduction['이름키_'].isin(installment_sep['이름키_']) & (reduction['결재상태']=='승인완료')][감면출력cols])\n",
    "\n",
    "# 감면입금액과 분납입금액 다른 건\n",
    "    # 감면과 약정분납 모두 이름키_별로 통합해야 함 (약정분납은 계좌분리전 상태를 사용하면됨)\n",
    "        # 감면 이름키_별로 입금합계 통합\n",
    "감면입금합계 = reduction.copy()\n",
    "감면입금합계['약정키별입금합계'] = 감면입금합계.groupby('이름키_')['입금합계'].transform('sum')\n",
    "감면입금합계 = 감면입금합계.drop_duplicates(subset=['이름키_'])\n",
    "    # 병합\n",
    "감면입금합계 = 감면입금합계.merge(installment[[\"이름키_\", '총분납금']], how='left')\n",
    "\n",
    "print('감면입금액과 분납입금액 다른 건')\n",
    "display(감면입금합계.query('결재상태==\"승인완료\" and 약정키별입금합계!=총분납금')[감면출력cols + ['총분납금']])\n",
    "\n",
    "# 약정분납에 선납금 등록건 (분납메모에 매입전입금액과 같으면 ok)\n",
    "print('약정분납에 선납금 등록건 (분납메모에 매입전입금액과 같으면 ok)')\n",
    "display(installment.query('선납금>0')[분납출력cols])\n",
    "\n",
    "# 분납자명 체크\n",
    "print('차주분납 : 분납자명인이 차주명과 다름')\n",
    "display(installment.query('분납자관계==\"채무자\" and 채무자명!=분납자성명인')[분납출력cols])\n",
    "\n",
    "print('보증분납 : 보증인중에 해당 이름이 없음')\n",
    "display(installment[(installment[\"분납자관계\"] == \"보증인\") &(~installment[\"이름키_\"].isin(grt[\"이름키_\"]))][분납출력cols])"
   ]
  },
  {
   "cell_type": "markdown",
   "id": "ed1388a0",
   "metadata": {},
   "source": [
    "### 약정분납 기준데이터\n",
    "- 최종거래일 : 계좌조회창의 최종거래일과 동일(법원환급금 같은 것도 포함). 따라서 최근입금일_로 대체\n",
    "- 분납연체일 : 입금스케줄상 미납회차에 따름 (조회일 - 미납회차입금일). 따라서 최근입금일_로 대체\n",
    "- 구분키 : 입금데이터 작업시 구분키 사용. 입금자는 중구난방 많아서 애초에 구분키로 중복제거까지 해버림(250410 현재 문제 없는 거까지 확인함)"
   ]
  },
  {
   "cell_type": "markdown",
   "id": "f78b7cfd",
   "metadata": {},
   "source": [
    "##### 진행중 기준데이터(자산정리용)"
   ]
  },
  {
   "cell_type": "code",
   "execution_count": 50,
   "id": "ee27dc81",
   "metadata": {},
   "outputs": [],
   "source": [
    "# 칼럼 정리\n",
    "installment_sep[\"반영OPB\"] = installment_sep[\"총분납잔금\"]\n",
    "cols = ['채무자키','계좌키','매각사구분','원채권사','담당자', '분납자관계', '분납자성명인','반영OPB','총분납금', '총분납입금', '총분납잔금', \n",
    "        '총분납회차', '잔여회차','최근입금일_', '입금연체일_','분납메모', '분납비고', '계좌비고_','분납시작일', '분납종료일','OPB', '선납금', '분납키', '이름키_', '구분키_'] \n",
    "        # '분납상태', '분납중단일', '중단사유',"
   ]
  },
  {
   "cell_type": "code",
   "execution_count": 51,
   "id": "4c425b11",
   "metadata": {},
   "outputs": [],
   "source": [
    "# 최근입금일_ 불러오기\n",
    "installment_sep[\"구분키_\"] = installment_sep[\"채무자키\"] + installment_sep[\"분납자관계\"]\n",
    "    # 병합 후 rst 생성\n",
    "installment_sep_rst = installment_sep.merge(deposit[[\"구분키_\",\"입금일\"]], how='left')\n",
    "installment_sep_rst.rename(columns={\"입금일\":\"최근입금일_\"}, inplace=True)\n",
    "    # 날짜타입지정\n",
    "installment_sep_rst[\"분납시작일\"] = pd.to_datetime(installment_sep_rst[\"분납시작일\"], errors='coerce')\n",
    "installment_sep_rst[\"최근입금일_\"] = pd.to_datetime(installment_sep_rst[\"최근입금일_\"], errors='coerce') # 최종거래일은 약정분납 입금이 아닌 것도 포함해버림\n",
    "\n",
    "\n",
    "    # 분납시작일 이전 입금은 제외 (분납종료일 이후에는 입금가능)\n",
    "nat_cond = installment_sep_rst[\"최근입금일_\"].isna() | (installment_sep_rst[\"최근입금일_\"] < installment_sep_rst[\"분납시작일\"]) # 첫번째 조건 안 쓰면 nat가 아니라 None가 됨.\n",
    "                # Series.where 사용 (조건을 만족하면 유지, 아니면 NaT로 변경), np.where는 타입을 통일하려 하기때문에 nat와 date가 같이 있으면 date를 int로 바꿔버림\n",
    "installment_sep_rst[\"최근입금일_\"] = installment_sep_rst[\"최근입금일_\"].where(~nat_cond, pd.NaT) \n",
    "\n",
    "# 입금연체일 작성 : 최근입금일_ 이후 기준일까지의 \n",
    "입금연체일_conds = [\n",
    "    installment_sep_rst.분납시작일 > 기준일_dt,\n",
    "    installment_sep_rst.최근입금일_.isna(),\n",
    "    True\n",
    "]\n",
    "입금연체일_values = [\n",
    "    \"상환일미도래\",\n",
    "    (기준일_dt - installment_sep_rst.분납시작일).dt.days,\n",
    "    (기준일_dt - installment_sep_rst.최근입금일_).dt.days\n",
    "]\n",
    "installment_sep_rst[\"입금연체일_\"] = np.select(입금연체일_conds, 입금연체일_values)"
   ]
  },
  {
   "cell_type": "code",
   "execution_count": 52,
   "id": "7b67c07c",
   "metadata": {},
   "outputs": [
    {
     "name": "stdout",
     "output_type": "stream",
     "text": [
      "연체일이 180을 넘어감\n"
     ]
    },
    {
     "data": {
      "text/html": [
       "<div>\n",
       "<style scoped>\n",
       "    .dataframe tbody tr th:only-of-type {\n",
       "        vertical-align: middle;\n",
       "    }\n",
       "\n",
       "    .dataframe tbody tr th {\n",
       "        vertical-align: top;\n",
       "    }\n",
       "\n",
       "    .dataframe thead th {\n",
       "        text-align: right;\n",
       "    }\n",
       "</style>\n",
       "<table border=\"1\" class=\"dataframe\">\n",
       "  <thead>\n",
       "    <tr style=\"text-align: right;\">\n",
       "      <th></th>\n",
       "      <th>채무자키</th>\n",
       "      <th>계좌키</th>\n",
       "      <th>매각사구분</th>\n",
       "      <th>원채권사</th>\n",
       "      <th>담당자</th>\n",
       "      <th>분납자관계</th>\n",
       "      <th>분납자성명인</th>\n",
       "      <th>반영OPB</th>\n",
       "      <th>총분납금</th>\n",
       "      <th>총분납입금</th>\n",
       "      <th>...</th>\n",
       "      <th>분납메모</th>\n",
       "      <th>분납비고</th>\n",
       "      <th>계좌비고_</th>\n",
       "      <th>분납시작일</th>\n",
       "      <th>분납종료일</th>\n",
       "      <th>OPB</th>\n",
       "      <th>선납금</th>\n",
       "      <th>분납키</th>\n",
       "      <th>이름키_</th>\n",
       "      <th>구분키_</th>\n",
       "    </tr>\n",
       "  </thead>\n",
       "  <tbody>\n",
       "  </tbody>\n",
       "</table>\n",
       "<p>0 rows × 25 columns</p>\n",
       "</div>"
      ],
      "text/plain": [
       "Empty DataFrame\n",
       "Columns: [채무자키, 계좌키, 매각사구분, 원채권사, 담당자, 분납자관계, 분납자성명인, 반영OPB, 총분납금, 총분납입금, 총분납잔금, 총분납회차, 잔여회차, 최근입금일_, 입금연체일_, 분납메모, 분납비고, 계좌비고_, 분납시작일, 분납종료일, OPB, 선납금, 분납키, 이름키_, 구분키_]\n",
       "Index: []\n",
       "\n",
       "[0 rows x 25 columns]"
      ]
     },
     "metadata": {},
     "output_type": "display_data"
    },
    {
     "name": "stdout",
     "output_type": "stream",
     "text": [
      "분납건 담당자 전체 목록, 추심팀 아닌 목록 확인\n",
      "['김대홍' '김순희' '김효중' '도현관' '박기영' '송경숙' '송춘호' '신경용' '신용회복' '오승열' '이은미' '정종운'\n",
      " '한웅희']\n",
      "담당자 추심팀 아님\n"
     ]
    },
    {
     "data": {
      "text/html": [
       "<div>\n",
       "<style scoped>\n",
       "    .dataframe tbody tr th:only-of-type {\n",
       "        vertical-align: middle;\n",
       "    }\n",
       "\n",
       "    .dataframe tbody tr th {\n",
       "        vertical-align: top;\n",
       "    }\n",
       "\n",
       "    .dataframe thead th {\n",
       "        text-align: right;\n",
       "    }\n",
       "</style>\n",
       "<table border=\"1\" class=\"dataframe\">\n",
       "  <thead>\n",
       "    <tr style=\"text-align: right;\">\n",
       "      <th></th>\n",
       "      <th>채무자키</th>\n",
       "      <th>계좌키</th>\n",
       "      <th>매각사구분</th>\n",
       "      <th>원채권사</th>\n",
       "      <th>담당자</th>\n",
       "      <th>분납자관계</th>\n",
       "      <th>분납자성명인</th>\n",
       "      <th>반영OPB</th>\n",
       "      <th>총분납금</th>\n",
       "      <th>총분납입금</th>\n",
       "      <th>...</th>\n",
       "      <th>분납메모</th>\n",
       "      <th>분납비고</th>\n",
       "      <th>계좌비고_</th>\n",
       "      <th>분납시작일</th>\n",
       "      <th>분납종료일</th>\n",
       "      <th>OPB</th>\n",
       "      <th>선납금</th>\n",
       "      <th>분납키</th>\n",
       "      <th>이름키_</th>\n",
       "      <th>구분키_</th>\n",
       "    </tr>\n",
       "  </thead>\n",
       "  <tbody>\n",
       "    <tr>\n",
       "      <th>221</th>\n",
       "      <td>20464430</td>\n",
       "      <td>200984480</td>\n",
       "      <td>우담-01</td>\n",
       "      <td>㈜에이원대부캐피탈</td>\n",
       "      <td>신용회복</td>\n",
       "      <td>채무자</td>\n",
       "      <td>김순영</td>\n",
       "      <td>2200000</td>\n",
       "      <td>2200000</td>\n",
       "      <td>0</td>\n",
       "      <td>...</td>\n",
       "      <td></td>\n",
       "      <td></td>\n",
       "      <td></td>\n",
       "      <td>2025-04-10</td>\n",
       "      <td>2025-04-10</td>\n",
       "      <td>2578006</td>\n",
       "      <td>0</td>\n",
       "      <td>20185871</td>\n",
       "      <td>20464430김순영</td>\n",
       "      <td>20464430채무자</td>\n",
       "    </tr>\n",
       "  </tbody>\n",
       "</table>\n",
       "<p>1 rows × 25 columns</p>\n",
       "</div>"
      ],
      "text/plain": [
       "         채무자키        계좌키  매각사구분       원채권사   담당자 분납자관계 분납자성명인    반영OPB  \\\n",
       "221  20464430  200984480  우담-01  ㈜에이원대부캐피탈  신용회복   채무자    김순영  2200000   \n",
       "\n",
       "        총분납금  총분납입금  ...  분납메모  분납비고  계좌비고_      분납시작일       분납종료일      OPB  \\\n",
       "221  2200000      0  ...                    2025-04-10  2025-04-10  2578006   \n",
       "\n",
       "    선납금       분납키         이름키_         구분키_  \n",
       "221   0  20185871  20464430김순영  20464430채무자  \n",
       "\n",
       "[1 rows x 25 columns]"
      ]
     },
     "metadata": {},
     "output_type": "display_data"
    }
   ],
   "source": [
    "# dc 입금관련\n",
    "# 연체일 너무 긴 것 확인\n",
    "연체기준일 = 180\n",
    "연체일있음 = installment_sep_rst[installment_sep_rst[\"입금연체일_\"].apply(lambda x: isinstance(x, int))]\n",
    "print(f'연체일이 {연체기준일}을 넘어감')\n",
    "display(연체일있음[연체일있음[\"입금연체일_\"] > 180][cols])\n",
    "# 담당자 확인\n",
    "담당자관리팀일반 = r'신용회복|개인회생|파산|예수금|테스트|특이|포기|상각|정현화'\n",
    "print('분납건 담당자 전체 목록, 추심팀 아닌 목록 확인')\n",
    "print(installment_sep_rst.담당자.sort_values().unique())\n",
    "print('담당자 추심팀 아님')\n",
    "display(installment_sep_rst[installment_sep_rst.담당자.str.contains(담당자관리팀일반)][cols])"
   ]
  },
  {
   "cell_type": "code",
   "execution_count": 53,
   "id": "4926076d",
   "metadata": {},
   "outputs": [],
   "source": [
    "# 담당자관리팀일반 제외 후 저장\n",
    "installment_sep_rst = installment_sep_rst[~installment_sep_rst.담당자.str.contains(담당자관리팀일반)]"
   ]
  },
  {
   "cell_type": "code",
   "execution_count": null,
   "id": "cc1bb7bc",
   "metadata": {},
   "outputs": [],
   "source": [
    "# 기준데이터 출력\n",
    "fn_출력 = os.path.splitext(os.path.basename(files[3]))[0] +\"_기준데이터_계좌키분리\"\n",
    "\n",
    "    # 정렬\n",
    "installment_sep_rst = installment_sep_rst.sort_values(by=[\"분납자관계\",\"분납자성명인\",\"채무자키\",\"총분납금\",\"계좌키\"], ascending=[False,True,True,False,True])\n",
    "    # 타입\n",
    "def convert_to_int_or_keep(x):\n",
    "    try:\n",
    "        # 실수 문자열이라면 → float 변환 후 int\n",
    "        return int(float(x))\n",
    "    except:\n",
    "        # 변환 불가한 일반 문자열은 그대로 유지\n",
    "        return x\n",
    "installment_sep_rst[\"입금연체일_\"] = installment_sep_rst[\"입금연체일_\"].apply(convert_to_int_or_keep)\n",
    "\n",
    "\n",
    "# 엑셀저장\n",
    "functions.save_df_to_excel_two_underline(installment_sep_rst[cols],join(base_dir, fn_출력+\".xlsx\"), 1,2)\n",
    "\n",
    "# pkl저장\n",
    "installment_sep_rst[cols].to_pickle(join(base_dir, \"pkl\", fn_출력+\".pkl\"))"
   ]
  },
  {
   "cell_type": "markdown",
   "id": "e037c092",
   "metadata": {},
   "source": [
    "##### 전체데이터(분납+감면, 상태및담당자 검수용)"
   ]
  },
  {
   "cell_type": "code",
   "execution_count": 56,
   "id": "1b4c65f8",
   "metadata": {},
   "outputs": [
    {
     "name": "stdout",
     "output_type": "stream",
     "text": [
      "병합전 분납건 : 1248, 감면건 : 5227, 단순합계 : 6475\n",
      "병합후 약정건 : 5610\n"
     ]
    }
   ],
   "source": [
    "# [상태및담당자 체크용]약정분납 전체\n",
    "분납전체 = installment_ori.copy()\n",
    "    # 진행건 최종데이터 외에는 모두 중단으로 변경하기\n",
    "분납전체[\"분납상태\"] = np.where(분납전체.분납키.isin(installment_sep_rst.분납키), \"진행\", \"중단\")\n",
    "    # 분납시작일 역정렬 후 이름키로 중복제거\n",
    "분납전체['분납시작일'] = pd.to_datetime(분납전체['분납시작일'])\n",
    "분납전체 = 분납전체.sort_values(by='분납시작일', ascending=False)\n",
    "    # 이름키로 중복제거\n",
    "분납전체 = 분납전체.drop_duplicates(subset='이름키_')\n",
    "\n",
    "# 감면 전체\n",
    "감면전체 = reduction_ori.copy()[[\"채무자키\",\"이름키_\",\"요청일\",\"결재상태\"]]\n",
    "    # 요청일 역정렬 후 이름키로 중복제거\n",
    "감면전체['요청일'] = 감면전체['요청일'].str[:10]\n",
    "감면전체['요청일'] = pd.to_datetime(감면전체['요청일'], errors='coerce')\n",
    "감면전체 = 감면전체.sort_values(by='요청일', ascending=False)\n",
    "    # 이름키로 중복제거\n",
    "감면전체 = 감면전체.drop_duplicates(subset='이름키_')\n",
    "\n",
    "# 분납에 감면 병합\n",
    "print(f'병합전 분납건 : {len(분납전체)}, 감면건 : {len(감면전체)}, 단순합계 : {len(분납전체)+len(감면전체)}')\n",
    "약정전체 = 분납전체.merge(감면전체, on=['이름키_', '채무자키'], how='outer')\n",
    "약정전체.rename(columns={'요청일':'감면요청일', '결재상태':'감면결재상태'})\n",
    "print(f'병합후 약정건 : {len(약정전체)}')\n",
    "\n",
    "약정전체.to_pickle(join(base_dir,\"pkl\",\"[상태DC]약정_\"+basedate+\".pkl\")) # pkl 로만 저장"
   ]
  },
  {
   "cell_type": "markdown",
   "id": "8ff37b98",
   "metadata": {},
   "source": [
    "### [최종DC]"
   ]
  },
  {
   "cell_type": "markdown",
   "id": "00eda9ce",
   "metadata": {},
   "source": [
    "#### 분납미등록건 확인"
   ]
  },
  {
   "cell_type": "code",
   "execution_count": 69,
   "id": "4fd399a8",
   "metadata": {},
   "outputs": [
    {
     "name": "stdout",
     "output_type": "stream",
     "text": [
      "1년내 약정입금건 : 168\n",
      "분납중단건수 949\n",
      "분납미등록/중단 후 입금 없음\n"
     ]
    }
   ],
   "source": [
    "#################\n",
    "최초작업 = True  # 첫 기준데이터 만들때 실행하는 코드\n",
    "#################\n",
    "if 최초작업 : \n",
    "    입금출력cols = [\"채무자키\",\"입금키\",\"구분키_\",\"입금자\", \"입금자구분\", \"입금일\"]\n",
    "    # 1) 입금일 1년 이상 경과건은 제외\n",
    "    deposit[\"입금일\"] = pd.to_datetime(deposit[\"입금일\"], errors='coerce')\n",
    "    deposit_year = deposit[deposit.입금일 >= (기준일_dt - pd.DateOffset(years=1))]\n",
    "    print('1년내 약정입금건 :',len(deposit_year))\n",
    "\n",
    "    # 2) 입금이 있는데 분납등록 안 된 경우\n",
    "    deposit_year['분납등록여부_'] = np.where(deposit_year[\"구분키_\"].isin(installment_sep[\"구분키_\"]), \"등록\", \"미등록\")\n",
    "\n",
    "    분납미등록입금 = deposit_year.query('분납등록여부_==\"미등록\"')[입금출력cols]\n",
    "    # 분납미등록입금.to_excel('분납미등록입금_진행건만고려.xlsx', index=False) # 중단건 오류없이 제거되는 거 확인됨. 중단건 제거전 파일은 출력 불요\n",
    "    # print('분납미등록입근건 :',len(분납미등록입금))\n",
    "\n",
    "\n",
    "    # 3) 분납중단건(중복제거) : 제거는 엄격하게 성명까지 본다\n",
    "    installment_end = installment_ori.query('분납상태==\"중단\"').copy()\n",
    "\n",
    "    # 분납종결일 순서로 역정렬 후 최근것만 남기기\n",
    "    installment_end = installment_end.sort_values(by='분납중단일', ascending=False)\n",
    "    installment_end = installment_end.drop_duplicates(subset=['이름키_']) # 구분키 x, 입금내역과 병합시에는 구분키를 사용하게 되나, 이 경우 최근입금이 더 잘 반영되므로 직접 검수 목록이 늘어나는 것이니 문제 없다.\n",
    "    print('분납중단건수', len(installment_end))\n",
    "\n",
    "    # 최근입금내역에서 중단일 이전건은 제거\n",
    "        # 분납미등록입금에 분납중단일과 분납자 병합\n",
    "    분납미등록입금 = 분납미등록입금.merge(installment_end[[\"구분키_\",\"분납중단일\",\"분납자성명인\"]], on='구분키_', how='left') # 병합 후 건수 문제 없음 확인완료\n",
    "        # 타입 날짜로\n",
    "    분납미등록입금[\"입금일\"] = pd.to_datetime(분납미등록입금[\"입금일\"], errors=\"coerce\")\n",
    "    분납미등록입금[\"분납중단일\"] = pd.to_datetime(분납미등록입금[\"분납중단일\"], errors=\"coerce\")\n",
    "\n",
    "    # 중단여부칼럼 작성\n",
    "    중단전입금조건 = (분납미등록입금[\"분납중단일\"].notna()) & (분납미등록입금[\"입금일\"]<=분납미등록입금[\"분납중단일\"])\n",
    "    이름일치조건 = 분납미등록입금[\"입금자\"] == 분납미등록입금[\"분납자성명인\"]\n",
    "\n",
    "    중단여부conds = [\n",
    "        중단전입금조건 & 이름일치조건,\n",
    "        중단전입금조건,\n",
    "    ]\n",
    "\n",
    "    중단여부values = [\n",
    "        \"중단\",\n",
    "        \"확인필요\",\n",
    "    ]\n",
    "    중단여부_default_value = \"진행\" # 대부분 (감면반려, 약정분납 미등록건(일시납))\n",
    "    분납미등록입금[\"중단여부_\"] = np.select(중단여부conds, 중단여부values, default=중단여부_default_value)\n",
    "\n",
    "    분납미등록입금_중단제외 = 분납미등록입금[(분납미등록입금[\"중단여부_\"]!=\"중단\") & ~(분납미등록입금[\"채무자키\"].isin(계좌종결건[\"채무자키\"]))]\n",
    "    \n",
    "\n",
    "    # 엑셀출력\n",
    "    if len(분납미등록입금_중단제외) : \n",
    "        print('분납미등록입금_중단제외 :', len(분납미등록입금_중단제외), \"단독채무자 일시납 면탈이면 무시\")\n",
    "        분납미등록입금_중단제외.to_excel('분납미등록입금_중단제외.xlsx', index=False)\n",
    "    else : \n",
    "        print('분납미등록/중단 후 입금 없음')"
   ]
  },
  {
   "cell_type": "markdown",
   "id": "2f8579b3",
   "metadata": {},
   "source": [
    "#### 채무상태와 담당자"
   ]
  },
  {
   "cell_type": "code",
   "execution_count": 59,
   "id": "9398d510",
   "metadata": {},
   "outputs": [],
   "source": [
    "# 정상 채무자키 관리 목록 만들기\n",
    "차주 = account[[\"채무자키\",\"계좌키\",\"채무자명\",\"채무자주민번호\",\"성별\",\"채무상태\",\"담당자\"]]\n",
    "    # 종결제거\n",
    "차주 = 차주[~차주.계좌키.isin(계좌종결건.계좌키)]\n",
    "#     # 차주면책 제거\n",
    "# 차주 = 차주[~차주.채무자키.isin(차주면책건)] # 차주면책건은 채무자키만 있음\n",
    "    # 채무자키 중복제거\n",
    "차주 = 차주.drop_duplicates(subset='채무자키')\n",
    "    # 정렬\n",
    "차주 = 차주.sort_values(by=['채무자주민번호', '채무상태','담당자'])\n",
    "    # 이름키 작성\n",
    "차주['이름키_'] = 차주['채무자키'] + 차주['채무자명']\n",
    "\n",
    "# 차주 목록에 분납상태 넣기\n",
    "    # 분납진행, 실효,면책 이름키 중복제거\n",
    "분납진행건 = installment_sep_rst.drop_duplicates(subset='이름키_')\n",
    "\n",
    "분납면책건 = installment_end[installment_end.중단사유.isin(['납부완료','면책','만기완제','중도완제'])]\n",
    "분납면책건 = 분납면책건.drop_duplicates(subset='이름키_')\n",
    "\n",
    "분납실효건 = installment_end[~installment_end.중단사유.isin(['납부완료','면책','만기완제','중도완제'])]\n",
    "분납실효건 = 분납실효건.drop_duplicates(subset='이름키_')\n",
    "    \n",
    "# 차주 목록에 분납결과 작성하기\n",
    "분납결과conds = [차주.이름키_.isin(분납면책건.이름키_), 차주.이름키_.isin(분납진행건.이름키_), 차주.이름키_.isin(분납실효건.이름키_)] # 순서 주의\n",
    "분납결과values = [\"약정(면책)\", '약정(확정)', '약정(실효)']\n",
    "차주['분납결과'] = np.select(분납결과conds, 분납결과values, default=\"\")\n",
    "\n",
    "# 엑셀출력 후 확인하기\n",
    "차주.to_excel(join(base_dir,'[DC]분납결과와 상태및담당자.xlsx'), index=False)"
   ]
  }
 ],
 "metadata": {
  "kernelspec": {
   "display_name": "py_39",
   "language": "python",
   "name": "python3"
  },
  "language_info": {
   "codemirror_mode": {
    "name": "ipython",
    "version": 3
   },
   "file_extension": ".py",
   "mimetype": "text/x-python",
   "name": "python",
   "nbconvert_exporter": "python",
   "pygments_lexer": "ipython3",
   "version": "3.9.18"
  }
 },
 "nbformat": 4,
 "nbformat_minor": 5
}
