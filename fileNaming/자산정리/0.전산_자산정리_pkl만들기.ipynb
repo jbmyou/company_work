{
 "cells": [
  {
   "cell_type": "markdown",
   "id": "b0d717ef",
   "metadata": {},
   "source": [
    "### import 및 기본변수"
   ]
  },
  {
   "cell_type": "code",
   "execution_count": 47,
   "id": "1ab1463d",
   "metadata": {},
   "outputs": [],
   "source": [
    "import pandas as pd\n",
    "import numpy as np\n",
    "import re, os, functions\n",
    "from os.path import join\n",
    "import warnings\n",
    "warnings.simplefilter(\"ignore\")\n",
    "\n",
    "debt_dtype = {'채무자키':str, '타채무자키':str, '담당자키':str, '관리자비고':str}\n",
    "account_dtype = {'채무자키':str, '계좌키':str, '타채무자키':str}\n",
    "grt_dtype = {'채무자키':str, '계좌키':str, '타채무자키':str, '보증인키':str}\n",
    "rehabilitation_dtype = {'채무자키':str, '계좌키':str, '분납키':str, '사건키':str, '신고계좌':str, '입금계좌':str}\n",
    "credit_dtype = {\"채무자키\":str, \"계좌키\":str, '보증인키':str, '신용회복키' : str, \"계좌번호\":str, \"심의차수\":str, \"변제금수취계좌\":str}\n",
    "event_dtype = {'채무자키':str, '법조치키':str, '계좌키':str, '관련법조치키':str, '법취하키':str, '타법조치키':str, '타채무자키':str, '관할법원코드':str}\n",
    "deposit_dtype = {'채무자키':str, '입금키':str, '계좌키':str, '계좌번호':str, '입금고정키':str, '타채무자키':str}\n",
    "reduction_dtype = {'채무자키':str, '계좌키':str, '감면키':str}\n",
    "installment_dtype = {'채무자키':str, '계좌키':str, '분납키':str}\n",
    "\n",
    "##################################\n",
    "company = \"솔림\"      # 솔림 or 대성\n",
    "basedate = \"250423\" \n",
    "wd = join(r\"D:\\3.자산\\전산 dataset\", company)\n",
    "##################################\n",
    "ext = \".xlsx\"  \n",
    "read_dir = join(wd, basedate)\n",
    "write_dir = join(wd, basedate, \"pkl\")\n",
    "\n",
    "# pkl 폴더 만들기\n",
    "if not os.path.exists(write_dir) :\n",
    "    os.mkdir(write_dir)"
   ]
  },
  {
   "cell_type": "markdown",
   "id": "0485f12c",
   "metadata": {},
   "source": [
    "#### 개인회생"
   ]
  },
  {
   "cell_type": "code",
   "execution_count": 35,
   "id": "1f7e5a39",
   "metadata": {},
   "outputs": [],
   "source": [
    "# 엑셀 읽기, 정렬(사건-컷오프-채권번호), pkl 저장\n",
    "filename = functions.키워드로파일명찾기(read_dir, \"개인회생새창\", \"기준데이터\", 전체경로=False).split('.')[0]\n",
    "raw_data_ori = pd.read_excel(join(read_dir, filename+\".xlsx\"), dtype=rehabilitation_dtype).fillna(\"\")\n",
    "\n",
    "# 진행내용 표시 했는지 체크\n",
    "if raw_data_ori.loc[0,\"진행내용\"] == \"\" :\n",
    "        print(\"개인회생 엑셀다운로드시 우클릭후 '1.채권자목록,일반내용,진행내용 표시'를 선택해야 합니다.\")\n",
    "\n",
    "# pkl 저장\n",
    "raw_data_ori.to_pickle(join(write_dir, filename+\".pkl\"))"
   ]
  },
  {
   "cell_type": "markdown",
   "id": "a8ed343b",
   "metadata": {},
   "source": [
    "#### 신용회복 계좌별진행상황"
   ]
  },
  {
   "cell_type": "code",
   "execution_count": 46,
   "id": "5bfa7c58",
   "metadata": {},
   "outputs": [],
   "source": [
    "# 계좌별 진행상황 파일 읽기\n",
    "########################################################\n",
    "약식병합 = True ############# 금요일(일요일)이 컷오프가 아니라면 약식병합해야-------\n",
    "basedate = basedate # \"250423\" # 정식 업로드결과 파일 날짜 컷오프일에 맞춰 수정\n",
    "company = company  # 솔림 or 대성\n",
    "########################################################\n",
    "\n",
    "nauri_dtype = {\"채무자키\":str, \"계좌키\":str, '보증인키':str, '신용회복키' : str, \"계좌번호\":str, \"심의차수\":str, \"변제금수취계좌\":str}\n",
    "path_base = r\"D:\\3.자산\\신용회복\\신용회복 전체데이터\\계좌별 진행상황\"\n",
    "\n",
    "# pkl 폴더 없으면 만들기\n",
    "write_path_base = join(path_base, \"pkl\")\n",
    "if not os.path.exists(write_path_base) :\n",
    "    os.mkdir(write_path_base)\n",
    "\n",
    "# 읽을 파일명\n",
    "suffix = \"통합\" if company!=\"대성\" else \"대성\"\n",
    "\n",
    "filename = basedate + \"_계좌별 진행상황 조회_\" + suffix\n",
    "\n",
    "filename_정식 = filename + \"_업로드결과\"\n",
    "filename_약식 = filename + \"_약식_업로드결과\"\n",
    "\n",
    "# 계좌별 진행상황 조회 파일 읽기 및 pkl 저장\n",
    "    # 정식\n",
    "정식_ori = pd.read_excel(join(path_base, filename_정식+\".xlsx\" ), dtype=nauri_dtype).fillna(\"\")\n",
    "정식_ori.to_pickle(join(write_path_base, filename_정식+\".pkl\"))\n",
    "    # 약식\n",
    "if 약식병합 : \n",
    "    약식_ori = pd.read_excel(join(path_base, filename_약식+\".xlsx\"), dtype=nauri_dtype).fillna(\"\")\n",
    "    약식_ori.to_pickle(join(write_path_base, filename_약식+\".pkl\"))\n",
    "    "
   ]
  },
  {
   "cell_type": "markdown",
   "id": "0905a171",
   "metadata": {},
   "source": [
    "#### 전산 raw_data"
   ]
  },
  {
   "cell_type": "code",
   "execution_count": 48,
   "id": "207145ed",
   "metadata": {},
   "outputs": [
    {
     "name": "stdout",
     "output_type": "stream",
     "text": [
      "법조치조회 파일변환시작\n"
     ]
    }
   ],
   "source": [
    "#########################################\n",
    "세부주소 = False # 상세주소 제외할지 모두 포함할지\n",
    "# 초본 > 자택 > 직장 > 기타 우선순위 적용은 항상 한다.\n",
    "#########################################\n",
    "파일검색어 = { # [타입, 제외키워드]\n",
    "    # \"채무자조회\" : [debt_dtype,\"\"],\n",
    "    # \"계좌조회\" : [account_dtype,\"\"],\n",
    "    # \"보증인새창\" : [grt_dtype,\"새보증인상태\"],\n",
    "    \"법조치조회\" : [event_dtype,\"\"],\n",
    "    # \"감면조회\" : [reduction_dtype,\"\"],\n",
    "    # \"약정분납새창\" : [installment_dtype,\"기준데이터\"],\n",
    "    # \"입금조회.*당월\" : [deposit_dtype,\"\"]\n",
    "}\n",
    "    \n",
    "for i, v in 파일검색어.items() : \n",
    "    print(i, '파일변환시작')\n",
    "    filename = os.path.splitext(functions.키워드로파일명찾기(read_dir, i, v[1],전체경로=False))[0]\n",
    "    df = pd.read_excel(join(wd, basedate, filename+ext), dtype = v[0]).fillna(\"\")\n",
    "    \n",
    "    # 채무자 관리자비고(새채무자키) 검사\n",
    "    if re.search(\"채무자\", i) :\n",
    "        if len(df.query(\"관리자비고==''\")) > 1 :\n",
    "            print(\"새채무자키 부여 필요\")\n",
    "            print(len(nothing)) # 오류를 위한 코드\n",
    "        \n",
    "        # 예수금제외\n",
    "        df.drop(df[(df.성명==\"예수금\")].index, inplace=True)\n",
    "        df.reset_index(drop=True, inplace=True)\n",
    "        \n",
    "        # 채무자 주소 보정  \n",
    "        cols = [\"초본주소\", \"초본번지인\", \"초본우편번호\", \"자택주소\",\"자택번지인\",\"자택우편번호\",\"직장주소\",\"직장번지인\", \"직장우편번호\",\"기타주소\", \"기타번지인\", \"기타우편번호\"]\n",
    "        df[cols] = df[cols].applymap(lambda x: x.strip() if isinstance(x, str) else x)\n",
    "\n",
    "\n",
    "        # 주소채우기 : 초본이 없는 경우 자택 > 직장 > 기타 주소를 초본칸에 넣기\n",
    "        mask = (df.초본주소==\"\")\n",
    "        df.loc[mask,[\"초본주소\", \"초본번지인\", \"초본우편번호\"]] = df.loc[mask, [\"자택주소\", \"자택번지인\", \"자택우편번호\"]]\n",
    "        mask = (df.초본주소==\"\")\n",
    "        df.loc[mask,[\"초본주소\", \"초본번지인\", \"초본우편번호\"]] = df.loc[mask, [\"직장주소\", \"직장번지인\", \"직장우편번호\"]]\n",
    "        mask = (df.초본주소==\"\")\n",
    "        df.loc[mask,[\"초본주소\", \"초본번지인\", \"초본우편번호\"]] = df.loc[mask, [\"기타주소\", \"기타번지인\", \"기타우편번호\"]]\n",
    "    \n",
    "    # 계좌 예수금 제거\n",
    "    if re.search(\"계좌\", i) :\n",
    "        df.drop(df[(df.채무자명==\"예수금\")].index, inplace=True)\n",
    "        df.reset_index(drop=True, inplace=True)\n",
    "\n",
    "    # 법조치 법원사건번호 없는 것 제거\n",
    "    if re.search('법조치', i) :\n",
    "        index =  df[(df.관할법원==\"0\") | (df.관할법원==\"\") | (df.사건번호==\"0\") | (df.사건번호==\"\")].index\n",
    "        df.drop(index, inplace=True)\n",
    "        df.reset_index(drop=True, inplace=True)\n",
    "        # 사건번호 역순정렬\n",
    "        df.sort_values('사건번호', ascending=False, inplace=True)\n",
    "    \n",
    "    # pkl 저장\n",
    "    df.to_pickle(join(write_dir, filename+\".pkl\"))"
   ]
  }
 ],
 "metadata": {
  "kernelspec": {
   "display_name": "py_39",
   "language": "python",
   "name": "python3"
  },
  "language_info": {
   "codemirror_mode": {
    "name": "ipython",
    "version": 3
   },
   "file_extension": ".py",
   "mimetype": "text/x-python",
   "name": "python",
   "nbconvert_exporter": "python",
   "pygments_lexer": "ipython3",
   "version": "3.9.18"
  }
 },
 "nbformat": 4,
 "nbformat_minor": 5
}
