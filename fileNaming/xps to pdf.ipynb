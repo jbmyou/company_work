{
 "cells": [
  {
   "cell_type": "code",
   "execution_count": null,
   "metadata": {},
   "outputs": [],
   "source": [
    "import os\n",
    "import shutil"
   ]
  },
  {
   "cell_type": "code",
   "execution_count": null,
   "metadata": {},
   "outputs": [],
   "source": [
    "path = r\"D:\\1.다운로드\\2.원인서류\\2.원인서류\"\n",
    "file_list = os.walk(path)\n",
    "dict = {}\n",
    "for root, dirs, files in file_list :\n",
    "    for f in files :\n",
    "        if os.path.splitext(f)[1] == \".xps\" :\n",
    "            list = root.split(\"\\\\\")\n",
    "            name = list[len(list)-1]\n",
    "            temp = name\n",
    "\n",
    "            i = 1\n",
    "            while os.path.exists(\"D:\\\\1.다운로드\\\\xps\\\\\"+name +\".xps\"):  # 작업디렉토리가 아니므로 풀경로\n",
    "                name = temp + \" (\"+str(i)+\")\"\n",
    "                i += 1\n",
    "\n",
    "            dst_final = \"D:\\\\1.다운로드\\\\xps\\\\\"+name +\".xps\"\n",
    "            shutil.copy2(root+\"/\"+f, dst_final)\n",
    "            \n",
    "            dict[f] = root\n",
    "\n",
    "print(len(dict))"
   ]
  },
  {
   "cell_type": "code",
   "execution_count": null,
   "metadata": {},
   "outputs": [],
   "source": [
    "path = r\"D:\\1.다운로드\\2.원인서류\\2.원인서류\"\n",
    "file_list = os.walk(path)\n",
    "dict = {}\n",
    "for root, dirs, files in file_list :\n",
    "    for f in files :\n",
    "        if os.path.splitext(f)[1] == \".XPS\" :\n",
    "            list = root.split(\"\\\\\")\n",
    "            name = list[len(list)-1]\n",
    "            temp = name\n",
    "            dict[f] = root\n",
    "dict"
   ]
  },
  {
   "cell_type": "code",
   "execution_count": null,
   "metadata": {},
   "outputs": [],
   "source": []
  },
  {
   "cell_type": "code",
   "execution_count": null,
   "metadata": {},
   "outputs": [],
   "source": []
  },
  {
   "cell_type": "code",
   "execution_count": null,
   "metadata": {},
   "outputs": [],
   "source": []
  },
  {
   "cell_type": "code",
   "execution_count": null,
   "metadata": {},
   "outputs": [],
   "source": []
  },
  {
   "cell_type": "code",
   "execution_count": null,
   "metadata": {},
   "outputs": [],
   "source": []
  },
  {
   "cell_type": "code",
   "execution_count": null,
   "metadata": {},
   "outputs": [],
   "source": []
  },
  {
   "cell_type": "code",
   "execution_count": null,
   "metadata": {},
   "outputs": [],
   "source": []
  },
  {
   "cell_type": "code",
   "execution_count": null,
   "metadata": {},
   "outputs": [],
   "source": []
  }
 ],
 "metadata": {
  "language_info": {
   "name": "python"
  },
  "orig_nbformat": 4
 },
 "nbformat": 4,
 "nbformat_minor": 2
}
