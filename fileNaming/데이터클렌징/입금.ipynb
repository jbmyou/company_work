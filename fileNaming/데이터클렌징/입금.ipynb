{
 "cells": [
  {
   "cell_type": "markdown",
   "id": "d2f6bbcf",
   "metadata": {},
   "source": [
    "### import"
   ]
  },
  {
   "cell_type": "code",
   "execution_count": 23,
   "id": "4dda4af2",
   "metadata": {},
   "outputs": [],
   "source": [
    "import pandas as pd\n",
    "import numpy as np\n",
    "from os.path import join\n",
    "from datetime import datetime\n",
    "import functions\n",
    "import warnings\n",
    "warnings.simplefilter(\"ignore\")\n",
    "deposit_dtype = functions.deposit_dtype"
   ]
  },
  {
   "cell_type": "code",
   "execution_count": null,
   "id": "33f11c4e",
   "metadata": {},
   "outputs": [],
   "source": [
    "# ################################\n",
    "path_deposit = r\"D:\\3.자산\\전산 dataset\\솔림\\기간축적데이터\\입금\"\n",
    "fn_write = \"솔림입금전체_160119~250630.pkl\"\n",
    "# ################################\n",
    "\n",
    "# # 입금조회새창들 병합\n",
    "# fnlist = functions.키워드로파일명찾기(path_deposit, 포함키워드=\"입금조회새창\", 여러파일허용=True)\n",
    "# if isinstance(fnlist, str) : # 파일 하나인 경우\n",
    "#     deposit = pd.read_excel(fnlist, dtype=deposit_dtype)\n",
    "# else : # 파일 여러개(리스트)인 경우\n",
    "#     deposit = pd.DataFrame(None)\n",
    "#     for fn in fnlist :\n",
    "#         deposit = pd.concat([deposit, pd.read_excel(fn, dtype=deposit_dtype)])\n",
    "        \n",
    "# # PKL 저장\n",
    "# deposit.to_pickle(join(path_deposit, fn_write))"
   ]
  },
  {
   "cell_type": "code",
   "execution_count": 26,
   "id": "69dbe370",
   "metadata": {},
   "outputs": [],
   "source": [
    "deposit = pd.read_pickle(functions.키워드로파일명찾기(path_deposit, 포함키워드=\"입금전체\"))"
   ]
  },
  {
   "cell_type": "code",
   "execution_count": null,
   "id": "319423e6",
   "metadata": {},
   "outputs": [],
   "source": [
    "종결일 = pd.read_excel(r\"D:\\3.자산\\전산 dataset\\솔림\\기간축적데이터\\입금\\계좌조회새창_20250717_1702.xlsx\")\n",
    "종결일[\"종결일\"] = pd.to_datetime(종결일.종결일)\n",
    "# 종결일 = 종결일[[\"계좌키\",\"종결일\"]].dropna(subset=['종결일'], axis=0)"
   ]
  },
  {
   "cell_type": "code",
   "execution_count": 56,
   "id": "59f89a1e",
   "metadata": {},
   "outputs": [],
   "source": [
    "종결일[\"계좌키\"] = 종결일[\"계좌키\"].astype(str)"
   ]
  },
  {
   "cell_type": "code",
   "execution_count": 32,
   "id": "924fc0d2",
   "metadata": {},
   "outputs": [
    {
     "data": {
      "text/plain": [
       "Index(['채무자키', '채권구분', '매각사구분', '입금키', '계좌키', '고객입금일', '입금일', '입금합계', '채무상태',\n",
       "       '담당자', '입금원금', '입금법비용', '입금미수이자', '입금연체이자', '입금정상이자', '연체일수', '적용이자율',\n",
       "       '입금기타', '입금자', '입금자구분', '입금구분', '담당입금구분', '입금통계구분', '입금기간', '입금기간일',\n",
       "       '입금은행', '입금계좌번호', '가상계좌은행', '가상계좌번호', '상대방입금은행', '입금메모', '입금비고', '계좌번호',\n",
       "       '회수원금', '회수법비용', '회수미수이자', '회수연체이자', '회수기타', '회수합계', '현재원금', '현재법비용',\n",
       "       '현재미수이자', '현재연체이자', '현재합계', '원가입금', '매출입금', '비용입금', '잡이익', '법조치키',\n",
       "       '입금고정키', '등록파일', '등록일자', '등록유저', '수정일자', '수정유저', '입금순서', '취소여부', '종결일',\n",
       "       '매각사', '담보제공처', '담보제공구분', '매입일', '컷오프일', '최초이자기준일', '주민번호인', '지점', '부서',\n",
       "       '팀', '고객입금액', '채무자명', '타입금키', '타채무자키', '보증인키', '직접입력메모', '담당문자전송',\n",
       "       '리파이낸싱', '입금수수료율', '매입사'],\n",
       "      dtype='object')"
      ]
     },
     "execution_count": 32,
     "metadata": {},
     "output_type": "execute_result"
    }
   ],
   "source": [
    "deposit.columns"
   ]
  },
  {
   "cell_type": "code",
   "execution_count": 35,
   "id": "d65f54b0",
   "metadata": {},
   "outputs": [],
   "source": [
    "deposit[\"입금일\"] = pd.to_datetime(deposit[\"입금일\"])"
   ]
  },
  {
   "cell_type": "code",
   "execution_count": 57,
   "id": "6db1ed38",
   "metadata": {},
   "outputs": [],
   "source": [
    "merged = pd.merge(deposit[[\"채무자키\",\"계좌키\",\"입금키\",\"입금구분\",\"입금일\",\"입금기간\",\"담당자\",\"입금합계\"]], 종결일, how='inner')"
   ]
  },
  {
   "cell_type": "code",
   "execution_count": 58,
   "id": "5368172b",
   "metadata": {},
   "outputs": [],
   "source": [
    "merged[\"종결후입금\"] = np.where(merged.입금일 <= merged.종결일, \"종결전\", \"종결후\")"
   ]
  },
  {
   "cell_type": "code",
   "execution_count": 59,
   "id": "bead49e6",
   "metadata": {},
   "outputs": [],
   "source": [
    "rst = merged[(merged[\"종결후입금\"] == \"종결후\") & (merged[\"입금기간\"] != \"매각후\") & (merged.입금구분!=\"법원환급금\")]"
   ]
  },
  {
   "cell_type": "code",
   "execution_count": 60,
   "id": "b83fc61d",
   "metadata": {},
   "outputs": [],
   "source": [
    "rst.to_excel(join(path_deposit, \"매각후입금.xlsx\"), index=False)"
   ]
  },
  {
   "cell_type": "code",
   "execution_count": 62,
   "id": "c163326e",
   "metadata": {},
   "outputs": [],
   "source": [
    "deposit[(deposit.입금기간==\"원상회복전\") & (deposit.입금구분!=\"신용회복\")][[\"채무자키\",\"계좌키\",\"입금키\",\"입금일\",\"입금자구분\",\"입금구분\",\"입금합계\",\"담당자\",\"채무상태\"]].to_excel('원상회복 확인건.xlsx')"
   ]
  },
  {
   "cell_type": "code",
   "execution_count": null,
   "id": "ec57312d",
   "metadata": {},
   "outputs": [],
   "source": []
  },
  {
   "cell_type": "code",
   "execution_count": null,
   "id": "5e8950d0",
   "metadata": {},
   "outputs": [],
   "source": []
  },
  {
   "cell_type": "code",
   "execution_count": null,
   "id": "1d8c7e5c",
   "metadata": {},
   "outputs": [],
   "source": []
  },
  {
   "cell_type": "code",
   "execution_count": null,
   "id": "d867e88b",
   "metadata": {},
   "outputs": [],
   "source": []
  }
 ],
 "metadata": {
  "kernelspec": {
   "display_name": "py_312",
   "language": "python",
   "name": "python3"
  },
  "language_info": {
   "codemirror_mode": {
    "name": "ipython",
    "version": 3
   },
   "file_extension": ".py",
   "mimetype": "text/x-python",
   "name": "python",
   "nbconvert_exporter": "python",
   "pygments_lexer": "ipython3",
   "version": "3.12.11"
  }
 },
 "nbformat": 4,
 "nbformat_minor": 5
}
