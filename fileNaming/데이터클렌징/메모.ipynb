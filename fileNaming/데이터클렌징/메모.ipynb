{
 "cells": [
  {
   "cell_type": "code",
   "execution_count": 1,
   "id": "4279ad64",
   "metadata": {},
   "outputs": [],
   "source": [
    "import pandas as pd\n",
    "import numpy as np\n",
    "from os.path import join\n",
    "from datetime import datetime\n",
    "import functions\n",
    "import warnings\n",
    "warnings.simplefilter(\"ignore\")\n",
    "deposit_dtype = functions.deposit_dtype"
   ]
  },
  {
   "cell_type": "code",
   "execution_count": 2,
   "id": "79e74f3c",
   "metadata": {},
   "outputs": [],
   "source": [
    "# ################################\n",
    "company = \"솔림\"\n",
    "최종조회일 = \"250731\"\n",
    "데이터종류 = \"메모\"\n",
    "# ################################\n",
    "최초조회일 = \"1993\" if company == \"솔림\" else \"\"\n",
    "path_excel = join(r\"D:\\3.자산\\전산 dataset\",company,\"기간축적데이터\", 데이터종류,)\n",
    "path_pkl = join(r\"D:\\3.자산\\전산 dataset\",company, \"기간축적데이터\", 데이터종류, \"pkl\")\n",
    "fn_write = company + 데이터종류+\"전체_\" + 최초조회일 + \"~\" + 최종조회일 +\".pkl\""
   ]
  },
  {
   "cell_type": "code",
   "execution_count": 8,
   "id": "aea29ed4",
   "metadata": {},
   "outputs": [],
   "source": [
    "# pkl 파일 읽기\n",
    "df_ori = pd.read_pickle(functions.키워드로파일명찾기(path_pkl, 포함키워드=company+데이터종류+\"전체\"))\n",
    "\n",
    "\n",
    "# # 엑셀파일 읽기\n",
    "# fnlist = functions.키워드로파일명찾기(path_excel, 포함키워드=데이터종류+\"조회새창\", 여러파일허용=True)\n",
    "\n",
    "# if isinstance(fnlist, str) : # 파일 하나인 경우\n",
    "#     df = pd.read_excel(fnlist, dtype=str)\n",
    "# else : # 파일 여러개(리스트)인 경우\n",
    "#     df = pd.DataFrame(None)\n",
    "#     for fn in fnlist :\n",
    "#         print(f'{fn} 읽기 시작')\n",
    "#         df = pd.concat([df, pd.read_excel(fn, dtype=str)])\n",
    "        \n",
    "# # PKL 저장\n",
    "# df.to_pickle(join(path_pkl, fn_write))"
   ]
  }
 ],
 "metadata": {
  "kernelspec": {
   "display_name": "py_312",
   "language": "python",
   "name": "python3"
  },
  "language_info": {
   "codemirror_mode": {
    "name": "ipython",
    "version": 3
   },
   "file_extension": ".py",
   "mimetype": "text/x-python",
   "name": "python",
   "nbconvert_exporter": "python",
   "pygments_lexer": "ipython3",
   "version": "3.12.11"
  }
 },
 "nbformat": 4,
 "nbformat_minor": 5
}
