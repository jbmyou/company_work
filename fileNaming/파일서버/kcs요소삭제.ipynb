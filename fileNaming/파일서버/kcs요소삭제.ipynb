{
 "cells": [
  {
   "attachments": {},
   "cell_type": "markdown",
   "metadata": {},
   "source": [
    "### import 및 함수"
   ]
  },
  {
   "cell_type": "code",
   "execution_count": 1,
   "metadata": {},
   "outputs": [
    {
     "name": "stdout",
     "output_type": "stream",
     "text": [
      "company : 솔림맞음?\n"
     ]
    }
   ],
   "source": [
    "# dict_kcs = {\"kcs\" : \"pullPath\"}\n",
    "# 20494491752A40E088201 /volume1/솔림헬프/기타/전북-01/20494491/20494491_보증인 오병석_기타_2022본11747_유체접수증.pdf\n",
    "import os\n",
    "import pickle\n",
    "import binascii\n",
    "import re\n",
    "from os.path import join\n",
    "from file_function import read_filelist, re_name_upload, write_log_csv_upload\n",
    "from tqdm import tqdm\n",
    "\n",
    "#################################################################\n",
    "company = \"솔림\"\n",
    "#################################################################\n",
    "if company == \"솔림\" :\n",
    "    path_kcs = r\"\\\\192.168.0.75\\스캔파일\\스캔파일log\\_project\\파일\\중복조사\\kcs별 파일정보_솔림헬프.pkl\"\n",
    "else  : path_kcs = r\"\\\\192.168.0.75\\스캔파일\\스캔파일log\\_project\\대성파일\\중복조사\\kcs별 파일정보_대성.pkl\"\n",
    "\n",
    "def crc32_checksum(filename):\n",
    "    buf = open(filename,'rb').read()\n",
    "    buf = (binascii.crc32(buf) & 0xFFFFFFFF)\n",
    "    return \"%08X\" % buf\n",
    "\n",
    "def get_kcs(path_192) :\n",
    "    crc32 = str(crc32_checksum(path_192))\n",
    "    size = str(os.path.getsize(path_192))\n",
    "    f = os.path.split(path_192)[1]\n",
    "    key = f[:8]\n",
    "    kcs = key + crc32 + size \n",
    "    return kcs\n",
    "\n",
    "def read_kcs(path_kcs) :\n",
    "    with open(path_kcs, \"rb\") as pkl :\n",
    "        return pickle.load(pkl)\n",
    "\n",
    "def delete_kcs(filePath, dict_kcs) :\n",
    "    k = os.path.split(filePath)[1][:8]\n",
    "    c = str(crc32_checksum(filePath))\n",
    "    s = str(os.path.getsize(filePath))\n",
    "    kcs = k + c + s\n",
    "    if kcs in dict_kcs :\n",
    "        print(f\"kcs : {kcs}   path : {dict_kcs[kcs]}\")\n",
    "        del dict_kcs[kcs]\n",
    "    \n",
    "        \n",
    "\n",
    "def write_kcs(path_kcs, dict_kcs) :\n",
    "    with open(path_kcs, \"wb\") as pkl :\n",
    "        pickle.dump(dict_kcs, pkl)\n",
    "\n",
    "# def update_kcs(src, dst, dict_kcs) :\n",
    "    \n",
    "#     kcs = get_kcs(src)\n",
    "#     print(dict_kcs[kcs])\n",
    "\n",
    "#     new_dst = re.sub(r\"\\\\\\\\192.168.0.75\", \"/volume1\", dst)\n",
    "#     new_dst = re.sub(r\"\\\\\", \"/\", new_dst)\n",
    "#     dict_kcs[kcs] = new_dst\n",
    "#     print(dict_kcs[kcs], \"dict수정 성공\")\n",
    "\n",
    "def update_kcs(src, dst, dict_kcs) :\n",
    "    # 채무자키\n",
    "    src_key = os.path.split(src)[1][:8]\n",
    "    dst_key = os.path.split(dst)[1][:8]\n",
    "    # kcs\n",
    "    kcs = get_kcs(src)\n",
    "    before_value = dict_kcs[kcs] # 수정되기 전에 변수에 담아두어야\n",
    "    # 윈도우 path를 리눅스 path로\n",
    "    new_dst = re.sub(r\"\\\\\\\\192.168.0.75\", \"/volume1\", dst)\n",
    "    new_dst = re.sub(r\"\\\\\", \"/\", new_dst)\n",
    "\n",
    "    # 채무자키가 달라졌을 때 > dict의 key를 수정해야 하므로 삭제 후 새값 추가\n",
    "    if src_key != dst_key :\n",
    "        new_kcs = dst_key + kcs[8:]\n",
    "        del dict_kcs[kcs] # 구값 삭제\n",
    "    else : new_kcs = kcs\n",
    "    \n",
    "    # 새값 추가/수정(채무자키 동일했다면 kcs == new_kcs 따라서 수정된다.)\n",
    "    dict_kcs[new_kcs] = new_dst\n",
    "\n",
    "    print(f\"dict 키 변화 : {kcs} >>> {new_kcs}\")\n",
    "    print(f\"dict 값 변화 : {before_value} >>> {dict_kcs[new_kcs]}\")\n",
    "    \n",
    "print(f'company : {company}맞음?')"
   ]
  },
  {
   "cell_type": "markdown",
   "metadata": {},
   "source": [
    "### 단일파일 dict 삭제"
   ]
  },
  {
   "cell_type": "code",
   "execution_count": 2,
   "metadata": {},
   "outputs": [
    {
     "name": "stdout",
     "output_type": "stream",
     "text": [
      "최초dict_kcs개수 : 556393\n"
     ]
    }
   ],
   "source": [
    "# dict 로드\n",
    "dict_kcs = read_kcs(path_kcs)\n",
    "print(\"최초dict_kcs개수 :\", len(dict_kcs))"
   ]
  },
  {
   "cell_type": "code",
   "execution_count": 3,
   "metadata": {},
   "outputs": [
    {
     "name": "stdout",
     "output_type": "stream",
     "text": [
      "kcs : 204148539EA280CF1789858   path : /volume1/솔림헬프/1.원인서류/DNP-02/20414853/20414853_㈜트윈컴_원인서류_(1).pdf\n",
      "1건 중복파일 dict_kcs 정보 삭제\n"
     ]
    }
   ],
   "source": [
    "# dict에서 삭제\n",
    "####################################\n",
    "# 에브리띵에서 전체경로복사하면 편함, 채무자키만 유지하면 파일위치, 파일명는 상관없음\n",
    "path_192 = r\"\\\\192.168.0.75\\솔림헬프\\1.원인서류\\DNP-02\\20414853\\20414853_㈜트윈컴_원인서류_(1).pdf\"\n",
    "####################################\n",
    "삭제전 = len(dict_kcs)\n",
    "delete_kcs(path_192, dict_kcs)\n",
    "삭제후 = len(dict_kcs)\n",
    "print(f'{삭제전 - 삭제후}건 중복파일 dict_kcs 정보 삭제')"
   ]
  },
  {
   "cell_type": "code",
   "execution_count": 4,
   "metadata": {},
   "outputs": [
    {
     "name": "stdout",
     "output_type": "stream",
     "text": [
      "554594\n"
     ]
    }
   ],
   "source": [
    "# dict 저장\n",
    "write_kcs(path_kcs, dict_kcs)\n",
    "print(len(dict_kcs))"
   ]
  },
  {
   "attachments": {},
   "cell_type": "markdown",
   "metadata": {},
   "source": [
    "### 중복파일인지 확인 : 채무자키 입히기 전"
   ]
  },
  {
   "cell_type": "markdown",
   "metadata": {},
   "source": [
    "#### 단일 파일 - 채무자키 있음"
   ]
  },
  {
   "cell_type": "code",
   "execution_count": null,
   "metadata": {},
   "outputs": [],
   "source": [
    "filePath = r\"C:\\Users\\DATA\\Desktop\\압류추심요청서_2412\\4.강제집행\\20423304\\20423304_장중돈_강제집행_2021타채116274.pdf\"\n",
    "k = os.path.split(filePath)[1][:8]\n",
    "c = str(crc32_checksum(filePath))\n",
    "s = str(os.path.getsize(filePath))\n",
    "kcs = k + c + s\n",
    "if kcs in dict_kcs :\n",
    "    print(f\"kcs : {kcs}   path : {dict_kcs[kcs]}\")\n",
    "else : \n",
    "    print(\"동일파일 없음\")"
   ]
  },
  {
   "cell_type": "markdown",
   "metadata": {},
   "source": [
    "#### 폴더 전체 - 채무자키 없음"
   ]
  },
  {
   "cell_type": "code",
   "execution_count": null,
   "metadata": {},
   "outputs": [],
   "source": [
    "# key를 제거한 새로운 dict_cs 생성\n",
    "dict_cs = {}\n",
    "for key in dict_kcs:\n",
    "    new_key = key[8:]  # 앞에서 8자리 문자를 지운 새로운 키 생성\n",
    "    if new_key in dict_cs :\n",
    "        dict_cs[new_key] = dict_cs[new_key] +\",\"+ dict_kcs[key]\n",
    "    else :\n",
    "        dict_cs[new_key] = dict_kcs[key]"
   ]
  },
  {
   "cell_type": "code",
   "execution_count": null,
   "metadata": {},
   "outputs": [],
   "source": [
    "path = r\"D:\\구 스캔파일\\광주 공유폴더\\■초본--작업보류\\국민카드 초본 - 복사본\"\n",
    "file_list = read_filelist(path)\n",
    "total = len(file_list)\n",
    "path_exist = join(path, \"exist\")\n",
    "cnt = 0 \n",
    "\n",
    "for f in tqdm(file_list, total=total) :\n",
    "    src = join(path, f)\n",
    "    crc32 = str(crc32_checksum(src))\n",
    "    size = str(os.path.getsize(src))\n",
    "    cs = crc32 + size\n",
    "    if cs in dict_cs :\n",
    "        try : \n",
    "            os.rename(src, join(path_exist, f))\n",
    "            cnt += 1\n",
    "        except : \n",
    "            if not os.path.exists(path_exist) : os.mkdir(path_exist)\n",
    "            os.rename(src, join(path_exist, f))\n",
    "            cnt += 1\n",
    "print(f\"총 {total}개의 파일 중 {cnt}파일 중복\")"
   ]
  },
  {
   "attachments": {},
   "cell_type": "markdown",
   "metadata": {},
   "source": [
    "### dict삭제 > 파일은 직접, 파일명 변경후 재업하면 수정작업과 동일"
   ]
  },
  {
   "attachments": {},
   "cell_type": "markdown",
   "metadata": {},
   "source": [
    "##### 단일파일 dict 삭제"
   ]
  },
  {
   "cell_type": "code",
   "execution_count": null,
   "metadata": {},
   "outputs": [],
   "source": [
    "####################################\n",
    "# 에브리띵에서 전체경로복사하면 편함, 채무자키만 유지하면 파일위치, 파일명는 상관없음\n",
    "path_192 = r\"\\\\192.168.0.75\\솔림헬프\\1.원인서류\\DNP-02\\20416486\\20416486_김상호_원인서류.pdf\"\n",
    "####################################\n",
    "삭제전 = len(dict_kcs)\n",
    "delete_kcs(path_192, dict_kcs)\n",
    "삭제후 = len(dict_kcs)\n",
    "print(f'{삭제전 - 삭제후}건 중복파일 dict_kcs 정보 삭제')"
   ]
  },
  {
   "attachments": {},
   "cell_type": "markdown",
   "metadata": {},
   "source": [
    "##### 폴더 내 전체 파일 dict 삭제"
   ]
  },
  {
   "cell_type": "code",
   "execution_count": 3,
   "metadata": {},
   "outputs": [
    {
     "name": "stdout",
     "output_type": "stream",
     "text": [
      "kcs : 204294012162C265510912   path : /volume1/솔림헬프/2.양도통지서/한울가람/20429401/20429401_보증인 최동근_양도통지서.pdf\n",
      "kcs : 20429401961612BF521563   path : /volume1/솔림헬프/2.양도통지서/한울가람/20429401/20429401_보증인 최동근_양도통지서_(1).pdf\n",
      "kcs : 204294018371A1A1566116   path : /volume1/솔림헬프/2.양도통지서/한울가람/20429401/20429401_오준태_양도통지서 1차.pdf\n",
      "kcs : 204294015407ECCF2022477   path : /volume1/솔림헬프/1.원인서류/한울가람/20429401/20429401_오준태_원인서류.pdf\n",
      "kcs : 20429403AA0B3DC1568458   path : /volume1/솔림헬프/2.양도통지서/한울가람/20429403/20429403_윤성한_양도통지서 1차.pdf\n",
      "kcs : 204294032B3A8958313125   path : /volume1/솔림헬프/1.원인서류/한울가람/20429403/20429403_윤성한_원인서류.pdf\n",
      "kcs : 20429661856BAB65574635   path : /volume1/솔림헬프/2.양도통지서/한울가람/20429661/20429661_㈜강산면옥_양도통지서 1차.pdf\n",
      "kcs : 2042966168EEBC42722336   path : /volume1/솔림헬프/2.양도통지서/한울가람/20429661/20429661_㈜강산면옥_양도통지서.pdf\n",
      "kcs : 204296610BA2E1251530087   path : /volume1/솔림헬프/1.원인서류/한울가람/20429661/20429661_㈜강산면옥_원인서류.pdf\n",
      "kcs : 204296615EF07D61538355   path : /volume1/솔림헬프/2.양도통지서/한울가람/20429661/20429661_보증인 송국도_양도통지서.pdf\n",
      "kcs : 204296614146D06A523966   path : /volume1/솔림헬프/2.양도통지서/한울가람/20429661/20429661_보증인 송국도_양도통지서_(1).pdf\n",
      "kcs : 20429661431BEFEF540579   path : /volume1/솔림헬프/2.양도통지서/한울가람/20429661/20429661_보증인 이재운_양도통지서.pdf\n",
      "kcs : 204296614B6FC3B2535404   path : /volume1/솔림헬프/2.양도통지서/한울가람/20429661/20429661_보증인 이재운_양도통지서_(1).pdf\n",
      "kcs : 2042966378251651567456   path : /volume1/솔림헬프/2.양도통지서/한울가람/20429663/20429663_㈜두두_양도통지서 1차.pdf\n",
      "kcs : 20429663A667A434532843   path : /volume1/솔림헬프/2.양도통지서/한울가람/20429663/20429663_보증인 이모형_양도통지서.pdf\n",
      "kcs : 20429663995535D7532045   path : /volume1/솔림헬프/2.양도통지서/한울가람/20429663/20429663_보증인 이모형_양도통지서_(1).pdf\n",
      "kcs : 20429666AC2017B9567655   path : /volume1/솔림헬프/2.양도통지서/한울가람/20429666/20429666_㈜세운_양도통지서 1차.pdf\n",
      "kcs : 204296661EF6B9E2707927   path : /volume1/솔림헬프/2.양도통지서/한울가람/20429666/20429666_㈜세운_양도통지서_통합.pdf\n",
      "kcs : 20429666F367F85F542665   path : /volume1/솔림헬프/2.양도통지서/한울가람/20429666/20429666_보증인 고명숙_양도통지서.pdf\n",
      "kcs : 20429666EACF7BB9526809   path : /volume1/솔림헬프/2.양도통지서/한울가람/20429666/20429666_보증인 고명숙_양도통지서_(1).pdf\n",
      "kcs : 20429666D8293945543003   path : /volume1/솔림헬프/2.양도통지서/한울가람/20429666/20429666_보증인 지상철_양도통지서.pdf\n",
      "kcs : 20429666E6C46C2E534620   path : /volume1/솔림헬프/2.양도통지서/한울가람/20429666/20429666_보증인 지상철_양도통지서_(1).pdf\n",
      "kcs : 204296668BAEBE992479376   path : /volume1/솔림헬프/1.원인서류/한울가람/20429666/20429666_세운_원인서류.pdf\n",
      "kcs : 20429668439B5AAF573924   path : /volume1/솔림헬프/2.양도통지서/한울가람/20429668/20429668_㈜아이텍스필_양도통지서 1차.pdf\n",
      "kcs : 2042966837413ACA4670885   path : /volume1/솔림헬프/1.원인서류/한울가람/20429668/20429668_㈜아이텍스필_원인서류.pdf\n",
      "kcs : 20429668893E18251968408   path : /volume1/솔림헬프/3.집행권원/한울가람/20429668/20429668_보증인 정유석 정주병_집행권원_2013가단66251_매입전.pdf\n",
      "kcs : 204296688451F60D547291   path : /volume1/솔림헬프/2.양도통지서/한울가람/20429668/20429668_보증인 정주병_양도통지서.pdf\n",
      "kcs : 20429668E8A3460F529097   path : /volume1/솔림헬프/2.양도통지서/한울가람/20429668/20429668_보증인 정주병_양도통지서_(1).pdf\n",
      "kcs : 204296687CF59745196653   path : /volume1/솔림헬프/5.등초본/한울가람/20429668/20429668_보증인 정주병_초본_230725.pdf\n",
      "kcs : 204296700333F791574046   path : /volume1/솔림헬프/2.양도통지서/한울가람/20429670/20429670_㈜제오페이퍼_양도통지서 1차.pdf\n",
      "kcs : 204296703219E1343138040   path : /volume1/솔림헬프/1.원인서류/한울가람/20429670/20429670_㈜제오페이퍼_원인서류.pdf\n",
      "kcs : 20429670081978BD538149   path : /volume1/솔림헬프/2.양도통지서/한울가람/20429670/20429670_보증인 유기영_양도통지서.pdf\n",
      "kcs : 20429670B374A9ED529199   path : /volume1/솔림헬프/2.양도통지서/한울가람/20429670/20429670_보증인 유기영_양도통지서_(1).pdf\n",
      "kcs : 2042967084D25F49163815   path : /volume1/솔림헬프/5.등초본/한울가람/20429670/20429670_보증인 유기영_초본_230725.pdf\n",
      "kcs : 204296707D1E0201549337   path : /volume1/솔림헬프/2.양도통지서/한울가람/20429670/20429670_보증인 윤동구_양도통지서.pdf\n",
      "kcs : 204296700A5B9B1A531346   path : /volume1/솔림헬프/2.양도통지서/한울가람/20429670/20429670_보증인 윤동구_양도통지서_(1).pdf\n",
      "36건 중복파일 dict_kcs 정보 삭제\n"
     ]
    }
   ],
   "source": [
    "path = r\"C:\\Users\\DATA\\Desktop\\새 폴더\" # r\"\\\\192.168.0.75\\스캔파일\\대성 스캔파일 업로드\\구스캔파일\\새 폴더\"\n",
    "삭제전 = len(dict_kcs)\n",
    "\n",
    "for f in os.listdir(path) :\n",
    "    path_192 = os.path.join(path, f)\n",
    "    if os.path.isfile(path_192) : \n",
    "        delete_kcs(path_192, dict_kcs)\n",
    "        \n",
    "삭제후 = len(dict_kcs)\n",
    "print(f'{삭제전 - 삭제후}건 중복파일 dict_kcs 정보 삭제')\n"
   ]
  },
  {
   "attachments": {},
   "cell_type": "markdown",
   "metadata": {},
   "source": [
    "##### dict 파일로 저장"
   ]
  },
  {
   "cell_type": "code",
   "execution_count": 4,
   "metadata": {},
   "outputs": [
    {
     "name": "stdout",
     "output_type": "stream",
     "text": [
      "556357\n"
     ]
    }
   ],
   "source": [
    "write_kcs(path_kcs, dict_kcs)\n",
    "print(len(dict_kcs))"
   ]
  },
  {
   "attachments": {},
   "cell_type": "markdown",
   "metadata": {},
   "source": [
    "##### 파일 삭제/이동"
   ]
  },
  {
   "cell_type": "code",
   "execution_count": null,
   "metadata": {},
   "outputs": [],
   "source": [
    "# 관리제외 폴더로 이동\n",
    "import shutil\n",
    "src = path_192\n",
    "dst_d = join(r\"\\\\192.168.0.75\\삭제예정파일\\관리제외\", src.split(os.path.sep)[-3], src.split(os.path.sep)[-2])\n",
    "if not os.path.exists(dst_d) : os.makedirs(dst_d)\n",
    "dst = join(dst_d, src.split(os.path.sep)[-1])\n",
    "shutil.move(src, dst)"
   ]
  },
  {
   "attachments": {},
   "cell_type": "markdown",
   "metadata": {},
   "source": [
    "### dict 수정 \n",
    "- 폴더 달라질 때는 그냥 새로 업로드하는게 낫겠다."
   ]
  },
  {
   "cell_type": "code",
   "execution_count": null,
   "metadata": {},
   "outputs": [],
   "source": [
    "########################################################### 20514967\n",
    "src = r\"\\\\192.168.0.75\\솔림헬프\\3.집행권원\\DNP-01\\20414371\\20414371_조영민_집행권원.pdf\"\n",
    "dst = r\"\\\\192.168.0.75\\솔림헬프\\3.집행권원\\DNP-01\\20414371\\20414371 조영민 2023차전102996.pdf\"\n",
    "###########################################################\n",
    "\n",
    "# 1) dict 수정\n",
    "update_kcs(src, dst, dict_kcs)"
   ]
  },
  {
   "cell_type": "code",
   "execution_count": null,
   "metadata": {},
   "outputs": [],
   "source": [
    "# 2) 파일수정 : dict보다 먼저 하면 kcs를 읽을 수가 없음\n",
    "os.rename(src, dst)\n",
    "print(\"파일명(경로) 수정 성공\")"
   ]
  },
  {
   "cell_type": "code",
   "execution_count": null,
   "metadata": {},
   "outputs": [],
   "source": [
    "# 3) dict 파일로 저장 # 약 20초 소요\n",
    "write_kcs(path_kcs, dict_kcs)"
   ]
  },
  {
   "attachments": {},
   "cell_type": "markdown",
   "metadata": {},
   "source": [
    "#### 폴더 내 여러 파일 "
   ]
  },
  {
   "cell_type": "code",
   "execution_count": null,
   "metadata": {},
   "outputs": [],
   "source": [
    "########################################################\n",
    "path = r\"\\\\192.168.0.75\\솔림헬프\\5.등초본\\한울가람\\20419713\"\n",
    "for f in os.listdir(path) :\n",
    "    src = join(path, f)\n",
    "    dst_file = re.sub(\"염직\", \"88염직\", f)\n",
    "    ####################################\n",
    "    dst = join(path, dst_file)\n",
    "    if src != dst :\n",
    "        update_kcs(src, dst, dict_kcs)\n",
    "        os.rename(src, dst)"
   ]
  },
  {
   "cell_type": "code",
   "execution_count": null,
   "metadata": {},
   "outputs": [],
   "source": [
    "write_kcs(path_kcs, dict_kcs)"
   ]
  }
 ],
 "metadata": {
  "kernelspec": {
   "display_name": "py_312",
   "language": "python",
   "name": "python3"
  },
  "language_info": {
   "codemirror_mode": {
    "name": "ipython",
    "version": 3
   },
   "file_extension": ".py",
   "mimetype": "text/x-python",
   "name": "python",
   "nbconvert_exporter": "python",
   "pygments_lexer": "ipython3",
   "version": "3.12.11"
  }
 },
 "nbformat": 4,
 "nbformat_minor": 4
}
